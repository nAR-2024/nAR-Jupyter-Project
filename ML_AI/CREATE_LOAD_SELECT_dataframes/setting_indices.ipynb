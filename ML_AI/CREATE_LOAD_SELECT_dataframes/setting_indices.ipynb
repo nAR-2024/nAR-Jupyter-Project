{
 "cells": [
  {
   "cell_type": "code",
   "execution_count": null,
   "id": "8caacb29-7def-45f3-9efa-a28de980fa58",
   "metadata": {},
   "outputs": [],
   "source": [
    "Setting indices\n",
    "\n",
    "When we select a subset of a DataFrame using logic, we end up with non-consecutive indices. This is inelegant and makes \n",
    "it hard to use .iloc().\n",
    "\n",
    "We can fix this using the method .reset_index(). For example, here is a DataFrame called df with non-consecutive indices:\n",
    "\n",
    "First Name\tLast Name\n",
    "0\tJohn\tSmith\n",
    "4\tJane\tDoe\n",
    "7\tJoe\tSchmo\n",
    "\n",
    "If we use the command df.reset_index(), we get a new DataFrame with a new set of indices:\n",
    "\n",
    "index\tFirst Name\tLast Name\n",
    "0\t0\tJohn\tSmith\n",
    "1\t4\tJane\tDoe\n",
    "2\t7\tJoe\tSchmo\n",
    "\n",
    "Note that the old indices have been moved into a new column called 'index'. Unless you need those values for something special, \n",
    "it’s probably better to use the keyword drop=True \n",
    "\n",
    "First Name\tLast Name\n",
    "0\tJohn\tSmith\n",
    "1\tJane\tDoe\n",
    "2\tJoe\tSchmo\n",
    "\n",
    "Using .reset_index() will return a new DataFrame, but we usually just want to modify our existing DataFrame. \n",
    "If we use the keyword inplace=True we can just modify our existing DataFrame."
   ]
  },
  {
   "cell_type": "code",
   "execution_count": null,
   "id": "ab2576d4-08d2-46bb-a7c4-9dc42a2974f4",
   "metadata": {},
   "outputs": [],
   "source": [
    "1.\n",
    "Examine the code in the workspace. Note that df2 is a subset of rows from df.\n",
    "\n",
    "Type the following and press “Run”:\n",
    "print(df2)\n",
    "Note that the indices on df2 are not consecutive.\n",
    "\n",
    "2.\n",
    "Create a new DataFrame called df3 by resetting the indices on df2 (don’t use inplace or drop). Did df2 change after \n",
    "you ran this command?\n",
    "\n",
    "3.\n",
    "Reset the indices of df2 by using the keyword inplace=True and drop=True. Did the indices of df2 change? How is df2 \n",
    "different from df3?"
   ]
  },
  {
   "cell_type": "code",
   "execution_count": 3,
   "id": "f4546e6b-bc0d-403d-afe3-2e23efaad564",
   "metadata": {},
   "outputs": [
    {
     "name": "stdout",
     "output_type": "stream",
     "text": [
      "   index     month  clinic_east  clinic_north  clinic_south  clinic_west\n",
      "0      1  February           51            45           145           45\n",
      "1      3     April           80            80            54          180\n",
      "2      5      June          112           109            79          129\n",
      "      month  clinic_east  clinic_north  clinic_south  clinic_west\n",
      "0  February           51            45           145           45\n",
      "1     April           80            80            54          180\n",
      "2      June          112           109            79          129\n"
     ]
    }
   ],
   "source": [
    "import pandas as pd\n",
    "\n",
    "df = pd.DataFrame([\n",
    "  ['January', 100, 100, 23, 100],\n",
    "  ['February', 51, 45, 145, 45],\n",
    "  ['March', 81, 96, 65, 96],\n",
    "  ['April', 80, 80, 54, 180],\n",
    "  ['May', 51, 54, 54, 154],\n",
    "  ['June', 112, 109, 79, 129]],\n",
    "  columns=['month', 'clinic_east',\n",
    "           'clinic_north', 'clinic_south',\n",
    "           'clinic_west']\n",
    ")\n",
    "\n",
    "df2 = df.loc[[1, 3, 5]]\n",
    "\n",
    "# print(df2)\n",
    "\n",
    "df3 = df2.reset_index()\n",
    "\n",
    "print(df3)\n",
    "\n",
    "df2.reset_index(inplace = True, drop = True)\n",
    "\n",
    "print(df2)"
   ]
  },
  {
   "cell_type": "code",
   "execution_count": null,
   "id": "c2bd78e0-5f1e-4840-82fd-9647b3739f0e",
   "metadata": {},
   "outputs": [],
   "source": []
  }
 ],
 "metadata": {
  "kernelspec": {
   "display_name": "Python 3 (ipykernel)",
   "language": "python",
   "name": "python3"
  },
  "language_info": {
   "codemirror_mode": {
    "name": "ipython",
    "version": 3
   },
   "file_extension": ".py",
   "mimetype": "text/x-python",
   "name": "python",
   "nbconvert_exporter": "python",
   "pygments_lexer": "ipython3",
   "version": "3.12.4"
  }
 },
 "nbformat": 4,
 "nbformat_minor": 5
}
