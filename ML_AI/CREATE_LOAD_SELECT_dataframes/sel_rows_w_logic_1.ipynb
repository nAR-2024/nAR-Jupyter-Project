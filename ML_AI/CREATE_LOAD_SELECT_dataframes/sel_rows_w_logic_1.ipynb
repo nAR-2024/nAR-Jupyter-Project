{
 "cells": [
  {
   "cell_type": "code",
   "execution_count": null,
   "id": "c0780761-545e-41fb-bfc9-65767aefdce3",
   "metadata": {},
   "outputs": [],
   "source": [
    "Select Rows with Logic I\n",
    "\n",
    "You can select a subset of a DataFrame by using logical statements:\n",
    "\n",
    "df[df.MyColumnName == desired_column_value]\n",
    "\n",
    "We have a large DataFrame with information about our customers. A few of the many rows look like this:\n",
    "\n",
    "name\taddress\tphone\tage\n",
    "Martha Jones\t123 Main St.\t234-567-8910\t28\n",
    "Rose Tyler\t456 Maple Ave.\t212-867-5309\t22\n",
    "Donna Noble\t789 Broadway\t949-123-4567\t35\n",
    "Amy Pond\t98 West End Ave.\t646-555-1234\t29\n",
    "Clara Oswald\t54 Columbus Ave.\t714-225-1957\t31\n",
    "…\t…\t…\t…\n",
    "\n",
    "Suppose we want to select all rows where the customer’s age is 30. We would use:\n",
    "\n",
    "df[df.age == 30]\n",
    "\n",
    "In Python, == is how we test if a value is exactly equal to another value.\n",
    "\n",
    "We can use other logical statements, such as:\n",
    "\n",
    "Greater Than, > — Here, we select all rows where the customer’s age is greater than 30:\n",
    "df[df.age > 30]\n",
    "\n",
    "Less Than, < — Here, we select all rows where the customer’s age is less than 30:\n",
    "df[df.age < 30]\n",
    "\n",
    "Not Equal, != — This snippet selects all rows where the customer’s name is not Clara Oswald:\n",
    "\n",
    "df[df.name != 'Clara Oswald']\n"
   ]
  },
  {
   "cell_type": "code",
   "execution_count": null,
   "id": "030c9cce-1f98-4269-80e9-949a0f893c57",
   "metadata": {},
   "outputs": [],
   "source": [
    "1.  You’re going to staff the clinic for January of this year. You want to know how many visits took place in January \n",
    "of last year, to help you prepare.\n",
    "\n",
    "Create variable january using a logical statement that selects the row of df where the 'month' column is 'January'."
   ]
  },
  {
   "cell_type": "code",
   "execution_count": 1,
   "id": "3b37223b-50cf-43a3-a4f4-d3ae2882fc05",
   "metadata": {},
   "outputs": [
    {
     "name": "stdout",
     "output_type": "stream",
     "text": [
      "     month  clinic_east  clinic_north  clinic_south  clinic_west\n",
      "0  January          100           100            23          100\n"
     ]
    }
   ],
   "source": [
    "import pandas as pd\n",
    "\n",
    "df = pd.DataFrame([\n",
    "  ['January', 100, 100, 23, 100],\n",
    "  ['February', 51, 45, 145, 45],\n",
    "  ['March', 81, 96, 65, 96],\n",
    "  ['April', 80, 80, 54, 180],\n",
    "  ['May', 51, 54, 54, 154],\n",
    "  ['June', 112, 109, 79, 129]],\n",
    "  columns=['month', 'clinic_east',\n",
    "           'clinic_north', 'clinic_south',\n",
    "           'clinic_west'])\n",
    "\n",
    "january = df[df.month == 'January']\n",
    "print(january)\n",
    "\n"
   ]
  },
  {
   "cell_type": "code",
   "execution_count": null,
   "id": "b18a6bea-14c5-4a1b-bec9-5d59f9ec9fc6",
   "metadata": {},
   "outputs": [],
   "source": []
  }
 ],
 "metadata": {
  "kernelspec": {
   "display_name": "Python 3 (ipykernel)",
   "language": "python",
   "name": "python3"
  },
  "language_info": {
   "codemirror_mode": {
    "name": "ipython",
    "version": 3
   },
   "file_extension": ".py",
   "mimetype": "text/x-python",
   "name": "python",
   "nbconvert_exporter": "python",
   "pygments_lexer": "ipython3",
   "version": "3.12.4"
  }
 },
 "nbformat": 4,
 "nbformat_minor": 5
}
