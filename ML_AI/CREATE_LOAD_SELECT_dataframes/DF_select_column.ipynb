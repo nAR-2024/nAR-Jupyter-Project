{
 "cells": [
  {
   "cell_type": "code",
   "execution_count": null,
   "id": "d86ca207-1e16-4ddf-9213-77fa92b0f6a1",
   "metadata": {},
   "outputs": [],
   "source": [
    "Select Columns\n",
    "\n",
    "Now we know how to create and load data. Let’s select parts of those datasets that are interesting or important to our analyses.\n",
    "\n",
    "Suppose you have the DataFrame called customers, which contains the ages of your customers:\n",
    "\n",
    "name\tage\n",
    "Rebecca Erikson\t35\n",
    "Thomas Roberson\t28\n",
    "Diane Ochoa\t42\n",
    "…\t…\n",
    "\n",
    "Perhaps you want to take the average or plot a histogram of the ages. In order to do either of these tasks, \n",
    "you’d need to select the column.\n",
    "\n",
    "There are two possible syntaxes for selecting all values from a column:\n",
    "\n",
    "Select the column as if you were selecting a value from a dictionary using a key. \n",
    "In our example, we would type \n",
    "\n",
    "customers['age'] \n",
    "\n",
    "to select the ages.  If the name of a column follows all of the rules for a variable name (doesn’t start with a number, \n",
    "doesn’t contain spaces or special characters, etc.), then you can select it using the following notation: \n",
    "\n",
    "df.MySecondColumn\n",
    "\n",
    "In our example, we would type \n",
    "\n",
    "customers.age\n",
    "\n",
    "When we select a single column, the result is called a Series."
   ]
  },
  {
   "cell_type": "code",
   "execution_count": null,
   "id": "6a9c213c-c3bb-41b0-bc34-e227a402af58",
   "metadata": {},
   "outputs": [],
   "source": [
    "1.  The DataFrame df represents data collected by four health clinics run by the same organization. \n",
    "Each row represents a month from January through June and shows the number of appointments made at four different clinics.\n",
    "\n",
    "You want to analyze what’s been happening at the North location. Create a variable called clinic_north that contains \n",
    "ONLY the data from the column clinic_north.\n",
    "\n",
    "\n",
    "2.  What exactly have you selected?  After you create the variable, enter the command:\n",
    "\n",
    "print(type(clinic_north))\n",
    "\n",
    "to Clipboard to see what data type you’ve created.  How is this different from what you get if you type the following?\n",
    "\n",
    "print(type(df))\n"
   ]
  },
  {
   "cell_type": "code",
   "execution_count": 3,
   "id": "034d4be1-5a7c-4790-b2bf-86aca775fb69",
   "metadata": {},
   "outputs": [
    {
     "name": "stdout",
     "output_type": "stream",
     "text": [
      "0    100\n",
      "1     45\n",
      "2     96\n",
      "3     80\n",
      "4     54\n",
      "5    109\n",
      "Name: clinic_north, dtype: int64\n",
      "<class 'pandas.core.series.Series'>\n",
      "<class 'pandas.core.frame.DataFrame'>\n"
     ]
    }
   ],
   "source": [
    "import pandas as pd\n",
    "\n",
    "df = pd.DataFrame([\n",
    "  ['January', 100, 100, 23, 100],\n",
    "  ['February', 51, 45, 145, 45],\n",
    "  ['March', 81, 96, 65, 96],\n",
    "  ['April', 80, 80, 54, 180],\n",
    "  ['May', 51, 54, 54, 154],\n",
    "  ['June', 112, 109, 79, 129]],\n",
    "  columns=['month', 'clinic_east',\n",
    "           'clinic_north', 'clinic_south',\n",
    "           'clinic_west']\n",
    ")\n",
    "\n",
    "clinic_north=df.clinic_north\n",
    "print(clinic_north)\n",
    "print(type(clinic_north))\n",
    "print(type(df))\n"
   ]
  },
  {
   "cell_type": "code",
   "execution_count": null,
   "id": "946e92d2-5984-48c2-a2de-77d0c4d8fa84",
   "metadata": {},
   "outputs": [],
   "source": []
  }
 ],
 "metadata": {
  "kernelspec": {
   "display_name": "Python 3 (ipykernel)",
   "language": "python",
   "name": "python3"
  },
  "language_info": {
   "codemirror_mode": {
    "name": "ipython",
    "version": 3
   },
   "file_extension": ".py",
   "mimetype": "text/x-python",
   "name": "python",
   "nbconvert_exporter": "python",
   "pygments_lexer": "ipython3",
   "version": "3.12.4"
  }
 },
 "nbformat": 4,
 "nbformat_minor": 5
}
