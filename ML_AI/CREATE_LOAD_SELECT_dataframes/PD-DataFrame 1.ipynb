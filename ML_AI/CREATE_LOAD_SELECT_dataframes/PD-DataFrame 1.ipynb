{
 "cells": [
  {
   "cell_type": "code",
   "execution_count": null,
   "id": "1d0c0c61-4c5c-4baf-8b78-e9c241013974",
   "metadata": {},
   "outputs": [],
   "source": [
    "Create a DataFrame I\n",
    "\n",
    "A DataFrame is an object that stores data as rows and columns. You can think of a DataFrame as a spreadsheet or as a SQL table. \n",
    "You can manually create a DataFrame or fill it with data from a CSV, an Excel spreadsheet, or a SQL query.\n",
    "\n",
    "DataFrames have rows and columns. Each column has a name, which is a string. Each row has an index, which is an integer. \n",
    "DataFrames can contain many different data types: strings, ints, floats, tuples, etc.\n",
    "\n",
    "You can pass in a dictionary to pd.DataFrame(). Each key is a column name and each value is a list of column values. \n",
    "The columns must all be the same length or you will get an error. Here’s an example:\n",
    "\n"
   ]
  },
  {
   "cell_type": "code",
   "execution_count": 5,
   "id": "08744eb8-462d-411b-9c89-07f29d5b4f9a",
   "metadata": {},
   "outputs": [],
   "source": [
    "import pandas as pd\n",
    "\n",
    "df1 = pd.DataFrame({\n",
    "    'name': ['John Smith', 'Jane Doe', 'Joe Schmo'],\n",
    "    'address': ['123 Main St.', '456 Maple Ave.', '789 Broadway'],\n",
    "    'age': [34, 28, 51]\n",
    "})"
   ]
  },
  {
   "cell_type": "code",
   "execution_count": null,
   "id": "513391f8-b66b-4789-8421-197067278879",
   "metadata": {},
   "outputs": [],
   "source": [
    "1.\n",
    "You run an online clothing store called Panda’s Wardrobe. You need a DataFrame containing information about your products.\n",
    "\n",
    "Create a DataFrame with the following data that your inventory manager sent you:\n",
    "\n",
    "Product ID\tProduct Name\tColor\n",
    "1\tt-shirt\tblue\n",
    "2\tt-shirt\tgreen\n",
    "3\tskirt\tred\n",
    "4\tskirt\tblack\n",
    "\n",
    "We have already filled in the information for Product ID in df1.\n",
    "\n",
    "Add the code to create the columns Product Name and Color and their associated data."
   ]
  },
  {
   "cell_type": "code",
   "execution_count": 9,
   "id": "9054aba4-1efe-4301-8851-28e3d69cce9b",
   "metadata": {},
   "outputs": [
    {
     "name": "stdout",
     "output_type": "stream",
     "text": [
      "   Product ID Product Name  Color\n",
      "0           1      t-shirt   blue\n",
      "1           2      t-shirt  green\n",
      "2           3        skirt    red\n",
      "3           4        skirt  black\n"
     ]
    }
   ],
   "source": [
    "#import codecademylib3\n",
    "import pandas as pd\n",
    "\n",
    "df1 = pd.DataFrame({\n",
    "  'Product ID': [1, 2, 3, 4],\n",
    "  # add Product Name and Color here\n",
    "  'Product Name': ['t-shirt', 't-shirt', 'skirt', 'skirt'],\n",
    "  'Color': ['blue', 'green', 'red', 'black']\n",
    "})\n",
    "\n",
    "print(df1)"
   ]
  },
  {
   "cell_type": "code",
   "execution_count": null,
   "id": "7176a8dc-e27f-43fd-b6c2-d23b50befcfd",
   "metadata": {},
   "outputs": [],
   "source": []
  }
 ],
 "metadata": {
  "kernelspec": {
   "display_name": "Python 3 (ipykernel)",
   "language": "python",
   "name": "python3"
  },
  "language_info": {
   "codemirror_mode": {
    "name": "ipython",
    "version": 3
   },
   "file_extension": ".py",
   "mimetype": "text/x-python",
   "name": "python",
   "nbconvert_exporter": "python",
   "pygments_lexer": "ipython3",
   "version": "3.12.4"
  }
 },
 "nbformat": 4,
 "nbformat_minor": 5
}
