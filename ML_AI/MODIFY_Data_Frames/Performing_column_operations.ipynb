{
 "cells": [
  {
   "cell_type": "code",
   "execution_count": null,
   "id": "f890c586-2846-414d-ac46-c08ca50ed8d2",
   "metadata": {},
   "outputs": [],
   "source": [
    "Performing Column Operations\n",
    "\n",
    "In the previous exercise, we learned how to add columns to a DataFrame.\n",
    "\n",
    "Often, the column that we want to add is related to existing columns, but requires a calculation more complex than \n",
    "multiplication or addition.\n",
    "\n",
    "For example, imagine that we have the following table of customers.\n",
    "\n",
    "Name\tEmail\n",
    "JOHN SMITH\tjohn.smith@gmail.com\n",
    "Jane Doe\tjdoe@yahoo.com\n",
    "joe schmo\tjoeschmo@hotmail.com\n",
    "It’s a little annoying that the capitalization is different for each row. Perhaps we’d like to make it more consistent\n",
    "by making all of the letters uppercase.\n",
    "\n",
    "We can use the apply function to apply a function to every value in a particular column. For example, this code overwrites the \n",
    "existing 'Name' columns by applying the function upper to every row in 'Name'.\n",
    "\n",
    "df['Name'] = df.Name.apply(str.upper)\n",
    "\n",
    "\n",
    "\n",
    "The result:\n",
    "\n",
    "Name\tEmail\n",
    "JOHN SMITH\tjohn.smith@gmail.com\n",
    "JANE DOE\tjdoe@yahoo.com\n",
    "JOE SCHMO\tjoeschmo@hotmail.com\n",
    "\n",
    "Instructions\n",
    "Checkpoint 1 Enabled\n",
    "1.\n",
    "Apply the function lower to all names in column 'Name' in df. Assign these new names to a new column of df \n",
    "called 'Lowercase Name'. The final DataFrame should look like this:\n",
    "\n",
    "Name\tEmail\tLowercase Name\n",
    "JOHN SMITH\tjohn.smith@gmail.com\tjohn smith\n",
    "Jane Doe\tjdoe@yahoo.com\tjane doe\n",
    "joe schmo\tjoeschmo@hotmail.com\tjoe schmo\n"
   ]
  },
  {
   "cell_type": "code",
   "execution_count": null,
   "id": "2640e227-4a6e-4bca-a311-9b2733ed5c8e",
   "metadata": {},
   "outputs": [],
   "source": [
    "Instructions\n",
    "\n",
    "1.  Apply the function lower to all names in column 'Name' in df. Assign these new names to a new column of df \n",
    "called 'Lowercase Name'. The final DataFrame should look like this:\n",
    "\n",
    "Name\tEmail\tLowercase Name\n",
    "JOHN SMITH\tjohn.smith@gmail.com\tjohn smith\n",
    "Jane Doe\tjdoe@yahoo.com\tjane doe\n",
    "joe schmo\tjoeschmo@hotmail.com\tjoe schmo\n"
   ]
  },
  {
   "cell_type": "code",
   "execution_count": 4,
   "id": "6969c75a-6e1e-4ddc-9dc2-e9b5a60f73d5",
   "metadata": {},
   "outputs": [
    {
     "name": "stdout",
     "output_type": "stream",
     "text": [
      "         Name                 Email Lowercase Name\n",
      "0  JOHN SMITH  john.smith@gmail.com     john smith\n",
      "1    Jane Doe        jdoe@yahoo.com       jane doe\n",
      "2   joe schmo  joeschmo@hotmail.com      joe schmo\n"
     ]
    }
   ],
   "source": [
    "import pandas as pd\n",
    "\n",
    "df = pd.DataFrame([\n",
    "  ['JOHN SMITH', 'john.smith@gmail.com'],\n",
    "  ['Jane Doe', 'jdoe@yahoo.com'],\n",
    "  ['joe schmo', 'joeschmo@hotmail.com']\n",
    "],\n",
    "columns=['Name', 'Email'])\n",
    "\n",
    "# Add columns here with lowercase name, and then put the string in lower assigned to it\n",
    "df['Lowercase Name'] = df.Name.apply(str.lower)\n",
    "print(df)"
   ]
  },
  {
   "cell_type": "code",
   "execution_count": null,
   "id": "e02410db-abbf-4367-98ae-aa645cf6e937",
   "metadata": {},
   "outputs": [],
   "source": []
  }
 ],
 "metadata": {
  "kernelspec": {
   "display_name": "Python 3 (ipykernel)",
   "language": "python",
   "name": "python3"
  },
  "language_info": {
   "codemirror_mode": {
    "name": "ipython",
    "version": 3
   },
   "file_extension": ".py",
   "mimetype": "text/x-python",
   "name": "python",
   "nbconvert_exporter": "python",
   "pygments_lexer": "ipython3",
   "version": "3.12.4"
  }
 },
 "nbformat": 4,
 "nbformat_minor": 5
}
