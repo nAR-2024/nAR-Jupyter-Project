{
 "cells": [
  {
   "cell_type": "code",
   "execution_count": null,
   "id": "0dffa2a1-35c6-4d38-91d8-7b047e8edecc",
   "metadata": {},
   "outputs": [],
   "source": [
    "Adding a Column II\n",
    "\n",
    "We can also add a new column that is the same for all rows in the DataFrame. \n",
    "Let’s return to our inventory example:\n",
    "\n",
    "Product ID\tProduct Description\tCost to Manufacture\tPrice\n",
    "1\t3 inch screw\t0.50\t0.75\n",
    "2\t2 inch nail\t0.10\t0.25\n",
    "3\thammer\t3.00\t5.50\n",
    "4\tscrewdriver\t2.50\t3.00\n",
    "\n",
    "Suppose we know that all of our products are currently in-stock. We can add a column that says this:\n",
    "\n",
    "df['In Stock?'] = True\n",
    "\n",
    "Now all of the rows have a column called In Stock? with value True.\n",
    "\n",
    "Product ID\tProduct Description\tCost to Manufacture\tPrice\tIn Stock?\n",
    "1\t3 inch screw\t0.50\t0.75\tTrue\n",
    "2\t2 inch nail\t0.10\t0.25\tTrue\n",
    "3\thammer\t3.00\t5.50\tTrue\n",
    "4\tscrewdriver\t2.50\t3.00\tTrue\n"
   ]
  },
  {
   "cell_type": "code",
   "execution_count": null,
   "id": "b3877a92-c58e-4fa8-afa4-9a1792745d8f",
   "metadata": {},
   "outputs": [],
   "source": [
    "Instructions\n",
    "\n",
    "1.  Add a column to df called Is taxed?, which indicates whether or not to collect sales tax on the product. \n",
    "It should be 'Yes' for all rows."
   ]
  },
  {
   "cell_type": "code",
   "execution_count": 1,
   "id": "34af895a-a8ca-4014-a97f-18ce28254a17",
   "metadata": {},
   "outputs": [
    {
     "name": "stdout",
     "output_type": "stream",
     "text": [
      "   Product ID   Description  Cost to Manufacture  Price Is taxed?\n",
      "0           1  3 inch screw                  0.5   0.75       Yes\n",
      "1           2   2 inch nail                  0.1   0.25       Yes\n",
      "2           3        hammer                  3.0   5.50       Yes\n",
      "3           4   screwdriver                  2.5   3.00       Yes\n"
     ]
    }
   ],
   "source": [
    "import pandas as pd\n",
    "\n",
    "df = pd.DataFrame([\n",
    "  [1, '3 inch screw', 0.5, 0.75],\n",
    "  [2, '2 inch nail', 0.10, 0.25],\n",
    "  [3, 'hammer', 3.00, 5.50],\n",
    "  [4, 'screwdriver', 2.50, 3.00]\n",
    "],\n",
    "  columns=['Product ID', 'Description', 'Cost to Manufacture', 'Price']\n",
    ")\n",
    "\n",
    "# Adds the 'Is Taxed' columns here, and replaces the 'True' statement with 'Yes'\n",
    "\n",
    "df['Is taxed?'] = 'Yes' \n",
    "print(df)"
   ]
  },
  {
   "cell_type": "code",
   "execution_count": null,
   "id": "864fc552-97bf-49a9-886d-fc23855fa493",
   "metadata": {},
   "outputs": [],
   "source": []
  }
 ],
 "metadata": {
  "kernelspec": {
   "display_name": "Python 3 (ipykernel)",
   "language": "python",
   "name": "python3"
  },
  "language_info": {
   "codemirror_mode": {
    "name": "ipython",
    "version": 3
   },
   "file_extension": ".py",
   "mimetype": "text/x-python",
   "name": "python",
   "nbconvert_exporter": "python",
   "pygments_lexer": "ipython3",
   "version": "3.12.4"
  }
 },
 "nbformat": 4,
 "nbformat_minor": 5
}
