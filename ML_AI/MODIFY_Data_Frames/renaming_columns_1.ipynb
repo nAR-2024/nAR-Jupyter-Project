{
 "cells": [
  {
   "cell_type": "code",
   "execution_count": null,
   "id": "c5e4d915-8b92-4071-abdb-e0b07bd7c568",
   "metadata": {},
   "outputs": [],
   "source": [
    "Renaming Columns\n",
    "\n",
    "When we get our data from other sources, we often want to change the column names. For example, we might want all of the column names to follow variable name rules, \n",
    "so that we can use df.column_name (which tab-completes) rather than df['column_name'] (which takes up extra space).\n",
    "\n",
    "You can change all of the column names at once by setting the \n",
    "Preview: Docs Loading link description\n",
    ".columns\n",
    "property to a different list. This is great when you need to change all of the column names at once, but be careful! You can easily mislabel columns if you \n",
    "get the ordering wrong. Here’s an example:\n",
    "\n",
    "df = pd.DataFrame({\n",
    "    'name': ['John', 'Jane', 'Sue', 'Fred'],\n",
    "    'age': [23, 29, 21, 18]\n",
    "})\n",
    "df.columns = ['First Name', 'Age']\n",
    "\n",
    "\n",
    "This command edits the existing \n",
    "Preview: Docs Loading link description\n",
    "DataFrame\n",
    " df.\n",
    "\n"
   ]
  },
  {
   "cell_type": "code",
   "execution_count": null,
   "id": "7d06a4a9-9285-46fd-8294-88f01e33e09c",
   "metadata": {},
   "outputs": [],
   "source": [
    "\n",
    "Instructions\n",
    "\n",
    "1.  The DataFrame df contains data about movies from IMDb.\n",
    "\n",
    "We want to present this data to some film producers. Right now, our column names are in lower case, and are not very descriptive. Let’s modify df using \n",
    "the .columns attribute to make the following changes to the columns:\n",
    "\n",
    "Old\tNew\n",
    "id\tID\n",
    "name\tTitle\n",
    "genre\tCategory\n",
    "year\tYear Released\n",
    "imdb_rating\tRating\n"
   ]
  },
  {
   "cell_type": "code",
   "execution_count": null,
   "id": "dfa51e5f-ed7d-45b4-aa7f-22698f887243",
   "metadata": {},
   "outputs": [],
   "source": [
    "import pandas as pd\n",
    "\n",
    "df = pd.read_csv('imdb.csv')\n",
    "\n",
    "df.columns = ['ID', 'Title', 'Category', 'Year Released', 'Rating']\n",
    "\n",
    "print(df)"
   ]
  }
 ],
 "metadata": {
  "kernelspec": {
   "display_name": "Python 3 (ipykernel)",
   "language": "python",
   "name": "python3"
  },
  "language_info": {
   "codemirror_mode": {
    "name": "ipython",
    "version": 3
   },
   "file_extension": ".py",
   "mimetype": "text/x-python",
   "name": "python",
   "nbconvert_exporter": "python",
   "pygments_lexer": "ipython3",
   "version": "3.12.4"
  }
 },
 "nbformat": 4,
 "nbformat_minor": 5
}
