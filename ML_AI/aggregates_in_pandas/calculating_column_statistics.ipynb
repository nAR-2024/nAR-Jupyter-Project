{
 "cells": [
  {
   "cell_type": "code",
   "execution_count": null,
   "id": "d9f9b866-149c-4115-95bf-a4457de553ce",
   "metadata": {},
   "outputs": [],
   "source": [
    "Calculating Column Statistics\n",
    "\n",
    "Aggregate functions summarize many data points (i.e., a column of a dataframe) into a smaller set of values.\n",
    "\n",
    "Some examples of this type of calculation include:\n",
    "\n",
    "The DataFrame customers contains the names and ages of all of your customers. You want to find the median age:\n",
    "\n",
    "print(customers.age)\n",
    ">> [23, 25, 31, 35, 35, 46, 62]\n",
    "print(customers.age.median())\n",
    ">> 35\n",
    "\n",
    "\n",
    "\n",
    "The DataFrame shipments contains address information for all shipments that you’ve sent out in the past year. \n",
    "You want to know how many different states you have shipped to (and how many shipments went to the same state).\n",
    "\n",
    "print(shipments.state)\n",
    "\n",
    ">> ['CA', 'CA', 'CA', 'CA', 'NY', 'NY', 'NJ', 'NJ', 'NJ', 'NJ', 'NJ', 'NJ', 'NJ']\n",
    "\n",
    "print(shipments.state.nunique())\n",
    "\n",
    ">> 3\n",
    "\n",
    "The DataFrame inventory contains a list of types of t-shirts that your company makes. You want a list of the colors that your shirts come in.\n",
    "\n",
    "print(inventory.color)\n",
    ">> ['blue', 'blue', 'blue', 'blue', 'blue', 'green', 'green', 'orange', 'orange', 'orange']\n",
    "print(inventory.color.unique())\n",
    ">> ['blue', 'green', 'orange']\n",
    "\n",
    "The general syntax for these calculations is:\n",
    "\n",
    "df.column_name.command()\n",
    "\n",
    "The following table summarizes some common commands:\n",
    "\n",
    "Command\tDescription\n",
    "mean\tAverage of all values in column\n",
    "std\tStandard deviation\n",
    "median\tMedian\n",
    "max\tMaximum value in column\n",
    "min\tMinimum value in column\n",
    "count\tNumber of values in column\n",
    "nunique\tNumber of unique values in column\n",
    "unique\tList of unique values in column"
   ]
  },
  {
   "cell_type": "code",
   "execution_count": null,
   "id": "bb015264-0a88-417d-bb80-6258cef6df57",
   "metadata": {},
   "outputs": [],
   "source": [
    "1.  Once more, we’ll revisit our orders from ShoeFly.com. Our new batch of orders is in the DataFrame orders. \n",
    "Examine the first 10 rows using the following code:\n",
    "\n",
    "print(orders.head(10))\n",
    "\n",
    "\n",
    "2.  Our finance department wants to know the price of the most expensive pair of shoes purchased. \n",
    "Save your answer to the variable most_expensive.\n",
    "    \n",
    "3.  Our fashion department wants to know how many different colors of shoes we are selling. \n",
    "Save your answer to the variable num_colors."
   ]
  },
  {
   "cell_type": "code",
   "execution_count": null,
   "id": "e0a4488c-bfa0-48fa-a7a1-b26c87297261",
   "metadata": {},
   "outputs": [],
   "source": []
  }
 ],
 "metadata": {
  "kernelspec": {
   "display_name": "Python 3 (ipykernel)",
   "language": "python",
   "name": "python3"
  },
  "language_info": {
   "codemirror_mode": {
    "name": "ipython",
    "version": 3
   },
   "file_extension": ".py",
   "mimetype": "text/x-python",
   "name": "python",
   "nbconvert_exporter": "python",
   "pygments_lexer": "ipython3",
   "version": "3.12.4"
  }
 },
 "nbformat": 4,
 "nbformat_minor": 5
}
