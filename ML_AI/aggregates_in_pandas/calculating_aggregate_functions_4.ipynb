{
 "cells": [
  {
   "cell_type": "code",
   "execution_count": null,
   "id": "cbb36a64-4da4-49cc-8e17-bb70d8ea075c",
   "metadata": {},
   "outputs": [],
   "source": [
    "Calculating Aggregate Functions IV\n",
    "\n",
    "Sometimes, we want to group by more than one column. We can easily do this by passing a list of column names into the groupby method.\n",
    "\n",
    "Imagine that we run a chain of stores and have data about the number of sales at different locations on different days:\n",
    "\n",
    "Location\t    Date\t       Day of Week\tTotal Sales\n",
    "West Village\tFebruary   1\tW\t        400\n",
    "West Village\tFebruary   2\tTh\t        450\n",
    "Chelsea\t        February   1\tW\t        375\n",
    "Chelsea\t        February   2\tTh\t        390\n",
    "We suspect that sales are different at different locations on different days of the week. In order to test this hypothesis, \n",
    "we could calculate the average sales for each store on each day of the week across multiple months. The code would look like this:\n",
    "\n",
    "df.groupby(['Location', 'Day of Week'])['Total Sales'].mean().reset_index()\n",
    "\n",
    "\n",
    "The results might look something like this:\n",
    "\n",
    "Location\t   Day of Week\tTotal Sales\n",
    "Chelsea\t        M\t         402.50\n",
    "Chelsea\t        Tu\t         422.75\n",
    "Chelsea\t        W\t         452.00\n",
    "…\t\t\n",
    "West Village\tM\t          390\n",
    "West Village\tTu\t          400\n"
   ]
  },
  {
   "cell_type": "code",
   "execution_count": null,
   "id": "37eef381-e1c3-485d-89ef-f9234282e842",
   "metadata": {},
   "outputs": [],
   "source": [
    "\n",
    "Instructions\n",
    "\n",
    "1.  At ShoeFly.com, our Purchasing team thinks that certain shoe_type/shoe_color combinations are particularly popular this year \n",
    "(for example, blue ballet flats are all the rage in Paris).\n",
    "\n",
    "Create a DataFrame with the total number of shoes of each shoe_type/shoe_color combination purchased. Save it to the variable shoe_counts\n",
    "You should be able to do this using groupby and count().\n",
    "Note: When we’re using count(), it doesn’t really matter which column we perform the calculation on. You should use id in this example, but we would get the same answer if we used shoe_type or last_name.\n",
    "Remember to use reset_index() at the end of your code!\n",
    "\n",
    "\n",
    "\n",
    "2.  Display shoe_counts using print."
   ]
  },
  {
   "cell_type": "code",
   "execution_count": null,
   "id": "15fd532f-607f-4658-b7cf-aef10f24914b",
   "metadata": {},
   "outputs": [],
   "source": [
    "import codecademylib3\n",
    "import numpy as np\n",
    "import pandas as pd\n",
    "\n",
    "orders = pd.read_csv('orders.csv')\n",
    "\n",
    "shoe_counts = orders.groupby(['shoe_type', 'shoe_color']).id.count().reset_index()\n",
    "\n",
    "print(shoe_counts)"
   ]
  }
 ],
 "metadata": {
  "kernelspec": {
   "display_name": "Python 3 (ipykernel)",
   "language": "python",
   "name": "python3"
  },
  "language_info": {
   "codemirror_mode": {
    "name": "ipython",
    "version": 3
   },
   "file_extension": ".py",
   "mimetype": "text/x-python",
   "name": "python",
   "nbconvert_exporter": "python",
   "pygments_lexer": "ipython3",
   "version": "3.12.4"
  }
 },
 "nbformat": 4,
 "nbformat_minor": 5
}
