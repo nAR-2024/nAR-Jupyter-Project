{
 "cells": [
  {
   "cell_type": "code",
   "execution_count": 2,
   "id": "68ea891b-0d6f-4a9f-9b87-b54915b2cc0e",
   "metadata": {},
   "outputs": [
    {
     "name": "stdout",
     "output_type": "stream",
     "text": [
      "      age     sex     bmi  children smoker     region      charges\n",
      "0      19  female  27.900         0    yes  southwest  16884.92400\n",
      "1      18    male  33.770         1     no  southeast   1725.55230\n",
      "2      28    male  33.000         3     no  southeast   4449.46200\n",
      "3      33    male  22.705         0     no  northwest  21984.47061\n",
      "4      32    male  28.880         0     no  northwest   3866.85520\n",
      "...   ...     ...     ...       ...    ...        ...          ...\n",
      "1333   50    male  30.970         3     no  northwest  10600.54830\n",
      "1334   18  female  31.920         0     no  northeast   2205.98080\n",
      "1335   18  female  36.850         0     no  southeast   1629.83350\n",
      "1336   21  female  25.800         0     no  southwest   2007.94500\n",
      "1337   61  female  29.070         0    yes  northwest  29141.36030\n",
      "\n",
      "[1338 rows x 7 columns]\n"
     ]
    }
   ],
   "source": [
    "import pandas as pd\n",
    "\n",
    "df = pd.read_csv('insurance.csv')\n",
    "print(df)"
   ]
  },
  {
   "cell_type": "code",
   "execution_count": 27,
   "id": "d65244d4-bfc0-4abf-b26e-db5086dfb604",
   "metadata": {},
   "outputs": [
    {
     "name": "stdout",
     "output_type": "stream",
     "text": [
      "      sex     region\n",
      "0  female  southwest\n",
      "1    male  southeast\n",
      "2    male  southeast\n",
      "3    male  northwest\n",
      "4    male  northwest\n"
     ]
    }
   ],
   "source": [
    "import pandas as pd\n",
    "\n",
    "df = pd.read_csv('insurance.csv')\n",
    "df_region_sex = df[['sex', 'region']]\n",
    " \n",
    "print(df_region_sex.head())"
   ]
  },
  {
   "cell_type": "code",
   "execution_count": 8,
   "id": "733e1f96-c958-4da5-9777-d870026e17ce",
   "metadata": {},
   "outputs": [
    {
     "name": "stdout",
     "output_type": "stream",
     "text": [
      "    age     sex     bmi  children smoker     region      charges\n",
      "0    19  female  27.900         0    yes  southwest  16884.92400\n",
      "1    18    male  33.770         1     no  southeast   1725.55230\n",
      "2    28    male  33.000         3     no  southeast   4449.46200\n",
      "3    33    male  22.705         0     no  northwest  21984.47061\n",
      "4    32    male  28.880         0     no  northwest   3866.85520\n",
      "5    31  female  25.740         0     no  southeast   3756.62160\n",
      "6    46  female  33.440         1     no  southeast   8240.58960\n",
      "7    37  female  27.740         3     no  northwest   7281.50560\n",
      "8    37    male  29.830         2     no  northeast   6406.41070\n",
      "9    60  female  25.840         0     no  northwest  28923.13692\n",
      "10   25    male  26.220         0     no  northeast   2721.32080\n",
      "11   62  female  26.290         0    yes  southeast  27808.72510\n",
      "12   23    male  34.400         0     no  southwest   1826.84300\n",
      "13   56  female  39.820         0     no  southeast  11090.71780\n",
      "14   27    male  42.130         0    yes  southeast  39611.75770\n",
      "15   19    male  24.600         1     no  southwest   1837.23700\n",
      "16   52  female  30.780         1     no  northeast  10797.33620\n",
      "17   23    male  23.845         0     no  northeast   2395.17155\n",
      "18   56    male  40.300         0     no  southwest  10602.38500\n",
      "19   30    male  35.300         0    yes  southwest  36837.46700\n",
      "<class 'pandas.core.frame.DataFrame'>\n",
      "RangeIndex: 1338 entries, 0 to 1337\n",
      "Data columns (total 7 columns):\n",
      " #   Column    Non-Null Count  Dtype  \n",
      "---  ------    --------------  -----  \n",
      " 0   age       1338 non-null   int64  \n",
      " 1   sex       1338 non-null   object \n",
      " 2   bmi       1338 non-null   float64\n",
      " 3   children  1338 non-null   int64  \n",
      " 4   smoker    1338 non-null   object \n",
      " 5   region    1338 non-null   object \n",
      " 6   charges   1338 non-null   float64\n",
      "dtypes: float64(2), int64(2), object(3)\n",
      "memory usage: 73.3+ KB\n",
      "None\n"
     ]
    }
   ],
   "source": [
    "df = pd.read_csv('insurance.csv')\n",
    "print(df.head(20))#gives me the top 5 in the list\n",
    "print(df.info())#give me information on what is in the file"
   ]
  },
  {
   "cell_type": "code",
   "execution_count": 4,
   "id": "b6d9611e-fe90-4586-a00b-dfc42f4285a9",
   "metadata": {},
   "outputs": [
    {
     "name": "stdout",
     "output_type": "stream",
     "text": [
      "The average age of patients is 39.21 years.\n"
     ]
    }
   ],
   "source": [
    "#Find out the average age of the patients in the dataset.\n",
    "\n",
    "import pandas as pd\n",
    "\n",
    "# Load the dataset from a CSV file\n",
    "df = pd.read_csv('insurance.csv')\n",
    "\n",
    "# Calculate the average age\n",
    "average_age = df['age'].mean()\n",
    "\n",
    "print(f\"The average age of patients is {average_age:.2f} years.\")\n"
   ]
  },
  {
   "cell_type": "code",
   "execution_count": 6,
   "id": "0fe5a779-9a77-430f-b8e1-7f112e248973",
   "metadata": {},
   "outputs": [
    {
     "name": "stdout",
     "output_type": "stream",
     "text": [
      "Location counts:\n",
      "region\n",
      "southeast    364\n",
      "southwest    325\n",
      "northwest    325\n",
      "northeast    324\n",
      "Name: count, dtype: int64\n",
      "\n",
      "The majority of individuals are from southeast (364 individuals).\n"
     ]
    }
   ],
   "source": [
    "#Analyze where a majority of the individuals are from.\n",
    "\n",
    "import pandas as pd\n",
    "\n",
    "# Load the dataset from a CSV file\n",
    "df = pd.read_csv('insurance.csv')\n",
    "\n",
    "# Count the occurrences of each location\n",
    "location_counts = df['region'].value_counts()\n",
    "\n",
    "# Identify the majority location\n",
    "most_common_location = location_counts.idxmax()\n",
    "most_common_count = location_counts.max()\n",
    "\n",
    "print(\"Location counts:\")\n",
    "print(location_counts)\n",
    "\n",
    "print(f\"\\nThe majority of individuals are from {most_common_location} ({most_common_count} individuals).\")\n"
   ]
  },
  {
   "cell_type": "code",
   "execution_count": 8,
   "id": "34d3df16-cad1-461b-9a78-52075b37f51e",
   "metadata": {},
   "outputs": [
    {
     "name": "stdout",
     "output_type": "stream",
     "text": [
      "Average medical costs by smoking status:\n",
      "smoker\n",
      "no      8434.268298\n",
      "yes    32050.231832\n",
      "Name: charges, dtype: float64\n",
      "\n",
      "Detailed statistics by smoking status:\n",
      "         count          mean           std         min           25%  \\\n",
      "smoker                                                                 \n",
      "no      1064.0   8434.268298   5993.781819   1121.8739   3986.438700   \n",
      "yes      274.0  32050.231832  11541.547176  12829.4551  20826.244213   \n",
      "\n",
      "                50%           75%          max  \n",
      "smoker                                          \n",
      "no       7345.40530  11362.887050  36910.60803  \n",
      "yes     34456.34845  41019.207275  63770.42801  \n"
     ]
    }
   ],
   "source": [
    "#Look at the different costs between smokers vs. non-smokers.\n",
    "\n",
    "\n",
    "import pandas as pd\n",
    "\n",
    "# Load dataset\n",
    "df = pd.read_csv('insurance.csv')\n",
    "\n",
    "# Group data by SmokingStatus and calculate mean costs\n",
    "cost_comparison = df.groupby('smoker')['charges'].mean()\n",
    "\n",
    "print(\"Average medical costs by smoking status:\")\n",
    "print(cost_comparison)\n",
    "\n",
    "# Optional: Detailed breakdown\n",
    "detailed_stats = df.groupby('smoker')['charges'].describe()\n",
    "print(\"\\nDetailed statistics by smoking status:\")\n",
    "print(detailed_stats)"
   ]
  },
  {
   "cell_type": "code",
   "execution_count": 10,
   "id": "f575a60d-0715-44ed-a63f-b5f3b3c8ff31",
   "metadata": {},
   "outputs": [
    {
     "name": "stdout",
     "output_type": "stream",
     "text": [
      "The average age for someone with at least one child is 39.78 years.\n"
     ]
    }
   ],
   "source": [
    "#Figure out what the average age is for someone who has at least one child in this dataset.\n",
    "\n",
    "import pandas as pd\n",
    "\n",
    "# Load the dataset\n",
    "df = pd.read_csv('insurance.csv')\n",
    "\n",
    "# Filter for individuals with at least one child\n",
    "has_children = df[df['children'] > 0]\n",
    "\n",
    "# Calculate the average age\n",
    "average_age_with_children = has_children['age'].mean()\n",
    "\n",
    "print(f\"The average age for someone with at least one child is {average_age_with_children:.2f} years.\")\n"
   ]
  },
  {
   "cell_type": "code",
   "execution_count": null,
   "id": "da1ee4c7-0090-4d4b-a81a-5966d43a41e9",
   "metadata": {},
   "outputs": [],
   "source": []
  }
 ],
 "metadata": {
  "kernelspec": {
   "display_name": "Python 3 (ipykernel)",
   "language": "python",
   "name": "python3"
  },
  "language_info": {
   "codemirror_mode": {
    "name": "ipython",
    "version": 3
   },
   "file_extension": ".py",
   "mimetype": "text/x-python",
   "name": "python",
   "nbconvert_exporter": "python",
   "pygments_lexer": "ipython3",
   "version": "3.12.4"
  }
 },
 "nbformat": 4,
 "nbformat_minor": 5
}
