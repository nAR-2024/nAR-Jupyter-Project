{
 "cells": [
  {
   "cell_type": "code",
   "execution_count": null,
   "id": "df3f9c42-850b-4ed4-af6d-4948fd205cc9",
   "metadata": {},
   "outputs": [],
   "source": [
    "Calculating Column Statistics\n",
    "\n",
    "Aggregate functions summarize many data points (i.e., a column of a dataframe) into a smaller set of values.\n",
    "\n",
    "Some examples of this type of calculation include:\n",
    "\n",
    "The DataFrame customers contains the names and ages of all of your customers. You want to find the median age:\n",
    "\n",
    "print(customers.age)\n",
    ">> [23, 25, 31, 35, 35, 46, 62]\n",
    "\n",
    "print(customers.age.median())\n",
    ">> 35\n",
    "\n",
    "to Clipboard\n",
    "\n",
    "\n",
    "\n",
    "The DataFrame shipments contains address information for all shipments that you’ve sent out in the past year. \n",
    "You want to know how many different states you have shipped to (and how many shipments went to the same state).\n",
    "\n",
    "print(shipments.state)\n",
    ">> ['CA', 'CA', 'CA', 'CA', 'NY', 'NY', 'NJ', 'NJ', 'NJ', 'NJ', 'NJ', 'NJ', 'NJ']\n",
    "\n",
    "print(shipments.state.nunique())\n",
    ">> 3\n",
    "\n",
    "\n",
    "\n",
    "The DataFrame inventory contains a list of types of t-shirts that your company makes. You want a list of the colors that your shirts come in.\n",
    "\n",
    "print(inventory.color)\n",
    ">> ['blue', 'blue', 'blue', 'blue', 'blue', 'green', 'green', 'orange', 'orange', 'orange']\n",
    "\n",
    "print(inventory.color.unique())\n",
    ">> ['blue', 'green', 'orange']\n",
    "\n",
    "\n",
    "\n",
    "The general syntax for these calculations is:\n",
    "\n",
    "df.column_name.command()\n",
    "\n",
    "\n",
    "The following table summarizes some common commands:\n",
    "\n",
    "Command\t   Description\n",
    "mean\t   Average of all values in column\n",
    "std\t       Standard deviation\n",
    "median\t   Median\n",
    "max\t       Maximum value in column\n",
    "min\t       Minimum value in column\n",
    "count\t   Number of values in column\n",
    "nunique\t   Number of unique values in column\n",
    "unique\t   List of unique values in column"
   ]
  },
  {
   "cell_type": "code",
   "execution_count": null,
   "id": "e01299dc-798a-4588-8a1a-71594608a6ce",
   "metadata": {},
   "outputs": [],
   "source": [
    "Instructions\n",
    "\n",
    "1.  Once more, we’ll revisit our orders from ShoeFly.com. Our new batch of orders is in the DataFrame orders. \n",
    "Examine the first 10 rows using the following code:  print(orders.head(10))\n",
    "\n",
    "2.  Our finance department wants to know the price of the most expensive pair of shoes purchased. Save your answer to the variable most_expensive.\n",
    "Checkpoint 3 Step instruction is unavailable until previous steps are completed\n",
    "\n",
    "3.Our fashion department wants to know how many different colors of shoes we are selling. Save your answer to the variable num_colors."
   ]
  },
  {
   "cell_type": "code",
   "execution_count": null,
   "id": "fb92c1e9-7fff-4a3c-a3fd-238afa4569a9",
   "metadata": {},
   "outputs": [],
   "source": [
    "orders = pd.read_csv('orders.csv')\n",
    "#1\n",
    "print(orders.head(10))\n",
    "#2\n",
    "most_expensive = orders.price.max()\n",
    "print(most_expensive)\n",
    "#3\n",
    "num_colors = orders.shoe_color.nunique()\n",
    "print(num_colors)"
   ]
  }
 ],
 "metadata": {
  "kernelspec": {
   "display_name": "Python 3 (ipykernel)",
   "language": "python",
   "name": "python3"
  },
  "language_info": {
   "codemirror_mode": {
    "name": "ipython",
    "version": 3
   },
   "file_extension": ".py",
   "mimetype": "text/x-python",
   "name": "python",
   "nbconvert_exporter": "python",
   "pygments_lexer": "ipython3",
   "version": "3.12.4"
  }
 },
 "nbformat": 4,
 "nbformat_minor": 5
}
