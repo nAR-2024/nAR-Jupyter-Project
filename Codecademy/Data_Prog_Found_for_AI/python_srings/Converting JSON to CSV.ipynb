{
 "cells": [
  {
   "cell_type": "code",
   "execution_count": null,
   "id": "896ecbaa-126f-47d1-83a7-f5bc981406dc",
   "metadata": {},
   "outputs": [],
   "source": [
    "Converting JSON to CSV\n",
    " \n",
    "If you haven’t written Python before, you can still do this exercise even though it might feel a little like magic. \n",
    "Follow along and it will become clearer later on (we promise it isn’t magic!).\n",
    "\n",
    "While JSON is a great universal format for data interchange, it might not be the ideal format in other aspects, \n",
    "such as readability. Instead, having the data in a tabular format (like a CSV) can make it much more human-readable and accessible. \n",
    "Therefore, being able to convert between file types is essential.\n",
    "\n",
    "There are several libraries in Python to work with different data formats. For example, to convert the Census data from JSON to CSV, \n",
    "we can use the built-in csv library:\n",
    "\n",
    "import csv\n",
    "\n",
    "As a refresher, visit https://api.census.gov/data/2020/acs/acs5?get=NAME,B08303_001E&for=state:* in your browser to view the total \n",
    "commuters count for all states.\n",
    "\n",
    "The JSON data we got from the Census API is a list of lists in Python, where each inner list corresponds to a single row of data. \n",
    "To convert from JSON to CSV, we want to write each sublist as a comma-separated row of data to file. This bit of code is a little \n",
    "complicated. We will use the writerows() method from the csv library:\n",
    "\n",
    "with open('census.csv', mode='w', newline='') as file:\n",
    "  writer = csv.writer(file)\n",
    "  writer.writerows(r.json())\n",
    "\n",
    "What is that code doing?\n",
    "\n",
    "We first make a variable and call it file. Then we use .open() to open a file, since we are going to write that file, \n",
    "we open it with mode='w' for writing mode. The newline='' ensures that newlines are always interpreted correctly.\n",
    "\n",
    "Next, we use the writer() function from the csv library to make a writer object \n",
    "(don’t worry about what this is right now). \n",
    "We then use the writerows() method to write each row of data into comma-separated format.\n",
    "\n",
    "Instructions\n",
    "Checkpoint 1 Enabled\n",
    "1.\n",
    "Start by importing the csv module.\n",
    "Checkpoint 2 Step instruction is unavailable until previous steps are completed\n",
    "2.\n",
    "Use the .json() method to access the decoded JSON data and store it in a variable called r_json.\n",
    "Checkpoint 3 Step instruction is unavailable until previous steps are completed\n",
    "3.\n",
    "We created an empty commute_data.csv file for you. Click on the tab above the code editor to see it.\n",
    "\n",
    "Now write the JSON data into a CSV file called commute_data.csv\n",
    "\n",
    "After you write the data to the file, click on the file again to see it filled with your data."
   ]
  },
  {
   "cell_type": "code",
   "execution_count": null,
   "id": "ee3c0120-cdf5-403d-aae3-e40a439ed6a9",
   "metadata": {},
   "outputs": [],
   "source": [
    "import csv\n",
    "\n",
    "with open('census.csv', mode='w', newline='') as file:\n",
    "  writer = csv.writer(file)\n",
    "  writer.writerows(r.json())"
   ]
  },
  {
   "cell_type": "code",
   "execution_count": null,
   "id": "b6983005-1993-4570-8db9-663d0eed5d56",
   "metadata": {},
   "outputs": [],
   "source": [
    "Instructions\n",
    " \n",
    "1. Start by importing the csv module.\n",
    " \n",
    "2. Use the .json() method to access the decoded JSON data and store it in a variable called r_json.\n",
    " \n",
    "3. We created an empty commute_data.csv file for you. Click on the tab above the code editor to see it.\n",
    "\n",
    "Now write the JSON data into a CSV file called commute_data.csv\n",
    "\n",
    "After you write the data to the file, click on the file again to see it filled with your data."
   ]
  },
  {
   "cell_type": "code",
   "execution_count": 7,
   "id": "87fdf674-668e-4346-bcc0-26daeec20e4a",
   "metadata": {},
   "outputs": [],
   "source": [
    "import requests\n",
    "import csv\n",
    "\n",
    "\n",
    "r = requests.get('https://api.census.gov/data/2020/acs/acs5?get=NAME,B08303_001E,B08303_013E&for=county:*&in=state:36')\n",
    "\n",
    "r_json = r.json()\n",
    "\n",
    "with open('commute_data.csv', mode = 'w', newline = '') as file:\n",
    "  writer = csv.writer(file)\n",
    "  writer.writerows(r_json)\n"
   ]
  },
  {
   "cell_type": "code",
   "execution_count": null,
   "id": "d6cb787e-fd75-4e99-a4af-9dd582839f6a",
   "metadata": {},
   "outputs": [],
   "source": []
  }
 ],
 "metadata": {
  "kernelspec": {
   "display_name": "Python 3 (ipykernel)",
   "language": "python",
   "name": "python3"
  },
  "language_info": {
   "codemirror_mode": {
    "name": "ipython",
    "version": 3
   },
   "file_extension": ".py",
   "mimetype": "text/x-python",
   "name": "python",
   "nbconvert_exporter": "python",
   "pygments_lexer": "ipython3",
   "version": "3.12.4"
  }
 },
 "nbformat": 4,
 "nbformat_minor": 5
}
