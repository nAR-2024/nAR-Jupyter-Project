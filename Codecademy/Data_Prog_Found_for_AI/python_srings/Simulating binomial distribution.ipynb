{
 "cells": [
  {
   "cell_type": "code",
   "execution_count": null,
   "id": "6b447f93-7515-4853-964f-0b052d3f577a",
   "metadata": {},
   "outputs": [],
   "source": [
    "Simulating binomial distribution\n",
    " \n",
    "Sometimes you want to simulate a lot of different scenarios. It would be very expensive to run thousands \n",
    "of tests, but it’s very cheap to generate thousands of results.\n",
    "\n",
    "In this exercise, we are going to simulate binomial data. Binomial distributions are very useful \n",
    "for modeling different types of data, from drug treatment effectiveness to stock price trends.\n",
    "\n",
    "Binomial events always have 2 possible outcomes, which we refer to as success and failure. \n",
    "The probability of a successful outcome is represented by the parameter p. For example, for \n",
    "the event of a coin toss using a fair coin, p would be 0.5.\n",
    "\n",
    "There are lots of ways to do this. We could flip a coin a bunch of times and write down the results or \n",
    "we could use the random.binomial() method from the numpy library in Python.\n",
    "\n",
    "To use the random.binomial() method, we have to tell it how many trials we want to simulate (n) \n",
    "and the probability of ‘success’ in a single trial (p), and how many experiments to run.\n",
    "\n",
    "In the example below, there was 1 flip per trial (n), the probability (p) of getting ‘success’ was .5 \n",
    "(the coin is fair), and we conducted the experiment 2,000 times (size).\n",
    "\n",
    "\n",
    "print(numpy.random.binomial(n = 1, p = 0.5, size=2000))\n",
    "\n",
    "The output from our simulation is a list of 0’s and 1’s. This is the number of successes in each experiment. \n",
    "In this case, since we are simulating a single trial, 1 would mean the outcome of the trial was a \n",
    "success and 0 would mean the outcome was a failure.\n",
    "\n",
    "If we wanted to do 10 flips per experiment, the result would be a list of numbers from 0 to 10 representing the number of successes in each experiment.\n",
    "\n",
    "print(numpy.random.binomial(n=10, p=0.5, size=2000))\n",
    "\n",
    "Binomial distributions are really cool – and you will definitely see them again in your Data Science journey. \n",
    "Let’s practice creating some now.\n",
    " "
   ]
  },
  {
   "cell_type": "code",
   "execution_count": 3,
   "id": "05a47825-7fda-436c-95d7-4f56c1892dd8",
   "metadata": {},
   "outputs": [
    {
     "name": "stdout",
     "output_type": "stream",
     "text": [
      "[0 1 1 ... 0 1 0]\n",
      "[3 6 4 ... 5 4 9]\n"
     ]
    }
   ],
   "source": [
    "import numpy\n",
    "\n",
    "\n",
    "print(numpy.random.binomial(n = 1, p = 0.5, size=2000))\n",
    "\n",
    "print(numpy.random.binomial(n=10, p=0.5, size=2000))"
   ]
  },
  {
   "cell_type": "code",
   "execution_count": null,
   "id": "27c7e934-b0d6-48fd-a033-cec92745c378",
   "metadata": {},
   "outputs": [],
   "source": [
    "Instructions\n",
    " \n",
    "1. Start by importing the numpy library.\n",
    " \n",
    "2. The random.binomial() method to simulate a single (1) coin toss using a biased coin that has a 0.8 \n",
    "probability of landing on heads. We’ll call heads successful. conducted 500 times.\n",
    " \n",
    "3. Now let’s increase the number of trials per experiment.\n",
    "\n",
    "Call the random.binomial() method to simulate 100 tosses using a biased coin that has a 0.8 probability \n",
    "of landing on heads. We’ll call heads successful. conducted 500 times."
   ]
  },
  {
   "cell_type": "code",
   "execution_count": 5,
   "id": "47c0ad4f-12d5-4965-9644-0bcc3bbc2ef4",
   "metadata": {},
   "outputs": [
    {
     "name": "stdout",
     "output_type": "stream",
     "text": [
      "[89 77 80 76 76 82 80 81 82 86 79 72 81 79 85 77 85 76 77 73 84 77 81 84\n",
      " 74 82 83 78 81 75 87 86 79 77 71 81 78 84 82 77 78 81 84 82 80 83 76 84\n",
      " 73 77 85 85 77 80 79 85 82 90 74 84 76 85 75 81 78 82 77 78 85 77 81 80\n",
      " 77 82 84 81 82 83 73 78 80 81 88 78 81 78 80 86 81 75 74 75 78 83 79 76\n",
      " 78 80 79 82 78 87 85 82 78 77 81 77 83 81 81 79 73 84 87 83 80 78 80 85\n",
      " 75 81 76 82 74 83 82 81 77 76 75 79 82 80 84 75 78 80 76 81 76 77 85 77\n",
      " 79 90 83 83 76 82 75 79 81 76 78 83 71 82 79 75 75 80 79 76 80 82 86 75\n",
      " 86 81 81 80 75 77 86 82 80 80 83 83 81 80 83 80 74 84 73 80 80 87 80 81\n",
      " 83 83 76 80 82 82 81 83 85 80 79 80 82 76 75 79 82 76 80 76 80 85 79 84\n",
      " 77 78 83 80 86 81 82 81 82 80 75 81 79 75 87 82 75 83 74 79 76 83 77 74\n",
      " 79 74 76 82 77 77 89 83 82 90 78 72 77 79 84 80 82 85 76 75 78 74 77 80\n",
      " 79 89 78 71 80 81 84 78 79 84 77 82 80 86 83 80 81 81 81 78 73 85 83 81\n",
      " 87 84 86 77 74 78 79 76 77 74 82 81 82 87 83 75 75 83 71 77 85 79 79 83\n",
      " 73 76 73 79 75 78 90 85 84 79 83 85 77 81 78 75 74 78 84 79 86 78 75 82\n",
      " 73 70 86 77 79 77 83 70 80 76 72 81 76 83 73 78 75 84 80 83 81 79 81 82\n",
      " 85 79 88 77 74 86 80 86 76 79 76 74 83 87 82 74 82 73 78 85 77 83 86 82\n",
      " 75 80 84 76 85 85 83 79 87 85 80 85 75 80 77 82 83 80 80 77 83 79 83 78\n",
      " 80 78 73 73 86 77 82 79 77 90 79 76 80 78 89 79 80 79 71 80 80 80 75 79\n",
      " 75 78 79 79 77 75 82 79 79 87 85 77 85 82 76 89 83 80 75 84 72 80 90 86\n",
      " 87 85 79 78 85 82 85 83 85 81 77 75 75 80 74 82 80 82 80 79 81 76 85 87\n",
      " 78 78 78 80 76 77 87 79 79 72 83 82 79 80 79 79 73 71 86 80]\n"
     ]
    }
   ],
   "source": [
    "import numpy\n",
    "print(numpy.random.binomial(n=100, p=0.8, size=500))\n"
   ]
  },
  {
   "cell_type": "code",
   "execution_count": null,
   "id": "c6d29fcc-5819-4c60-a046-47f79c79f344",
   "metadata": {},
   "outputs": [],
   "source": []
  }
 ],
 "metadata": {
  "kernelspec": {
   "display_name": "Python 3 (ipykernel)",
   "language": "python",
   "name": "python3"
  },
  "language_info": {
   "codemirror_mode": {
    "name": "ipython",
    "version": 3
   },
   "file_extension": ".py",
   "mimetype": "text/x-python",
   "name": "python",
   "nbconvert_exporter": "python",
   "pygments_lexer": "ipython3",
   "version": "3.12.4"
  }
 },
 "nbformat": 4,
 "nbformat_minor": 5
}
