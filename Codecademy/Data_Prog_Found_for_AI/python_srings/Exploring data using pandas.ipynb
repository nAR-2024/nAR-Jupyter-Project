{
 "cells": [
  {
   "cell_type": "code",
   "execution_count": null,
   "id": "95a01a90-2413-40c4-940a-daf816359915",
   "metadata": {},
   "outputs": [],
   "source": [
    "Exploring data using pandas\n",
    " \n",
    "Now that we have our data saved into an easy-to-work-with format, let’s investigate it.\n",
    "\n",
    "We’ll use Python’s pandas library, which is designed for working with data \n",
    "(and will quickly become familiar to you). Start by importing the library and using the read_csv() \n",
    "function to read the CSV data into a DataFrame object:\n",
    "\n",
    "import pandas\n",
    " \n",
    "census_df = pandas.read_csv(\"census.csv\")\n",
    "\n",
    "By default, the first row of the CSV file is read in as the header row. We can use the \n",
    ".head()\n",
    "method to preview the first few rows of the DataFrame.\n",
    "\n",
    "Sometimes columns have ambiguous or confusing names (like Census codes). \n",
    "We might also want to rename those columns. We can use the \n",
    ".columns \n",
    "attribute to rename the column headings if needed:\n",
    "\n",
    "# Preview DataFrame\n",
    "print(census_df.head())\n",
    " \n",
    "# Rename DataFrame columns\n",
    "census_df.columns = ['name', 'total_commuters', 'state']\n",
    "\n",
    "The pandas library offers a lot more functionality for exploring and manipulating tabular data, \n",
    "but that is out of scope for this lesson. You can learn more in our Learn Data Analysis with Pandas course.\n",
    "\n",
    "  "
   ]
  },
  {
   "cell_type": "code",
   "execution_count": null,
   "id": "dbe0c599-35c2-4871-b19b-527ebe3814c6",
   "metadata": {},
   "outputs": [],
   "source": [
    "import pandas\n",
    " \n",
    "census_df = pandas.read_csv(\"census.csv\")\n",
    "\n",
    "# Preview DataFrame\n",
    "print(census_df.head())\n",
    " \n",
    "# Rename DataFrame columns\n",
    "census_df.columns = ['name', 'total_commuters', 'state']"
   ]
  },
  {
   "cell_type": "code",
   "execution_count": null,
   "id": "75100b88-6790-4c38-aab5-7a9bebda2eaa",
   "metadata": {},
   "outputs": [],
   "source": [
    "Instructions\n",
    " \n",
    "1. Start by importing the pandas library.\n",
    " \n",
    "2. Create a variable called commute_df. Set your variable to be a pandas DataFrame from the commute_data.csv file you created in the last exercise.\n",
    " \n",
    "3. Preview the first few rows of commute_df using the .head() method and print out the output.\n",
    " \n",
    "4. Notice how the column headings for commute_df show the codes the Census uses. That’s not very intuitive!\n",
    "\n",
    "Rename the headings to more descriptive names, then print the first few rows of the DataFrame again to see \n",
    "the changes.\n",
    "\n",
    "Congratulations!!! Not only have you used Python to get data, but you’ve also modified a dataset \n",
    "programmatically!! You are well on your way to becoming a Data Scientist!"
   ]
  },
  {
   "cell_type": "code",
   "execution_count": 4,
   "id": "fa8d9796-59f8-4be0-bfd4-fb93369cb03c",
   "metadata": {},
   "outputs": [
    {
     "name": "stdout",
     "output_type": "stream",
     "text": [
      "                           NAME  B08303_001E  B08303_013E  state  county\n",
      "0     Allegany County, New York        18308          497     36       3\n",
      "1  Cattaraugus County, New York        31039          629     36       9\n",
      "2      Chemung County, New York        35006          736     36      15\n",
      "3     Columbia County, New York        25990          813     36      21\n",
      "4     Dutchess County, New York       132346        10044     36      27\n",
      "                    county_name  total_commuters  super_commuters  state_code  \\\n",
      "0     Allegany County, New York            18308              497          36   \n",
      "1  Cattaraugus County, New York            31039              629          36   \n",
      "2      Chemung County, New York            35006              736          36   \n",
      "3     Columbia County, New York            25990              813          36   \n",
      "4     Dutchess County, New York           132346            10044          36   \n",
      "\n",
      "   county_code  \n",
      "0            3  \n",
      "1            9  \n",
      "2           15  \n",
      "3           21  \n",
      "4           27  \n"
     ]
    }
   ],
   "source": [
    "import pandas as pd\n",
    "\n",
    "\n",
    "commute_df = pd.read_csv('commute_data.csv')\n",
    "\n",
    "print(commute_df.head())\n",
    "\n",
    "commute_df.columns = ['county_name', 'total_commuters', 'super_commuters', 'state_code', 'county_code']\n",
    "\n",
    "print(commute_df.head())"
   ]
  },
  {
   "cell_type": "code",
   "execution_count": null,
   "id": "0355eb6a-1894-4100-8824-6897f4627f88",
   "metadata": {},
   "outputs": [],
   "source": []
  }
 ],
 "metadata": {
  "kernelspec": {
   "display_name": "Python 3 (ipykernel)",
   "language": "python",
   "name": "python3"
  },
  "language_info": {
   "codemirror_mode": {
    "name": "ipython",
    "version": 3
   },
   "file_extension": ".py",
   "mimetype": "text/x-python",
   "name": "python",
   "nbconvert_exporter": "python",
   "pygments_lexer": "ipython3",
   "version": "3.12.4"
  }
 },
 "nbformat": 4,
 "nbformat_minor": 5
}
