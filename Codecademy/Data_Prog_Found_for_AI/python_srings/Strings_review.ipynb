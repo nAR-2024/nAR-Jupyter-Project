{
 "cells": [
  {
   "cell_type": "code",
   "execution_count": null,
   "id": "16055884-e1d3-48f7-9293-0d0134ec32b2",
   "metadata": {},
   "outputs": [],
   "source": [
    "Review\n",
    " \n",
    "Great work! I hope you are now starting to see the potential of \n",
    " \n",
    "strings\n",
    "\n",
    "and how they can be used to solve a huge variety of problems.\n",
    "\n",
    "In this lesson you learned:\n",
    "\n",
    "A string is a list of characters. A character can be selected from a string using its index string_name[index]. \n",
    "These indices start at 0.  \n",
    "\n",
    "A ‘slice’ can be selected from a string. These can be between two indices or can be open-ended, selecting \n",
    "all of the string from a point.\n",
    "\n",
    "Strings can be concatenated to make larger strings.\n",
    " \n",
    "len()\n",
    "    \n",
    "can be used to determine the number of characters in a string.\n",
    "Strings can be iterated through using for loops Iterating through strings opens up a huge potential  \n",
    "for applications, especially when combined with conditional statements.\n",
    "\n",
    "Let’s put your new skills to the test!\n",
    "\n",
    " "
   ]
  },
  {
   "cell_type": "code",
   "execution_count": null,
   "id": "fe6225f2-39d3-4564-8904-297d8da593f5",
   "metadata": {},
   "outputs": [],
   "source": [
    "Instructions\n",
    " \n",
    "1. Copeland’s Corporate Company has finalized what they want their username and temporary password creation to \n",
    "be and have enlisted your help, once again, to build the function to generate them. \n",
    "In this exercise, you will create two functions, username_generator and password_generator.\n",
    "\n",
    "Let’s start with username_generator. Create a function called username_generator take two inputs, \n",
    "first_name and last_name and returns a user_name. The username should be a slice of the first three \n",
    "letters of their first name and the first four letters of their last name. If their first name is less \n",
    "than three letters or their last name is less than four letters it should use their entire names.\n",
    "\n",
    "For example, if the employee’s name is Abe Simpson the function should generate the username AbeSimp.\n",
    "\n",
    " \n",
    "2. Great work! Now for the temporary password, they want the function to take the input user name and \n",
    "shift all of the letters by one to the right, so the last letter of the username ends up as the first \n",
    "letter and so forth. For example, if the username is AbeSimp, then the temporary password generated should \n",
    "be pAbeSim.\n",
    "\n",
    "Start by defining a function called password_generator that takes one parameter user_name and \n",
    "defines an empty string named password within the function body.\n",
    "\n",
    " \n",
    "3. Inside password_generator, create a for loop that iterates through the indices of user_name by going \n",
    "from 0 to len(user_name).\n",
    "\n",
    "The loop should create the password by shifting all the letters of user_name one to the right. \n",
    "To do so, add the letter at the previous index of user_name to password with each pass of the loop.\n",
    "\n",
    "After the for loop but still within the definition of password_generator, return the password."
   ]
  },
  {
   "cell_type": "code",
   "execution_count": 2,
   "id": "29f16e1d-4082-48df-8256-8ac2dec48615",
   "metadata": {},
   "outputs": [],
   "source": [
    "def username_generator(first_name, last_name):\n",
    "    if len(first_name) < 3:\n",
    "        user_name = first_name\n",
    "    else:\n",
    "        user_name = first_name[0:3]\n",
    "    if len(last_name) < 4:\n",
    "        user_name += last_name\n",
    "    else:\n",
    "        user_name += last_name[0:4]\n",
    "    return user_name\n",
    "  \n",
    "    \n",
    "def password_generator(user_name):\n",
    "    password = \"\"\n",
    "    for i in range(0, len(user_name)):\n",
    "        password += user_name[i-1]\n",
    "    return password"
   ]
  },
  {
   "cell_type": "code",
   "execution_count": null,
   "id": "a10de207-02ac-459b-826e-38ca1e9a8053",
   "metadata": {},
   "outputs": [],
   "source": []
  }
 ],
 "metadata": {
  "kernelspec": {
   "display_name": "Python 3 (ipykernel)",
   "language": "python",
   "name": "python3"
  },
  "language_info": {
   "codemirror_mode": {
    "name": "ipython",
    "version": 3
   },
   "file_extension": ".py",
   "mimetype": "text/x-python",
   "name": "python",
   "nbconvert_exporter": "python",
   "pygments_lexer": "ipython3",
   "version": "3.12.4"
  }
 },
 "nbformat": 4,
 "nbformat_minor": 5
}
