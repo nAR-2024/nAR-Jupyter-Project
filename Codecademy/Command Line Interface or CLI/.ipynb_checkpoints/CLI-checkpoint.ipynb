{
 "cells": [
  {
   "cell_type": "code",
   "execution_count": null,
   "id": "fd60faa0-39e1-4f96-9450-f3c5d3b15721",
   "metadata": {},
   "outputs": [],
   "source": [
    "### Congratulations! You’ve learned five commands commonly used to navigate the filesystem from the command line. What can we generalize so far?\n",
    "\n",
    "# The command line is a text interface for the computer’s operating system. To access the command line, we use the terminal.\n",
    "#A filesystem organizes a computer’s files and directories into a tree structure. It starts with the root directory. Each parent directory can contain more child directories and files.\n",
    "#From the command line, you can navigate through files and folders on your computer:\n",
    "#pwd outputs the name of the current working directory.\n",
    "\n",
    "#  ls - lists all files and directories in the working directory.\n",
    "#  cd - switches you into the directory you specify.\n",
    "#  mkdir - creates a new directory in the working directory.\n",
    "#  touch - creates a new file inside the working directory.\n",
    "\n",
    "#  You can use helper commands to make navigation easier:\n",
    "#  clear - clears the terminal\n",
    "#  tab autocompletes the name of a file or directory\n",
    "#  ↑ and ↓ allow you to cycle through previous commands\n",
    "###"
   ]
  },
  {
   "cell_type": "code",
   "execution_count": null,
   "id": "ebe3e843-96f5-4b60-8a82-2f984031e250",
   "metadata": {},
   "outputs": [],
   "source": [
    "# The -a is called an option. Options modify the behavior of commands.\n",
    "\n",
    "#In addition to -a, the ls command has several more options. Here are three common ones:\n",
    "\n",
    "# ls -a - lists all contents, including hidden files and directories\n",
    "# ls -l - (a lowercase “L”) lists all contents of a directory in long format, as well as the file permissions\n",
    "# ls -t - orders files and directories by the time they were last modified.\n",
    "\n",
    "\n",
    "$ ls -a\n",
    ".  ..  action  comedy  drama  genres.txt  .preferences\n",
    "$ ls -l\n",
    "total 0\n",
    "drwxr-xr-x 4 ccuser ccuser 172 Dec 19  2022 action\n",
    "drwxr-xr-x 4 ccuser ccuser  77 Nov 28  2022 comedy\n",
    "drwxr-xr-x 4 ccuser ccuser  38 Jul  8  2015 drama\n",
    "-rw------- 1 ccuser ccuser   0 Apr 25  2022 genres.txt\n",
    "$ ls -t\n",
    "action  comedy  genres.txt  drama\n",
    "$ "
   ]
  },
  {
   "cell_type": "code",
   "execution_count": null,
   "id": "9428ce46-b98f-41f3-b05e-3f1b0cb7526b",
   "metadata": {},
   "outputs": [],
   "source": [
    "ls & Combining Options\n",
    "6 min\n",
    "$ ls -l\n",
    "drwxr-xr-x 5  cc  eng  4096 Jun 24 16:51  action\n",
    "drwxr-xr-x 4  cc  eng  4096 Jun 24 16:51  comedy\n",
    "drwxr-xr-x 6  cc  eng  4096 Jun 24 16:51  drama\n",
    "-rw-r--r-- 1  cc  eng     0 Jun 24 16:51  genres.txt\n",
    "\n",
    "The -l (lowercase “L”) option lists files and directories as a table. Here there are four rows, with seven columns separated by spaces. Here’s what each column means:\n",
    "\n",
    "Access rights. These indicate the read, write, and execute permissions on the file or directory allowed to the owner, the group, and all users. You can read more about file permissions.\n",
    "Number of hard links. This represents the number of hard links to the file or directory. This number includes the parent directory link (..) and current directory link (.).\n",
    "The username of the file’s owner. Here the username is cc.\n",
    "The name of the group that owns the file. Here the group name is eng.\n",
    "The size of the file in bytes.\n",
    "The date & time that the file was last modified.\n",
    "The name of the file or directory.\n",
    "In addition to using each option separately, like ls -a or ls -l, multiple options can be used together, like ls -alt. We can group letter options for other commands in the same way.\n",
    "\n",
    "ls -alt lists all contents, including hidden files and directories, in long format, ordered by the date and time they were last modified."
   ]
  },
  {
   "cell_type": "code",
   "execution_count": null,
   "id": "d3e5ebc8-6bf8-4f9e-b680-34ce29db8e4d",
   "metadata": {},
   "outputs": [],
   "source": [
    "Congratulations! You learned to use the \n",
    "Preview: Docs Loading link description\n",
    "bash\n",
    " profile to configure the environment. What can we generalize so far?\n",
    "\n",
    "The environment refers to the preferences and settings of the current user.\n",
    "The nano editor is a command line text editor used to configure the environment.\n",
    ".bash_profile is where environment settings are stored. You can edit this file with nano.\n",
    "Environment variables are variables that can be used across commands and programs and hold information about the environment.\n",
    "\n",
    "export VARIABLE=\"Value\" sets and exports an environment variable.\n",
    "USER is the name of the current user.\n",
    "PS1 is the command prompt.\n",
    "HOME is the home directory. It is usually not customized.\n",
    "PATH returns a colon : separated list of file paths. It is customized in advanced cases.\n",
    "env returns a list of \n",
    "Preview: Docs Environment variables consist of name-value pairs and are set outside of applications, but are accessible to them from the environment in which the applications are run.\n",
    "environment variables\n",
    ". You can redirect the output, using grep to select the variable you want to see."
   ]
  }
 ],
 "metadata": {
  "kernelspec": {
   "display_name": "Python 3 (ipykernel)",
   "language": "python",
   "name": "python3"
  },
  "language_info": {
   "codemirror_mode": {
    "name": "ipython",
    "version": 3
   },
   "file_extension": ".py",
   "mimetype": "text/x-python",
   "name": "python",
   "nbconvert_exporter": "python",
   "pygments_lexer": "ipython3",
   "version": "3.12.4"
  }
 },
 "nbformat": 4,
 "nbformat_minor": 5
}
