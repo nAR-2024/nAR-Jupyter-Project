{
 "cells": [
  {
   "cell_type": "code",
   "execution_count": 68,
   "id": "e35ad4ac-875a-4bd3-a1e2-c5ef37a19b9d",
   "metadata": {},
   "outputs": [
    {
     "name": "stdout",
     "output_type": "stream",
     "text": [
      "tails\n",
      "2\n",
      "6 10 King 2 5\n"
     ]
    }
   ],
   "source": [
    "# random \\ import \\ random.choice(seq) \\ \n",
    "# libraries or modules allow for reusability of code\n",
    "# allows your code be used in different applicatiuons\n",
    "# python comes with multiple modules and libraries to access to use\n",
    "\n",
    "# docs.python.org/3/library/random.html\n",
    "\n",
    "#import random # imports everyting in a library, and all its content\n",
    "\n",
    "\n",
    "# from, gives you more specificity\n",
    "\n",
    "# random.choice(seq)\n",
    "from random import choice # the from allows you to select the module and the import tells you the library\n",
    "\n",
    "coin = choice([\"heads\", \"tails\"])\n",
    "dice = choice([\"1\", \"2\", \"3\", \"4\", \"5\", \"6\"])\n",
    "\n",
    "# you could add much more complexity by including hearts, spades, clubs, diamonds,\n",
    "card1 = choice([\"King\", \"Queen\", \"Jack\", \"Ace\", \"10\", \"9\", \"8\", \"7\", \"6\", \"5\", \"4\", \"3\", \"2\"])\n",
    "card2 = choice([\"King\", \"Queen\", \"Jack\", \"Ace\", \"10\", \"9\", \"8\", \"7\", \"6\", \"5\", \"4\", \"3\", \"2\"])\n",
    "card3 = choice([\"King\", \"Queen\", \"Jack\", \"Ace\", \"10\", \"9\", \"8\", \"7\", \"6\", \"5\", \"4\", \"3\", \"2\"])\n",
    "card4 = choice([\"King\", \"Queen\", \"Jack\", \"Ace\", \"10\", \"9\", \"8\", \"7\", \"6\", \"5\", \"4\", \"3\", \"2\"])\n",
    "card5 = choice([\"King\", \"Queen\", \"Jack\", \"Ace\", \"10\", \"9\", \"8\", \"7\", \"6\", \"5\", \"4\", \"3\", \"2\"])\n",
    "\n",
    "print(coin)\n",
    "print(dice)\n",
    "\n",
    "print(card1, card2, card3, card4, card5)\n",
    "\n",
    "# \n",
    "\n"
   ]
  },
  {
   "cell_type": "code",
   "execution_count": 32,
   "id": "eac18f9f-4133-43d7-91a7-52780db90c56",
   "metadata": {},
   "outputs": [
    {
     "data": {
      "text/plain": [
       "'side'"
      ]
     },
     "execution_count": 32,
     "metadata": {},
     "output_type": "execute_result"
    }
   ],
   "source": [
    "import random\n",
    "\n",
    "random.choice([\"heads\", \"tails\", \"side\"])\n",
    "\n"
   ]
  },
  {
   "cell_type": "code",
   "execution_count": 81,
   "id": "e95779a8-0b52-46c6-a90f-d08e7f7396fe",
   "metadata": {},
   "outputs": [
    {
     "name": "stdout",
     "output_type": "stream",
     "text": [
      "896\n"
     ]
    }
   ],
   "source": [
    "# random.randint(a,b) inclusive meaning between the number \"a\" and ending with \"b\"\n",
    "# in this example between 1 and 1000\n",
    "import random\n",
    "\n",
    "number = random.randint(1, 1000)\n",
    "print(number)\n"
   ]
  },
  {
   "cell_type": "code",
   "execution_count": 106,
   "id": "5b234437-9f85-4e8d-bd2a-90c48aecb810",
   "metadata": {},
   "outputs": [
    {
     "ename": "TypeError",
     "evalue": "'NoneType' object is not iterable",
     "output_type": "error",
     "traceback": [
      "\u001b[0;31m---------------------------------------------------------------------------\u001b[0m",
      "\u001b[0;31mTypeError\u001b[0m                                 Traceback (most recent call last)",
      "Cell \u001b[0;32mIn[106], line 9\u001b[0m\n\u001b[1;32m      3\u001b[0m \u001b[38;5;28;01mimport\u001b[39;00m \u001b[38;5;21;01mrandom\u001b[39;00m\n\u001b[1;32m      5\u001b[0m cards \u001b[38;5;241m=\u001b[39m random\u001b[38;5;241m.\u001b[39mshuffle([\u001b[38;5;124m\"\u001b[39m\u001b[38;5;124mjack\u001b[39m\u001b[38;5;124m\"\u001b[39m, \u001b[38;5;124m\"\u001b[39m\u001b[38;5;124mqueen\u001b[39m\u001b[38;5;124m\"\u001b[39m, \u001b[38;5;124m\"\u001b[39m\u001b[38;5;124mking\u001b[39m\u001b[38;5;124m\"\u001b[39m, \u001b[38;5;124m\"\u001b[39m\u001b[38;5;124mace\u001b[39m\u001b[38;5;124m\"\u001b[39m, \u001b[38;5;124m\"\u001b[39m\u001b[38;5;124m10\u001b[39m\u001b[38;5;124m\"\u001b[39m, \u001b[38;5;124m\"\u001b[39m\u001b[38;5;124m9\u001b[39m\u001b[38;5;124m\"\u001b[39m, \u001b[38;5;124m\"\u001b[39m\u001b[38;5;124m8\u001b[39m\u001b[38;5;124m\"\u001b[39m, \u001b[38;5;124m\"\u001b[39m\u001b[38;5;124m7\u001b[39m\u001b[38;5;124m\"\u001b[39m, \u001b[38;5;124m\"\u001b[39m\u001b[38;5;124m6\u001b[39m\u001b[38;5;124m\"\u001b[39m])\n\u001b[0;32m----> 9\u001b[0m \u001b[38;5;28;01mfor\u001b[39;00m card \u001b[38;5;129;01min\u001b[39;00m cards:\n\u001b[1;32m     10\u001b[0m     \u001b[38;5;28mprint\u001b[39m(card)\n",
      "\u001b[0;31mTypeError\u001b[0m: 'NoneType' object is not iterable"
     ]
    }
   ],
   "source": [
    "# random.shuffle(x) \n",
    "\n"
   ]
  },
  {
   "cell_type": "code",
   "execution_count": 114,
   "id": "81b83816-2eb4-46c7-ba21-a3906f075649",
   "metadata": {},
   "outputs": [
    {
     "ename": "IndentationError",
     "evalue": "unexpected indent (971668880.py, line 4)",
     "output_type": "error",
     "traceback": [
      "\u001b[0;36m  Cell \u001b[0;32mIn[114], line 4\u001b[0;36m\u001b[0m\n\u001b[0;31m    print(grade)\u001b[0m\n\u001b[0m    ^\u001b[0m\n\u001b[0;31mIndentationError\u001b[0m\u001b[0;31m:\u001b[0m unexpected indent\n"
     ]
    }
   ],
   "source": [
    "import statistics\n",
    "\n",
    "grade = statistics.mean[90, 100, 34]\n",
    "    print(grade)\n"
   ]
  },
  {
   "cell_type": "code",
   "execution_count": null,
   "id": "a08a0e84-2785-4eb1-9711-c66f7fa83b72",
   "metadata": {},
   "outputs": [],
   "source": []
  }
 ],
 "metadata": {
  "kernelspec": {
   "display_name": "Python 3 (ipykernel)",
   "language": "python",
   "name": "python3"
  },
  "language_info": {
   "codemirror_mode": {
    "name": "ipython",
    "version": 3
   },
   "file_extension": ".py",
   "mimetype": "text/x-python",
   "name": "python",
   "nbconvert_exporter": "python",
   "pygments_lexer": "ipython3",
   "version": "3.12.4"
  }
 },
 "nbformat": 4,
 "nbformat_minor": 5
}
