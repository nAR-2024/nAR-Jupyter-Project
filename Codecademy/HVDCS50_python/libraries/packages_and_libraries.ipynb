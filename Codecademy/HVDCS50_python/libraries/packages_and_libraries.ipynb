{
 "cells": [
  {
   "cell_type": "code",
   "execution_count": 7,
   "id": "72e2e1b8-ce25-4b31-99dd-c424c1cb9937",
   "metadata": {},
   "outputs": [],
   "source": [
    "# is a third party library we can load to add more functionality\n",
    "# pypi.org\n",
    "# allows you to download and install packages\n",
    "\n",
    "import cowsay\n",
    "import sys\n",
    "\n",
    "if len(sys.argv) == 2:\n",
    "    cowsay.cow(\"hello, \" + sys.argv[1])\n",
    "\n",
    "# in the terminal enter \"python say.py Neil\" (what you named the file, and the users name)\n",
    "# using ascii art a cow with my name would be displayed\n",
    "\n",
    "\n",
    "\n"
   ]
  },
  {
   "cell_type": "code",
   "execution_count": null,
   "id": "accf0de2-421b-4716-ac35-56af1f285b78",
   "metadata": {},
   "outputs": [],
   "source": [
    "#  this one displays a t-rex displaying the name\n",
    "\n",
    "import cowsay\n",
    "import sys\n",
    "\n",
    "if len(sys.argv) == 2:\n",
    "    cowsay.trex(\"hello, \" + sys.argv[1])\n",
    "\n",
    "# in the terminal enter \"python say.py Neil\" (what you named the file, and the users name)\n",
    "# using ascii art a t-rex with my name would be displayed"
   ]
  },
  {
   "cell_type": "code",
   "execution_count": 9,
   "id": "d948076f-4c7e-4e5c-abde-1295545804d4",
   "metadata": {},
   "outputs": [
    {
     "ename": "SystemExit",
     "evalue": "",
     "output_type": "error",
     "traceback": [
      "An exception has occurred, use %tb to see the full traceback.\n",
      "\u001b[0;31mSystemExit\u001b[0m\n"
     ]
    },
    {
     "name": "stderr",
     "output_type": "stream",
     "text": [
      "/Users/admin/Desktop/anaconda3/lib/python3.12/site-packages/IPython/core/interactiveshell.py:3585: UserWarning: To exit: use 'exit', 'quit', or Ctrl-D.\n",
      "  warn(\"To exit: use 'exit', 'quit', or Ctrl-D.\", stacklevel=1)\n"
     ]
    }
   ],
   "source": [
    "# API's application programming interface refer to third party services that\n",
    "# we can write code for to talk to, and connects to a browser \n",
    "# requests library allows you to make requests to http or https sites\n",
    "# pypi.org/projects/requests  are the most commonly used packages\n",
    "\n",
    "# to install \"pip install requests\"\n",
    "\n",
    "# apple\n",
    "\n",
    "# code itunes.py\n",
    "\n",
    "import requests\n",
    "import sys\n",
    "\n",
    "# error checking\n",
    "if len(sys.argv) != 2:\n",
    "    sys.exit()\n",
    "\n",
    "#python code acting as a web browwer\n",
    "response = requests.get(\"https://itunes.apple.com/serch?entity=songs&limit=1&term\" + sys.argv[1])\n",
    "print(response.json())\n",
    "\n"
   ]
  },
  {
   "cell_type": "code",
   "execution_count": 11,
   "id": "f2f0470a-495e-4945-bef4-dc135212a800",
   "metadata": {},
   "outputs": [
    {
     "ename": "SystemExit",
     "evalue": "",
     "output_type": "error",
     "traceback": [
      "An exception has occurred, use %tb to see the full traceback.\n",
      "\u001b[0;31mSystemExit\u001b[0m\n"
     ]
    }
   ],
   "source": [
    "# python comes with a special library for JSON that allows you to manipulate json data\n",
    "# docs.python.org/3/library/json.html\n",
    "# code itunes.py\n",
    "\n",
    "\n",
    "import json\n",
    "import requests\n",
    "import sys\n",
    "\n",
    "# error checking\n",
    "if len(sys.argv) != 2:\n",
    "    sys.exit()\n",
    "\n",
    "#python code acting as a web browwer\n",
    "response = requests.get(\"https://itunes.apple.com/serch?entity=songs&limit=1&term\" + sys.argv[1])\n",
    "print(json.dumps(response.json(), indent=2)) \n",
    "\n",
    "# python itunes.py weezer (or any band)"
   ]
  },
  {
   "cell_type": "code",
   "execution_count": 13,
   "id": "9bfeee99-e00c-4c12-9846-8e0f2e1a9851",
   "metadata": {},
   "outputs": [
    {
     "ename": "SystemExit",
     "evalue": "",
     "output_type": "error",
     "traceback": [
      "An exception has occurred, use %tb to see the full traceback.\n",
      "\u001b[0;31mSystemExit\u001b[0m\n"
     ]
    }
   ],
   "source": [
    "# code itunes.py\n",
    "\n",
    "\n",
    "import json\n",
    "import requests\n",
    "import sys\n",
    "\n",
    "# error checking\n",
    "if len(sys.argv) != 2:\n",
    "    sys.exit()\n",
    "\n",
    "#python code acting as a web browwer\n",
    "response = requests.get(\"https://itunes.apple.com/serch?entity=songs&limit=1&term\" + sys.argv[1])\n",
    "print(json.dumps(response.json(), indent=2)) \n",
    "\n",
    "# we saw results and trackName in the itunes identifier\n",
    "o = response.json()\n",
    "for result in o[\"results\"]:\n",
    "    print(result[\"trackName\"])\n",
    "\n",
    "    \n",
    "# python itunes.py weezer (or any band)"
   ]
  },
  {
   "cell_type": "code",
   "execution_count": 19,
   "id": "e0990a79-e48f-41ea-a55c-71997197674a",
   "metadata": {},
   "outputs": [
    {
     "name": "stdout",
     "output_type": "stream",
     "text": [
      "hello, world\n",
      "goodbye, world\n"
     ]
    }
   ],
   "source": [
    "# we have the ability to write our own libraries\n",
    "\n",
    "# code sayings.py\n",
    "def main():\n",
    "    hello(\"world\")\n",
    "    goodbye(\"world\")\n",
    "    \n",
    "def hello(name):\n",
    "    print(f\"hello, {name}\")\n",
    "\n",
    "def goodbye(name):\n",
    "    print(f\"goodbye, {name}\")\n",
    "\n",
    "if __name__ == \"__main__\":\n",
    "    main()\n",
    "\n",
    "\n",
    "\n",
    "# python sayings.py"
   ]
  },
  {
   "cell_type": "code",
   "execution_count": 25,
   "id": "9fcb88b9-8aad-4b93-a0f3-08debafd6f42",
   "metadata": {},
   "outputs": [
    {
     "ename": "ModuleNotFoundError",
     "evalue": "No module named 'sayings'",
     "output_type": "error",
     "traceback": [
      "\u001b[0;31m---------------------------------------------------------------------------\u001b[0m",
      "\u001b[0;31mModuleNotFoundError\u001b[0m                       Traceback (most recent call last)",
      "Cell \u001b[0;32mIn[25], line 5\u001b[0m\n\u001b[1;32m      1\u001b[0m \u001b[38;5;66;03m# code say.py\u001b[39;00m\n\u001b[1;32m      3\u001b[0m \u001b[38;5;28;01mimport\u001b[39;00m \u001b[38;5;21;01msys\u001b[39;00m\n\u001b[0;32m----> 5\u001b[0m \u001b[38;5;28;01mfrom\u001b[39;00m \u001b[38;5;21;01msayings\u001b[39;00m \u001b[38;5;28;01mimport\u001b[39;00m hello \u001b[38;5;66;03m# go find sayings and import the hello function\u001b[39;00m\n\u001b[1;32m      7\u001b[0m \u001b[38;5;28;01mif\u001b[39;00m \u001b[38;5;28mlen\u001b[39m(sys\u001b[38;5;241m.\u001b[39margv) \u001b[38;5;241m==\u001b[39m \u001b[38;5;241m2\u001b[39m:\n\u001b[1;32m      8\u001b[0m     hello(sys\u001b[38;5;241m.\u001b[39margv[\u001b[38;5;241m1\u001b[39m])\n",
      "\u001b[0;31mModuleNotFoundError\u001b[0m: No module named 'sayings'"
     ]
    }
   ],
   "source": [
    "# code say.py\n",
    "\n",
    "import sys\n",
    "\n",
    "from sayings import hello # go find sayings top to bottom, and left to right, and import the hello function\n",
    "\n",
    "if len(sys.argv) == 2:\n",
    "    hello(sys.argv[1])\n",
    "\n"
   ]
  },
  {
   "cell_type": "code",
   "execution_count": null,
   "id": "a221ed33-0ad3-400a-8260-2db43875cb1a",
   "metadata": {},
   "outputs": [],
   "source": []
  }
 ],
 "metadata": {
  "kernelspec": {
   "display_name": "Python 3 (ipykernel)",
   "language": "python",
   "name": "python3"
  },
  "language_info": {
   "codemirror_mode": {
    "name": "ipython",
    "version": 3
   },
   "file_extension": ".py",
   "mimetype": "text/x-python",
   "name": "python",
   "nbconvert_exporter": "python",
   "pygments_lexer": "ipython3",
   "version": "3.12.4"
  }
 },
 "nbformat": 4,
 "nbformat_minor": 5
}
