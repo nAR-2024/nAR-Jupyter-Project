{
 "cells": [
  {
   "cell_type": "code",
   "execution_count": null,
   "id": "564731b6-b47d-4a0e-b318-131f04728dd2",
   "metadata": {},
   "outputs": [],
   "source": [
    "Instantiation\n",
    " \n",
    "A class doesn’t accomplish anything simply by being defined. A class must be instantiated. \n",
    "In other words, we must create an instance of the class, in order to breathe life into the schematic.\n",
    "\n",
    "Instantiating a class looks a lot like calling a function. \n",
    "We would be able to create an instance of our defined CoolClass as follows:\n",
    "\n",
    "\n",
    "\n",
    "cool_instance = CoolClass()\n",
    "\n",
    "\n",
    "\n",
    "Above, we created an object by adding parentheses to the name of the class. \n",
    "We then assigned that new instance to the variable cool_instance for safe-keeping so we can access our instance of CoolClass at a later time."
   ]
  },
  {
   "cell_type": "code",
   "execution_count": null,
   "id": "7c45ecaf-7a9a-4d9e-a1b1-aeb345001f9c",
   "metadata": {},
   "outputs": [],
   "source": [
    "1.\n",
    "In script.py we see our Facade class from last exercise. Make a Facade instance and save it to the variable facade_1."
   ]
  },
  {
   "cell_type": "code",
   "execution_count": null,
   "id": "f2489cdf-b95a-4844-9a38-63786155ae75",
   "metadata": {},
   "outputs": [],
   "source": [
    "class Facade:\n",
    "  pass\n",
    "\n",
    "facade_1=Facade()"
   ]
  }
 ],
 "metadata": {
  "kernelspec": {
   "display_name": "Python 3 (ipykernel)",
   "language": "python",
   "name": "python3"
  },
  "language_info": {
   "codemirror_mode": {
    "name": "ipython",
    "version": 3
   },
   "file_extension": ".py",
   "mimetype": "text/x-python",
   "name": "python",
   "nbconvert_exporter": "python",
   "pygments_lexer": "ipython3",
   "version": "3.12.4"
  }
 },
 "nbformat": 4,
 "nbformat_minor": 5
}
