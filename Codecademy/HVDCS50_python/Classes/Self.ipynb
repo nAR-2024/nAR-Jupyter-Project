{
 "cells": [
  {
   "cell_type": "code",
   "execution_count": null,
   "id": "68f8a31c-c22a-4ab9-a551-ebd14f4935ed",
   "metadata": {},
   "outputs": [],
   "source": [
    "Self\n",
    "\n",
    "Since we can already use dictionaries to store key-value pairs, using objects for that purpose is not really useful. \n",
    "Instance variables are more powerful when you can guarantee a rigidity to the data the object is holding.\n",
    "\n",
    "This convenience is most apparent when the constructor creates the instance variables using the arguments passed into it. \n",
    "If we were creating a search engine and wanted to create a class to hold each search entry, we could do so like this:\n",
    "\n",
    "\n",
    "\n",
    "class SearchEngineEntry:\n",
    "  def __init__(self, url):\n",
    "    self.url = url\n",
    "\n",
    "codecademy = SearchEngineEntry(\"www.codecademy.com\")\n",
    "wikipedia = SearchEngineEntry(\"www.wikipedia.org\")\n",
    "\n",
    "print(codecademy.url)\n",
    "# prints \"www.codecademy.com\"\n",
    "\n",
    "print(wikipedia.url)\n",
    "# prints \"www.wikipedia.org\"\n",
    "\n",
    "\n",
    "\n",
    "In the preceding code sample, we define a SearchEngineEntry class, which contains a constructor with two parameters, self and url. \n",
    "Inside the constructor body, we create an instance variable named self.url and assign it the value of the url parameter that is passed \n",
    "into the constructor.\n",
    "\n",
    "We then create the codecademy instance of SearchEngineEntry by passing the URL as an argument to the constructor. \n",
    "After codecademy is defined, printing codecademy.url shows that the URL has been assigned to the url instance variable of codecademy. \n",
    "Similarly, wikipedia.url holds the value that was passed into the constructor when wikipedia was defined.\n",
    "\n",
    "Since the self keyword refers to the object and not the class being called, we can define a .secure() method on the SearchEngineEntry class that \n",
    "returns the secure link to an entry.\n",
    "\n",
    "class SearchEngineEntry:\n",
    "  secure_prefix = \"https://\"\n",
    "  def __init__(self, url):\n",
    "    self.url = url\n",
    "\n",
    "  def secure(self):\n",
    "    return \"{prefix}{site}\".format(prefix=self.secure_prefix, site=self.url)\n",
    "\n",
    "codecademy = SearchEngineEntry(\"www.codecademy.com\")\n",
    "wikipedia = SearchEngineEntry(\"www.wikipedia.org\")\n",
    "\n",
    "print(codecademy.secure())\n",
    "# prints \"https://www.codecademy.com\"\n",
    "\n",
    "print(wikipedia.secure())\n",
    "# prints \"https://www.wikipedia.org\"\n",
    "\n",
    "Above, we define our .secure() method to take just the one required argument, self. We access both the class variable self.secure_prefix and the instance variable self.url to return a secure URL.\n",
    "\n",
    "This is the strength of writing object-oriented programs. We can write our\n",
    "Preview: Docs Loading link description\n",
    "classes\n",
    " to structure the data that we need and write methods that will interact with that data in a meaningful way.\n",
    "\n"
   ]
  },
  {
   "cell_type": "code",
   "execution_count": 1,
   "id": "bc4ff67f-4c7b-4e9e-a2c0-817e231ce40e",
   "metadata": {},
   "outputs": [
    {
     "name": "stdout",
     "output_type": "stream",
     "text": [
      "www.codecademy.com\n",
      "www.wikipedia.org\n"
     ]
    }
   ],
   "source": [
    "class SearchEngineEntry:\n",
    "  def __init__(self, url):\n",
    "    self.url = url\n",
    "\n",
    "codecademy = SearchEngineEntry(\"www.codecademy.com\")\n",
    "wikipedia = SearchEngineEntry(\"www.wikipedia.org\")\n",
    "\n",
    "print(codecademy.url)\n",
    "# prints \"www.codecademy.com\"\n",
    "\n",
    "print(wikipedia.url)\n",
    "# prints \"www.wikipedia.org\""
   ]
  },
  {
   "cell_type": "code",
   "execution_count": null,
   "id": "c0c1cd8f-dd0d-4c32-8038-7a9c3112df21",
   "metadata": {},
   "outputs": [],
   "source": [
    "Instructions\n",
    " \n",
    "1. In script.py you’ll find our familiar friend, the Circle class.\n",
    "\n",
    "Even though we usually know the diameter beforehand, what we need for most calculations is the radius.\n",
    "\n",
    "In Circle‘s constructor, set the instance variable self.radius to equal half the diameter that gets passed in.\n",
    " \n",
    "2. Define a new method .circumference() for your circle object that takes only one argument, self, and returns the circumference of a circle with the given radius by this formula:\n",
    "\n",
    "circumference = 2 * pi * radius\n",
    "\n",
    " \n",
    "3. Define three Circles with three different diameters.\n",
    "\n",
    "A medium pizza, medium_pizza, that is 12 inches across.\n",
    "Your teaching table, teaching_table, which is 36 inches across.\n",
    "The Round Room auditorium, round_room, which is 11,460 inches across.\n",
    " \n",
    "4. Print out the circumferences of medium_pizza, teaching_table, and round_room."
   ]
  },
  {
   "cell_type": "code",
   "execution_count": 3,
   "id": "2e4c241c-7423-4994-bf07-d2d24ff932c1",
   "metadata": {},
   "outputs": [
    {
     "name": "stdout",
     "output_type": "stream",
     "text": [
      "Creating circle with diameter 12\n",
      "Creating circle with diameter 36\n",
      "Creating circle with diameter 11460\n",
      "37.68\n",
      "113.04\n",
      "35984.4\n"
     ]
    }
   ],
   "source": [
    "class Circle:\n",
    "  pi = 3.14\n",
    "  def __init__(self, diameter):\n",
    "    print(\"Creating circle with diameter {d}\".format(d=diameter))\n",
    "    # Add assignment for self.radius here:\n",
    "    \n",
    "    self.radius = diameter / 2\n",
    "    \n",
    "  def circumference(self):\n",
    "    return 2 * self.pi * self.radius\n",
    "  \n",
    "medium_pizza = Circle(12)\n",
    "teaching_table = Circle(36)\n",
    "round_room = Circle(11460)\n",
    "\n",
    "print(medium_pizza.circumference())\n",
    "print(teaching_table.circumference())\n",
    "print(round_room.circumference())"
   ]
  },
  {
   "cell_type": "code",
   "execution_count": null,
   "id": "be4e7999-5022-4603-a453-f04138ddb681",
   "metadata": {},
   "outputs": [],
   "source": []
  }
 ],
 "metadata": {
  "kernelspec": {
   "display_name": "Python 3 (ipykernel)",
   "language": "python",
   "name": "python3"
  },
  "language_info": {
   "codemirror_mode": {
    "name": "ipython",
    "version": 3
   },
   "file_extension": ".py",
   "mimetype": "text/x-python",
   "name": "python",
   "nbconvert_exporter": "python",
   "pygments_lexer": "ipython3",
   "version": "3.12.4"
  }
 },
 "nbformat": 4,
 "nbformat_minor": 5
}
