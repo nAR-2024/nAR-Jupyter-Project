{
 "cells": [
  {
   "cell_type": "code",
   "execution_count": null,
   "id": "8dfd4eff-d216-4d5e-b7db-2ff09b925b45",
   "metadata": {},
   "outputs": [],
   "source": [
    "Methods\n",
    " \n",
    "Methods are functions that are defined as part of a class. The first argument in a method is always the object that is calling the method. \n",
    "Convention recommends that we name this first argument self. Methods always have at least this one argument.\n",
    "\n",
    "We define methods similarly to functions, except that they are indented to be part of the class.\n",
    "\n",
    "\n",
    "class Dog:\n",
    "  dog_time_dilation = 7\n",
    "\n",
    "  def time_explanation(self):\n",
    "    print(\"Dogs experience {} years for every 1 human year.\".format(self.dog_time_dilation))\n",
    "\n",
    "pipi_pitbull = Dog()\n",
    "pipi_pitbull.time_explanation()\n",
    "# Prints \"Dogs experience 7 years for every 1 human year.\"\n",
    "\n",
    "\n",
    "\n",
    "Above we created a Dog class with a .time_explanation() method that takes one argument, self, which refers to the object calling the function. \n",
    "We created a Dog named pipi_pitbull and called the .time_explanation() method on our new object for Pipi.\n",
    "\n",
    "Notice we didn’t pass any arguments when we called .time_explanation(), but were able to refer to self in the function body. \n",
    "When you call a method it automatically passes the object calling the method as the first argument."
   ]
  },
  {
   "cell_type": "code",
   "execution_count": null,
   "id": "199e856c-7a86-4f1e-9642-db98f746b169",
   "metadata": {},
   "outputs": [],
   "source": [
    "1. At Jan van High, the students are constantly calling the school rules into question. Create a Rules class so that we can explain the rules.\n",
    "\n",
    "In order for your code to run, you have to have something in your class — you can’t have a defined class with no body like the following:\n",
    "\n",
    "\n",
    "\n",
    "class exampleClass:\n",
    "\n",
    "\n",
    "\n",
    "For now, make the body of your class pass. This will allow your code to run without error.\n",
    "\n",
    " \n",
    "2. Give Rules a method .washing_brushes() that returns the string\n",
    "\n",
    "\n",
    "\"Point bristles towards the basin while washing your brushes.\"\n",
    "\n",
    "\n",
    "Since we’ve now given this class a method, we can remove the pass that we added in the previous step."
   ]
  },
  {
   "cell_type": "code",
   "execution_count": 1,
   "id": "12502ef9-409f-463f-8a05-39c640d0c6ee",
   "metadata": {},
   "outputs": [],
   "source": [
    "class Rules:\n",
    "  def washing_brushes(self):\n",
    "    return \"Point bristles towards the basin while washing your brushes.\""
   ]
  },
  {
   "cell_type": "code",
   "execution_count": null,
   "id": "41e0f6c9-9522-4a44-a20e-0613d77d44c9",
   "metadata": {},
   "outputs": [],
   "source": []
  }
 ],
 "metadata": {
  "kernelspec": {
   "display_name": "Python 3 (ipykernel)",
   "language": "python",
   "name": "python3"
  },
  "language_info": {
   "codemirror_mode": {
    "name": "ipython",
    "version": 3
   },
   "file_extension": ".py",
   "mimetype": "text/x-python",
   "name": "python",
   "nbconvert_exporter": "python",
   "pygments_lexer": "ipython3",
   "version": "3.12.4"
  }
 },
 "nbformat": 4,
 "nbformat_minor": 5
}
