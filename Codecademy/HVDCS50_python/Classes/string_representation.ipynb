{
 "cells": [
  {
   "cell_type": "code",
   "execution_count": null,
   "id": "0bb5ac16-71d5-436d-a543-ab05767b7da6",
   "metadata": {},
   "outputs": [],
   "source": [
    "String Representation\n",
    " \n",
    "One of the first things we learn as programmers is how to print out information that we need for debugging. \n",
    "Unfortunately, when we print out an object we get a default representation that seems fairly useless.\n",
    "\n",
    "See next block:\n",
    "\n",
    "This default string representation gives us some information, like where the class is defined and our computer’s memory address where \n",
    "this object is stored, but is usually not useful information to have when we are trying to debug our code.\n",
    "\n",
    "We learned about the dunder method \n",
    " \n",
    "__init__(). Now, we will learn another dunder method called  __repr__(). This is a method we can use to tell Python what we want the \n",
    "string representation of the class to be. \n",
    "    \n",
    "__repr__() can only have one parameter, self, and must return a string.\n",
    "\n",
    "In our Employee class above, we have an instance variable called .name that should be unique enough to be useful \n",
    "when we’re printing out an instance of the Employee class.\n",
    "\n",
    "\n",
    "We implemented the __repr__() method and had it return the .name attribute of the object. When we printed the object out it simply printed \n",
    "the .name of the object! Cool!\n"
   ]
  },
  {
   "cell_type": "code",
   "execution_count": 1,
   "id": "450a09d9-6358-4974-bbbe-67dfffeebb5f",
   "metadata": {},
   "outputs": [
    {
     "name": "stdout",
     "output_type": "stream",
     "text": [
      "<__main__.Employee object at 0x14e090140>\n"
     ]
    }
   ],
   "source": [
    "class Employee():\n",
    "  def __init__(self, name):\n",
    "    self.name = name\n",
    "\n",
    "argus = Employee(\"Argus Filch\")\n",
    "print(argus)\n",
    "# prints \"<__main__.Employee object at 0x104e88390>\""
   ]
  },
  {
   "cell_type": "code",
   "execution_count": 3,
   "id": "d4d43d2a-ceb7-493a-a798-f2fd4dbf7112",
   "metadata": {},
   "outputs": [
    {
     "name": "stdout",
     "output_type": "stream",
     "text": [
      "Argus Filch\n"
     ]
    }
   ],
   "source": [
    "class Employee():\n",
    "  def __init__(self, name):\n",
    "    self.name = name\n",
    "\n",
    "  def __repr__(self):\n",
    "    return self.name\n",
    "\n",
    "argus = Employee(\"Argus Filch\")\n",
    "print(argus)\n",
    "# prints \"Argus Filch\""
   ]
  },
  {
   "cell_type": "code",
   "execution_count": null,
   "id": "a4cc32ed-db29-4ece-a534-ef4817f5ab9c",
   "metadata": {},
   "outputs": [],
   "source": [
    "Instructions\n",
    "Checkpoint 1 Enabled\n",
    "1.\n",
    "Add a __repr__() method to the Circle class that returns\n",
    "\n",
    "Circle with radius {radius}\n",
    "\n",
    "Checkpoint 2 Step instruction is unavailable until previous steps are completed\n",
    "2.\n",
    "Print out medium_pizza, teaching_table, and round_room."
   ]
  },
  {
   "cell_type": "code",
   "execution_count": 5,
   "id": "653b1c3a-11b2-4099-bf1e-bb9ec6a0cea3",
   "metadata": {},
   "outputs": [
    {
     "name": "stdout",
     "output_type": "stream",
     "text": [
      "Circle with radius 6.0\n",
      "Circle with radius 18.0\n",
      "Circle with radius 5730.0\n"
     ]
    }
   ],
   "source": [
    "class Circle:\n",
    "  pi = 3.14\n",
    "  \n",
    "  def __init__(self, diameter):\n",
    "    self.radius = diameter / 2\n",
    "  \n",
    "  def area(self):\n",
    "    return self.pi * self.radius ** 2\n",
    "  \n",
    "  def circumference(self):\n",
    "    return self.pi * 2 * self.radius\n",
    "  \n",
    "  def __repr__(self):\n",
    "    return \"Circle with radius {radius}\".format(radius=self.radius)\n",
    "  \n",
    "  \n",
    "medium_pizza = Circle(12)\n",
    "teaching_table = Circle(36)\n",
    "round_room = Circle(11460)\n",
    "\n",
    "print(medium_pizza)\n",
    "print(teaching_table)\n",
    "print(round_room)"
   ]
  },
  {
   "cell_type": "code",
   "execution_count": null,
   "id": "fa30e3e9-9f50-4621-aabd-ace6a187c79e",
   "metadata": {},
   "outputs": [],
   "source": [
    "1.\n",
    "Define a class named Student that will be our data model at Jan van Eyck High School and Conservatory.\n",
    "\n",
    "Add a constructor for Student. Have the constructor take in two parameters: a name and a year. Save those two as attributes .name and .year.\n",
    "\n",
    " \n",
    "2. Create three instances of the Student class:\n",
    "\n",
    "Roger van der Weyden, year 10\n",
    "Sandro Botticelli, year 12\n",
    "Pieter Bruegel the Elder, year 8\n",
    "Save them into the variables roger, sandro, and pieter.\n",
    "\n",
    " \n",
    "3. Create a Grade class, with .minimum_passing as an attribute set to 65.\n",
    "\n",
    " \n",
    "4. Give Grade a constructor. Take in a parameter score and assign it to self.score.\n",
    "\n",
    " \n",
    "5. In the body of the constructor for Student, declare self.grades as an empty list.\n",
    "\n",
    " \n",
    "6. Add an .add_grade() method to Student that takes a parameter, grade.\n",
    "\n",
    ".add_grade() should verify that grade is of type Grade and if so, add it to the Student‘s .grades.\n",
    "\n",
    "If grade isn’t an instance of Grade then .add_grade() should do nothing.\n",
    "\n",
    " \n",
    "7. Create a new Grade with a score of 100 and add it to pieter‘s .grades attribute using .add_grade().\n",
    "\n",
    " \n",
    "8. Great job! You’ve created two classes and defined their interactions. This is object-oriented programming! From here you could:\n",
    "\n",
    "Write a Grade method .is_passing() that returns whether a Grade has a passing .score.\n",
    "Write a Student method .get_average() that returns the student’s average score.\n",
    "Add an instance variable to Student that is a dictionary called .attendance, with dates as keys and booleans as values that indicate whether the student attended school that day.\n",
    "Write your own classes to do whatever logic you want!"
   ]
  },
  {
   "cell_type": "code",
   "execution_count": 7,
   "id": "e5657780-4e9a-476d-9716-cab5f7d4d785",
   "metadata": {},
   "outputs": [],
   "source": [
    "class Student:\n",
    "  def __init__(self, name, year):\n",
    "    self.name = name\n",
    "    self.year = year\n",
    "    self.grades = []\n",
    "  \n",
    "  def add_grade(self, grade):\n",
    "    if type(grade) is Grade:\n",
    "      self.grades.append(grade)      \n",
    "\n",
    "class Grade:\n",
    "  minimum_passing = 65\n",
    "  \n",
    "  def __init__(self, score):\n",
    "    self.score = score\n",
    "    \n",
    "roger = Student(\"Roger van der Weyden\", 10)\n",
    "sandro = Student(\"Sandro Botticelli\", 12)\n",
    "pieter = Student(\"Pieter Bruegel the Elder\", 8)\n",
    "pieter.add_grade(Grade(100))"
   ]
  },
  {
   "cell_type": "code",
   "execution_count": null,
   "id": "98c84a75-3268-4679-a5b8-efdb1535ecb4",
   "metadata": {
    "editable": true,
    "slideshow": {
     "slide_type": ""
    },
    "tags": []
   },
   "outputs": [],
   "source": []
  }
 ],
 "metadata": {
  "kernelspec": {
   "display_name": "Python 3 (ipykernel)",
   "language": "python",
   "name": "python3"
  },
  "language_info": {
   "codemirror_mode": {
    "name": "ipython",
    "version": 3
   },
   "file_extension": ".py",
   "mimetype": "text/x-python",
   "name": "python",
   "nbconvert_exporter": "python",
   "pygments_lexer": "ipython3",
   "version": "3.12.4"
  }
 },
 "nbformat": 4,
 "nbformat_minor": 5
}
