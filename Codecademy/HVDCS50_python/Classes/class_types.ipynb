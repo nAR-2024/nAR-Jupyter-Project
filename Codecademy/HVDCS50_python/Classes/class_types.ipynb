{
 "cells": [
  {
   "cell_type": "code",
   "execution_count": null,
   "id": "371148d6-8dd8-4493-bb99-b38809c2e25c",
   "metadata": {},
   "outputs": [],
   "source": [
    "Types\n",
    "\n",
    "Python equips us with many different ways to store data. A float is a different kind of number from an int, and we store different data in a list than we do in a dict. These are known as different types. We can check the type of a Python variable using the \n",
    "type()  function.\n",
    "\n",
    "a_string = \"Cool String\"\n",
    "an_int = 12\n",
    "\n",
    "print(type(a_string))\n",
    "# prints \"<class 'str'>\"\n",
    "\n",
    "print(type(an_int))\n",
    "# prints \"<class 'int'>\"\n",
    "\n",
    "Above, we defined two variables, and checked the type of these two variables. A variable’s type determines what you can do with it and how you \n",
    "can use it. You can’t .get() something from an integer, just as you can’t add two A dictionary is a data set of key-value pairs.\n",
    "dictionaries together using +. This is because those operations are defined at the type level."
   ]
  },
  {
   "cell_type": "code",
   "execution_count": 2,
   "id": "29d70e68-7c5c-49ce-9fda-704eb660146a",
   "metadata": {},
   "outputs": [
    {
     "name": "stdout",
     "output_type": "stream",
     "text": [
      "<class 'int'>\n",
      "<class 'dict'>\n",
      "<class 'list'>\n"
     ]
    }
   ],
   "source": [
    "print(type(5))\n",
    "my_dict={}\n",
    "print(type(my_dict))\n",
    "my_list=[]\n",
    "print(type(my_list))"
   ]
  },
  {
   "cell_type": "code",
   "execution_count": null,
   "id": "ef323cd9-6cbb-4921-9ae3-fc21e2c2e9a9",
   "metadata": {},
   "outputs": [],
   "source": []
  }
 ],
 "metadata": {
  "kernelspec": {
   "display_name": "Python 3 (ipykernel)",
   "language": "python",
   "name": "python3"
  },
  "language_info": {
   "codemirror_mode": {
    "name": "ipython",
    "version": 3
   },
   "file_extension": ".py",
   "mimetype": "text/x-python",
   "name": "python",
   "nbconvert_exporter": "python",
   "pygments_lexer": "ipython3",
   "version": "3.12.4"
  }
 },
 "nbformat": 4,
 "nbformat_minor": 5
}
