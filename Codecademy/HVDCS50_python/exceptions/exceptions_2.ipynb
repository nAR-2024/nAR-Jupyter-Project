{
 "cells": [
  {
   "cell_type": "code",
   "execution_count": 20,
   "id": "b0c14979-13ef-4fe9-a5d3-7ddc856f9da1",
   "metadata": {},
   "outputs": [
    {
     "name": "stdin",
     "output_type": "stream",
     "text": [
      "whats x?  fg\n",
      "whats x?  rfthjrsdt\n",
      "whats x?  srtnsrt\n",
      "whats x?  23.5\n",
      "whats x?  34\n"
     ]
    },
    {
     "name": "stdout",
     "output_type": "stream",
     "text": [
      "x is 34\n"
     ]
    }
   ],
   "source": [
    "# try \\ except \\ else \\ pass \\ raise\n",
    "# using the while function to make something true until it is not true\n",
    "# the try allows us to use the except to find the problems in the user # input\n",
    "# allows you to look at exceptions\n",
    "\n",
    "\n",
    "def main():\n",
    "    x = get_int(\"whats x? \")\n",
    "    print(f\"x is {x}\")\n",
    "       \n",
    "def get_int(prompt):\n",
    "    while True:\n",
    "        try:\n",
    "            return int(input(prompt))    \n",
    "        except ValueError:\n",
    "            pass # allows us to get the type of input we desire\n",
    "main()"
   ]
  },
  {
   "cell_type": "code",
   "execution_count": null,
   "id": "da9910be-f433-408d-ba0e-25adffa04eaf",
   "metadata": {},
   "outputs": [],
   "source": [
    "# Syntax Error is something wrong with your code that you have to find\n",
    "\n",
    "\n",
    "\n"
   ]
  },
  {
   "cell_type": "code",
   "execution_count": 8,
   "id": "c7d4e6a0-c4f6-4772-9944-170090f67331",
   "metadata": {},
   "outputs": [
    {
     "name": "stdin",
     "output_type": "stream",
     "text": [
      "what's x?  3\n"
     ]
    },
    {
     "name": "stdout",
     "output_type": "stream",
     "text": [
      "x is 3\n"
     ]
    }
   ],
   "source": [
    " # RunTime errors have to be addressed in a defensive nature\n",
    "# The error we see here is a ValueErro that if there is not a integer entered it stalls.  \n",
    "#  testing code we look at corner cases 0, -1, float, letters to test the possibility\n",
    "\n",
    "x =  int(input(\"what's x? \"))\n",
    "print(f\"x is {x}\")\n",
    "\n"
   ]
  },
  {
   "cell_type": "code",
   "execution_count": 12,
   "id": "dce0c272-0555-49bd-be8f-0f78d3705abb",
   "metadata": {},
   "outputs": [
    {
     "name": "stdin",
     "output_type": "stream",
     "text": [
      "what's x?  3\n"
     ]
    },
    {
     "name": "stdout",
     "output_type": "stream",
     "text": [
      "x is 3\n"
     ]
    }
   ],
   "source": [
    "# changing the code to write for error proffing we handle it ahead of time.\n",
    "# Keyword \"try\" can be used to check and \"except\" used\n",
    "# we have anticipated the error for the user\n",
    "\n",
    "try:\n",
    "        x =  int(input(\"what's x? \"))\n",
    "        print(f\"x is {x}\")\n",
    "except ValueError:\n",
    "        print(\"x is not an integer\")\n"
   ]
  },
  {
   "cell_type": "code",
   "execution_count": 14,
   "id": "19e1fca4-6fe7-44ab-8137-ec511bc94c8c",
   "metadata": {},
   "outputs": [
    {
     "name": "stdin",
     "output_type": "stream",
     "text": [
      "what's x?  b\n"
     ]
    },
    {
     "name": "stdout",
     "output_type": "stream",
     "text": [
      "x is not an integer\n",
      "x is 3\n"
     ]
    }
   ],
   "source": [
    "# NameError is not a problem with user input, it is with the code\n",
    "# being aware of scope of variables is important to remember\n",
    "\n",
    "try:\n",
    "        x =  int(input(\"what's x? \"))\n",
    "       \n",
    "except ValueError:\n",
    "        print(\"x is not an integer\")\n",
    "\n",
    "print(f\"x is {x}\")"
   ]
  },
  {
   "cell_type": "code",
   "execution_count": 18,
   "id": "a675cc7d-3903-4dac-bb0e-94b91b381227",
   "metadata": {},
   "outputs": [
    {
     "name": "stdin",
     "output_type": "stream",
     "text": [
      "what's x?  ert\n"
     ]
    },
    {
     "name": "stdout",
     "output_type": "stream",
     "text": [
      "x is not an integer\n"
     ]
    }
   ],
   "source": [
    "# else in the use of exceptions is \n",
    "\n",
    "try:\n",
    "        x =  int(input(\"what's x? \"))\n",
    "       \n",
    "except ValueError:\n",
    "        print(\"x is not an integer\")\n",
    "else:\n",
    "        print(f\"x is {x}\")\n"
   ]
  },
  {
   "cell_type": "code",
   "execution_count": 36,
   "id": "166f529d-c34d-4765-9d50-a565b8c971de",
   "metadata": {},
   "outputs": [
    {
     "name": "stdin",
     "output_type": "stream",
     "text": [
      "whats x?  bdfzfb\n"
     ]
    },
    {
     "name": "stdout",
     "output_type": "stream",
     "text": [
      "x is not an integer: \n"
     ]
    },
    {
     "name": "stdin",
     "output_type": "stream",
     "text": [
      "whats x?  fh dxggxh \n"
     ]
    },
    {
     "name": "stdout",
     "output_type": "stream",
     "text": [
      "x is not an integer: \n"
     ]
    },
    {
     "name": "stdin",
     "output_type": "stream",
     "text": [
      "whats x?  3\n"
     ]
    },
    {
     "name": "stdout",
     "output_type": "stream",
     "text": [
      "x is 3\n"
     ]
    }
   ],
   "source": [
    "# try \\ except \\ else \\ pass \\ raise\n",
    "# using the while function to make something true until it is not true\n",
    "# the try allows us to use the except to find the problems in the user # input\n",
    "# allows you to look at exceptions\n",
    "\n",
    "\n",
    "def main():\n",
    "    x = get_int(\"whats x? \")\n",
    "    print(f\"x is {x}\")\n",
    "       \n",
    "def get_int(prompt):\n",
    "    while True:\n",
    "        try:\n",
    "            return int(input(prompt))    \n",
    "        except ValueError:\n",
    "            print(\"x is not an integer: \")\n",
    "            pass # allows us to get the type of input we desire\n",
    "main()"
   ]
  },
  {
   "cell_type": "markdown",
   "id": "cf5156cb-95b2-4b45-8bcf-13df526fe74e",
   "metadata": {},
   "source": [
    "#### "
   ]
  }
 ],
 "metadata": {
  "kernelspec": {
   "display_name": "Python 3 (ipykernel)",
   "language": "python",
   "name": "python3"
  },
  "language_info": {
   "codemirror_mode": {
    "name": "ipython",
    "version": 3
   },
   "file_extension": ".py",
   "mimetype": "text/x-python",
   "name": "python",
   "nbconvert_exporter": "python",
   "pygments_lexer": "ipython3",
   "version": "3.12.4"
  }
 },
 "nbformat": 4,
 "nbformat_minor": 5
}
