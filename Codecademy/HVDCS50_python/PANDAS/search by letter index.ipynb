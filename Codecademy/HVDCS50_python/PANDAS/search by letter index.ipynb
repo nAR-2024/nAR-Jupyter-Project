{
 "cells": [
  {
   "cell_type": "code",
   "execution_count": null,
   "id": "9835fb0c-0ca0-41d3-b47b-336d163d3356",
   "metadata": {},
   "outputs": [],
   "source": [
    "Ends With A\n",
    "\n",
    "You can get a character of a string string_name by using the syntax string_name[index], \n",
    "where index is the place of character you want to get, starting at 0. The last character in the string is string_name[-1].\n",
    "\n",
    "For example:\n",
    "\n",
    "my_string = \"Whoa! A seesaw\"\n",
    "print(my_string[0])\n",
    "print(my_string[2])\n",
    "print(my_string[-1])\n",
    "\n",
    "would print\n",
    "\n",
    "\"W\"\n",
    "\"o\"\n",
    "\"w\"\n",
    "\n"
   ]
  },
  {
   "cell_type": "code",
   "execution_count": null,
   "id": "70796d53-b2c1-4465-aa25-de5ac7337796",
   "metadata": {},
   "outputs": [],
   "source": [
    "Instructions\n",
    "\n",
    "1.  Create a lambda function named ends_in_a that takes an input str and returns True if the \n",
    "last character in the string is an a. Otherwise, return False."
   ]
  },
  {
   "cell_type": "code",
   "execution_count": 3,
   "id": "2947da37-4c24-44ba-ae5e-c1b55cff82d1",
   "metadata": {},
   "outputs": [
    {
     "name": "stdout",
     "output_type": "stream",
     "text": [
      "True\n",
      "False\n"
     ]
    }
   ],
   "source": [
    "#Write your lambda function here\n",
    "ends_in_a = lambda str: str[-1] == 'a'\n",
    "\n",
    "print(ends_in_a(\"data\"))\n",
    "print(ends_in_a(\"aardvark\"))"
   ]
  }
 ],
 "metadata": {
  "kernelspec": {
   "display_name": "Python 3 (ipykernel)",
   "language": "python",
   "name": "python3"
  },
  "language_info": {
   "codemirror_mode": {
    "name": "ipython",
    "version": 3
   },
   "file_extension": ".py",
   "mimetype": "text/x-python",
   "name": "python",
   "nbconvert_exporter": "python",
   "pygments_lexer": "ipython3",
   "version": "3.12.4"
  }
 },
 "nbformat": 4,
 "nbformat_minor": 5
}
