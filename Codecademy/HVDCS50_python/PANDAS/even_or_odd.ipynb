{
 "cells": [
  {
   "cell_type": "code",
   "execution_count": null,
   "id": "9ff150de-3202-4bb7-b3fe-49dccd16f7e4",
   "metadata": {},
   "outputs": [],
   "source": [
    "Even/Odd\n",
    "\n",
    "In Python, %, or the modulo operator, returns the remainder after division.\n",
    "\n",
    ">>> 4%2 #This divides evenly\n",
    "0\n",
    ">>> 7%3 #7/3 has a remainder of 1\n",
    "1\n",
    ">>> 27%10\n",
    "7\n",
    ">>> 30%10\n",
    "0\n",
    "\n",
    "You can use % 2 to determine if a number is even or odd. If it is even,\n",
    "there should be no remainder (an output of 0). If it is odd, there should be a remainder of 1:\n",
    "\n",
    ">>> 4%2 \n",
    "0\n",
    ">>> 7%2\n",
    "1\n",
    ">>> 9%2\n",
    "1\n",
    ">>> 0%2\n",
    "0\n"
   ]
  },
  {
   "cell_type": "code",
   "execution_count": null,
   "id": "8532c839-319f-4f66-a803-0be1db379d37",
   "metadata": {},
   "outputs": [],
   "source": [
    "Instructions\n",
    "\n",
    "1.  Create a lambda function named even_or_odd that takes an integer named num. If num is even, return \n",
    "\"even\". If num is odd, return \"odd\"."
   ]
  },
  {
   "cell_type": "code",
   "execution_count": 2,
   "id": "76583370-456e-4cc0-821a-4032462b57c3",
   "metadata": {},
   "outputs": [
    {
     "name": "stdout",
     "output_type": "stream",
     "text": [
      "even\n",
      "odd\n"
     ]
    }
   ],
   "source": [
    "#Write your lambda function here\n",
    "even_or_odd = lambda num: \"even\" if num % 2 == 0 else \"odd\"\n",
    "\n",
    "print(even_or_odd(10))\n",
    "print(even_or_odd(5))\n"
   ]
  },
  {
   "cell_type": "code",
   "execution_count": null,
   "id": "9aef235f-35a3-43fe-94ef-b45d8abd1d76",
   "metadata": {},
   "outputs": [],
   "source": []
  }
 ],
 "metadata": {
  "kernelspec": {
   "display_name": "Python 3 (ipykernel)",
   "language": "python",
   "name": "python3"
  },
  "language_info": {
   "codemirror_mode": {
    "name": "ipython",
    "version": 3
   },
   "file_extension": ".py",
   "mimetype": "text/x-python",
   "name": "python",
   "nbconvert_exporter": "python",
   "pygments_lexer": "ipython3",
   "version": "3.12.4"
  }
 },
 "nbformat": 4,
 "nbformat_minor": 5
}
