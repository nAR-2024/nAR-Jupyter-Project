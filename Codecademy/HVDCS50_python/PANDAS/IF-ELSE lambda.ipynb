{
 "cells": [
  {
   "cell_type": "code",
   "execution_count": null,
   "id": "8c8a0e3c-684c-4f78-894b-8082462c814d",
   "metadata": {},
   "outputs": [],
   "source": [
    "Double Or Zero\n",
    "\n",
    "Python makes math easy. To multiply, you can use *:\n",
    "\n",
    ">>> 4*2\n",
    "8\n",
    ">>> 2*3\n",
    "6\n",
    ">>> 0*10\n",
    "0\n",
    ">>> 20*10\n",
    "200\n",
    "\n",
    "As a reminder, to return different output depending on different input, we can use if and else \n",
    "inside our lambda function:\n",
    "\n",
    "add_or_subtract = lambda input_number: input_number - 1 if input_number >= 0 else input_number + 1\n",
    "\n",
    "The function add_or_subtract will return your input minus 1 if your input is positive or 0, and otherwise \n",
    "will return your input plus 1.\n",
    "\n",
    "Here are some examples of how it would work:\n",
    "\n",
    ">>> add_or_subtract(0)\n",
    "-1\n",
    ">>> add_or_subtract(8)\n",
    "7\n",
    ">>> add_or_subtract(-4)\n",
    "-3\n",
    "\n",
    "\n"
   ]
  },
  {
   "cell_type": "code",
   "execution_count": null,
   "id": "38e10d72-b924-43e5-aad3-4517d4309950",
   "metadata": {},
   "outputs": [],
   "source": [
    "Instructions\n",
    "\n",
    "1.  Create a lambda function named double_or_zero that takes an integer named num. \n",
    "If num is greater than 10, return double num. Otherwise, return 0."
   ]
  },
  {
   "cell_type": "code",
   "execution_count": 2,
   "id": "7326bbe9-14d4-4ed0-b4ee-af63dac7b2ad",
   "metadata": {},
   "outputs": [
    {
     "name": "stdout",
     "output_type": "stream",
     "text": [
      "30\n",
      "0\n"
     ]
    }
   ],
   "source": [
    "#Write your lambda function here\n",
    "double_or_zero = lambda num: num * 2 if num > 10 else 0\n",
    "\n",
    "print(double_or_zero(15))\n",
    "print(double_or_zero(5))"
   ]
  },
  {
   "cell_type": "code",
   "execution_count": null,
   "id": "2786aedf-af27-4821-8bef-1685d64c6117",
   "metadata": {},
   "outputs": [],
   "source": []
  }
 ],
 "metadata": {
  "kernelspec": {
   "display_name": "Python 3 (ipykernel)",
   "language": "python",
   "name": "python3"
  },
  "language_info": {
   "codemirror_mode": {
    "name": "ipython",
    "version": 3
   },
   "file_extension": ".py",
   "mimetype": "text/x-python",
   "name": "python",
   "nbconvert_exporter": "python",
   "pygments_lexer": "ipython3",
   "version": "3.12.4"
  }
 },
 "nbformat": 4,
 "nbformat_minor": 5
}
