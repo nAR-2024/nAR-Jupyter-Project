{
 "cells": [
  {
   "cell_type": "code",
   "execution_count": null,
   "id": "dac3b2c4-d76a-4cbe-9780-eaecc88c4547",
   "metadata": {},
   "outputs": [],
   "source": [
    "Movie Rating\n",
    "\n",
    "Comparisons can be done using:\n",
    "\n",
    "<: less than\n",
    "<=: less than or equal to\n",
    ">: greater than\n",
    ">=: greater than or equal to\n",
    "==: equal to\n",
    "!=: not equal to\n",
    "These statements return either True or False:\n",
    "\n",
    ">>> 4 < 4\n",
    "False\n",
    ">>> 4 <= 4\n",
    "True \n",
    ">>> 9 > 2 \n",
    "True\n",
    ">>> 9 >= 2\n",
    "True\n",
    ">>> 1 > 2 \n",
    "False\n",
    "\n",
    "\n",
    "Instructions\n",
    "Checkpoint 1 Enabled\n",
    "1.\n",
    "Create a lambda function named rate_movie that takes a number named rating. \n",
    "If rating is greater than 8.5, return \"I liked this movie\". Otherwise return \"This movie was not very good\"."
   ]
  },
  {
   "cell_type": "code",
   "execution_count": null,
   "id": "77dabf7d-0585-46d2-9e9b-1a103f77c260",
   "metadata": {},
   "outputs": [],
   "source": [
    "\n",
    "1.  Create a lambda function named rate_movie that takes a number named rating. \n",
    "If rating is greater than 8.5, return \"I liked this movie\". Otherwise return \"This movie was not very good\"."
   ]
  },
  {
   "cell_type": "code",
   "execution_count": 1,
   "id": "b014fac3-96dc-42af-be70-a9b0d42f3210",
   "metadata": {},
   "outputs": [
    {
     "name": "stdout",
     "output_type": "stream",
     "text": [
      "I liked this movie\n",
      "This movie was not very good\n"
     ]
    }
   ],
   "source": [
    "#Write your lambda function here\n",
    "rate_movie = lambda rating: \"I liked this movie\" if rating > 8.5 else \"This movie was not very good\"\n",
    "\n",
    "print(rate_movie(9.2))\n",
    "print(rate_movie(7.2))\n"
   ]
  },
  {
   "cell_type": "code",
   "execution_count": null,
   "id": "9030dd49-9dc7-4aad-bf49-0bcbfcfbb86a",
   "metadata": {},
   "outputs": [],
   "source": []
  }
 ],
 "metadata": {
  "kernelspec": {
   "display_name": "Python 3 (ipykernel)",
   "language": "python",
   "name": "python3"
  },
  "language_info": {
   "codemirror_mode": {
    "name": "ipython",
    "version": 3
   },
   "file_extension": ".py",
   "mimetype": "text/x-python",
   "name": "python",
   "nbconvert_exporter": "python",
   "pygments_lexer": "ipython3",
   "version": "3.12.4"
  }
 },
 "nbformat": 4,
 "nbformat_minor": 5
}
