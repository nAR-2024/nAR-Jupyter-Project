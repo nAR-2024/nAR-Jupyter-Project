{
 "cells": [
  {
   "cell_type": "code",
   "execution_count": null,
   "id": "e75b9cd4-9a1b-4859-ae0a-c3d6a08bff26",
   "metadata": {},
   "outputs": [],
   "source": [
    "Multiple of Three\n",
    "2 min\n",
    "In general, using %n will tell you if an integer is a multiple of n. If \n",
    "the result is 0, the integer is a multiple of n (since there is no remainder in the division):\n",
    "\n",
    ">>> 4%4 #4 is a multiple of 4\n",
    "0\n",
    ">>> 12%5 #12 is not a multiple of 5\n",
    "2 \n",
    ">>> 9%2 #9 is not a multiple of 2\n",
    "1\n",
    ">>> 100%10 #100 is a multiple of 10\n",
    "0\n"
   ]
  },
  {
   "cell_type": "code",
   "execution_count": null,
   "id": "214c4d8c-881e-400e-a8fe-7fe48b1071c7",
   "metadata": {},
   "outputs": [],
   "source": [
    "Instructions\n",
    "\n",
    "1.  Create a lambda function named multiple_of_three that takes an integer named \n",
    "num. If num is a multiple of three, return \"multiple of three\". Otherwise, return \"not a multiple\"."
   ]
  },
  {
   "cell_type": "code",
   "execution_count": 1,
   "id": "7b6c2927-39e0-4117-9ba8-6b6ba5b815b0",
   "metadata": {},
   "outputs": [
    {
     "name": "stdout",
     "output_type": "stream",
     "text": [
      "multiple of three\n",
      "not a multiple\n"
     ]
    }
   ],
   "source": [
    "#Write your lambda function here\n",
    "multiple_of_three = lambda num: \"multiple of three\" if num % 3 == 0 else \"not a multiple\"\n",
    "\n",
    "print(multiple_of_three(9))\n",
    "print(multiple_of_three(10))\n"
   ]
  }
 ],
 "metadata": {
  "kernelspec": {
   "display_name": "Python 3 (ipykernel)",
   "language": "python",
   "name": "python3"
  },
  "language_info": {
   "codemirror_mode": {
    "name": "ipython",
    "version": 3
   },
   "file_extension": ".py",
   "mimetype": "text/x-python",
   "name": "python",
   "nbconvert_exporter": "python",
   "pygments_lexer": "ipython3",
   "version": "3.12.4"
  }
 },
 "nbformat": 4,
 "nbformat_minor": 5
}
