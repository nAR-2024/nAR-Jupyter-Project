{
 "cells": [
  {
   "cell_type": "code",
   "execution_count": null,
   "id": "f7b3db62-d2c9-4353-9b8a-e36a8886f950",
   "metadata": {},
   "outputs": [],
   "source": [
    "# creating an empty dictionary\n",
    "\n",
    "my_empty_dictionary = {}"
   ]
  },
  {
   "cell_type": "code",
   "execution_count": 8,
   "id": "56419061-7083-42fe-bc7a-ccd1405bce0f",
   "metadata": {},
   "outputs": [
    {
     "name": "stdout",
     "output_type": "stream",
     "text": [
      "{'zebras': 8, 'monkeys': 12, 'dinosaurs': 0}\n"
     ]
    }
   ],
   "source": [
    "# how to add a key to \"animals_in_zoo = {\"zebras\": 8, \"monkeys\": 12)\"\n",
    "# \n",
    "animals_in_zoo = {\"zebras\": 8, \"monkeys\": 12, \"dinosaurs\": 0}\n",
    "print(animals_in_zoo)"
   ]
  },
  {
   "cell_type": "code",
   "execution_count": 6,
   "id": "7c9216ee-909d-4e2e-8435-8c0dd60d21cb",
   "metadata": {},
   "outputs": [
    {
     "name": "stdout",
     "output_type": "stream",
     "text": [
      "{'teraCoder': 9018293, 'proProgrammer': 119238, 'theLooper': 138475, 'stringQueen': 85739}\n"
     ]
    }
   ],
   "source": [
    "# Adding multiple keys using the .update to append a dictionary\n",
    "\n",
    "user_ids = {\"teraCoder\": 9018293, \"proProgrammer\": 119238}\n",
    "user_ids.update({\"theLooper\": 138475, \"stringQueen\": 85739})\n",
    "print(user_ids)"
   ]
  },
  {
   "cell_type": "code",
   "execution_count": 4,
   "id": "74425038-e19d-4325-b477-82207de11cfa",
   "metadata": {},
   "outputs": [
    {
     "name": "stdout",
     "output_type": "stream",
     "text": [
      "{'Best Picture': 'Moonlight', 'Best Actor': 'Casey Affleck', 'Best Actress': 'Emma Stone', 'Animated Feature': 'Zootopia', 'Supporting Actress': 'Viola Davis'}\n"
     ]
    }
   ],
   "source": [
    "# Overwriting in a list/dict\n",
    "\n",
    "oscar_winners = {\"Best Picture\": \"La La Land\", \"Best Actor\": \"Casey Affleck\", \"Best Actress\": \"Emma Stone\", \"Animated Feature\": \"Zootopia\"}\n",
    "oscar_winners.update({\"Supporting Actress\": \"Viola Davis\"})\n",
    "oscar_winners[\"Best Picture\"] = \"Moonlight\"\n",
    "print(oscar_winners)"
   ]
  },
  {
   "cell_type": "code",
   "execution_count": 2,
   "id": "ecd9c5a6-d4c5-48d1-943a-7a4e4a140286",
   "metadata": {},
   "outputs": [
    {
     "name": "stdout",
     "output_type": "stream",
     "text": [
      "{'espresso': 64, 'chai': 40, 'decaf': 0, 'drip': 120}\n"
     ]
    }
   ],
   "source": [
    "# Dictionary Comprehensions\n",
    "# zipping two lists, combining them into a key:value relationship, and printing\n",
    "\n",
    "drinks = [\"espresso\", \"chai\", \"decaf\", \"drip\"]\n",
    "caffeine = [64, 40, 0, 120]\n",
    "zipped_drinks = zip(drinks, caffeine)\n",
    "drinks_to_caffeine = {key: value for key, value in zipped_drinks}\n",
    "print(drinks_to_caffeine)"
   ]
  },
  {
   "cell_type": "code",
   "execution_count": 2,
   "id": "96091f66-45d2-4b50-91fb-76a4899254bb",
   "metadata": {},
   "outputs": [
    {
     "name": "stdout",
     "output_type": "stream",
     "text": [
      "['Taurus', 'Virgo', 'Capricorn']\n",
      "['Aries', 'Leo', 'Sagittarius']\n"
     ]
    }
   ],
   "source": [
    "\n",
    "# How to identify a key and the values associated this example using a print command\n",
    "\n",
    "zodiac_elements = {\"water\": [\"Cancer\", \"Scorpio\", \"Pisces\"], \"fire\": [\"Aries\", \"Leo\", \"Sagittarius\"], \"earth\": [\"Taurus\", \"Virgo\", \"Capricorn\"], \"air\":[\"Gemini\", \"Libra\", \"Aquarius\"]}\n",
    "print(zodiac_elements[\"earth\"])\n",
    "print(zodiac_elements[\"fire\"])"
   ]
  },
  {
   "cell_type": "code",
   "execution_count": 4,
   "id": "a19e8f3a-78a6-4341-9d13-5ba6162ba4ad",
   "metadata": {},
   "outputs": [
    {
     "name": "stdout",
     "output_type": "stream",
     "text": [
      "Not a Zodiac element\n"
     ]
    }
   ],
   "source": [
    "# Get an Invalid key aKa keyError\n",
    "\n",
    "zodiac_elements = {\"water\": [\"Cancer\", \"Scorpio\", \"Pisces\"], \"fire\": [\"Aries\", \"Leo\", \"Sagittarius\"], \"earth\": [\"Taurus\", \"Virgo\", \"Capricorn\"], \"air\":[\"Gemini\", \"Libra\", \"Aquarius\"]}\n",
    "\n",
    "zodiac_elements[\"energy\"] = \"Not a Zodiac element\"\n",
    "\n",
    "if \"energy\" in zodiac_elements:\n",
    "  print(zodiac_elements[\"energy\"])"
   ]
  },
  {
   "cell_type": "code",
   "execution_count": 16,
   "id": "92a83f2a-c1d4-4f84-89df-aabb487538be",
   "metadata": {},
   "outputs": [
    {
     "name": "stdout",
     "output_type": "stream",
     "text": [
      "100019\n",
      "182921\n",
      "0\n"
     ]
    }
   ],
   "source": [
    "# Safely get information from a key in a dictionary and its values\n",
    "# Dictionaries have a .get() method to search for a value.\n",
    "# If the key you are trying to .get() does not exist, it will return a None by default:\n",
    "\n",
    "user_ids = {\"teraCoder\": 100019, \"pythonGuy\": 182921, \"samTheJavaMaam\": 123112, \"lyleLoop\": 102931, \"keysmithKeith\": 129384}\n",
    "user_ids.get(\"teraCoder\")\n",
    "print(user_ids.get(\"teraCoder\"))\n",
    "print(user_ids.get(\"pythonGuy\"))\n",
    "#You can also specify a value to return if the key doesn’t exist. \n",
    "#For example, we might want to return a number of 0 if our desired \n",
    "#result is not in the dictionary:\n",
    "print(user_ids.get(\"RogueNomad\", 0)) # Prints 0 because not in the list"
   ]
  },
  {
   "cell_type": "code",
   "execution_count": 18,
   "id": "509b2142-0381-4e5b-a383-18b6bc3c6f1d",
   "metadata": {},
   "outputs": [
    {
     "name": "stdout",
     "output_type": "stream",
     "text": [
      "100019\n",
      "100000\n"
     ]
    }
   ],
   "source": [
    "user_ids = {\"teraCoder\": 100019, \"pythonGuy\": 182921, \"samTheJavaMaam\": 123112, \"lyleLoop\": 102931, \"keysmithKeith\": 129384}\n",
    "tc_id = user_ids.get(\"teraCoder\", 100000)\n",
    "print(tc_id)\n",
    "\n",
    "stack_id = user_ids.get(\"superStackSmash\", 100000)\n",
    "print(stack_id)"
   ]
  },
  {
   "cell_type": "code",
   "execution_count": 20,
   "id": "79e9c3cf-25a9-483f-ab10-8cd277626cac",
   "metadata": {},
   "outputs": [
    {
     "name": "stdout",
     "output_type": "stream",
     "text": [
      "{'health potion': 10, 'cake of the cure': 5, 'green elixir': 20, 'strength sandwich': 25}\n",
      "65\n"
     ]
    }
   ],
   "source": [
    "# Sometimes we want to get a key and remove it from the dictionary. Imagine we were running a video game shop, and we have this dictionary mapping a players inventory in comparison to what they add to the health meter:\n",
    "# .pop() works to delete items from a dictionary, when you know the key value\n",
    "\n",
    "available_items = {\"health potion\": 10, \"cake of the cure\": 5, \"green elixir\": 20, \"strength sandwich\": 25, \"stamina grains\": 15, \"power stew\": 30}\n",
    "health_points = 20\n",
    "health_points += available_items.pop(\"stamina grains\", 0)\n",
    "health_points += available_items.pop(\"power stew\", 0)\n",
    "health_points += available_items.pop(\"mystic bread\", 0)\n",
    "#You are designing the video game Big Rock Adventure. We have provided a dictionary of items that are in the player’s inventory which add points to their health meter. In one line, add the corresponding value of the key \"stamina grains\" to the health_points variable and remove the item \"stamina grains\" from the dictionary. If the key does not exist, add 0 to health_points.\n",
    " \n",
    "print(available_items)\n",
    "print(health_points)"
   ]
  },
  {
   "cell_type": "code",
   "execution_count": 24,
   "id": "91ea872d-3996-41bc-8a30-925549bf2917",
   "metadata": {},
   "outputs": [
    {
     "name": "stdout",
     "output_type": "stream",
     "text": [
      "['Grace', 'Jeffrey', 'Sylvia', 'Pedro', 'Martin', 'Dina']\n",
      "Grace\n",
      "Jeffrey\n",
      "Sylvia\n",
      "Pedro\n",
      "Martin\n",
      "Dina\n"
     ]
    }
   ],
   "source": [
    "test_scores = {\"Grace\":[80, 72, 90], \"Jeffrey\":[88, 68, 81], \"Sylvia\":[80, 82, 84], \"Pedro\":[98, 96, 95], \"Martin\":[78, 80, 78], \"Dina\":[64, 60, 75]}\n",
    "\n",
    "# We want to get a roster of the students in the class, without including their grades. We can do this with the built-in \n",
    "# list()  function: which Returns a list from an iterable.\n",
    "\n",
    "print(list(test_scores))\n",
    "\n",
    "# The dict_keys object returned by .keys() is a set of the keys in the dictionary. \n",
    "# You cannot add or remove elements from a dict_keys object, \n",
    "# but it can be used in the place of a list for iteration:\n",
    "\n",
    "for student in test_scores.keys():\n",
    "    print(student)"
   ]
  },
  {
   "cell_type": "code",
   "execution_count": 26,
   "id": "3ddbb0a9-fe64-42fe-b638-2aa8aa11b354",
   "metadata": {},
   "outputs": [
    {
     "name": "stdout",
     "output_type": "stream",
     "text": [
      "dict_keys(['teraCoder', 'pythonGuy', 'samTheJavaMaam', 'lyleLoop', 'keysmithKeith'])\n",
      "dict_keys(['functions', 'syntax', 'control flow', 'loops', 'lists', 'classes', 'dictionaries'])\n"
     ]
    }
   ],
   "source": [
    "user_ids = {\"teraCoder\": 100019, \"pythonGuy\": 182921, \"samTheJavaMaam\": 123112, \"lyleLoop\": 102931, \"keysmithKeith\": 129384}\n",
    "num_exercises = {\"functions\": 10, \"syntax\": 13, \"control flow\": 15, \"loops\": 22, \"lists\": 19, \"classes\": 18, \"dictionaries\": 18}\n",
    "\n",
    "# this code will return all of the keys located in a dictionary\n",
    "\n",
    "users = user_ids.keys()\n",
    "lessons = num_exercises.keys()\n",
    "\n",
    "print(users)\n",
    "print(lessons)"
   ]
  },
  {
   "cell_type": "code",
   "execution_count": 1,
   "id": "ca6c0d71-3e0f-4727-8c8d-20835ff20c1e",
   "metadata": {},
   "outputs": [
    {
     "name": "stdout",
     "output_type": "stream",
     "text": [
      "[80, 72, 90]\n",
      "[88, 68, 81]\n",
      "[80, 82, 84]\n",
      "[98, 96, 95]\n",
      "[78, 80, 78]\n",
      "[64, 60, 75]\n"
     ]
    },
    {
     "data": {
      "text/plain": [
       "[[80, 72, 90],\n",
       " [88, 68, 81],\n",
       " [80, 82, 84],\n",
       " [98, 96, 95],\n",
       " [78, 80, 78],\n",
       " [64, 60, 75]]"
      ]
     },
     "execution_count": 1,
     "metadata": {},
     "output_type": "execute_result"
    }
   ],
   "source": [
    "# how to get to the values of a dictionary\n",
    "\n",
    "test_scores = {\"Grace\":[80, 72, 90], \"Jeffrey\":[88, 68, 81], \"Sylvia\":[80, 82, 84], \"Pedro\":[98, 96, 95], \"Martin\":[78, 80, 78], \"Dina\":[64, 60, 75]}\n",
    "\n",
    "for score_list in test_scores.values():\n",
    " print(score_list)\n",
    "\n",
    "\n",
    "# However, for most purposes, the dict_values object will act the way you want a list to \n",
    "# act.\n",
    "list(test_scores.values())"
   ]
  },
  {
   "cell_type": "code",
   "execution_count": 3,
   "id": "8cc387e9-1217-4aed-af21-b22891c6b4e9",
   "metadata": {},
   "outputs": [
    {
     "name": "stdout",
     "output_type": "stream",
     "text": [
      "10\n",
      "23\n",
      "38\n",
      "60\n",
      "79\n",
      "97\n",
      "115\n"
     ]
    }
   ],
   "source": [
    "num_exercises = {\"functions\": 10, \"syntax\": 13, \"control flow\": 15, \"loops\": 22, \"lists\": 19, \"classes\": 18, \"dictionaries\": 18}\n",
    "\n",
    "\n",
    "# allows you to add the values of the keys, and print\n",
    "\n",
    "total_exercises = 0\n",
    "for exercise in num_exercises.values():\n",
    "  total_exercises += exercise\n",
    "  print(total_exercises)"
   ]
  },
  {
   "cell_type": "code",
   "execution_count": 5,
   "id": "16576af8-9ea7-418a-b055-60efcac926f7",
   "metadata": {},
   "outputs": [
    {
     "name": "stdout",
     "output_type": "stream",
     "text": [
      "Apple has a value of 184 billion dollars. \n",
      "Google has a value of 141.7 billion dollars. \n",
      "Microsoft has a value of 80 billion dollars. \n",
      "Coca-Cola has a value of 69.7 billion dollars. \n",
      "Amazon has a value of 64.8 billion dollars. \n"
     ]
    }
   ],
   "source": [
    "#You can get both the keys and the values with the \n",
    "#Preview: Docs Returns a list of tuples for each key-value pair in a dictionary.\n",
    "# .items()  method. Returns a list of keys for a dictionary.\n",
    "# .keys() and .values() returns a dict_list object. \n",
    "# Each element of the dict_list returned by .items() is a tuple consisting of:\n",
    "# (key, value)\n",
    "\n",
    "biggest_brands = {\"Apple\": 184, \"Google\": 141.7, \"Microsoft\": 80, \"Coca-Cola\": 69.7, \"Amazon\": 64.8}\n",
    "\n",
    "for company, value in biggest_brands.items():\n",
    " print(company + \" has a value of \" + str(value) + \" billion dollars. \")"
   ]
  },
  {
   "cell_type": "code",
   "execution_count": 7,
   "id": "34c1166b-900b-4d40-91d2-aebc1f24b228",
   "metadata": {},
   "outputs": [
    {
     "name": "stdout",
     "output_type": "stream",
     "text": [
      "Women make up 28 percent of CEO\n",
      "Women make up 9 percent of Engineering Manager\n",
      "Women make up 58 percent of Pharmacist\n",
      "Women make up 40 percent of Physician\n",
      "Women make up 37 percent of Lawyer\n",
      "Women make up 9 percent of Aerospace Engineer\n"
     ]
    }
   ],
   "source": [
    "pct_women_in_occupation = {\"CEO\": 28, \"Engineering Manager\": 9, \"Pharmacist\": 58, \"Physician\": 40, \"Lawyer\": 37, \"Aerospace Engineer\": 9}\n",
    "\n",
    "for position, percentage in pct_women_in_occupation.items():\n",
    "  print(\"Women make up \" + str(percentage) + \" percent of \" + position)"
   ]
  },
  {
   "cell_type": "code",
   "execution_count": 9,
   "id": "5ad0f667-bb36-42a9-a96e-0f273dde7fd0",
   "metadata": {},
   "outputs": [
    {
     "name": "stdout",
     "output_type": "stream",
     "text": [
      "Your past is the Death card. \n",
      "Your present is the The Fool card. \n",
      "Your future is the Wheel of Fortune card. \n"
     ]
    }
   ],
   "source": [
    "tarot = { 1:\t\"The Magician\", 2:\t\"The High Priestess\", 3:\t\"The Empress\", 4:\t\"The Emperor\", 5:\t\"The Hierophant\", 6:\t\"The Lovers\", 7:\t\"The Chariot\", 8:\t\"Strength\", 9:\t\"The Hermit\", 10:\t\"Wheel of Fortune\", 11:\t\"Justice\", 12:\t\"The Hanged Man\", 13:\t\"Death\", 14:\t\"Temperance\", 15:\t\"The Devil\", 16:\t\"The Tower\", 17:\t\"The Star\", 18:\t\"The Moon\", 19:\t\"The Sun\", 20:\t\"Judgement\", 21:\t\"The World\", 22: \"The Fool\"}\n",
    "\n",
    "spread = {}\n",
    "spread[\"past\"]=tarot.pop(13)\n",
    "spread[\"present\"]=tarot.pop(22)\n",
    "spread[\"future\"]=tarot.pop(10)\n",
    "\n",
    "for key, value in spread.items():\n",
    "  print(\"Your \"+key+\" is the \"+value+\" card. \")"
   ]
  },
  {
   "cell_type": "code",
   "execution_count": null,
   "id": "bedf3d77-f438-4e95-aa6a-14b3e5a1b4d7",
   "metadata": {},
   "outputs": [],
   "source": []
  }
 ],
 "metadata": {
  "kernelspec": {
   "display_name": "Python 3 (ipykernel)",
   "language": "python",
   "name": "python3"
  },
  "language_info": {
   "codemirror_mode": {
    "name": "ipython",
    "version": 3
   },
   "file_extension": ".py",
   "mimetype": "text/x-python",
   "name": "python",
   "nbconvert_exporter": "python",
   "pygments_lexer": "ipython3",
   "version": "3.12.4"
  }
 },
 "nbformat": 4,
 "nbformat_minor": 5
}
