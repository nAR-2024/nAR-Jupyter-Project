{
 "cells": [
  {
   "cell_type": "code",
   "execution_count": null,
   "id": "45397e43-9dce-41ce-a2b2-1ab7aba85407",
   "metadata": {},
   "outputs": [],
   "source": [
    "# module are the constructs of libraries.  \n",
    "#They allow us to use code over and\n",
    "# random | import | random.choice(seq) |\n",
    "# docs.python.org/3/library/random.html"
   ]
  },
  {
   "cell_type": "code",
   "execution_count": 20,
   "id": "0c800081-9ab4-4a96-9791-7e85bdf0a3db",
   "metadata": {},
   "outputs": [
    {
     "name": "stdout",
     "output_type": "stream",
     "text": [
      "tails\n"
     ]
    }
   ],
   "source": [
    "#This simulates a coin toss \n",
    "#I am importing everything in the random module\n",
    "# Using import to select random\n",
    "\n",
    "import random\n",
    "coin = random.choice([\"heads\", \"tails\"])\n",
    "print(coin)\n"
   ]
  },
  {
   "cell_type": "code",
   "execution_count": null,
   "id": "594d04ed-2015-4693-ab71-cf5744df6aa8",
   "metadata": {},
   "outputs": [],
   "source": [
    "# from allows me to import a part of random, and using the import allows\n",
    "# me to select the choice module in random.\n",
    "\n",
    "#from random import choice"
   ]
  },
  {
   "cell_type": "code",
   "execution_count": 26,
   "id": "f09cc697-052a-461b-b856-8560cf2b3f90",
   "metadata": {},
   "outputs": [
    {
     "name": "stdout",
     "output_type": "stream",
     "text": [
      "10\n"
     ]
    }
   ],
   "source": [
    "# Gives you a random int between the two (a, b)\n",
    "# this is a random number generator\n",
    "\n",
    "import random\n",
    "\n",
    "number = random.randint(1, 10)\n",
    "print(number)\n"
   ]
  },
  {
   "cell_type": "code",
   "execution_count": 40,
   "id": "b0fba9bf-7913-42d8-acf7-6ebd6db2e71b",
   "metadata": {},
   "outputs": [
    {
     "name": "stdout",
     "output_type": "stream",
     "text": [
      "Queen\n",
      "King\n",
      "Jack\n"
     ]
    }
   ],
   "source": [
    "# This allows you to shuffle things in a list to create a random behavior \n",
    "#\n",
    "\n",
    "import random\n",
    "\n",
    "cards = [\"Jack\", \"Queen\", \"King\"]\n",
    "# this uses the random module and specifically the shuffle\n",
    "random.shuffle(cards)\n",
    "# create a loop to go through the cards list and shuffle and display\n",
    "for card in cards:\n",
    "        print(card)"
   ]
  },
  {
   "cell_type": "code",
   "execution_count": 44,
   "id": "cb0e5b04-4380-4ee5-929d-37614269d37e",
   "metadata": {},
   "outputs": [
    {
     "name": "stdout",
     "output_type": "stream",
     "text": [
      "95\n"
     ]
    }
   ],
   "source": [
    "# Statistics library in Python\n",
    "# docs.python.org/3/library/statistics.html\n",
    "# means, medians, modes\n",
    "\n",
    "# AVERAGE\n",
    "\n",
    "import statistics\n",
    "\n",
    "print(statistics.mean([100, 90]))\n"
   ]
  },
  {
   "cell_type": "code",
   "execution_count": null,
   "id": "48ca74ae-a62e-4e09-9d5f-b0dab39cc938",
   "metadata": {},
   "outputs": [],
   "source": []
  }
 ],
 "metadata": {
  "kernelspec": {
   "display_name": "Python 3 (ipykernel)",
   "language": "python",
   "name": "python3"
  },
  "language_info": {
   "codemirror_mode": {
    "name": "ipython",
    "version": 3
   },
   "file_extension": ".py",
   "mimetype": "text/x-python",
   "name": "python",
   "nbconvert_exporter": "python",
   "pygments_lexer": "ipython3",
   "version": "3.12.4"
  }
 },
 "nbformat": 4,
 "nbformat_minor": 5
}
