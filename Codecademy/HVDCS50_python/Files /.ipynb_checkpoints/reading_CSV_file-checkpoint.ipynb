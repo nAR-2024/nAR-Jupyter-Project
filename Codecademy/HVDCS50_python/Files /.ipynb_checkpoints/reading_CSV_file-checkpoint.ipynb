{
 "cells": [
  {
   "cell_type": "code",
   "execution_count": null,
   "id": "9f1e9dec-f84c-400a-8e85-43311f66954f",
   "metadata": {},
   "outputs": [],
   "source": [
    "Reading a CSV File\n",
    "\n",
    "Recall our CSV file from our last exercise:\n",
    "\n",
    "users.csv\n",
    "\n",
    "Name,Username,Email\n",
    "Roger Smith,rsmith,wigginsryan@yahoo.com\n",
    "Michelle Beck,mlbeck,hcosta@hotmail.com\n",
    "Ashley Barker,a_bark_x,a_bark_x@turner.com\n",
    "Lynn Gonzales,goodmanjames,lynniegonz@hotmail.com\n",
    "\n",
    "Even though we can read these lines as text without a problem, there are ways to access the data in a format better suited \n",
    "for programming purposes. In Python we can convert that data into a dictionary using the csv library’s DictReader object. \n",
    "Here’s how we’d create a list of the email addresses of all of the users in the above table:\n",
    "\n",
    "\n",
    "\n",
    "import csv\n",
    "\n",
    "list_of_email_addresses = []\n",
    "with open('users.csv', newline='') as users_csv:\n",
    "  user_reader = csv.DictReader(users_csv)\n",
    "  for row in user_reader:\n",
    "    list_of_email_addresses.append(row['Email'])\n",
    "\n",
    "\n",
    "\n",
    "In the above code we first import our csv library, which gives us the tools to parse our CSV file. We then create the \n",
    "empty list list_of_email_addresses which we’ll later populate with the email addresses from our CSV. \n",
    "Then we open the users.csv file with the temporary variable users_csv.\n",
    "\n",
    "We pass the additional keyword argument newline='' to the file opening open() function so that we don’t accidentally mistake\n",
    "a line break in one of our data fields as a new row in our CSV (read more about this in the Python documentation).\n",
    "\n",
    "After opening our new CSV file we use csv.DictReader(users_csv) which converts the lines of our CSV file to Python \n",
    "Preview: Docs Loading link description\n",
    "dictionaries\n",
    " which we can use access methods for. The keys of the dictionary are, by default, the entries in the first line of our CSV file. Since our CSV’s first line calls the third field in our CSV “Email“, we can use that as the key in each row of our DictReader.\n",
    "\n",
    "When we iterate through the rows of our user_reader object, we access all of the rows in our CSV as dictionaries (except for the first row, which we used to label the keys of our dictionary). By accessing the 'Email' key of each of these rows we can grab the email address in that row and append it to our list_of_email_addresses.\n",
    "\n",
    "Instructions\n",
    "Checkpoint 1 Passed\n",
    "1.  Import the csv module.\n",
    "2.  Open up the file cool_csv.csv in the temporary variable cool_csv_file.\n",
    "3.  Using csv.DictReader read the contents of cool_csv_file into a new variable called cool_csv_dict.\n",
    "4.  cool_csv.csv includes a cool fact about every person in the CSV.\n",
    "5.  For each row in cool_csv_dict print out that row’s \"Cool Fact\"."
   ]
  },
  {
   "cell_type": "code",
   "execution_count": 2,
   "id": "c3727d4e-f288-4596-bc4b-e77ac743c448",
   "metadata": {},
   "outputs": [
    {
     "ename": "FileNotFoundError",
     "evalue": "[Errno 2] No such file or directory: 'cool_csv.csv'",
     "output_type": "error",
     "traceback": [
      "\u001b[0;31m---------------------------------------------------------------------------\u001b[0m",
      "\u001b[0;31mFileNotFoundError\u001b[0m                         Traceback (most recent call last)",
      "Cell \u001b[0;32mIn[2], line 3\u001b[0m\n\u001b[1;32m      1\u001b[0m \u001b[38;5;28;01mimport\u001b[39;00m \u001b[38;5;21;01mcsv\u001b[39;00m\n\u001b[0;32m----> 3\u001b[0m \u001b[38;5;28;01mwith\u001b[39;00m \u001b[38;5;28mopen\u001b[39m(\u001b[38;5;124m'\u001b[39m\u001b[38;5;124mcool_csv.csv\u001b[39m\u001b[38;5;124m'\u001b[39m) \u001b[38;5;28;01mas\u001b[39;00m cool_csv_file:\n\u001b[1;32m      4\u001b[0m   cool_csv_dict \u001b[38;5;241m=\u001b[39m csv\u001b[38;5;241m.\u001b[39mDictReader(cool_csv_file)\n\u001b[1;32m      5\u001b[0m   \u001b[38;5;28;01mfor\u001b[39;00m row \u001b[38;5;129;01min\u001b[39;00m cool_csv_dict:\n",
      "File \u001b[0;32m~/Desktop/anaconda3/lib/python3.12/site-packages/IPython/core/interactiveshell.py:324\u001b[0m, in \u001b[0;36m_modified_open\u001b[0;34m(file, *args, **kwargs)\u001b[0m\n\u001b[1;32m    317\u001b[0m \u001b[38;5;28;01mif\u001b[39;00m file \u001b[38;5;129;01min\u001b[39;00m {\u001b[38;5;241m0\u001b[39m, \u001b[38;5;241m1\u001b[39m, \u001b[38;5;241m2\u001b[39m}:\n\u001b[1;32m    318\u001b[0m     \u001b[38;5;28;01mraise\u001b[39;00m \u001b[38;5;167;01mValueError\u001b[39;00m(\n\u001b[1;32m    319\u001b[0m         \u001b[38;5;124mf\u001b[39m\u001b[38;5;124m\"\u001b[39m\u001b[38;5;124mIPython won\u001b[39m\u001b[38;5;124m'\u001b[39m\u001b[38;5;124mt let you open fd=\u001b[39m\u001b[38;5;132;01m{\u001b[39;00mfile\u001b[38;5;132;01m}\u001b[39;00m\u001b[38;5;124m by default \u001b[39m\u001b[38;5;124m\"\u001b[39m\n\u001b[1;32m    320\u001b[0m         \u001b[38;5;124m\"\u001b[39m\u001b[38;5;124mas it is likely to crash IPython. If you know what you are doing, \u001b[39m\u001b[38;5;124m\"\u001b[39m\n\u001b[1;32m    321\u001b[0m         \u001b[38;5;124m\"\u001b[39m\u001b[38;5;124myou can use builtins\u001b[39m\u001b[38;5;124m'\u001b[39m\u001b[38;5;124m open.\u001b[39m\u001b[38;5;124m\"\u001b[39m\n\u001b[1;32m    322\u001b[0m     )\n\u001b[0;32m--> 324\u001b[0m \u001b[38;5;28;01mreturn\u001b[39;00m io_open(file, \u001b[38;5;241m*\u001b[39margs, \u001b[38;5;241m*\u001b[39m\u001b[38;5;241m*\u001b[39mkwargs)\n",
      "\u001b[0;31mFileNotFoundError\u001b[0m: [Errno 2] No such file or directory: 'cool_csv.csv'"
     ]
    }
   ],
   "source": [
    "import csv\n",
    "\n",
    "with open('cool_csv.csv') as cool_csv_file:\n",
    "  cool_csv_dict = csv.DictReader(cool_csv_file)\n",
    "  for row in cool_csv_dict:\n",
    "    print(row['Cool Fact'])"
   ]
  },
  {
   "cell_type": "code",
   "execution_count": null,
   "id": "d8d01fdd-d74e-499d-9348-644a7b99c3fe",
   "metadata": {},
   "outputs": [],
   "source": []
  }
 ],
 "metadata": {
  "kernelspec": {
   "display_name": "Python 3 (ipykernel)",
   "language": "python",
   "name": "python3"
  },
  "language_info": {
   "codemirror_mode": {
    "name": "ipython",
    "version": 3
   },
   "file_extension": ".py",
   "mimetype": "text/x-python",
   "name": "python",
   "nbconvert_exporter": "python",
   "pygments_lexer": "ipython3",
   "version": "3.12.4"
  }
 },
 "nbformat": 4,
 "nbformat_minor": 5
}
