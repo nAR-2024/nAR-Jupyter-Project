{
 "cells": [
  {
   "cell_type": "code",
   "execution_count": null,
   "id": "14e33844-7df3-4343-a395-86b4227d987e",
   "metadata": {},
   "outputs": [],
   "source": [
    "#Sometimes you don’t want to iterate through a whole file. For that, there’s a different file method, \n",
    "#Preview: Docs Loading link description\n",
    "#.readline()\n",
    "#, which will only read a single line at a time. If the entire document is read line by line in this way subsequent calls \n",
    "#to .readline() will not throw an error but will start returning an empty string (\"\"). Suppose we had this file:\n",
    "\n",
    "#millay_sonnet.txt\n",
    "\n",
    "#I shall forget you presently, my dear,\n",
    "#So make the most of this, your little day,\n",
    "#Your little month, your little half a year,\n",
    "#Ere I forget, or die, or move away,\n",
    "\n",
    "#script.py\n",
    "\n",
    "with open('millay_sonnet.txt') as sonnet_doc:\n",
    "  first_line = sonnet_doc.readline()\n",
    "  second_line = sonnet_doc.readline()\n",
    "  print(second_line)\n",
    "\n",
    "# This script also creates a file object called sonnet_doc that points to the file millay_sonnet.txt. \n",
    "# It then reads in the first line using sonnet_doc.readline() and saves that to the variable first_line. \n",
    "# It then saves the second line (So make the most of this, your little day,) \n",
    "# into the variable second_line and then prints it out.\n"
   ]
  },
  {
   "cell_type": "code",
   "execution_count": 2,
   "id": "8463f7c9-6b1a-4a0c-9e1a-987c0eb6c25c",
   "metadata": {},
   "outputs": [
    {
     "ename": "FileNotFoundError",
     "evalue": "[Errno 2] No such file or directory: 'just_the_first.txt'",
     "output_type": "error",
     "traceback": [
      "\u001b[0;31m---------------------------------------------------------------------------\u001b[0m",
      "\u001b[0;31mFileNotFoundError\u001b[0m                         Traceback (most recent call last)",
      "Cell \u001b[0;32mIn[2], line 1\u001b[0m\n\u001b[0;32m----> 1\u001b[0m \u001b[38;5;28;01mwith\u001b[39;00m \u001b[38;5;28mopen\u001b[39m(\u001b[38;5;124m\"\u001b[39m\u001b[38;5;124mjust_the_first.txt\u001b[39m\u001b[38;5;124m\"\u001b[39m) \u001b[38;5;28;01mas\u001b[39;00m first_line_doc:\n\u001b[1;32m      2\u001b[0m   first_line \u001b[38;5;241m=\u001b[39m first_line_doc\u001b[38;5;241m.\u001b[39mreadline()\n\u001b[1;32m      3\u001b[0m   \u001b[38;5;28mprint\u001b[39m(first_line)\n",
      "File \u001b[0;32m~/Desktop/anaconda3/lib/python3.12/site-packages/IPython/core/interactiveshell.py:324\u001b[0m, in \u001b[0;36m_modified_open\u001b[0;34m(file, *args, **kwargs)\u001b[0m\n\u001b[1;32m    317\u001b[0m \u001b[38;5;28;01mif\u001b[39;00m file \u001b[38;5;129;01min\u001b[39;00m {\u001b[38;5;241m0\u001b[39m, \u001b[38;5;241m1\u001b[39m, \u001b[38;5;241m2\u001b[39m}:\n\u001b[1;32m    318\u001b[0m     \u001b[38;5;28;01mraise\u001b[39;00m \u001b[38;5;167;01mValueError\u001b[39;00m(\n\u001b[1;32m    319\u001b[0m         \u001b[38;5;124mf\u001b[39m\u001b[38;5;124m\"\u001b[39m\u001b[38;5;124mIPython won\u001b[39m\u001b[38;5;124m'\u001b[39m\u001b[38;5;124mt let you open fd=\u001b[39m\u001b[38;5;132;01m{\u001b[39;00mfile\u001b[38;5;132;01m}\u001b[39;00m\u001b[38;5;124m by default \u001b[39m\u001b[38;5;124m\"\u001b[39m\n\u001b[1;32m    320\u001b[0m         \u001b[38;5;124m\"\u001b[39m\u001b[38;5;124mas it is likely to crash IPython. If you know what you are doing, \u001b[39m\u001b[38;5;124m\"\u001b[39m\n\u001b[1;32m    321\u001b[0m         \u001b[38;5;124m\"\u001b[39m\u001b[38;5;124myou can use builtins\u001b[39m\u001b[38;5;124m'\u001b[39m\u001b[38;5;124m open.\u001b[39m\u001b[38;5;124m\"\u001b[39m\n\u001b[1;32m    322\u001b[0m     )\n\u001b[0;32m--> 324\u001b[0m \u001b[38;5;28;01mreturn\u001b[39;00m io_open(file, \u001b[38;5;241m*\u001b[39margs, \u001b[38;5;241m*\u001b[39m\u001b[38;5;241m*\u001b[39mkwargs)\n",
      "\u001b[0;31mFileNotFoundError\u001b[0m: [Errno 2] No such file or directory: 'just_the_first.txt'"
     ]
    }
   ],
   "source": [
    "with open(\"just_the_first.txt\") as first_line_doc:\n",
    "  first_line = first_line_doc.readline()\n",
    "  print(first_line)"
   ]
  },
  {
   "cell_type": "code",
   "execution_count": null,
   "id": "573f0b54-7535-4455-bca2-3df152721561",
   "metadata": {},
   "outputs": [],
   "source": [
    "# Reading a file is all well and good, but what if we want to create a file of our own? With Python we can do just that. \n",
    "# It turns out that our\n",
    "# Preview: Docs Loading link description\n",
    "# open()\n",
    "# function that we’re using to open a file to read needs another argument to open a file to write to.\n",
    "\n",
    "#script.py\n",
    "\n",
    "with open('generated_file.txt', 'w') as gen_file:\n",
    "  gen_file.write(\"What an incredible file!\")\n",
    "\n",
    "# ere we pass the argument 'w' to open() in order to indicate to open the file in write-mode. The default argument \n",
    "# is 'r' and passing 'r' to open() opens the file in read-mode as we’ve been doing.\n",
    "\n",
    "# This code creates a new file in the same folder as script.py and gives it the text What an incredible file!. \n",
    "# It’s important to note that if there is already a file called generated_file.txt it will completely overwrite that file, erasing whatever its contents were before."
   ]
  },
  {
   "cell_type": "code",
   "execution_count": null,
   "id": "7a06df5e-7923-47a3-ba6c-0b0369e04953",
   "metadata": {},
   "outputs": [],
   "source": [
    "# Appending to a File\n",
    " \n",
    "# So maybe completely deleting and overwriting existing files is something that bothers you. \n",
    "# Isn’t there a way to just add a line to a file without completely deleting it? Of course there is! Instead of opening the file using the argument 'w' for write-mode, we open it with 'a' for append-mode. If we have a generated file with the following contents:\n",
    "\n",
    "# generated_file.txt\n",
    "\n",
    "# This was a popular file...\n",
    "\n",
    "# Then we can add another line to that file with the following code:\n",
    "\n",
    "script.py\n",
    "\n",
    "with open('generated_file.txt', 'a') as gen_file:\n",
    "  gen_file.write(\"\\n... and it still is\")\n",
    "\n",
    "# In the code above we open a file object in the temporary variable gen_file. \n",
    "# This variable points to the file generated_file.txt and, since it’s open in append-mode, \n",
    "# adds the string \\n... and it still is to the file. The newline character \\n moves to the next line before adding \n",
    "# the rest of the string. If you were to open the file after running the script it would look like this:\n",
    "\n",
    "generated_file.txt\n",
    "\n",
    "# This was a popular file...\n",
    "# ... and it still is\n",
    "\n",
    "# Notice that opening the file in append-mode, with 'a' as an argument to \n",
    "\n",
    "# .write() method appends whatever is passed to the end of the file. \n",
    "# If we were to run script.py again, this would be what generated_file.txt looks like:\n",
    "\n",
    "generated_file.txt\n",
    "\n",
    "# This was a popular file...\n",
    "... and it still is\n",
    "... and it still is\n",
    "\n",
    "# Notice that we’ve appended \"\\n... and it still is\" to the file a second time! \n",
    "# This is because in script.py we opened generated_file.txt in append-mode."
   ]
  }
 ],
 "metadata": {
  "kernelspec": {
   "display_name": "Python 3 (ipykernel)",
   "language": "python",
   "name": "python3"
  },
  "language_info": {
   "codemirror_mode": {
    "name": "ipython",
    "version": 3
   },
   "file_extension": ".py",
   "mimetype": "text/x-python",
   "name": "python",
   "nbconvert_exporter": "python",
   "pygments_lexer": "ipython3",
   "version": "3.12.4"
  }
 },
 "nbformat": 4,
 "nbformat_minor": 5
}
