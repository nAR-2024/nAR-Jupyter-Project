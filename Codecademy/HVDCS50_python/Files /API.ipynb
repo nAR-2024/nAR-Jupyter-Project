{
 "cells": [
  {
   "cell_type": "code",
   "execution_count": 18,
   "id": "2b34b910-e598-47d4-a674-7ff31acd7ad5",
   "metadata": {},
   "outputs": [
    {
     "ename": "SystemExit",
     "evalue": "",
     "output_type": "error",
     "traceback": [
      "An exception has occurred, use %tb to see the full traceback.\n",
      "\u001b[0;31mSystemExit\u001b[0m\n"
     ]
    }
   ],
   "source": [
    "# API's Application Programming Interface\n",
    "# Refer to third party services that we can communicate with\n",
    "\n",
    "# requests library using python code\n",
    "\n",
    "# pypi.org/projects/requests\n",
    "\n",
    "#code itunes.py\n",
    "\n",
    "#https://itunes.apple.com/\n",
    "\n",
    "# JSON Java Script Object Notation, a language agnostic format to exhange between two \n",
    "# different devices and integrate it into my own program\n",
    "import json\n",
    "import requests\n",
    "import sys\n",
    "\n",
    "# Error checking\n",
    "\n",
    "if len(sys.argv) != 2:\n",
    "        sys.exit()\n",
    "\n",
    "# pretending to be a web browser, looking for stuf on line\n",
    "response = requests.get(\"https://itunes.apple.com/search?entity=song&limit=1&term=\" + sys.argv[1])\n",
    "print(json.dumps(response.json(), indent = 2))\n",
    "\n",
    "\n",
    "\n",
    "\n",
    "\n",
    "\n"
   ]
  },
  {
   "cell_type": "code",
   "execution_count": null,
   "id": "4bd59658-9701-4608-a2dd-65777d3e62c6",
   "metadata": {},
   "outputs": [],
   "source": []
  },
  {
   "cell_type": "code",
   "execution_count": null,
   "id": "7e495863-832c-4ea9-8cd5-9710a7ff59b7",
   "metadata": {},
   "outputs": [],
   "source": []
  }
 ],
 "metadata": {
  "kernelspec": {
   "display_name": "Python 3 (ipykernel)",
   "language": "python",
   "name": "python3"
  },
  "language_info": {
   "codemirror_mode": {
    "name": "ipython",
    "version": 3
   },
   "file_extension": ".py",
   "mimetype": "text/x-python",
   "name": "python",
   "nbconvert_exporter": "python",
   "pygments_lexer": "ipython3",
   "version": "3.12.4"
  }
 },
 "nbformat": 4,
 "nbformat_minor": 5
}
