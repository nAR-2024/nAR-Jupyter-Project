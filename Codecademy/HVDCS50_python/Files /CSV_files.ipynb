{
 "cells": [
  {
   "cell_type": "code",
   "execution_count": null,
   "id": "237fb07c-f508-45c3-aa58-9e6900fde514",
   "metadata": {},
   "outputs": [],
   "source": [
    "Text files aren’t the only thing that Python can read, but they’re the only thing that we\n",
    "don’t need any additional parsing library to understand. \n",
    "Preview: Docs Loading link description\n",
    "CSV  files are an example of a text file that impose a structure to their data. CSV stands for Comma-Separated \n",
    "Values and CSV files are usually the way that data from spreadsheet software (like Microsoft Excel or Google Sheets) is \n",
    "exported into a portable format. A spreadsheet that looks like the following"
   ]
  }
 ],
 "metadata": {
  "kernelspec": {
   "display_name": "Python 3 (ipykernel)",
   "language": "python",
   "name": "python3"
  },
  "language_info": {
   "codemirror_mode": {
    "name": "ipython",
    "version": 3
   },
   "file_extension": ".py",
   "mimetype": "text/x-python",
   "name": "python",
   "nbconvert_exporter": "python",
   "pygments_lexer": "ipython3",
   "version": "3.12.4"
  }
 },
 "nbformat": 4,
 "nbformat_minor": 5
}
