{
 "cells": [
  {
   "cell_type": "code",
   "execution_count": 2,
   "id": "e1c7139b-6315-47b5-87c7-34b4a764abcc",
   "metadata": {},
   "outputs": [],
   "source": [
    "with open('generated_file.txt', 'a') as gen_file:\n",
    "  gen_file.write(\"\\n... and it still is\")\n",
    "\n",
    "# In the code above we open a file object (generated_file.txt) in the temporary variable gen_file. \n",
    "# This variable points to the file generated_file.txt and, since it’s open in append-mode, adds the string \\n... and it still is to the file. The newline character \\n moves to the next line before adding the rest of the string. \n",
    "# If you were to open the file after running the script it would look like this:    "
   ]
  },
  {
   "cell_type": "code",
   "execution_count": null,
   "id": "10672961-8da4-4147-9d6b-b02a8f831f63",
   "metadata": {},
   "outputs": [],
   "source": [
    "Notice that opening the file in append-mode, with 'a' as an argument to\n",
    ", means that using the file object’s Adds additional text to a file when \n",
    "the file is opened in append mode.  .write()  method appends whatever is passed to\n",
    "the end of the file. If we were to run script.py again, this would be what \n",
    "generated_file.txt looks like:"
   ]
  },
  {
   "cell_type": "code",
   "execution_count": null,
   "id": "62be3e89-48af-4ea1-b54b-4ed888441209",
   "metadata": {},
   "outputs": [],
   "source": [
    "fun_cities_file = open('fun_cities.txt', 'a')\n",
    "\n",
    "# We can now append a line to \"fun_cities\".\n",
    "fun_cities_file.write(\"Montréal\")\n",
    "\n",
    "# But we need to remember to close the file\n",
    "fun_cities_file.close()"
   ]
  },
  {
   "cell_type": "code",
   "execution_count": 6,
   "id": "0b290264-3cd9-4adb-a30a-92f0a22e16b5",
   "metadata": {},
   "outputs": [
    {
     "ename": "FileNotFoundError",
     "evalue": "[Errno 2] No such file or directory: 'fun_file.txt'",
     "output_type": "error",
     "traceback": [
      "\u001b[0;31m---------------------------------------------------------------------------\u001b[0m",
      "\u001b[0;31mFileNotFoundError\u001b[0m                         Traceback (most recent call last)",
      "Cell \u001b[0;32mIn[6], line 1\u001b[0m\n\u001b[0;32m----> 1\u001b[0m \u001b[38;5;28;01mwith\u001b[39;00m \u001b[38;5;28mopen\u001b[39m(\u001b[38;5;124m'\u001b[39m\u001b[38;5;124mfun_file.txt\u001b[39m\u001b[38;5;124m'\u001b[39m) \u001b[38;5;28;01mas\u001b[39;00m close_this_file:\n\u001b[1;32m      3\u001b[0m   setup \u001b[38;5;241m=\u001b[39m close_this_file\u001b[38;5;241m.\u001b[39mreadline()\n\u001b[1;32m      4\u001b[0m   punchline \u001b[38;5;241m=\u001b[39m close_this_file\u001b[38;5;241m.\u001b[39mreadline()\n",
      "File \u001b[0;32m~/Desktop/anaconda3/lib/python3.12/site-packages/IPython/core/interactiveshell.py:324\u001b[0m, in \u001b[0;36m_modified_open\u001b[0;34m(file, *args, **kwargs)\u001b[0m\n\u001b[1;32m    317\u001b[0m \u001b[38;5;28;01mif\u001b[39;00m file \u001b[38;5;129;01min\u001b[39;00m {\u001b[38;5;241m0\u001b[39m, \u001b[38;5;241m1\u001b[39m, \u001b[38;5;241m2\u001b[39m}:\n\u001b[1;32m    318\u001b[0m     \u001b[38;5;28;01mraise\u001b[39;00m \u001b[38;5;167;01mValueError\u001b[39;00m(\n\u001b[1;32m    319\u001b[0m         \u001b[38;5;124mf\u001b[39m\u001b[38;5;124m\"\u001b[39m\u001b[38;5;124mIPython won\u001b[39m\u001b[38;5;124m'\u001b[39m\u001b[38;5;124mt let you open fd=\u001b[39m\u001b[38;5;132;01m{\u001b[39;00mfile\u001b[38;5;132;01m}\u001b[39;00m\u001b[38;5;124m by default \u001b[39m\u001b[38;5;124m\"\u001b[39m\n\u001b[1;32m    320\u001b[0m         \u001b[38;5;124m\"\u001b[39m\u001b[38;5;124mas it is likely to crash IPython. If you know what you are doing, \u001b[39m\u001b[38;5;124m\"\u001b[39m\n\u001b[1;32m    321\u001b[0m         \u001b[38;5;124m\"\u001b[39m\u001b[38;5;124myou can use builtins\u001b[39m\u001b[38;5;124m'\u001b[39m\u001b[38;5;124m open.\u001b[39m\u001b[38;5;124m\"\u001b[39m\n\u001b[1;32m    322\u001b[0m     )\n\u001b[0;32m--> 324\u001b[0m \u001b[38;5;28;01mreturn\u001b[39;00m io_open(file, \u001b[38;5;241m*\u001b[39margs, \u001b[38;5;241m*\u001b[39m\u001b[38;5;241m*\u001b[39mkwargs)\n",
      "\u001b[0;31mFileNotFoundError\u001b[0m: [Errno 2] No such file or directory: 'fun_file.txt'"
     ]
    }
   ],
   "source": [
    "with open('fun_file.txt') as close_this_file:\n",
    "\n",
    "  setup = close_this_file.readline()\n",
    "  punchline = close_this_file.readline()\n",
    "\n",
    "  print(setup)"
   ]
  },
  {
   "cell_type": "code",
   "execution_count": null,
   "id": "ba31e98f-9a10-49e0-a8fa-8c5cadbc6822",
   "metadata": {},
   "outputs": [],
   "source": [
    "What's With \"with\"?\n",
    "6 min\n",
    "We’ve been opening these files with this with block so far, but it seems a little weird that we can only use our file \n",
    "variable in the indented block. Why is that? The with keyword invokes something called a context manager for the file \n",
    "that we’re calling \n",
    "Preview: Docs Loading link description\n",
    "open()\n",
    " on. This context manager takes care of opening the file when we call open() and then closing the file after we leave \n",
    "the indented block.\n",
    "\n",
    "Why is closing the file so complicated? Well, most other aspects of our code deal with things that Python itself controls. \n",
    "All the \n",
    "Preview: Docs Loading link description\n",
    "variables\n",
    " you create: integers, \n",
    "Preview: Docs Loading link description\n",
    "lists\n",
    ", \n",
    "Preview: Docs Loading link description\n",
    "dictionaries\n",
    " — these are all Python objects, and Python knows how to clean them up when it’s done with them. Since your files exist \n",
    "outside your Python script, we need to tell Python when we’re done with them so that it can close the connection to that \n",
    "file. Leaving a file connection open unnecessarily can affect performance or impact other programs on your computer that \n",
    "might be trying to access that file.\n",
    "\n",
    "The with syntax replaces older ways to access files where you need to call \n",
    "Preview: Docs Loading link description\n",
    ".close()\n",
    " on the file object manually. We can still open up a file and append to it with the old syntax, as long as we remember to \n",
    "close the file connection afterwards.\n",
    "\n",
    "fun_cities_file = open('fun_cities.txt', 'a')\n",
    "\n",
    "# We can now append a line to \"fun_cities\".\n",
    "fun_cities_file.write(\"Montréal\")\n",
    "\n",
    "# But we need to remember to close the file\n",
    "fun_cities_file.close()\n",
    "\n",
    "In the above script we added “Montréal” as a new line in our file fun_cities.txt. However, since we used the older-style \n",
    "syntax, we had to remember to close the file afterwards. Since this is necessarily more verbose (requires at least one \n",
    "more line of code) without being any more expressive, using with is preferred."
   ]
  }
 ],
 "metadata": {
  "kernelspec": {
   "display_name": "Python 3 (ipykernel)",
   "language": "python",
   "name": "python3"
  },
  "language_info": {
   "codemirror_mode": {
    "name": "ipython",
    "version": 3
   },
   "file_extension": ".py",
   "mimetype": "text/x-python",
   "name": "python",
   "nbconvert_exporter": "python",
   "pygments_lexer": "ipython3",
   "version": "3.12.4"
  }
 },
 "nbformat": 4,
 "nbformat_minor": 5
}
