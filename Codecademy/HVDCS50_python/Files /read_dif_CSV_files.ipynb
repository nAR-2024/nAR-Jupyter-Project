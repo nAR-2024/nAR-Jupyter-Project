{
 "cells": [
  {
   "cell_type": "code",
   "execution_count": null,
   "id": "0156a1b5-92ad-4c04-9ba9-be9f9dbab3d8",
   "metadata": {},
   "outputs": [],
   "source": [
    "Reading Different Types of CSV Files\n",
    "\n",
    "I need to level with you, I’ve been lying to you for the past two exercises. Well, kind of. We’ve been acting like CSV \n",
    "files are Comma-Separated Values files. It’s true that CSV stands for that, but it’s also true that other ways of separating \n",
    "values are valid CSV files these days.\n",
    "\n",
    "People used to call Tab-Separated Values files TSV files, but as other separators grew in popularity everyone realized \n",
    "that creating a new .[a-z]sv file format for every value-separating character used is not sustainable.\n",
    "\n",
    "So we call all files with a list of different values a CSV file and then use different delimiters (like a comma or tab) \n",
    "to indicate where the different values start and stop.\n",
    "\n",
    "Let’s say we had an address book. Since addresses usually use commas in them, we’ll need to use a different delimiter for \n",
    "our information. Since none of our data has semicolons (;) in them, we can use those.\n",
    "\n",
    "addresses.csv\n",
    "\n",
    "Name;Address;Telephone\n",
    "Donna Smith;126 Orr Corner Suite 857\\nEast Michael, LA 54411;906-918-6560\n",
    "Aaron Osborn;6965 Miller Station Suite 485\\nNorth Michelle, KS 64364;815.039.3661x42816\n",
    "Jennifer Barnett;8749 Alicia Vista Apt. 288\\nLake Victoriaberg, TN 51094;397-796-4842x451\n",
    "Joshua Bryan;20116 Stephanie Stravenue\\nWhitneytown, IA 87358;(380)074-6173\n",
    "Andrea Jones;558 Melissa Keys Apt. 588\\nNorth Teresahaven, WA 63411;+57(8)7795396386\n",
    "Victor Williams;725 Gloria Views Suite 628\\nEast Scott, IN 38095;768.708.3411x954\n",
    "\n",
    "Notice the \\n character, this is the escape sequence for a new line. The possibility of a new line escaped by a \\n character \n",
    "in our data is why we pass the newline='' keyword argument to the open() function.\n",
    "\n",
    "Also notice that many of these addresses have commas in them! This is okay, we’ll still be able to read it. \n",
    "If we wanted to, say, print out all the addresses in this CSV file we could do the following:\n",
    "\n",
    "\n",
    "\n",
    "import csv\n",
    "\n",
    "with open('addresses.csv', newline='') as addresses_csv:\n",
    "  address_reader = csv.DictReader(addresses_csv, delimiter=';')\n",
    "  for row in address_reader:\n",
    "    print(row['Address'])\n",
    "\n",
    "\n",
    "\n",
    "Notice that when we call csv.DictReader we pass in the delimiter parameter, which is the string that’s used to delineate \n",
    "separate fields in the CSV. We then iterate through the CSV and print out each of the addresses.\n",
    "\n",
    "Instructions\n",
    "\n",
    "\n",
    "1. Import the csv module.\n",
    "2. Open up the file books.csv in the variable books_csv.\n",
    "3. Create a DictReader instance that uses the @ symbol as a delimiter to read books_csv. Save the result in a \n",
    "variable called books_reader.\n",
    "4. Create a list called isbn_list, iterate through books_reader to get the ISBN number of every book in the CSV \n",
    "file. Use the ['ISBN'] key for the dictionary objects passed to it."
   ]
  },
  {
   "cell_type": "code",
   "execution_count": null,
   "id": "e2106261-bec6-45cc-8e6c-a4456a464c5e",
   "metadata": {},
   "outputs": [],
   "source": [
    "import csv\n",
    "\n",
    "with open('books.csv') as books_csv:\n",
    "  books_reader = csv.DictReader(books_csv, delimiter='@')\n",
    "  isbn_list = [book['ISBN'] for book in books_reader]"
   ]
  }
 ],
 "metadata": {
  "kernelspec": {
   "display_name": "Python 3 (ipykernel)",
   "language": "python",
   "name": "python3"
  },
  "language_info": {
   "codemirror_mode": {
    "name": "ipython",
    "version": 3
   },
   "file_extension": ".py",
   "mimetype": "text/x-python",
   "name": "python",
   "nbconvert_exporter": "python",
   "pygments_lexer": "ipython3",
   "version": "3.12.4"
  }
 },
 "nbformat": 4,
 "nbformat_minor": 5
}
