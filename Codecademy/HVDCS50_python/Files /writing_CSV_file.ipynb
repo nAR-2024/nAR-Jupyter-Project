{
 "cells": [
  {
   "cell_type": "code",
   "execution_count": null,
   "id": "ad6762e1-e2ec-40ba-b9ad-535a60755cb0",
   "metadata": {},
   "outputs": [],
   "source": [
    "Writing a CSV File\n",
    "1 \n",
    "Naturally if we have the ability to read different CSV \n",
    " \n",
    " we might want to be able to programmatically create CSV files that save output and data that someone could load into their \n",
    "spreadsheet software. Let’s say we have a big list of data that we want to save into a CSV file. We could do the following:\n",
    "\n",
    "In our code below we had a set of dictionaries with the same keys for each, a prime candidate for a CSV. \n",
    "We import the csv library, and then open a new CSV file in write-mode by passing the 'w' argument to the open() function.\n",
    "\n",
    "We then define the fields we’re going to be using into a variable called fields. We then instantiate our CSV writer \n",
    "object and pass two arguments. The first is output_csv, the file handler object. The second is our list of fields \n",
    "fields which we pass to the keyword parameter fieldnames.\n",
    "\n",
    "Now that we’ve instantiated our CSV file writer, we can start adding lines to the file itself! First we want the headers, \n",
    "so we call .writeheader() on the writer object. This writes all the fields passed to fieldnames as the first row in our file.\n",
    "Then we iterate through our big_list of data. Each item in big_list is a dictionary with each field in fields as the keys.\n",
    "We call output_writer.writerow() with the item dictionaries which writes each line to the CSV file."
   ]
  },
  {
   "cell_type": "code",
   "execution_count": 2,
   "id": "54c79df0-e385-46f9-a74e-f746aa8d890b",
   "metadata": {},
   "outputs": [],
   "source": [
    "big_list = [{'name': 'Fredrick Stein', 'userid': 6712359021, 'is_admin': False}, {'name': 'Wiltmore Denis', 'userid': 2525942, \n",
    "        'is_admin': False}, {'name': 'Greely Plonk', 'userid': 15890235, 'is_admin': False}, {'name': 'Dendris Stulo', \n",
    "        'userid': 572189563, 'is_admin': True}] \n",
    "\n",
    "import csv\n",
    "\n",
    "with open('output.csv', 'w') as output_csv:\n",
    "  fields = ['name', 'userid', 'is_admin']\n",
    "  output_writer = csv.DictWriter(output_csv, fieldnames=fields)\n",
    "\n",
    "  output_writer.writeheader()\n",
    "  for item in big_list:\n",
    "    output_writer.writerow(item)"
   ]
  },
  {
   "cell_type": "code",
   "execution_count": null,
   "id": "c4777cd6-025a-42e6-a5d8-7ce31abd3c3d",
   "metadata": {},
   "outputs": [],
   "source": [
    "We have a list in the workspace access_log which is a list of dictionaries we want to write out to a CSV file.\n",
    "\n",
    "1.  Let’s start by importing the csv module.\n",
    " \n",
    "2. Open up the file logger.csv in the temporary variable logger_csv. Don’t forget to open the file in write-mode.\n",
    " \n",
    "3. Create a csv.DictWriter instance called log_writer. Pass logger_csv as the first argument and then fields as a keyword argument to the keyword fieldnames.\n",
    " \n",
    "4. Write the header to log_writer using the .writeheader() method.\n",
    "\n",
    "5. Iterate through the access_log list and add each element to the CSV using log_writer.writerow()."
   ]
  },
  {
   "cell_type": "code",
   "execution_count": 1,
   "id": "d15b1563-3f0e-4eac-88af-ad7d24218d92",
   "metadata": {},
   "outputs": [],
   "source": [
    "access_log = [{'time': '08:39:37', 'limit': 844404, 'address': '1.227.124.181'}, {'time': '13:13:35', 'limit': 543871, 'address': '198.51.139.193'}, {'time': '19:40:45', 'limit': 3021, 'address': '172.1.254.208'}, {'time': '18:57:16', 'limit': 67031769, 'address': '172.58.247.219'}, {'time': '21:17:13', 'limit': 9083, 'address': '124.144.20.113'}, {'time': '23:34:17', 'limit': 65913, 'address': '203.236.149.220'}, {'time': '13:58:05', 'limit': 1541474, 'address': '192.52.206.76'}, {'time': '10:52:00', 'limit': 11465607, 'address': '104.47.149.93'}, {'time': '14:56:12', 'limit': 109, 'address': '192.31.185.7'}, {'time': '18:56:35', 'limit': 6207, 'address': '2.228.164.197'}]\n",
    "fields = ['time', 'address', 'limit']\n",
    "\n",
    "import csv\n",
    "with open('logger.csv', 'w') as logger_csv:\n",
    "  #fields = ['name', 'userid', 'is_admin']\n",
    "  log_writer = csv.DictWriter(logger_csv, fieldnames=fields)\n",
    "\n",
    "  log_writer.writeheader()\n",
    "  for item in access_log:\n",
    "    log_writer.writerow(item)"
   ]
  },
  {
   "cell_type": "code",
   "execution_count": null,
   "id": "3d9368c2-3123-45ea-81df-0106edb3cf62",
   "metadata": {},
   "outputs": [],
   "source": []
  }
 ],
 "metadata": {
  "kernelspec": {
   "display_name": "Python 3 (ipykernel)",
   "language": "python",
   "name": "python3"
  },
  "language_info": {
   "codemirror_mode": {
    "name": "ipython",
    "version": 3
   },
   "file_extension": ".py",
   "mimetype": "text/x-python",
   "name": "python",
   "nbconvert_exporter": "python",
   "pygments_lexer": "ipython3",
   "version": "3.12.4"
  }
 },
 "nbformat": 4,
 "nbformat_minor": 5
}
