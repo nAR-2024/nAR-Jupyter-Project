{
 "cells": [
  {
   "cell_type": "code",
   "execution_count": 16,
   "id": "42d9adfd-9b4b-486e-872b-efea187f5719",
   "metadata": {},
   "outputs": [
    {
     "name": "stdout",
     "output_type": "stream",
     "text": [
      "1 Hermione\n",
      "2 Harry\n",
      "3 Ron\n",
      "4 Jerry\n",
      "5 Jacob\n"
     ]
    }
   ],
   "source": [
    "# Student gives me the indexed position, which in the print statement allows you\n",
    "# to use it to assign the placemnt.  Range allows me to specify the range i want, where\n",
    "# len() allows me to measure the length of the list.\n",
    "# adding the + 1 to students takes care of the 0 index\n",
    "\n",
    "students = [\"Hermione\", \"Harry\", \"Ron\", \"Jerry\", \"Jacob\"]\n",
    "for student in range(len(students)):\n",
    "      print(student + 1, students[student])"
   ]
  },
  {
   "cell_type": "code",
   "execution_count": 14,
   "id": "c0cbd0ed-f459-4ac6-a5f7-f63dad8d9229",
   "metadata": {},
   "outputs": [
    {
     "name": "stdout",
     "output_type": "stream",
     "text": [
      "Hermione\n",
      "Harry\n",
      "Ron\n",
      "Jerry\n",
      "Jacob\n"
     ]
    }
   ],
   "source": [
    "# where if i remove student, I just get the students names\n",
    "\n",
    "students = [\"Hermione\", \"Harry\", \"Ron\", \"Jerry\", \"Jacob\"]\n",
    "for student in range(len(students)):\n",
    "      print(students[student])"
   ]
  },
  {
   "cell_type": "code",
   "execution_count": null,
   "id": "3ed5447e-f459-4d72-8ba3-4e7c6243677f",
   "metadata": {},
   "outputs": [],
   "source": []
  }
 ],
 "metadata": {
  "kernelspec": {
   "display_name": "Python 3 (ipykernel)",
   "language": "python",
   "name": "python3"
  },
  "language_info": {
   "codemirror_mode": {
    "name": "ipython",
    "version": 3
   },
   "file_extension": ".py",
   "mimetype": "text/x-python",
   "name": "python",
   "nbconvert_exporter": "python",
   "pygments_lexer": "ipython3",
   "version": "3.12.4"
  }
 },
 "nbformat": 4,
 "nbformat_minor": 5
}
