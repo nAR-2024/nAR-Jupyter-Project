{
 "cells": [
  {
   "cell_type": "code",
   "execution_count": null,
   "id": "08779d8a-0984-43a7-a1aa-339f6e42658d",
   "metadata": {},
   "outputs": [],
   "source": [
    "#def main():\n",
    "    #print_row(3)\n",
    "    \n",
    "\n",
    "# this prints a vertical column\n",
    "#def print_column(height):\n",
    "#    for _ in range(height):\n",
    "#        print(\"#\\n\" * height, end=\"\")\n",
    "#        \n",
    "#main()\n",
    "\n",
    "\n",
    "# this prints a horizontal row\n",
    "#def print_row(width):\n",
    "#    print(\"?\" * width)\n",
    "#main()\n",
    "\n",
    "\n",
    "# how to print a square\n",
    "def main():\n",
    "    print_square(3)\n",
    "def print_square(size): \n",
    "    for i in range(size):\n",
    "        print(\"#\" * size)  \n",
    "        \n",
    "main()"
   ]
  }
 ],
 "metadata": {
  "kernelspec": {
   "display_name": "Python 3 (ipykernel)",
   "language": "python",
   "name": "python3"
  },
  "language_info": {
   "codemirror_mode": {
    "name": "ipython",
    "version": 3
   },
   "file_extension": ".py",
   "mimetype": "text/x-python",
   "name": "python",
   "nbconvert_exporter": "python",
   "pygments_lexer": "ipython3",
   "version": "3.12.4"
  }
 },
 "nbformat": 4,
 "nbformat_minor": 5
}
