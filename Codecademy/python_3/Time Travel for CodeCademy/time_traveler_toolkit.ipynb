{
 "cells": [
  {
   "cell_type": "code",
   "execution_count": 3,
   "id": "370c8e8a-012c-4dd7-a83e-5d1d6caab1be",
   "metadata": {},
   "outputs": [
    {
     "name": "stdout",
     "output_type": "stream",
     "text": [
      "Current Date and Time: 2024-10-12 14:04:46\n"
     ]
    },
    {
     "ename": "AttributeError",
     "evalue": "module 'custom_module' has no attribute 'generate_time_travel_message'",
     "output_type": "error",
     "traceback": [
      "\u001b[0;31m---------------------------------------------------------------------------\u001b[0m",
      "\u001b[0;31mAttributeError\u001b[0m                            Traceback (most recent call last)",
      "Cell \u001b[0;32mIn[3], line 50\u001b[0m\n\u001b[1;32m     46\u001b[0m target_destination \u001b[38;5;241m=\u001b[39m choice(destinations)\n\u001b[1;32m     48\u001b[0m \u001b[38;5;66;03m# Generate and print the time travel message\u001b[39;00m\n\u001b[0;32m---> 50\u001b[0m message \u001b[38;5;241m=\u001b[39m custom_module\u001b[38;5;241m.\u001b[39mgenerate_time_travel_message(target_year, target_destination, total_cost)\n\u001b[1;32m     51\u001b[0m \u001b[38;5;28mprint\u001b[39m(message)\n",
      "\u001b[0;31mAttributeError\u001b[0m: module 'custom_module' has no attribute 'generate_time_travel_message'"
     ]
    }
   ],
   "source": [
    "# time_travelers_toolkit.py\n",
    "# import the required associated programs to complete the task\n",
    "import datetime as dt\n",
    "from decimal import Decimal\n",
    "from random import randint, choice\n",
    "\n",
    "# import my module\n",
    "import importlib\n",
    "import custom_module\n",
    "\n",
    "importlib.reload(custom_module) #reloads module to ensure its the latest version\n",
    "\n",
    "# get the current date and time\n",
    "\n",
    "current_datetime = dt.datetime.now()\n",
    "\n",
    "# Print the date and time in a readable format\n",
    "#  This give the user  a reference point when generating the time travel message\n",
    "# The strftime method is used to format the date and time in a readable way.\n",
    "print(\"Current Date and Time:\", current_datetime.strftime(\"%Y-%m-%d %H:%M:%S\"))\n",
    "\n",
    "# Cost expressed as a decimal\n",
    "\n",
    "base_cost = Decimal('100.00')\n",
    "current_year = current_datetime.year\n",
    "\n",
    "# Get the year for time travel\n",
    "\n",
    "target_year = randint(1900, 2100)\n",
    "\n",
    "#  cost multiplier based on the difference between the years\n",
    "\n",
    "year_difference = abs(target_year - current_year)\n",
    "cost_multiplier = Decimal(year_difference) * Decimal('1.50')\n",
    "\n",
    "# Final cost\n",
    "\n",
    "total_cost = base_cost + cost_multiplier\n",
    "\n",
    "# format to two decimal places\n",
    "\n",
    "total_cost = round(total_cost, 2)\n",
    "\n",
    "# Randomly select a destination\n",
    "destinations = [\"New York\", \"Paris\", \"Tokyo\", \"Atlantis\", \"Ancient Rome\"]\n",
    "target_destination = choice(destinations)\n",
    "\n",
    "# Generate and print the time travel message\n",
    "\n",
    "message = custom_module.generate_time_travel_message(target_year, target_destination, total_cost)\n",
    "print(message)\n",
    "\n"
   ]
  },
  {
   "cell_type": "code",
   "execution_count": null,
   "id": "991df64d-e4b3-4c6b-bdc9-97a770639ff8",
   "metadata": {},
   "outputs": [],
   "source": []
  }
 ],
 "metadata": {
  "kernelspec": {
   "display_name": "Python 3 (ipykernel)",
   "language": "python",
   "name": "python3"
  },
  "language_info": {
   "codemirror_mode": {
    "name": "ipython",
    "version": 3
   },
   "file_extension": ".py",
   "mimetype": "text/x-python",
   "name": "python",
   "nbconvert_exporter": "python",
   "pygments_lexer": "ipython3",
   "version": "3.12.4"
  }
 },
 "nbformat": 4,
 "nbformat_minor": 5
}
