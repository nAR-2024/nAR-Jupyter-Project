{
 "cells": [
  {
   "cell_type": "code",
   "execution_count": null,
   "id": "5cd74664-2412-40a2-8495-b862cc16b307",
   "metadata": {
    "editable": true,
    "slideshow": {
     "slide_type": ""
    },
    "tags": []
   },
   "outputs": [],
   "source": [
    "4. Count First Letter\n",
    "\n",
    "This function accepts a dictionary where the keys are last names and the values are lists of first names of people \n",
    "who have that last name. We need to calculate the number of people who have the same first letter in their last name. \n",
    "Here are the steps we need:\n",
    "\n",
    "Define the function to accept one parameter for our dictionary\n",
    "Create a new empty dictionary called letters\n",
    "Loop through every key in our names dictionary\n",
    "Inside the loop, get the first letter of the last name we are looking at. If the first letter is not in our \n",
    "letter dictionary, add it as a key and set the value to the number of people that have that last name. Otherwise, \n",
    "if the first letter is already in our letter dictionary, increment the value stored with that key by the number of \n",
    "people that have that last name\n",
    "After the loop, return the letters dictionary\n"
   ]
  },
  {
   "cell_type": "code",
   "execution_count": null,
   "id": "7d837fdc-602f-423c-ac2f-0c08ff6a8796",
   "metadata": {},
   "outputs": [],
   "source": [
    "Create a function named count_first_letter that takes a dictionary named names as a parameter. names should be a \n",
    "dictionary where the key is a last name and the value is a list of first names. For example, the dictionary might \n",
    "look like this:\n",
    "\n",
    "names = {\"Stark\": [\"Ned\", \"Robb\", \"Sansa\"], \"Snow\" : [\"Jon\"], \"Lannister\": [\"Jaime\", \"Cersei\", \"Tywin\"]}\n",
    "\n",
    "The function should return a new dictionary where each key is the first letter of a last name, and the value is the \n",
    "number of people whose last name begins with that letter.\n",
    "\n",
    "So in example above, the function would return:\n",
    "\n",
    "{\"S\" : 4, \"L\": 3}"
   ]
  },
  {
   "cell_type": "code",
   "execution_count": 1,
   "id": "4b6a2d9f-2fd1-4c85-b8a8-c6d7484e16db",
   "metadata": {},
   "outputs": [
    {
     "name": "stdout",
     "output_type": "stream",
     "text": [
      "{'S': 4, 'L': 3}\n",
      "{'S': 7}\n"
     ]
    }
   ],
   "source": [
    "# Write your count_first_letter function here:\n",
    "def count_first_letter(names):\n",
    "  letters = {}\n",
    "  for key in names:\n",
    "    first_letter = key[0]\n",
    "    if first_letter not in letters:\n",
    "      letters[first_letter] = 0\n",
    "    letters[first_letter] += len(names[key])\n",
    "  return letters\n",
    "# Uncomment these function calls to test your  function:\n",
    "print(count_first_letter({\"Stark\": [\"Ned\", \"Robb\", \"Sansa\"], \"Snow\" : [\"Jon\"], \"Lannister\": [\"Jaime\", \"Cersei\", \"Tywin\"]}))\n",
    "# should print {\"S\": 4, \"L\": 3}\n",
    "print(count_first_letter({\"Stark\": [\"Ned\", \"Robb\", \"Sansa\"], \"Snow\" : [\"Jon\"], \"Sannister\": [\"Jaime\", \"Cersei\", \"Tywin\"]}))\n",
    "# should print {\"S\": 7}"
   ]
  },
  {
   "cell_type": "code",
   "execution_count": null,
   "id": "5478a06d-b11c-4987-b9fa-3001c4d5d2a6",
   "metadata": {},
   "outputs": [],
   "source": []
  }
 ],
 "metadata": {
  "kernelspec": {
   "display_name": "Python 3 (ipykernel)",
   "language": "python",
   "name": "python3"
  },
  "language_info": {
   "codemirror_mode": {
    "name": "ipython",
    "version": 3
   },
   "file_extension": ".py",
   "mimetype": "text/x-python",
   "name": "python",
   "nbconvert_exporter": "python",
   "pygments_lexer": "ipython3",
   "version": "3.12.4"
  }
 },
 "nbformat": 4,
 "nbformat_minor": 5
}
