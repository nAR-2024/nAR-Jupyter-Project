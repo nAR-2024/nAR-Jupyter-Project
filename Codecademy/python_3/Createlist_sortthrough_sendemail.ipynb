{
 "cells": [
  {
   "cell_type": "markdown",
   "metadata": {},
   "source": [
    "# Introduction\n",
    "\n",
    "Opening your comic book store, the Sorcery Society, has been a lifelong dream come true. You quickly diversified your shop offerings to include miniatures, plush toys, collectible card games, and board games. Eventually, the store became more a games store with a selection of this week's newest comic books and a small offering of graphic novel paperbacks. Completing your transformation means offering space for local tabletop gamers. They love to play their favorite RPG, \"Abruptly Goblins!\" and will happily pay you per chair to secure the space to do it. Unfortunately, planning the game night has fallen to you. If you pick the wrong night, not enough people will come and the game night will be cancelled. You decide it's best that you automate the game night selector to get the most people through the door. First you need to create a list of people who will be attending the game night.\n",
    "\n",
    "**Instructions**\n",
    "\n",
    "Create an empty list called `gamers`. This will be your list of people who are attending game night."
   ]
  },
  {
   "cell_type": "code",
   "execution_count": 2,
   "metadata": {},
   "outputs": [
    {
     "name": "stdout",
     "output_type": "stream",
     "text": [
      "[]\n"
     ]
    }
   ],
   "source": [
    "# empty list\n",
    "\n",
    "gamers = []\n",
    "\n",
    "print(gamers)\n"
   ]
  },
  {
   "cell_type": "markdown",
   "metadata": {},
   "source": [
    "Now we want to create a function that will update this list and add a new gamer to the this `gamers` list. Each `gamer` should be a dictionary with the following keys:\n",
    " - `\"name\"`: a string that contains the gamer's full or presumed name. E.g., \"Vicky Very\"\n",
    " - `\"availability\"`: a list of strings containing the names of the days of the week that the gamer is available. E.g., [\"Monday\", \"Thursday\", \"Sunday\"]\n",
    " \n",
    "**Instructions**\n",
    "\n",
    "Create a function called `add_gamer` that takes two parameters: `gamer` and `gamers_list`. The function should check that the argument passed to the `gamer` parameter has both `\"name\"` and a `\"availability\"` as keys and if so add `gamer` to `gamers_list`."
   ]
  },
  {
   "cell_type": "code",
   "execution_count": 6,
   "metadata": {},
   "outputs": [
    {
     "name": "stdout",
     "output_type": "stream",
     "text": [
      "[{'name': 'Vicky Very', 'availability': ['Monday', 'Thursday', 'Sunday']}]\n"
     ]
    }
   ],
   "source": [
    "def add_gamer(gamer, gamers_list):\n",
    "    # Check if 'gamer' has both 'name' and 'availability' keys\n",
    "    if \"name\" in gamer and \"availability\" in gamer:\n",
    "        # Add the gamer dictionary to the gamers_list\n",
    "        gamers_list.append(gamer)\n",
    "    else:\n",
    "        # Print an error message if the required keys are missing\n",
    "        print(\"Gamer must have 'name' and 'availability' keys.\")\n",
    "\n",
    "# Example usage:\n",
    "gamers = []  # The list to hold the gamers\n",
    "\n",
    "# Creating a new gamer\n",
    "new_gamer = {\n",
    "    \"name\": \"Vicky Very\",\n",
    "    \"availability\": [\"Monday\", \"Thursday\", \"Sunday\"]\n",
    "}\n",
    "\n",
    "# Adding the new gamer to the list\n",
    "add_gamer(new_gamer, gamers)\n",
    "\n",
    "print(gamers)"
   ]
  },
  {
   "cell_type": "markdown",
   "metadata": {},
   "source": [
    "Next we want to add our first gamer! Her name is Kimberly Warner and she's available on Mondays, Tuesdays, and Fridays.\n",
    "\n",
    "**Instructions**\n",
    "\n",
    "1. Create a dictionary called `kimberly` with the name and availability given above.\n",
    "2. Call `add_gamer` with `kimberly` as the first argument and `gamers` as the second."
   ]
  },
  {
   "cell_type": "code",
   "execution_count": 10,
   "metadata": {},
   "outputs": [
    {
     "name": "stdout",
     "output_type": "stream",
     "text": [
      "[{'name': 'Vicky Very', 'availability': ['Monday', 'Thursday', 'Sunday']}, {'name': 'Kimberly Warner', 'availability': ['Monday', 'Tuesday', 'Friday']}, {'name': 'Kimberly Warner', 'availability': ['Monday', 'Tuesday', 'Friday']}, {'name': 'Thomas Nelson', 'availability': ['Tuesday', 'Thursday', 'Saturday']}, {'name': 'Joyce Sellers', 'availability': ['Monday', 'Wednesday', 'Friday', 'Saturday']}, {'name': 'Michelle Reyes', 'availability': ['Wednesday', 'Thursday', 'Sunday']}, {'name': 'Stephen Adams', 'availability': ['Thursday', 'Saturday']}, {'name': 'Joanne Lynn', 'availability': ['Monday', 'Thursday']}, {'name': 'Latasha Bryan', 'availability': ['Monday', 'Sunday']}, {'name': 'Crystal Brewer', 'availability': ['Thursday', 'Friday', 'Saturday']}, {'name': 'James Barnes Jr.', 'availability': ['Tuesday', 'Wednesday', 'Thursday', 'Sunday']}, {'name': 'Michel Trujillo', 'availability': ['Monday', 'Tuesday', 'Wednesday']}]\n"
     ]
    }
   ],
   "source": [
    "# Create a dictionary for Kimberly Warner\n",
    "kimberly = {\n",
    "    \"name\": \"Kimberly Warner\",\n",
    "    \"availability\": [\"Monday\", \"Tuesday\", \"Friday\"]\n",
    "}\n",
    "\n",
    "# Use the previously defined add_gamer function to add Kimberly to the gamers list\n",
    "add_gamer(kimberly, gamers)\n",
    "add_gamer({'name':'Thomas Nelson','availability': [\"Tuesday\", \"Thursday\", \"Saturday\"]}, gamers)\n",
    "add_gamer({'name':'Joyce Sellers','availability': [\"Monday\", \"Wednesday\", \"Friday\", \"Saturday\"]}, gamers)\n",
    "add_gamer({'name':'Michelle Reyes','availability': [\"Wednesday\", \"Thursday\", \"Sunday\"]}, gamers)\n",
    "add_gamer({'name':'Stephen Adams','availability': [\"Thursday\", \"Saturday\"]}, gamers)\n",
    "add_gamer({'name': 'Joanne Lynn', 'availability': [\"Monday\", \"Thursday\"]}, gamers)\n",
    "add_gamer({'name':'Latasha Bryan','availability': [\"Monday\", \"Sunday\"]}, gamers)\n",
    "add_gamer({'name':'Crystal Brewer','availability': [\"Thursday\", \"Friday\", \"Saturday\"]}, gamers)\n",
    "add_gamer({'name':'James Barnes Jr.','availability': [\"Tuesday\", \"Wednesday\", \"Thursday\", \"Sunday\"]}, gamers)\n",
    "add_gamer({'name':'Michel Trujillo','availability': [\"Monday\", \"Tuesday\", \"Wednesday\"]}, gamers)\n",
    "# Print the gamers list to verify\n",
    "print(gamers)\n",
    "\n"
   ]
  },
  {
   "cell_type": "markdown",
   "metadata": {},
   "source": [
    "Great! Let's add a couple more gamers to the list!"
   ]
  },
  {
   "cell_type": "code",
   "execution_count": null,
   "metadata": {},
   "outputs": [],
   "source": [
    "add_gamer({'name':'Thomas Nelson','availability': [\"Tuesday\", \"Thursday\", \"Saturday\"]}, gamers)\n",
    "add_gamer({'name':'Joyce Sellers','availability': [\"Monday\", \"Wednesday\", \"Friday\", \"Saturday\"]}, gamers)\n",
    "add_gamer({'name':'Michelle Reyes','availability': [\"Wednesday\", \"Thursday\", \"Sunday\"]}, gamers)\n",
    "add_gamer({'name':'Stephen Adams','availability': [\"Thursday\", \"Saturday\"]}, gamers)\n",
    "add_gamer({'name': 'Joanne Lynn', 'availability': [\"Monday\", \"Thursday\"]}, gamers)\n",
    "add_gamer({'name':'Latasha Bryan','availability': [\"Monday\", \"Sunday\"]}, gamers)\n",
    "add_gamer({'name':'Crystal Brewer','availability': [\"Thursday\", \"Friday\", \"Saturday\"]}, gamers)\n",
    "add_gamer({'name':'James Barnes Jr.','availability': [\"Tuesday\", \"Wednesday\", \"Thursday\", \"Sunday\"]}, gamers)\n",
    "add_gamer({'name':'Michel Trujillo','availability': [\"Monday\", \"Tuesday\", \"Wednesday\"]}, gamers)"
   ]
  },
  {
   "cell_type": "markdown",
   "metadata": {},
   "source": [
    "## Finding the perfect availability\n",
    "\n",
    "Now that we have a list of all of the people interested in game night, we want to be able to calculate which nights would have the most participation. First we need to create a frequency table which correlates each day of the week with gamer availability.\n",
    "\n",
    "**Instructions**\n",
    "\n",
    "Create a function called `build_daily_frequency_table` that takes no argument returns a dictionary with the days of the week as keys and `0`s for values. We'll be using this to count the availability per night. Call `build_daily_frequency_table` and save the results to a variable called `count_availability`."
   ]
  },
  {
   "cell_type": "code",
   "execution_count": 12,
   "metadata": {},
   "outputs": [
    {
     "name": "stdout",
     "output_type": "stream",
     "text": [
      "{'Monday': 0, 'Tuesday': 0, 'Wednesday': 0, 'Thursday': 0, 'Friday': 0, 'Saturday': 0, 'Sunday': 0}\n"
     ]
    }
   ],
   "source": [
    "def build_daily_frequency_table():\n",
    "    # Create a dictionary with days of the week as keys and 0 as the initial count\n",
    "    days_of_week = [\"Monday\", \"Tuesday\", \"Wednesday\", \"Thursday\", \"Friday\", \"Saturday\", \"Sunday\"]\n",
    "    frequency_table = {day: 0 for day in days_of_week}\n",
    "    return frequency_table\n",
    "\n",
    "# Build the daily frequency table and store it in count_availability\n",
    "count_availability = build_daily_frequency_table()\n",
    "\n",
    "# Print the frequency table to verify\n",
    "print(count_availability)"
   ]
  },
  {
   "cell_type": "markdown",
   "metadata": {},
   "source": [
    "Next we need to count the number of people every night.\n",
    "\n",
    "**Instructions**\n",
    "\n",
    "Write a function called `calculate_availability` that takes a list of gamers as an argument `gamers_list` and a frequency table `available_frequency`. The function should iterate through each gamer in `gamers_list` and iterate through each day in the gamer's availability. For each day in the gamer's availability, add one to that date on the frequency table."
   ]
  },
  {
   "cell_type": "code",
   "execution_count": 16,
   "metadata": {},
   "outputs": [
    {
     "name": "stdout",
     "output_type": "stream",
     "text": [
      "{'Monday': 1, 'Tuesday': 1, 'Wednesday': 0, 'Thursday': 0, 'Friday': 1, 'Saturday': 0, 'Sunday': 0}\n"
     ]
    }
   ],
   "source": [
    "def calculate_availability(gamers_list, available_frequency):\n",
    "    # Loop through each gamer in the gamers_list\n",
    "    for gamer in gamers_list:\n",
    "        # Loop through each day in the gamer's availability\n",
    "        for day in gamer[\"availability\"]:\n",
    "            # Increment the count for that day in the available_frequency table\n",
    "            if day in available_frequency:\n",
    "                available_frequency[day] += 1\n",
    "\n",
    "# Example of how to use calculate_availability\n",
    "\n",
    "# Create the daily frequency table\n",
    "count_availability = build_daily_frequency_table()\n",
    "\n",
    "# Add some gamers to the list (using the add_gamer function)\n",
    "gamers = []\n",
    "kimberly = {\"name\": \"Kimberly Warner\", \"availability\": [\"Monday\", \"Tuesday\", \"Friday\"]}\n",
    "add_gamer(kimberly, gamers)\n",
    "\n",
    "# Call calculate_availability to update the frequency table\n",
    "calculate_availability(gamers, count_availability)\n",
    "\n",
    "# Print the updated availability counts\n",
    "print(count_availability)"
   ]
  },
  {
   "cell_type": "markdown",
   "metadata": {},
   "source": [
    "Now let's use these tools to find the best night to run Abruptly Goblins!\n",
    "\n",
    "**Instructions**\n",
    "\n",
    "Call `calculate_availability` with `gamers` and `count_availability`. Print out `count_availability` afterwards."
   ]
  },
  {
   "cell_type": "code",
   "execution_count": 18,
   "metadata": {
    "scrolled": true
   },
   "outputs": [
    {
     "name": "stdout",
     "output_type": "stream",
     "text": [
      "{'Monday': 2, 'Tuesday': 2, 'Wednesday': 0, 'Thursday': 0, 'Friday': 2, 'Saturday': 0, 'Sunday': 0}\n"
     ]
    }
   ],
   "source": [
    "# Calculate availability using the gamers list and the frequency table\n",
    "calculate_availability(gamers, count_availability)\n",
    "\n",
    "# Print the updated count_availability to see the results\n",
    "print(count_availability)"
   ]
  },
  {
   "cell_type": "markdown",
   "metadata": {},
   "source": [
    "Lastly we need a way to pick the day with the most available people to attend so that we can schedule game night on that night.\n",
    "\n",
    "**Instructions**\n",
    "\n",
    "Write a function `find_best_night` that takes a dictionary `availability_table` and returns the key with the highest number."
   ]
  },
  {
   "cell_type": "code",
   "execution_count": 20,
   "metadata": {},
   "outputs": [
    {
     "name": "stdout",
     "output_type": "stream",
     "text": [
      "The best night for game night is: Monday\n"
     ]
    }
   ],
   "source": [
    "def find_best_night(availability_table):\n",
    "    # Use the max function to find the day with the highest number of attendees\n",
    "    best_night = max(availability_table, key=availability_table.get)\n",
    "    return best_night\n",
    "\n",
    "# Call the function to find the best night based on the availability table\n",
    "best_night = find_best_night(count_availability)\n",
    "\n",
    "# Print the best night\n",
    "print(f\"The best night for game night is: {best_night}\")"
   ]
  },
  {
   "cell_type": "markdown",
   "metadata": {},
   "source": [
    "Now let's find the best day to host game night.\n",
    "\n",
    "**Instructions**\n",
    "\n",
    "Call `find_best_night` with `count_availability`, store the result in a variable called `game_night`.\n",
    "Print out `game_night` to find out which day it is."
   ]
  },
  {
   "cell_type": "code",
   "execution_count": 24,
   "metadata": {},
   "outputs": [
    {
     "name": "stdout",
     "output_type": "stream",
     "text": [
      "The best day to host game night is: Monday\n"
     ]
    }
   ],
   "source": [
    "# Call the function to find the best night for game night\n",
    "game_night = find_best_night(count_availability)\n",
    "\n",
    "# Print the result\n",
    "print(f\"The best day to host game night is: {game_night}\")"
   ]
  },
  {
   "cell_type": "markdown",
   "metadata": {},
   "source": [
    "And let's make a list of all of the people who are available that night.\n",
    "\n",
    "**Instructions**\n",
    "\n",
    "* Create a function `available_on_night` that takes two parameters: `gamers_list` and `day` and returns a list of people who are available on that particular day.\n",
    "* Call `available_on_night` with `gamers` and `game_night` and save the result into the variable `attending_game_night`.\n",
    "* Print `attending_game_night`."
   ]
  },
  {
   "cell_type": "code",
   "execution_count": 26,
   "metadata": {},
   "outputs": [
    {
     "name": "stdout",
     "output_type": "stream",
     "text": [
      "People available on Monday: ['Kimberly Warner']\n"
     ]
    }
   ],
   "source": [
    "def available_on_night(gamers_list, day):\n",
    "    # Create an empty list to store the names of people available on the given day\n",
    "    available_gamers = []\n",
    "    \n",
    "    # Iterate over each gamer in the gamers_list\n",
    "    for gamer in gamers_list:\n",
    "        # If the day is in the gamer's availability, add their name to the list\n",
    "        if day in gamer[\"availability\"]:\n",
    "            available_gamers.append(gamer[\"name\"])\n",
    "    \n",
    "    return available_gamers\n",
    "\n",
    "# Call the function with gamers list and the best game night\n",
    "attending_game_night = available_on_night(gamers, game_night)\n",
    "\n",
    "# Print the result\n",
    "print(f\"People available on {game_night}: {attending_game_night}\")"
   ]
  },
  {
   "cell_type": "markdown",
   "metadata": {},
   "source": [
    "## Generating an E-mail for the Participants\n",
    "\n",
    "With the best day for Abruptly Goblins! determined with computer precision, we need to let the attendees know that the game night is on a night they can attend. Let's start by creating a form email to send to each of the participants that we'll fill out with data later.\n",
    "\n",
    "**Instructions**\n",
    "\n",
    "Define a string, called `form_email` with interpolation variables `{name}`, `{day_of_week}`, and `{game}` (in case we decide we want to use this featureset to host a different game night). Use it to tell your gaming attendees the night their Abruptly Goblins! game can be played."
   ]
  },
  {
   "cell_type": "code",
   "execution_count": null,
   "metadata": {},
   "outputs": [],
   "source": []
  },
  {
   "cell_type": "markdown",
   "metadata": {},
   "source": [
    "**Instructions**\n",
    "\n",
    "Create a function `send_email` with three parameters: `gamers_who_can_attend`, `day`, and `game`. Print `form_email` for each gamer in `gamers_who_can_attend` with the appropriate `day` and `game`.\n",
    "Call `send_email` with `attending_game_night`, `game_night`, and `\"Abruptly Goblins!\"`."
   ]
  },
  {
   "cell_type": "code",
   "execution_count": null,
   "metadata": {},
   "outputs": [],
   "source": [
    "# Define the email template with placeholders for name, day_of_week, and game\n",
    "form_email = \"\"\"\n",
    "Hello {name},\n",
    "\n",
    "We are excited to let you know that your game of {game} is scheduled for {day_of_week} at Sorcery Society! We look forward to seeing you and hope you are ready for an epic session of gaming.\n",
    "\n",
    "Best regards,\n",
    "The Sorcery Society Team\n",
    "\"\"\""
   ]
  },
  {
   "cell_type": "markdown",
   "metadata": {},
   "source": [
    "### Afterward\n",
    "\n",
    "You feel bad for the folks who weren't able to attend on the decided upon game night, and try to use your currently written methods to have a second game night of the week.\n",
    "\n",
    "**Instructions**\n",
    "\n",
    "* Create a list `unable_to_attend_best_night` of everyone in `gamers` that wasn't able to attend game night on `game_night`.\n",
    "* Create `second_night_availability` frequency table by calling `build_daily_frequency_table`.\n",
    "* Call `calculate_availability` with `unable_to_attend_best_night` and `second_night_availability`.\n",
    "* Call `find_best_night` with the now filled-in `second_night_availability`, save the results in `second_night`.\n"
   ]
  },
  {
   "cell_type": "code",
   "execution_count": 36,
   "metadata": {},
   "outputs": [
    {
     "name": "stdout",
     "output_type": "stream",
     "text": [
      "The best second night for game night is: Monday\n"
     ]
    }
   ],
   "source": [
    "# Create a list of gamers who couldn't attend the first game night\n",
    "def unable_to_attend(game_night, gamers_list):\n",
    "    unable_to_attend_list = []\n",
    "    for gamer in gamers_list:\n",
    "        if game_night not in gamer[\"availability\"]:\n",
    "            unable_to_attend_list.append(gamer)\n",
    "    return unable_to_attend_list\n",
    "\n",
    "# Step 1: Get the list of people who couldn't attend the first game night\n",
    "unable_to_attend_best_night = unable_to_attend(game_night, gamers)\n",
    "\n",
    "# Step 2: Build the frequency table for the second game night\n",
    "second_night_availability = build_daily_frequency_table()\n",
    "\n",
    "# Step 3: Calculate availability for those who couldn't attend the first game night\n",
    "calculate_availability(unable_to_attend_best_night, second_night_availability)\n",
    "\n",
    "# Step 4: Find the best night for the second game night\n",
    "second_night = find_best_night(second_night_availability)\n",
    "\n",
    "# Print the second game night\n",
    "print(f\"The best second night for game night is: {second_night}\")"
   ]
  },
  {
   "cell_type": "markdown",
   "metadata": {},
   "source": [
    "Let's send out an email to everyone (whether they can attend the first night or not) whose marked themselves as available on our second game night.\n",
    "\n",
    "**Instructions**\n",
    "\n",
    "* Create the list `available_second_game_night` by calling `available_on_night` with `gamers` and `second_night`\n",
    "* Let the gamers know by calling `send_email` with `available_second_game_night`, `second_night`, and \"Abruptly Goblins!\""
   ]
  },
  {
   "cell_type": "code",
   "execution_count": 38,
   "metadata": {},
   "outputs": [
    {
     "name": "stdout",
     "output_type": "stream",
     "text": [
      "Sending email to Kimberly Warner:\n",
      "\n",
      "\n",
      "Hello Kimberly Warner,\n",
      "\n",
      "We are excited to let you know that your game of Abruptly Goblins! is scheduled for Monday at Sorcery Society! We look forward to seeing you and hope you are ready for an epic session of gaming.\n",
      "\n",
      "Best regards,\n",
      "The Sorcery Society Team\n",
      "\n",
      "----------------------------------------\n"
     ]
    }
   ],
   "source": [
    " # Step 1: Get the list of people available on the second game night\n",
    "available_second_game_night = available_on_night(gamers, second_night)\n",
    "# Define the email template\n",
    "form_email = \"\"\"\n",
    "Hello {name},\n",
    "\n",
    "We are excited to let you know that your game of {game} is scheduled for {day_of_week} at Sorcery Society! We look forward to seeing you and hope you are ready for an epic session of gaming.\n",
    "\n",
    "Best regards,\n",
    "The Sorcery Society Team\n",
    "\"\"\"\n",
    "# Step 2: Define the send_email function\n",
    "def send_email(gamers_list, day_of_week, game):\n",
    "    for gamer in gamers_list:\n",
    "        email = form_email.format(name=gamer, day_of_week=day_of_week, game=game)\n",
    "        print(f\"Sending email to {gamer}:\\n\")\n",
    "        print(email)\n",
    "        print(\"-\" * 40)  # Separator for clarity\n",
    "\n",
    "# Step 3: Send out emails for the second game night\n",
    "send_email(available_second_game_night, second_night, \"Abruptly Goblins!\")"
   ]
  },
  {
   "cell_type": "code",
   "execution_count": null,
   "metadata": {},
   "outputs": [],
   "source": []
  }
 ],
 "metadata": {
  "kernelspec": {
   "display_name": "Python 3 (ipykernel)",
   "language": "python",
   "name": "python3"
  },
  "language_info": {
   "codemirror_mode": {
    "name": "ipython",
    "version": 3
   },
   "file_extension": ".py",
   "mimetype": "text/x-python",
   "name": "python",
   "nbconvert_exporter": "python",
   "pygments_lexer": "ipython3",
   "version": "3.12.4"
  }
 },
 "nbformat": 4,
 "nbformat_minor": 4
}
