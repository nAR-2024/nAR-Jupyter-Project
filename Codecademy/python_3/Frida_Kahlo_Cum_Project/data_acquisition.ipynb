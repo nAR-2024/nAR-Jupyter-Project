{
 "cells": [
  {
   "cell_type": "code",
   "execution_count": 1,
   "id": "2866b092-2d12-4b7a-8d5d-49ddcd3eab3d",
   "metadata": {},
   "outputs": [
    {
     "ename": "SyntaxError",
     "evalue": "invalid syntax (394911646.py, line 1)",
     "output_type": "error",
     "traceback": [
      "\u001b[0;36m  Cell \u001b[0;32mIn[1], line 1\u001b[0;36m\u001b[0m\n\u001b[0;31m    https://api.census.gov/data/2020/acs/acs5?get=NAME,B08303_001E&for=state:*\u001b[0m\n\u001b[0m          ^\u001b[0m\n\u001b[0;31mSyntaxError\u001b[0m\u001b[0;31m:\u001b[0m invalid syntax\n"
     ]
    }
   ],
   "source": [
    "\n",
    "Making API request in Python\n",
    "\n",
    "Now that you have a pretty good idea of how the Census Data API works, let’s take a look \n",
    "at how to pull the data in Python. Begin by importing the requests library with this command:\n",
    "\n",
    "import requests\n",
    "\n",
    "Next, we can use the get() method to return the data from our desired URL:\n",
    "\n",
    "r = requests.get('https://api.census.gov/data/2020/acs/acs5?get=NAME,B08303_001E&for=state:*') \n",
    "\n",
    "The result is a response object (just like in the last exercise), but this time we stored it \n",
    "in a variable named r.\n",
    "\n",
    "We can look at that response data by using the .text attribute. \n",
    "The .text attribute turns the data into a string.\n",
    "\n",
    "We can also use the .json() method that can automatically decode JSON data into the appropriate \n",
    "Python object. This is useful when working with JSON data, as in the case of the Census API, \n",
    "to have the data in a more intuitive data structure.\n",
    "\n",
    "# Access data as JSON string\n",
    "print(r.text)\n",
    " \n",
    "# Access decoded JSON data as Python object\n",
    "print(r.json())\n"
   ]
  },
  {
   "cell_type": "code",
   "execution_count": null,
   "id": "b6dcec22-29d5-4a35-853c-0c6921e26335",
   "metadata": {},
   "outputs": [],
   "source": [
    "import requests\n",
    "\n",
    "#Next, we can use the get() method to return the data from our desired URL:\n",
    "\n",
    "r = requests.get('https://api.census.gov/data/2020/acs/acs5?get=NAME,B08303_001E&for=state:*') \n",
    "\n",
    "# Access data as JSON string\n",
    "print(r.text)\n",
    " \n",
    "# Access decoded JSON data as Python object\n",
    "print(r.json())\n"
   ]
  },
  {
   "cell_type": "code",
   "execution_count": null,
   "id": "73ebb62d-9e07-4ef3-8980-fe60c5f97666",
   "metadata": {},
   "outputs": [],
   "source": [
    "Instructions\n",
    "Checkpoint 1 Enabled\n",
    "1.\n",
    "Start by importing the requests module."
   ]
  }
 ],
 "metadata": {
  "kernelspec": {
   "display_name": "Python 3 (ipykernel)",
   "language": "python",
   "name": "python3"
  },
  "language_info": {
   "codemirror_mode": {
    "name": "ipython",
    "version": 3
   },
   "file_extension": ".py",
   "mimetype": "text/x-python",
   "name": "python",
   "nbconvert_exporter": "python",
   "pygments_lexer": "ipython3",
   "version": "3.12.4"
  }
 },
 "nbformat": 4,
 "nbformat_minor": 5
}
