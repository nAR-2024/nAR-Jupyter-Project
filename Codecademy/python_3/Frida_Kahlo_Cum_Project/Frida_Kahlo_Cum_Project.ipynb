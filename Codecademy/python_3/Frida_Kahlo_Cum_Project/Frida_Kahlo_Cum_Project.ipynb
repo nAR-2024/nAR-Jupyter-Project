{
 "cells": [
  {
   "cell_type": "code",
   "execution_count": null,
   "id": "0639f004-0174-430c-94b0-89c4e501f298",
   "metadata": {},
   "outputs": [],
   "source": [
    "DATA AND PROGRAMMING FOUNDATIONS FOR AI\n",
    "Frida Kahlo Retrospective Off-Platform Project\n",
    "Overview\n",
    "\n",
    "This project is slightly different than others you have encountered thus far on Codecademy. Instead of a \n",
    "step-by-step tutorial, this project contains a series of open-ended requirements which describe the project \n",
    "you’ll be building.\n",
    "\n",
    "There are many possible ways to correctly fulfill all of these requirements, and you should expect to \n",
    "use the internet, Codecademy, and other resources when you encounter a problem that you cannot easily solve.\n",
    "\n",
    "Project Goals\n",
    "\n",
    "Congratulations! You’ve been hired to work on a retrospective of Frida Kahlo’s work at a major museum in Mexico.\n",
    "\n",
    "Your job is to put together the audio tour, but in order to do that, you need to create a list of each painting \n",
    "featured in the exhibit, the date it was painted, and its spot on the tour.\n",
    "\n",
    "Use your knowledge of Python lists to create a master list of each painting, its date, and its audio tour ID.\n",
    "\n",
    "Setup\n",
    "\n",
    "We encourage you to complete this project on your own computer using Jupyter notebooks. To do so, continue \n",
    "following these instructions to get going.\n",
    "\n",
    "If you’d prefer, you may also use the Codecademy learning environment to do this assignment. Get started by skipping \n",
    "the rest of these setup instructions and instead clicking Start. Then, complete the tasks in the code editor.\n",
    "To work on this project on your own machine, you will need to use some external tools: the Command Line and \n",
    "Jupyter Notebooks. If you are not familiar with these topics, check out our course on Getting Started \n",
    "Off-Platform for Data Science for help getting set up.\n",
    "\n",
    "Once you’re ready to begin, click Download to get the zip file containing all of the project files. Extract \n",
    "the files and open frida_kahlo_retrospective.ipynb to start working! If you get stuck, you can take a look at \n",
    "frida_kahlo_retrospective_solution.ipynb for the correct answers.\n",
    "\n",
    "Note: Be sure to check off the Tasks here on Codecademy even if you are working on this project off-platform. \n",
    "The project will not be considered completed and counted toward your Course or Path Progress until all tasks \n",
    "have been checked off.\n",
    "Download\n",
    "\n",
    "Tasks\n",
    "4/8 complete\n",
    "Mark the tasks as complete by checking them off\n",
    "1. First, create a list called paintings and add the following titles to it:\n",
    "\n",
    "'The Two Fridas', 'My Dress Hangs Here', 'Tree of Hope', 'Self Portrait With Monkeys'\n",
    "\n",
    "2. Next, create a second list called dates and give it the following values:\n",
    "\n",
    "1939, 1933, 1946, 1940\n",
    "\n",
    "3. It doesn’t do much good to have the paintings without their dates, and vice versa. Zip together the two lists so \n",
    "that each painting is paired with its date and resave it to the paintings variable. Make sure to convert the \n",
    "zipped object into a list using the list() function. Print the results to the terminal to check your work.\n",
    "\n",
    "4. There were some last minute additions to the show that we need to add to our list. \n",
    "Append the following paintings to our paintings list then re-print to check they were added correctly:\n",
    "\n",
    "'The Broken Column', 1944\n",
    "'The Wounded Deer', 1946\n",
    "'Me and My Doll', 1937\n",
    "\n",
    "Make sure to append each painting individually and that you’re appending them as tuples, not lists.\n",
    "\n",
    "5. Since each of these paintings is going to be in the audio tour, they each need a unique identification number.\n",
    "But before we assign them a number, we first need to check how many paintings there are in total.\n",
    "\n",
    "Find the length of the paintings list.\n",
    "    \n",
    "6. Use the range method to generate a list of identification numbers that starts at 1 and is equal in length to \n",
    "ur list of items. Save the list to the variable audio_tour_number and check your work by printing the list.\n",
    " \n",
    "7. We’re finally ready to create our master list. Zip the audio_tour_number list to the paintings list and save \n",
    "it as master_list.\n",
    "\n",
    "8. Print the master_list to the terminal."
   ]
  },
  {
   "cell_type": "code",
   "execution_count": 1,
   "id": "74e2e8cf-5cd2-43b3-a634-e0c67301fa1d",
   "metadata": {},
   "outputs": [
    {
     "name": "stdout",
     "output_type": "stream",
     "text": [
      "[('The Two Fridas', 1939), ('My Dress Hangs Here', 1933), ('Tree of Hope', 1946), ('Self Portrait With Monkeys', 1940)]\n"
     ]
    }
   ],
   "source": [
    "paintings = ['The Two Fridas', 'My Dress Hangs Here', 'Tree of Hope', 'Self Portrait With Monkeys']\n",
    "dates = [1939, 1933, 1946, 1940]\n",
    "\n",
    "# Zip the two lists and convert to a list\n",
    "paintings = list(zip(paintings, dates))\n",
    "\n",
    "# Print the results\n",
    "print(paintings)"
   ]
  },
  {
   "cell_type": "code",
   "execution_count": 5,
   "id": "5bd51889-a933-4c30-809f-c856286ed8f7",
   "metadata": {},
   "outputs": [
    {
     "name": "stdout",
     "output_type": "stream",
     "text": [
      "[('The Two Fridas', 1939), ('My Dress Hangs Here', 1933), ('Tree of Hope', 1946), ('Self Portrait With Monkeys', 1940), ('The Broken Column', 1944), ('The Wounded Deer', 1946), ('Me and My Doll', 1937)]\n",
      "[(1, ('The Two Fridas', 1939)), (2, ('My Dress Hangs Here', 1933)), (3, ('Tree of Hope', 1946)), (4, ('Self Portrait With Monkeys', 1940)), (5, ('The Broken Column', 1944)), (6, ('The Wounded Deer', 1946)), (7, ('Me and My Doll', 1937))]\n"
     ]
    }
   ],
   "source": [
    "paintings = ['The Two Fridas', 'My Dress Hangs Here', 'Tree of Hope', 'Self Portrait With Monkeys']\n",
    "dates = [1939, 1933, 1946, 1940]\n",
    "\n",
    "# Zip the two lists and convert to a list\n",
    "paintings = list(zip(paintings, dates))\n",
    "\n",
    "# Print the results\n",
    "#print(paintings)\n",
    "\n",
    "# Append the list as tuples\n",
    "paintings.append(('The Broken Column', 1944))\n",
    "paintings.append(('The Wounded Deer', 1946))\n",
    "paintings.append(('Me and My Doll', 1937))\n",
    "\n",
    "# Print again to check for additions\n",
    "print(paintings)\n",
    "total_paintings = len(paintings)\n",
    "##print(total_paintings)\n",
    "\n",
    "# Generate a list of identification numbers\n",
    "audio_tour_number = list(range(1, len(paintings) + 1))\n",
    "\n",
    "# Print the list of identification numbers\n",
    "#print(audio_tour_number)\n",
    "\n",
    "# create the master list\n",
    "master_list = list(zip(audio_tour_number, paintings))\n",
    "print(master_list)"
   ]
  },
  {
   "cell_type": "code",
   "execution_count": null,
   "id": "d38b74f7-d058-4644-a2c9-b646542ffc3b",
   "metadata": {},
   "outputs": [],
   "source": []
  }
 ],
 "metadata": {
  "kernelspec": {
   "display_name": "Python 3 (ipykernel)",
   "language": "python",
   "name": "python3"
  },
  "language_info": {
   "codemirror_mode": {
    "name": "ipython",
    "version": 3
   },
   "file_extension": ".py",
   "mimetype": "text/x-python",
   "name": "python",
   "nbconvert_exporter": "python",
   "pygments_lexer": "ipython3",
   "version": "3.12.4"
  }
 },
 "nbformat": 4,
 "nbformat_minor": 5
}
