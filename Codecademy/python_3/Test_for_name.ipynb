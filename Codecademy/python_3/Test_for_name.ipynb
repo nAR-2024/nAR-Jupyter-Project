{
 "cells": [
  {
   "cell_type": "code",
   "execution_count": null,
   "id": "a6350181-94ba-4884-9f93-2c4479c1aada",
   "metadata": {
    "editable": true,
    "slideshow": {
     "slide_type": ""
    },
    "tags": []
   },
   "outputs": [],
   "source": [
    "1. Check Name\n",
    "\n",
    "You are creating an app that allows users to interact and share their coding project ideas online. \n",
    "The first step is to provide your name in the application and a greeting for other people to see which contains your name. \n",
    "Let’s create a function that is able to check if a user’s name is located within their greeting. \n",
    "We need a function that accepts two parameters, a string for our sentence and a string for a name. \n",
    "The function should return True if the name exists within the string (ignoring any differences in capitalization). \n",
    "\n",
    "Here is what we need to do:\n",
    "\n",
    "Define the function to accept two parameters, one string for the sentence and one string for the name\n",
    "Convert all of the strings to the same case so we don’t have to worry about differences in capitalization\n",
    "Check if the name is within the sentence. If so, then return True. Otherwise, return False"
   ]
  },
  {
   "cell_type": "code",
   "execution_count": null,
   "id": "6b06efe5-c311-4130-bf8d-50b09c901476",
   "metadata": {
    "editable": true,
    "slideshow": {
     "slide_type": ""
    },
    "tags": []
   },
   "outputs": [],
   "source": [
    "Write a function called check_for_name that takes two strings as parameters named sentence and name. \n",
    "The function should return True if name appears in sentence in all lowercase letters, all uppercase letters, \n",
    "or with any mix of uppercase and lowercase letters. The function should return False otherwise.\n",
    "\n",
    "For example, the following three calls should all return True:\n",
    "\n",
    "check_for_name(\"My name is Jamie\", \"Jamie\")\n",
    "check_for_name(\"My name is jamie\", \"Jamie\")\n",
    "check_for_name(\"My name is JAMIE\", \"Jamie\")"
   ]
  },
  {
   "cell_type": "code",
   "execution_count": 1,
   "id": "517ca54f-12f3-44e3-8699-665eb47230f9",
   "metadata": {},
   "outputs": [
    {
     "name": "stdout",
     "output_type": "stream",
     "text": [
      "True\n",
      "True\n",
      "False\n"
     ]
    }
   ],
   "source": [
    "# Write your check_for_name function here:\n",
    "def check_for_name(sentence, name):\n",
    "   return name.lower() in sentence.lower()\n",
    "# Uncomment these function calls to test your  function:\n",
    "print(check_for_name(\"My name is Jamie\", \"Jamie\"))\n",
    "# should print True\n",
    "print(check_for_name(\"My name is jamie\", \"Jamie\"))\n",
    "# should print True\n",
    "print(check_for_name(\"My name is Samantha\", \"Jamie\"))\n",
    "# should print False"
   ]
  },
  {
   "cell_type": "code",
   "execution_count": null,
   "id": "3177c8be-89df-4e87-b72d-749e42900195",
   "metadata": {
    "editable": true,
    "slideshow": {
     "slide_type": ""
    },
    "tags": []
   },
   "outputs": [],
   "source": []
  }
 ],
 "metadata": {
  "kernelspec": {
   "display_name": "Python 3 (ipykernel)",
   "language": "python",
   "name": "python3"
  },
  "language_info": {
   "codemirror_mode": {
    "name": "ipython",
    "version": 3
   },
   "file_extension": ".py",
   "mimetype": "text/x-python",
   "name": "python",
   "nbconvert_exporter": "python",
   "pygments_lexer": "ipython3",
   "version": "3.12.4"
  }
 },
 "nbformat": 4,
 "nbformat_minor": 5
}
