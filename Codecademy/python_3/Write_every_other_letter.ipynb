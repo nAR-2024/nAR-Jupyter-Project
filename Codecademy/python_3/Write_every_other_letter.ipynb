{
 "cells": [
  {
   "cell_type": "code",
   "execution_count": null,
   "id": "d73f15b5-d870-4e20-a498-4a348997bcff",
   "metadata": {
    "editable": true,
    "slideshow": {
     "slide_type": ""
    },
    "tags": []
   },
   "outputs": [],
   "source": [
    "2. Every Other Letter\n",
    "\n",
    "For this next challenge, we are going to create a function that extracts every other letter from a string and returns \n",
    "the resulting string. There are a few different ways you can solve this problem. Here are the steps needed for one \n",
    "of the ways:\n",
    "\n",
    "Define the function to accept one parameter for the string\n",
    "\n",
    "Create a new empty string to hold every other letter from the input string\n",
    "\n",
    "Loop through the input string while incrementing by two every time\n",
    "\n",
    "Inside the loop, append the character at the current location to the new string we initialized earlier\n",
    "\n",
    "Return the new string"
   ]
  },
  {
   "cell_type": "code",
   "execution_count": null,
   "id": "f3bf1f34-a694-47eb-b316-0436268eb8a3",
   "metadata": {},
   "outputs": [],
   "source": [
    "Create a function named every_other_letter that takes a string named word as a parameter. \n",
    "The function should return a string containing every other letter in word."
   ]
  },
  {
   "cell_type": "code",
   "execution_count": 2,
   "id": "5ed13cde-93da-41fc-8bb0-93806b3c4a7c",
   "metadata": {},
   "outputs": [
    {
     "name": "stdout",
     "output_type": "stream",
     "text": [
      "Cdcdm\n",
      "Hlowrd\n",
      "\n"
     ]
    }
   ],
   "source": [
    "# Write your every_other_letter function here:\n",
    "def every_other_letter(word):\n",
    "  every_other = \"\"\n",
    "  for i in range(0, len(word), 2):\n",
    "    every_other += word[i]\n",
    "  return every_other\n",
    "\n",
    "\n",
    "# Uncomment these function calls to test your function:\n",
    "print(every_other_letter(\"Codecademy\"))\n",
    "# should print Cdcdm\n",
    "print(every_other_letter(\"Hello world!\"))\n",
    "# should print Hlowrd\n",
    "print(every_other_letter(\"\"))\n",
    "# should print "
   ]
  },
  {
   "cell_type": "code",
   "execution_count": null,
   "id": "ba9500b4-755c-4d88-8480-68c97934bcff",
   "metadata": {},
   "outputs": [],
   "source": []
  }
 ],
 "metadata": {
  "kernelspec": {
   "display_name": "Python 3 (ipykernel)",
   "language": "python",
   "name": "python3"
  },
  "language_info": {
   "codemirror_mode": {
    "name": "ipython",
    "version": 3
   },
   "file_extension": ".py",
   "mimetype": "text/x-python",
   "name": "python",
   "nbconvert_exporter": "python",
   "pygments_lexer": "ipython3",
   "version": "3.12.4"
  }
 },
 "nbformat": 4,
 "nbformat_minor": 5
}
