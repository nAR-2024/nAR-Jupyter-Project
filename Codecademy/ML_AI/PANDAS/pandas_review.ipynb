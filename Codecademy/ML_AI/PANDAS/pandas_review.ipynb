{
 "cells": [
  {
   "cell_type": "code",
   "execution_count": 3,
   "id": "79d6b5d3-7d57-4a6c-8bec-502632477c95",
   "metadata": {},
   "outputs": [
    {
     "ename": "NameError",
     "evalue": "name 'df' is not defined",
     "output_type": "error",
     "traceback": [
      "\u001b[0;31m---------------------------------------------------------------------------\u001b[0m",
      "\u001b[0;31mNameError\u001b[0m                                 Traceback (most recent call last)",
      "Cell \u001b[0;32mIn[3], line 4\u001b[0m\n\u001b[1;32m      1\u001b[0m \u001b[38;5;66;03m# This function doubles the input value\u001b[39;00m\n\u001b[1;32m      3\u001b[0m \u001b[38;5;28;01mimport\u001b[39;00m \u001b[38;5;21;01mpandas\u001b[39;00m \u001b[38;5;28;01mas\u001b[39;00m \u001b[38;5;21;01mpd\u001b[39;00m\n\u001b[0;32m----> 4\u001b[0m df\u001b[38;5;241m=\u001b[39mdf\u001b[38;5;241m.\u001b[39mread\u001b[38;5;241m.\u001b[39mcsv(\u001b[38;5;124m'\u001b[39m\u001b[38;5;124minsurance.csv\u001b[39m\u001b[38;5;124m'\u001b[39m)\n\u001b[1;32m      6\u001b[0m \u001b[38;5;28;01mdef\u001b[39;00m \u001b[38;5;21mdouble\u001b[39m(x):\n\u001b[1;32m      7\u001b[0m   \u001b[38;5;28;01mreturn\u001b[39;00m \u001b[38;5;241m2\u001b[39m\u001b[38;5;241m*\u001b[39mx\n",
      "\u001b[0;31mNameError\u001b[0m: name 'df' is not defined"
     ]
    }
   ],
   "source": [
    "Pandas apply() function\n",
    "# This function doubles the input value\n",
    "def double(x):\n",
    "  return 2*x\n",
    "\n",
    "# Apply this function to double every value in a specified column\n",
    "df.column1 = df.column1.apply(double)\n",
    "\n",
    "# Lambda functions can also be supplied to `apply()`\n",
    "df.column2 = df.column2.apply(lambda x : 3*x)\n",
    "\n",
    "# Applying to a row requires it to be called on the entire DataFrame\n",
    "df['newColumn'] = df.apply(lambda row: \n",
    "  row['column1'] * 1.5 + row['column2'],\n",
    "  axis=1\n",
    ")\n",
    "The Pandas apply() function can be used to apply a function on every value in a column or row of a DataFrame, \n",
    "and transform that column or row to the resulting values.\n",
    "\n",
    "By default, it will apply a function to all values of a column. To perform it on a row instead, \n",
    "you can specify the argument axis=1 in the apply() function call."
   ]
  },
  {
   "cell_type": "code",
   "execution_count": null,
   "id": "937ecb3d-f312-4901-a44c-b9ac76ddd3c8",
   "metadata": {},
   "outputs": [],
   "source": [
    "Pandas DataFrame creation\n",
    "# Ways of creating a Pandas DataFrame\n",
    "# Passing in a dictionary:\n",
    "data = {'name':['Anthony', 'Maria'], 'age':[30, 28]}\n",
    "df = pd.DataFrame(data)\n",
    "\n",
    "# Passing in a list of lists:\n",
    "data = [['Tom', 20], ['Jack', 30], ['Meera', 25]]\n",
    "df = pd.DataFrame(data, columns = ['Name', 'Age'])\n",
    "\n",
    "# Reading data from a csv file:\n",
    "df = pd.read_csv('students.csv')\n",
    "The fundamental Pandas object is called a DataFrame. It is a 2-dimensional size-mutable, potentially heterogeneous, tabular data structure.\n",
    "\n",
    "A DataFrame can be created multiple ways. It can be created by passing in a dictionary or a list of lists to the pd.DataFrame() \n",
    "method, or by reading data from a CSV file."
   ]
  },
  {
   "cell_type": "code",
   "execution_count": null,
   "id": "fba59b79-3ea0-482e-963d-c6702a91f334",
   "metadata": {},
   "outputs": [],
   "source": [
    "Pandas\n",
    "\n",
    "import pandas as pd\n",
    "\n",
    "Pandas is an open source library that is used to analyze data in Python. It takes in data, like a CSV or SQL database, \n",
    "and creates an object with rows and columns called a data frame.\n",
    "Pandas is typically imported with the alias pd."
   ]
  },
  {
   "cell_type": "code",
   "execution_count": null,
   "id": "a00f8094-4e90-40c2-9b6c-d4213f967dc4",
   "metadata": {},
   "outputs": [],
   "source": [
    "Pandas DataFrames adding columns\n",
    "# Specifying each value in the new column:\n",
    "df['newColumn'] = [1, 2, 3, 4]\n",
    "\n",
    "# Setting each row in the new column to the same value:\n",
    "df['newColumn'] = 1\n",
    "\n",
    "# Creating a new column by doing a \n",
    "# calculation on an existing column:\n",
    "df['newColumn'] = df['oldColumn'] * 5\n",
    "\n",
    "Pandas DataFrames allow for the addition of columns after the DataFrame has already been created, by using the format df['newColumn'] \n",
    "and setting it equal to the new column’s value."
   ]
  }
 ],
 "metadata": {
  "kernelspec": {
   "display_name": "Python 3 (ipykernel)",
   "language": "python",
   "name": "python3"
  },
  "language_info": {
   "codemirror_mode": {
    "name": "ipython",
    "version": 3
   },
   "file_extension": ".py",
   "mimetype": "text/x-python",
   "name": "python",
   "nbconvert_exporter": "python",
   "pygments_lexer": "ipython3",
   "version": "3.12.4"
  }
 },
 "nbformat": 4,
 "nbformat_minor": 5
}
