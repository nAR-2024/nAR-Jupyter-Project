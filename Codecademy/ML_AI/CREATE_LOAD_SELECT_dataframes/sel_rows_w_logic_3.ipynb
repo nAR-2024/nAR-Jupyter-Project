{
 "cells": [
  {
   "cell_type": "code",
   "execution_count": null,
   "id": "a463c779-b5d8-4a06-98cf-cf6935cc5d9a",
   "metadata": {},
   "outputs": [],
   "source": [
    "Select Rows with Logic III\n",
    "4 min\n",
    "Suppose we want to select the rows where the customer’s name is either “Martha Jones”, “Rose Tyler” or “Amy Pond”.\n",
    "\n",
    "name\taddress\tphone\tage\n",
    "Martha Jones\t123 Main St.\t234-567-8910\t28\n",
    "Rose Tyler\t456 Maple Ave.\t212-867-5309\t22\n",
    "Donna Noble\t789 Broadway\t949-123-4567\t35\n",
    "Amy Pond\t98 West End Ave.\t646-555-1234\t29\n",
    "Clara Oswald\t54 Columbus Ave.\t714-225-1957\t31\n",
    "…\t…\t…\t…\n",
    "\n",
    "We could use the isin command to check that df.name is one of a list of values:\n",
    "\n",
    "df[df.name.isin(['Martha Jones',\n",
    "     'Rose Tyler',\n",
    "     'Amy Pond'])]\n"
   ]
  },
  {
   "cell_type": "code",
   "execution_count": null,
   "id": "ae75ec98-e902-4365-a12f-2f731d6630c0",
   "metadata": {},
   "outputs": [],
   "source": [
    "1.  Another doctor thinks that you have a lot of clinic visits in the late Winter.\n",
    "Create the variable january_february_march, containing the data from January, February, and March. \n",
    "Do this using a single logical statement with the isin command.\n",
    "\n",
    "2.  Inspect january_february_march using print."
   ]
  },
  {
   "cell_type": "code",
   "execution_count": 1,
   "id": "d2c19363-82cb-44c7-b6c8-d2cf8d1a740e",
   "metadata": {},
   "outputs": [
    {
     "name": "stdout",
     "output_type": "stream",
     "text": [
      "      month  clinic_east  clinic_north  clinic_south  clinic_west\n",
      "0   January          100           100            23          100\n",
      "1  February           51            45           145           45\n",
      "2     March           81            96            65           96\n"
     ]
    }
   ],
   "source": [
    "\n",
    "import pandas as pd\n",
    "\n",
    "df = pd.DataFrame([\n",
    "  ['January', 100, 100, 23, 100],\n",
    "  ['February', 51, 45, 145, 45],\n",
    "  ['March', 81, 96, 65, 96],\n",
    "  ['April', 80, 80, 54, 180],\n",
    "  ['May', 51, 54, 54, 154],\n",
    "  ['June', 112, 109, 79, 129]],\n",
    "  columns=['month', 'clinic_east',\n",
    "           'clinic_north', 'clinic_south',\n",
    "           'clinic_west'])\n",
    "\n",
    "\n",
    "january_february_march = df[df.month.isin(['January', 'February', 'March'])]\n",
    "print(january_february_march)\n"
   ]
  },
  {
   "cell_type": "code",
   "execution_count": null,
   "id": "803619e1-bb7a-4c89-ae60-e1ccdfb83ecd",
   "metadata": {},
   "outputs": [],
   "source": []
  }
 ],
 "metadata": {
  "kernelspec": {
   "display_name": "Python 3 (ipykernel)",
   "language": "python",
   "name": "python3"
  },
  "language_info": {
   "codemirror_mode": {
    "name": "ipython",
    "version": 3
   },
   "file_extension": ".py",
   "mimetype": "text/x-python",
   "name": "python",
   "nbconvert_exporter": "python",
   "pygments_lexer": "ipython3",
   "version": "3.12.4"
  }
 },
 "nbformat": 4,
 "nbformat_minor": 5
}
