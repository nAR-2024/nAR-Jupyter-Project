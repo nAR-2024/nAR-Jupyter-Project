{
 "cells": [
  {
   "cell_type": "code",
   "execution_count": null,
   "id": "6a6e0e65-0163-4e89-a25b-2310185f46b4",
   "metadata": {},
   "outputs": [],
   "source": [
    "Inspect a DataFrame\n",
    "\n",
    "When we load a new DataFrame from a CSV, we want to know what it looks like.\n",
    "\n",
    "If it’s a small DataFrame, you can display it by typing print(df).\n",
    "\n",
    "If it’s a larger DataFrame, it’s helpful to be able to inspect a few items without having to look at the entire DataFrame.\n",
    "\n",
    "The method .head() gives the first 5 rows of a DataFrame. If you want to see more rows, you can pass in the positional argument n. \n",
    "\n",
    "For example, \n",
    "\n",
    "    df.head(10) \n",
    "\n",
    "would show the first 10 rows.\n",
    "\n",
    "The method \n",
    "    \n",
    "    df.info() \n",
    "    \n",
    "gives some statistics for each column."
   ]
  },
  {
   "cell_type": "code",
   "execution_count": null,
   "id": "3a487f4e-9459-44cc-86d4-d79947b44f7c",
   "metadata": {},
   "outputs": [],
   "source": [
    "1.  You’re working for a Hollywood studio, trying to use data to predict the next big hit. Load the CSV imdb.csv into a \n",
    "variable called df, so that you can learn about popular movies from the past 90 years.\n",
    "    \n",
    "\n",
    "2.  Let’s learn about these movies.\n",
    "\n",
    "Paste the following code into script.py:\n",
    "\n",
    "print(df.head()) to Clipboard\n",
    "\n",
    "What happens when you press “Run”?\n",
    " \n",
    "3.  What exactly is in this dataset?\n",
    "\n",
    "Paste the following code into script.py to learn more about this data:\n",
    "\n",
    "print(df.info())\n",
    "\n",
    "to Clipboard\n",
    "\n",
    "What happens when you press “Run”?"
   ]
  },
  {
   "cell_type": "code",
   "execution_count": 2,
   "id": "2608aa0b-1009-41ce-870c-a7370b7e89e8",
   "metadata": {},
   "outputs": [
    {
     "name": "stdout",
     "output_type": "stream",
     "text": [
      "             name cake_flavor frosting_flavor             topping\n",
      "0  Chocolate Cake   chocolate       chocolate  chocolate shavings\n",
      "1   Birthday Cake     vanilla         vanilla   rainbow sprinkles\n",
      "2     Carrot Cake      carrot    cream cheese             almonds\n",
      "<class 'pandas.core.frame.DataFrame'>\n",
      "RangeIndex: 3 entries, 0 to 2\n",
      "Data columns (total 4 columns):\n",
      " #   Column           Non-Null Count  Dtype \n",
      "---  ------           --------------  ----- \n",
      " 0   name             3 non-null      object\n",
      " 1   cake_flavor      3 non-null      object\n",
      " 2   frosting_flavor  3 non-null      object\n",
      " 3   topping          3 non-null      object\n",
      "dtypes: object(4)\n",
      "memory usage: 228.0+ bytes\n",
      "None\n"
     ]
    }
   ],
   "source": [
    "import pandas as pd\n",
    "df = pd.read_csv('cupcakes.csv')\n",
    "print(df.head())#gives me the top 5 in the list\n",
    "print(df.info())#give me information on what is in the file"
   ]
  },
  {
   "cell_type": "code",
   "execution_count": null,
   "id": "767c1ac9-40c6-4dc1-9baa-f6163449912d",
   "metadata": {},
   "outputs": [],
   "source": []
  }
 ],
 "metadata": {
  "kernelspec": {
   "display_name": "Python 3 (ipykernel)",
   "language": "python",
   "name": "python3"
  },
  "language_info": {
   "codemirror_mode": {
    "name": "ipython",
    "version": 3
   },
   "file_extension": ".py",
   "mimetype": "text/x-python",
   "name": "python",
   "nbconvert_exporter": "python",
   "pygments_lexer": "ipython3",
   "version": "3.12.4"
  }
 },
 "nbformat": 4,
 "nbformat_minor": 5
}
