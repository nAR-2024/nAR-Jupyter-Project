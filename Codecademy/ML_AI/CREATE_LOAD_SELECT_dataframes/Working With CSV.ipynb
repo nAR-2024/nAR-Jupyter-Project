{
 "cells": [
  {
   "cell_type": "code",
   "execution_count": null,
   "id": "afb3e4c9-bc2a-4caa-81c7-66c068b06b6c",
   "metadata": {},
   "outputs": [],
   "source": [
    "Comma Separated Values (CSV)\n",
    "\n",
    "We now know how to create our own DataFrame. However, most of the time, we’ll be working with datasets that already exist. \n",
    "One of the most common formats for big datasets is the CSV.\n",
    "\n",
    "CSV (comma separated values) is a text-only spreadsheet format. You can find CSVs in lots of places:\n",
    "\n",
    "Online datasets (here’s an example from data.gov)\n",
    "\n",
    "Export from Excel or Google Sheets\n",
    "Export from SQL\n",
    "\n",
    "The first row of a CSV contains column headings. All subsequent rows contain values. Each column heading and each \n",
    "variable is separated by a comma:\n",
    "\n",
    "column1,column2,column3\n",
    "value1,value2,value3\n",
    "\n",
    "to Clipboard\n",
    "\n",
    "That example CSV represents the following table:\n",
    "\n",
    "column1\tcolumn2\tcolumn3\n",
    "value1\tvalue2\tvalue3\n"
   ]
  },
  {
   "cell_type": "code",
   "execution_count": null,
   "id": "50a038d6-871a-4a89-bef1-b96229129c68",
   "metadata": {},
   "outputs": [],
   "source": [
    "1.  You run a cupcake store and want to create a record of all of the cupcakes that you offer.\n",
    "\n",
    "Write the following data as a CSV in cupcakes.csv.\n",
    "\n",
    "name\tcake_flavor\tfrosting_flavor\ttopping\n",
    "Chocolate Cake\tchocolate\tchocolate\tchocolate shavings\n",
    "Birthday Cake\tvanilla\tvanilla\trainbow sprinkles\n",
    "Carrot Cake\tcarrot\tcream cheese\talmonds\n"
   ]
  },
  {
   "cell_type": "code",
   "execution_count": null,
   "id": "45141958-353a-4b80-9df1-196ec923deb4",
   "metadata": {},
   "outputs": [],
   "source": [
    "name,cake_flavor,frosting_flavor,topping\n",
    "Chocolate Cake,chocolate,chocolate,chocolate shavings\n",
    "Birthday Cake,vanilla,vanilla,rainbow sprinkles\n",
    "Carrot Cake,carrot,cream cheese,almonds"
   ]
  }
 ],
 "metadata": {
  "kernelspec": {
   "display_name": "Python 3 (ipykernel)",
   "language": "python",
   "name": "python3"
  },
  "language_info": {
   "codemirror_mode": {
    "name": "ipython",
    "version": 3
   },
   "file_extension": ".py",
   "mimetype": "text/x-python",
   "name": "python",
   "nbconvert_exporter": "python",
   "pygments_lexer": "ipython3",
   "version": "3.12.4"
  }
 },
 "nbformat": 4,
 "nbformat_minor": 5
}
