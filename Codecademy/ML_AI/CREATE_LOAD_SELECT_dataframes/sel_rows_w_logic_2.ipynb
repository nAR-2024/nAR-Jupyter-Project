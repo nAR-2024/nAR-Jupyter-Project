{
 "cells": [
  {
   "cell_type": "code",
   "execution_count": null,
   "id": "9821bd6c-3f8b-4b28-935f-2a1cc6236b81",
   "metadata": {},
   "outputs": [],
   "source": [
    "Select Rows with Logic II\n",
    "\n",
    "You can also combine multiple logical statements, as long as each statement is in parentheses.\n",
    "\n",
    "For instance, suppose we wanted to select all rows where the customer’s age was under 30 or the customer’s name was “Martha Jones”:\n",
    "\n",
    "name\taddress\tphone\tage\n",
    "Martha Jones\t123 Main St.\t234-567-8910\t28\n",
    "Rose Tyler\t456 Maple Ave.\t212-867-5309\t22\n",
    "Donna Noble\t789 Broadway\t949-123-4567\t35\n",
    "Amy Pond\t98 West End Ave.\t646-555-1234\t29\n",
    "Clara Oswald\t54 Columbus Ave.\t714-225-1957\t31\n",
    "…\t\t\t\n",
    "\n",
    "We could use the following code:\n",
    "\n",
    "df[(df.age < 30) |\n",
    "   (df.name == 'Martha Jones')]\n",
    "\n",
    "\n",
    "In Python, | means “or” and & means “and”."
   ]
  },
  {
   "cell_type": "code",
   "execution_count": null,
   "id": "8edd4501-0d58-4d18-8a3d-aead1adb4706",
   "metadata": {},
   "outputs": [],
   "source": [
    "1.  You want to see how the number of clinic visits changed between March and April.\n",
    "\n",
    "Create the variable march_april, which contains the data from March and April. \n",
    "Do this using two logical statements combined using |, which means “or”.\n",
    "\n",
    "2.  Inspect march_april using print."
   ]
  },
  {
   "cell_type": "code",
   "execution_count": 1,
   "id": "16e31664-cec0-4c36-9031-fab0c60eb07c",
   "metadata": {},
   "outputs": [
    {
     "name": "stdout",
     "output_type": "stream",
     "text": [
      "   month  clinic_east  clinic_north  clinic_south  clinic_west\n",
      "2  March           81            96            65           96\n",
      "3  April           80            80            54          180\n"
     ]
    }
   ],
   "source": [
    "import pandas as pd\n",
    "\n",
    "df = pd.DataFrame([\n",
    "  ['January', 100, 100, 23, 100],\n",
    "  ['February', 51, 45, 145, 45],\n",
    "  ['March', 81, 96, 65, 96],\n",
    "  ['April', 80, 80, 54, 180],\n",
    "  ['May', 51, 54, 54, 154],\n",
    "  ['June', 112, 109, 79, 129]],\n",
    "  columns=['month', 'clinic_east',\n",
    "           'clinic_north', 'clinic_south',\n",
    "           'clinic_west'])\n",
    "\n",
    "march_april = df[(df.month == 'March') | (df.month == 'April')]\n",
    "print(march_april)\n"
   ]
  }
 ],
 "metadata": {
  "kernelspec": {
   "display_name": "Python 3 (ipykernel)",
   "language": "python",
   "name": "python3"
  },
  "language_info": {
   "codemirror_mode": {
    "name": "ipython",
    "version": 3
   },
   "file_extension": ".py",
   "mimetype": "text/x-python",
   "name": "python",
   "nbconvert_exporter": "python",
   "pygments_lexer": "ipython3",
   "version": "3.12.4"
  }
 },
 "nbformat": 4,
 "nbformat_minor": 5
}
