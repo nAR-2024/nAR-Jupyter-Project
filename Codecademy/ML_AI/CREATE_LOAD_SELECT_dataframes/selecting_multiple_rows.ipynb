{
 "cells": [
  {
   "cell_type": "code",
   "execution_count": null,
   "id": "fcdc8576-227e-4e7a-93c9-1917eb1686a2",
   "metadata": {},
   "outputs": [],
   "source": [
    "Selecting Multiple Rows\n",
    "4 min\n",
    "You can also select multiple rows from a DataFrame.\n",
    "\n",
    "Here are a few more rows from ShoeFly.com’s orders DataFrame:\n",
    "\n",
    "id\tfirst_name\tlast_name\temail\tshoe_type\tshoe_material\tshoe_color\n",
    "54791\tRebecca\tLindsay\tRebeccaLindsay57@hotmail.com\tclogs\tfaux-leather\tblack\n",
    "53450\tEmily\tJoyce\tEmilyJoyce25@gmail.com\tballet flats\tfaux-leather\tnavy\n",
    "91987\tJoyce\tWaller\tJoyce.Waller@gmail.com\tsandals\tfabric\tblack\n",
    "14437\tJustin\tErickson\tJustin.Erickson@outlook.com\tclogs\tfaux-leather\tred\n",
    "79357\tAndrew\tBanks\tAB4318@gmail.com\tboots\tleather\tbrown\n",
    "52386\tJulie\tMarsh\tJulieMarsh59@gmail.com\tsandals\tfabric\tblack\n",
    "20487\tThomas\tJensen\tTJ5470@gmail.com\tclogs\tfabric\tnavy\n",
    "76971\tJanice\tHicks\tJanice.Hicks@gmail.com\tclogs\tfaux-leather\tnavy\n",
    "21586\tGabriel\tPorter\tGabrielPorter24@gmail.com\tclogs\tleather\tbrown\n",
    "\n",
    "Here are some different ways of selecting multiple rows:\n",
    "\n",
    "orders.iloc[3:7] would select all rows starting at the 3rd row and up to but not including the 7th row (i.e., the 3rd row, 4th row, 5th row, and 6th row)\n",
    "\n",
    "id\tfirst_name\tlast_name\temail\tshoe_type\tshoe_material\tshoe_color\n",
    "14437\tJustin\tErickson\tJustin.Erickson@outlook.com\tclogs\tfaux-leather\tred\n",
    "79357\tAndrew\tBanks\tAB4318@gmail.com\tboots\tleather\tbrown\n",
    "52386\tJulie\tMarsh\tJulieMarsh59@gmail.com\tsandals\tfabric\tblack\n",
    "20487\tThomas\tJensen\tTJ5470@gmail.com\tclogs\tfabric\tnavy\n",
    "\n",
    "orders.iloc[:4] would select all rows up to, but not including the 4th row (i.e., the 0th, 1st, 2nd, and 3rd rows)\n",
    "\n",
    "id\tfirst_name\tlast_name\temail\tshoe_type\tshoe_material\tshoe_color\n",
    "54791\tRebecca\tLindsay\tRebeccaLindsay57@hotmail.com\tclogs\tfaux-leather\tblack\n",
    "53450\tEmily\tJoyce\tEmilyJoyce25@gmail.com\tballet flats\tfaux-leather\tnavy\n",
    "91987\tJoyce\tWaller\tJoyce.Waller@gmail.com\tsandals\tfabric\tblack\n",
    "14437\tJustin\tErickson\tJustin.Erickson@outlook.com\tclogs\tfaux-leather\tred\n",
    "\n",
    "orders.iloc[-3:] would select the rows starting at the 3rd to last row and up to and including the final row\n",
    "\n",
    "id\tfirst_name\tlast_name\temail\tshoe_type\tshoe_material\tshoe_color\n",
    "20487\tThomas\tJensen\tTJ5470@gmail.com\tclogs\tfabric\tnavy\n",
    "76971\tJanice\tHicks\tJanice.Hicks@gmail.com\tclogs\tfaux-leather\tnavy\n",
    "21586\tGabriel\tPorter\tGabrielPorter24@gmail.com\tclogs\tleather\tbrown\n"
   ]
  },
  {
   "cell_type": "code",
   "execution_count": null,
   "id": "67e361d2-97e0-4c83-bc74-ecde15d9dc11",
   "metadata": {},
   "outputs": [],
   "source": [
    "1.  One of your doctors thinks that there are more clinic visits in the late Spring.\n",
    "\n",
    "Write a command that will produce a DataFrame made up of the data for April, May, and June from df for all \n",
    "four sites (rows 3 through 6), and save it to april_may_june."
   ]
  },
  {
   "cell_type": "code",
   "execution_count": 3,
   "id": "0abc69bc-4461-4408-9b72-4772270eb422",
   "metadata": {},
   "outputs": [
    {
     "name": "stdout",
     "output_type": "stream",
     "text": [
      "   month  clinic_east  clinic_north  clinic_south  clinic_west\n",
      "3  April           80            80            54          180\n",
      "4    May           51            54            54          154\n",
      "5   June          112           109            79          129\n"
     ]
    }
   ],
   "source": [
    "import pandas as pd\n",
    "\n",
    "df = pd.DataFrame([\n",
    "  ['January', 100, 100, 23, 100],\n",
    "  ['February', 51, 45, 145, 45],\n",
    "  ['March', 81, 96, 65, 96],\n",
    "  ['April', 80, 80, 54, 180],\n",
    "  ['May', 51, 54, 54, 154],\n",
    "  ['June', 112, 109, 79, 129]],\n",
    "  columns=['month', 'clinic_east',\n",
    "           'clinic_north', 'clinic_south',\n",
    "           'clinic_west']\n",
    ")\n",
    "\n",
    "april_may_june = df.iloc[3:6]\n",
    "print(april_may_june)"
   ]
  },
  {
   "cell_type": "code",
   "execution_count": null,
   "id": "6d0a5733-1b3f-4517-b53b-ab7fc41c5eab",
   "metadata": {},
   "outputs": [],
   "source": []
  }
 ],
 "metadata": {
  "kernelspec": {
   "display_name": "Python 3 (ipykernel)",
   "language": "python",
   "name": "python3"
  },
  "language_info": {
   "codemirror_mode": {
    "name": "ipython",
    "version": 3
   },
   "file_extension": ".py",
   "mimetype": "text/x-python",
   "name": "python",
   "nbconvert_exporter": "python",
   "pygments_lexer": "ipython3",
   "version": "3.12.4"
  }
 },
 "nbformat": 4,
 "nbformat_minor": 5
}
