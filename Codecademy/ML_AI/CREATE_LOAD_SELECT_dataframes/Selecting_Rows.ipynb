{
 "cells": [
  {
   "cell_type": "code",
   "execution_count": null,
   "id": "036d1322-d15a-4a6f-9cfa-61418a1ab653",
   "metadata": {},
   "outputs": [],
   "source": [
    "Select Rows\n",
    "\n",
    "Let’s revisit our orders from ShoeFly.com:\n",
    "\n",
    "id\tfirst_name\tlast_name\temail\tshoe_type\tshoe_material\tshoe_color\n",
    "54791\tRebecca\tLindsay\tRebeccaLindsay57@hotmail.com\tclogs\tfaux-leather\tblack\n",
    "53450\tEmily\tJames\tEmilyJames25@gmail.com\tballet flats\tfaux-leather\tnavy\n",
    "91987\tJoyce\tWaller\tJoyce.Waller@gmail.com\tsandals\tfabric\tblack\n",
    "14437\tJustin\tErickson\tJustin.Erickson@outlook.com\tclogs\tfaux-leather\tred\n",
    "…\t\t\t\t\t\t\n",
    "\n",
    "Maybe our Customer Service department has just received a message from Joyce Waller, so we want to know exactly what she ordered. \n",
    "We want to select this single row of data.\n",
    "\n",
    "DataFrames are zero-indexed, meaning that we start with the 0th row and count up from there. Joyce Waller’s order is the 2nd row.\n",
    "\n",
    "We select it using the following command:\n",
    "\n",
    "orders.iloc[2]\n",
    "\n",
    "to Clipboard\n",
    "\n",
    "When we select a single row, the result is a Series (just like when we select a single column)."
   ]
  },
  {
   "cell_type": "code",
   "execution_count": null,
   "id": "e0eec3c4-039a-416a-a505-22f9ca0e2c74",
   "metadata": {},
   "outputs": [],
   "source": [
    "1.  You’re getting ready to staff the clinic for March this year. You want to know how many visits took place in March last year, \n",
    "to help you prepare.\n",
    "\n",
    "Write a command that will produce a Series made up of the March data from df from all four clinic sites and save it to the \n",
    "variable march."
   ]
  },
  {
   "cell_type": "code",
   "execution_count": null,
   "id": "3bfa89b2-8a99-445b-b890-c0f372ebd544",
   "metadata": {},
   "outputs": [],
   "source": [
    "1.  You’re getting ready to staff the clinic for March this year. \n",
    "You want to know how many visits took place in March last year, to help you prepare.\n",
    "\n",
    "Write a command that will produce a Series made up of the March data from df from all four clinic sites and save it to \n",
    "the variable march."
   ]
  },
  {
   "cell_type": "code",
   "execution_count": 3,
   "id": "ccd012dd-df1e-4d0e-869d-0718301318ad",
   "metadata": {},
   "outputs": [
    {
     "name": "stdout",
     "output_type": "stream",
     "text": [
      "month           March\n",
      "clinic_east        81\n",
      "clinic_north       96\n",
      "clinic_south       65\n",
      "clinic_west        96\n",
      "Name: 2, dtype: object\n"
     ]
    }
   ],
   "source": [
    "import pandas as pd\n",
    "\n",
    "df = pd.DataFrame([\n",
    "  ['January', 100, 100, 23, 100],\n",
    "  ['February', 51, 45, 145, 45],\n",
    "  ['March', 81, 96, 65, 96],\n",
    "  ['April', 80, 80, 54, 180],\n",
    "  ['May', 51, 54, 54, 154],\n",
    "  ['June', 112, 109, 79, 129]],\n",
    "  columns=['month', 'clinic_east',\n",
    "           'clinic_north', 'clinic_south',\n",
    "           'clinic_west'])\n",
    "\n",
    "march = df.iloc[2]\n",
    "print(march)"
   ]
  }
 ],
 "metadata": {
  "kernelspec": {
   "display_name": "Python 3 (ipykernel)",
   "language": "python",
   "name": "python3"
  },
  "language_info": {
   "codemirror_mode": {
    "name": "ipython",
    "version": 3
   },
   "file_extension": ".py",
   "mimetype": "text/x-python",
   "name": "python",
   "nbconvert_exporter": "python",
   "pygments_lexer": "ipython3",
   "version": "3.12.4"
  }
 },
 "nbformat": 4,
 "nbformat_minor": 5
}
