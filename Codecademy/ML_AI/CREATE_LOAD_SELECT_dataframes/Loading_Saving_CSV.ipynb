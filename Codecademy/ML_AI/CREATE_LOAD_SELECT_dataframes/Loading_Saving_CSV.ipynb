{
 "cells": [
  {
   "cell_type": "code",
   "execution_count": null,
   "id": "98c3738a-d400-41dc-84df-6e8794e23e26",
   "metadata": {},
   "outputs": [],
   "source": [
    "Loading and Saving CSVs\n",
    "\n",
    "When you have data in a CSV, you can load it into a \n",
    "\n",
    "DataFrame\n",
    " in Pandas using\n",
    "\n",
    ".read_csv():\n",
    "\n",
    "pd.read_csv('my-csv-file.csv')\n",
    "\n",
    "to Clipboard\n",
    "\n",
    "In the example above, the .read_csv() method is called. The CSV file called my-csv-file is passed in as an argument.\n",
    "\n",
    "We can also save data to a CSV, using .to_csv().\n",
    "\n",
    "df.to_csv('new-csv-file.csv')\n",
    "\n",
    "to Clipboard\n",
    "\n",
    "In the example above, the .to_csv() method is called on df (which represents a DataFrame object). \n",
    "The name of the CSV file is passed in as an argument (new-csv-file.csv). By default, this method will save the CSV file \n",
    "in your current directory."
   ]
  },
  {
   "cell_type": "code",
   "execution_count": null,
   "id": "daebc710-767f-443a-a1b8-1e49f98140dd",
   "metadata": {},
   "outputs": [],
   "source": [
    "1.  You’re working for the County of Whoville and you just received a CSV of data about the different cities in your county. \n",
    "Read the CSV 'cupcakes.csv' into a variable called df, so that you can learn more about the cakes.\n",
    "\n",
    "2. Let’s inspect the CSV.\n",
    "\n",
    "Type print(df) \n",
    "\n",
    "on the next line and then run your code. What sort of data were you sent?"
   ]
  },
  {
   "cell_type": "code",
   "execution_count": 3,
   "id": "5e14b9bc-1ba5-4238-bcb1-6f8b59c547e4",
   "metadata": {},
   "outputs": [
    {
     "name": "stdout",
     "output_type": "stream",
     "text": [
      "             name cake_flavor frosting_flavor             topping\n",
      "0  Chocolate Cake   chocolate       chocolate  chocolate shavings\n",
      "1   Birthday Cake     vanilla         vanilla   rainbow sprinkles\n",
      "2     Carrot Cake      carrot    cream cheese             almonds\n"
     ]
    }
   ],
   "source": [
    "#import codecademylib3\n",
    "import pandas as pd\n",
    "df = pd.read_csv('cupcakes.csv')\n",
    "print(df)"
   ]
  },
  {
   "cell_type": "code",
   "execution_count": null,
   "id": "5e25f301-116f-4e7c-992f-3abd2ab9a95d",
   "metadata": {},
   "outputs": [],
   "source": []
  }
 ],
 "metadata": {
  "kernelspec": {
   "display_name": "Python 3 (ipykernel)",
   "language": "python",
   "name": "python3"
  },
  "language_info": {
   "codemirror_mode": {
    "name": "ipython",
    "version": 3
   },
   "file_extension": ".py",
   "mimetype": "text/x-python",
   "name": "python",
   "nbconvert_exporter": "python",
   "pygments_lexer": "ipython3",
   "version": "3.12.4"
  }
 },
 "nbformat": 4,
 "nbformat_minor": 5
}
