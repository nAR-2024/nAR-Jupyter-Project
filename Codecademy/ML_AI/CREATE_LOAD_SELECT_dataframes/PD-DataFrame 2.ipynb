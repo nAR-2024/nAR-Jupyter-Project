{
 "cells": [
  {
   "cell_type": "code",
   "execution_count": null,
   "id": "3b97170c-f0a9-4f9c-8fd9-79f4a8b66126",
   "metadata": {},
   "outputs": [],
   "source": [
    "Create a Data Frame 2\n",
    "\n",
    "You can also add data using lists.\n",
    "\n",
    "For example, you can pass in a list of lists, where each one represents a row of data. \n",
    "Use the keyword argument columns to pass a list of column names.\n",
    "\n",
    "df2 = pd.DataFrame([\n",
    "    ['John Smith', '123 Main St.', 34],\n",
    "    ['Jane Doe', '456 Maple Ave.', 28],\n",
    "    ['Joe Schmo', '789 Broadway', 51]\n",
    "    ],\n",
    "    columns=['name', 'address', 'age'])\n",
    "\n",
    "to Clipboard\n",
    "\n",
    "This command produces a DataFrame df2 that looks like this:\n",
    "\n",
    "name\taddress\tage\n",
    "John Smith\t123 Main St.\t34\n",
    "Jane Doe\t456 Maple Ave.\t28\n",
    "Joe Schmo\t789 Broadway\t51\n",
    "\n",
    "In this example, we were able to control the ordering of the columns because we used lists."
   ]
  },
  {
   "cell_type": "code",
   "execution_count": 3,
   "id": "35fdcf15-6bc9-49d6-9403-3b23153d8418",
   "metadata": {},
   "outputs": [],
   "source": [
    "import pandas as pd\n",
    "df2 = pd.DataFrame([\n",
    "    ['John Smith', '123 Main St.', 34],\n",
    "    ['Jane Doe', '456 Maple Ave.', 28],\n",
    "    ['Joe Schmo', '789 Broadway', 51]\n",
    "    ],\n",
    "    columns=['name', 'address', 'age'])"
   ]
  },
  {
   "cell_type": "code",
   "execution_count": null,
   "id": "f36a9f9f-5c25-4b65-ac81-69b096ec4a8b",
   "metadata": {},
   "outputs": [],
   "source": [
    "1.  You’re running a chain of pita shops called Pita Power. You want to create a DataFrame with \n",
    "information on your different store locations.\n",
    "\n",
    "Use a list of lists to create a DataFrame with the following data:\n",
    "\n",
    "Store ID\tLocation\tNumber of Employees\n",
    "1\tSan Diego\t100\n",
    "2\tLos Angeles\t120\n",
    "3\tSan Francisco\t90\n",
    "4\tSacramento\t115\n",
    "\n",
    "We have filled in the information for the first two rows in df2.\n",
    "\n",
    "Add the code to create the 3rd and 4th rows, and the column names."
   ]
  },
  {
   "cell_type": "code",
   "execution_count": 5,
   "id": "2e87ddec-a9da-4ce7-8938-2bf9220ee541",
   "metadata": {},
   "outputs": [
    {
     "name": "stdout",
     "output_type": "stream",
     "text": [
      "   Store ID       Location  Number of Employees\n",
      "0         1      San Diego                  100\n",
      "1         2    Los Angeles                  120\n",
      "2         3  San Francisco                   90\n",
      "3         4     Sacramento                  115\n"
     ]
    }
   ],
   "source": [
    "#import codecademylib3\n",
    "import pandas as pd\n",
    "\n",
    "df2 = pd.DataFrame([\n",
    "  [1, 'San Diego', 100],\n",
    "  [2, 'Los Angeles', 120],\n",
    "  [3, 'San Francisco', 90],\n",
    "  [4, 'Sacramento', 115]\n",
    "  # Fill in rows 3 and 4\n",
    "],\n",
    "  columns=['Store ID', 'Location', 'Number of Employees'])\n",
    "\n",
    "print(df2)"
   ]
  },
  {
   "cell_type": "code",
   "execution_count": null,
   "id": "7f0f6ddc-2050-494d-bd2c-d54717d7f969",
   "metadata": {},
   "outputs": [],
   "source": []
  }
 ],
 "metadata": {
  "kernelspec": {
   "display_name": "Python 3 (ipykernel)",
   "language": "python",
   "name": "python3"
  },
  "language_info": {
   "codemirror_mode": {
    "name": "ipython",
    "version": 3
   },
   "file_extension": ".py",
   "mimetype": "text/x-python",
   "name": "python",
   "nbconvert_exporter": "python",
   "pygments_lexer": "ipython3",
   "version": "3.12.4"
  }
 },
 "nbformat": 4,
 "nbformat_minor": 5
}
