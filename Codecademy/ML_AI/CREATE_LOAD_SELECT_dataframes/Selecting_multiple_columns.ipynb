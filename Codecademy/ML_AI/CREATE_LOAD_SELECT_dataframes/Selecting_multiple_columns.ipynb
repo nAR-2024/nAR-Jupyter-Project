{
 "cells": [
  {
   "cell_type": "code",
   "execution_count": null,
   "id": "fa33d54b-ce90-4da6-8775-0412fdfb101b",
   "metadata": {},
   "outputs": [],
   "source": [
    "Selecting Multiple Columns\n",
    "\n",
    "When you have a larger DataFrame, you might want to select just a few columns.\n",
    "\n",
    "For instance, let’s return to a DataFrame of orders from ShoeFly.com:\n",
    "\n",
    "id\tfirst_name\tlast_name\temail\tshoe_type\tshoe_material\tshoe_color\n",
    "54791\tRebecca\tLindsay\tRebeccaLindsay57@hotmail.com\tclogs\tfaux-leather\tblack\n",
    "53450\tEmily\tJoyce\tEmilyJoyce25@gmail.com\tballet flats\tfaux-leather\tnavy\n",
    "91987\tJoyce\tWaller\tJoyce.Waller@gmail.com\tsandals\tfabric\tblack\n",
    "14437\tJustin\tErickson\tJustin.Erickson@outlook.com\tclogs\tfaux-leather\tred\n",
    "\n",
    "We might just be interested in the customer’s last_name and email. We want a DataFrame like this:\n",
    "\n",
    "last_name\t email\n",
    "Lindsay\t     RebeccaLindsay57@hotmail.com\n",
    "Joyce\t     EmilyJoyce25@gmail.com\n",
    "Waller\t     Joyce.Waller@gmail.com\n",
    "Erickson\t Justin.Erickson@outlook.com\n",
    "\n",
    "To select two or more columns from a DataFrame, we use a list of the column names. To create the DataFrame shown above, \n",
    "we would use:\n",
    "\n",
    "new_df = orders[['last_name', 'email']]\n",
    "\n",
    "\n",
    "Note: Make sure that you have a double set of brackets ([[]]), or this command won’t work!\n"
   ]
  },
  {
   "cell_type": "code",
   "execution_count": null,
   "id": "3cf7b53f-9fa9-47cf-b248-9d241fd9b7c7",
   "metadata": {},
   "outputs": [],
   "source": [
    "1.  Now, you want to compare visits to the Northern and Southern clinics.\n",
    "\n",
    "Create a variable called clinic_north_south that contains ONLY the data from the columns clinic_north and clinic_south.\n",
    "\n",
    "2.  When we select multiple columns, do we get a Series or a DataFrame?\n",
    "\n",
    "After you’ve created the variable, enter the command:\n",
    "\n",
    "print(type(clinic_north_south))\n",
    "\n",
    "to see what data type you’ve created.\n",
    "\n",
    "How is this different from what happened in the previous exercise?"
   ]
  },
  {
   "cell_type": "code",
   "execution_count": 9,
   "id": "30a7f987-b0c0-4e9c-82e2-dd4f70214e61",
   "metadata": {},
   "outputs": [
    {
     "name": "stdout",
     "output_type": "stream",
     "text": [
      "   clinic_north  clinic_south\n",
      "0           100            23\n",
      "1            45           145\n",
      "2            96            65\n",
      "3            80            54\n",
      "4            54            54\n",
      "5           109            79\n",
      "<class 'pandas.core.frame.DataFrame'>\n"
     ]
    }
   ],
   "source": [
    "import pandas as pd\n",
    "\n",
    "df = pd.DataFrame([\n",
    "  ['January', 100, 100, 23, 100],\n",
    "  ['February', 51, 45, 145, 45],\n",
    "  ['March', 81, 96, 65, 96],\n",
    "  ['April', 80, 80, 54, 180],\n",
    "  ['May', 51, 54, 54, 154],\n",
    "  ['June', 112, 109, 79, 129]],\n",
    "  columns=['month', 'clinic_east',\n",
    "           'clinic_north', 'clinic_south',\n",
    "           'clinic_west']\n",
    ")\n",
    "#create variable, and select the columns\n",
    "clinic_north_south = df[['clinic_north', 'clinic_south']]\n",
    "\n",
    "\n",
    "print(clinic_north_south)\n",
    "print(type(clinic_north_south))"
   ]
  },
  {
   "cell_type": "code",
   "execution_count": null,
   "id": "e2bc27f3-a9ee-4799-8b3d-fd89a7e2a166",
   "metadata": {},
   "outputs": [],
   "source": []
  }
 ],
 "metadata": {
  "kernelspec": {
   "display_name": "Python 3 (ipykernel)",
   "language": "python",
   "name": "python3"
  },
  "language_info": {
   "codemirror_mode": {
    "name": "ipython",
    "version": 3
   },
   "file_extension": ".py",
   "mimetype": "text/x-python",
   "name": "python",
   "nbconvert_exporter": "python",
   "pygments_lexer": "ipython3",
   "version": "3.12.4"
  }
 },
 "nbformat": 4,
 "nbformat_minor": 5
}
