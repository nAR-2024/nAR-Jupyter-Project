{
 "cells": [
  {
   "cell_type": "code",
   "execution_count": null,
   "id": "d5f1cb27-2704-4784-b75d-96efc5112d8a",
   "metadata": {},
   "outputs": [],
   "source": [
    "Adding a Column III\n",
    "\n",
    "Finally, you can add a new column by performing a function on the existing columns.\n",
    "\n",
    "Maybe we want to add a column to our inventory table with the amount of sales tax that we need to charge for each item. The following code multiplies each Price by 0.075, the sales tax for our state:\n",
    "\n",
    "df['Sales Tax'] = df.Price * 0.075\n",
    "\n",
    "to Clipboard\n",
    "\n",
    "Now our table has a column called Sales Tax:\n",
    "\n",
    "Product ID\tProduct Description\tCost to Manufacture\tPrice\tSales Tax\n",
    "1\t3 inch screw\t0.50\t0.75\t0.06\n",
    "2\t2 inch nail\t0.10\t0.25\t0.02\n",
    "3\thammer\t3.00\t5.50\t0.41\n",
    "4\tscrewdriver\t2.50\t3.00\t0.22\n"
   ]
  },
  {
   "cell_type": "code",
   "execution_count": null,
   "id": "05cf97b2-a050-48ac-9aec-70cca662aa74",
   "metadata": {},
   "outputs": [],
   "source": [
    "Instructions\n",
    "\n",
    "1.  Add a column to df called 'Margin', which is equal to the difference between the Price and the Cost to Manufacture."
   ]
  },
  {
   "cell_type": "code",
   "execution_count": 3,
   "id": "e2cd397d-f70c-481b-82f3-a91bdc06bab6",
   "metadata": {},
   "outputs": [
    {
     "name": "stdout",
     "output_type": "stream",
     "text": [
      "   Product ID   Description  Cost to Manufacture  Price\n",
      "0           1  3 inch screw                  0.5   0.75\n",
      "1           2   2 inch nail                  0.1   0.25\n",
      "2           3        hammer                  3.0   5.50\n",
      "3           4   screwdriver                  2.5   3.00\n",
      "   Product ID   Description  Cost to Manufacture  Price  Margin\n",
      "0           1  3 inch screw                  0.5   0.75    0.25\n",
      "1           2   2 inch nail                  0.1   0.25    0.15\n",
      "2           3        hammer                  3.0   5.50    2.50\n",
      "3           4   screwdriver                  2.5   3.00    0.50\n"
     ]
    }
   ],
   "source": [
    "import pandas as pd\n",
    "\n",
    "df = pd.DataFrame([\n",
    "  [1, '3 inch screw', 0.5, 0.75],\n",
    "  [2, '2 inch nail', 0.10, 0.25],\n",
    "  [3, 'hammer', 3.00, 5.50],\n",
    "  [4, 'screwdriver', 2.50, 3.00]\n",
    "],\n",
    "  columns=['Product ID', 'Description', 'Cost to Manufacture', 'Price']\n",
    ")\n",
    "print(df)\n",
    "\n",
    "# Add the 'Margin' column here\n",
    "df['Margin'] = df['Price'] - df['Cost to Manufacture']\n",
    "print(df)"
   ]
  },
  {
   "cell_type": "code",
   "execution_count": null,
   "id": "0b74c6fb-e531-4b6c-8d40-6a68704328f7",
   "metadata": {},
   "outputs": [],
   "source": []
  }
 ],
 "metadata": {
  "kernelspec": {
   "display_name": "Python 3 (ipykernel)",
   "language": "python",
   "name": "python3"
  },
  "language_info": {
   "codemirror_mode": {
    "name": "ipython",
    "version": 3
   },
   "file_extension": ".py",
   "mimetype": "text/x-python",
   "name": "python",
   "nbconvert_exporter": "python",
   "pygments_lexer": "ipython3",
   "version": "3.12.4"
  }
 },
 "nbformat": 4,
 "nbformat_minor": 5
}
