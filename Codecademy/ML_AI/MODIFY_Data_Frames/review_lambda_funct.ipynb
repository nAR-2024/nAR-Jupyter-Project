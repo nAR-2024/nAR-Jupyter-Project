{
 "cells": [
  {
   "cell_type": "code",
   "execution_count": null,
   "id": "aabfb21b-ef1f-45b4-84a3-3122bb59bbf3",
   "metadata": {},
   "outputs": [],
   "source": [
    "Reviewing Lambda Function\n",
    "A lambda function is a way of defining a function in a single line of code. Usually, we would assign them to a variable.\n",
    "\n",
    "For example, the following lambda function multiplies a number by 2 and then adds 3:\n",
    "\n",
    "mylambda = lambda x: (x * 2) + 3\n",
    "print(mylambda(5))\n",
    "\n",
    "\n",
    "\n",
    "The output:\n",
    "\n",
    "> 13\n",
    "\n",
    "to Clipboard\n",
    "\n",
    "Lambda functions work with all types of variables, not just integers! Here is an example that takes in a string, assigns it to the temporary variable x, and then converts it into lowercase:\n",
    "\n",
    "stringlambda = lambda x: x.lower()\n",
    "print(stringlambda(\"Oh Hi Mark!\"))\n",
    "\n",
    "\n",
    "\n",
    "The output:\n",
    "\n",
    "> \"oh hi mark!\"\n",
    "\n",
    "\n",
    "\n",
    "Learn more about lambda functions in this article!\n"
   ]
  },
  {
   "cell_type": "code",
   "execution_count": null,
   "id": "d13bb005-eed2-45c2-a423-e1be09c17d2d",
   "metadata": {},
   "outputs": [],
   "source": [
    "\n",
    "Instructions\n",
    "Checkpoint 1 Enabled\n",
    "1.\n",
    "Create a lambda function mylambda that returns the first and last letters of a string, assuming the string is at least 2 characters long. For example,\n",
    "\n",
    "print(mylambda('This is a string'))\n",
    "\n",
    "to Clipboard\n",
    "\n",
    "should produce:\n",
    "\n",
    "'Tg'\n"
   ]
  },
  {
   "cell_type": "code",
   "execution_count": 8,
   "id": "e893c330-c41a-447a-a733-3683450e81a9",
   "metadata": {},
   "outputs": [
    {
     "name": "stdout",
     "output_type": "stream",
     "text": [
      "this  strin\n"
     ]
    }
   ],
   "source": [
    "mylambda = lambda x: x[0:5] + x[10:-1]\n",
    "print(mylambda('this is my string'))"
   ]
  },
  {
   "cell_type": "code",
   "execution_count": null,
   "id": "92e850a0-9854-4fe3-a3c8-287b742cc876",
   "metadata": {},
   "outputs": [],
   "source": []
  }
 ],
 "metadata": {
  "kernelspec": {
   "display_name": "Python 3 (ipykernel)",
   "language": "python",
   "name": "python3"
  },
  "language_info": {
   "codemirror_mode": {
    "name": "ipython",
    "version": 3
   },
   "file_extension": ".py",
   "mimetype": "text/x-python",
   "name": "python",
   "nbconvert_exporter": "python",
   "pygments_lexer": "ipython3",
   "version": "3.12.4"
  }
 },
 "nbformat": 4,
 "nbformat_minor": 5
}
