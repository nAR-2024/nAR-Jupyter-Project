{
 "cells": [
  {
   "cell_type": "code",
   "execution_count": null,
   "id": "856215c9-89f5-4cf8-a86a-c8325a4a0e24",
   "metadata": {},
   "outputs": [],
   "source": [
    "Adding a Column I\n",
    "5 min\n",
    "Sometimes, we want to add a column to an existing DataFrame. We might want to add new information or perform a calculation based on the data that we already have.\n",
    "\n",
    "One way that we can add a new column is by giving a list of the same length as the existing DataFrame.\n",
    "\n",
    "Suppose we own a hardware store called The Handy Woman and have a DataFrame containing inventory information:\n",
    "\n",
    "Product ID\tProduct Description\tCost to Manufacture\tPrice\n",
    "1\t3 inch screw\t0.50\t0.75\n",
    "2\t2 inch nail\t0.10\t0.25\n",
    "3\thammer\t3.00\t5.50\n",
    "4\tscrewdriver\t2.50\t3.00\n",
    "\n",
    "It looks like the actual quantity of each product in our warehouse is missing!\n",
    "\n",
    "Let’s use the following code to add that information to our DataFrame.\n",
    "\n",
    "df['Quantity'] = [100, 150, 50, 35]\n",
    "\n",
    "to Clipboard\n",
    "\n",
    "Our new DataFrame looks like this:\n",
    "\n",
    "Product ID\tProduct Description\tCost to Manufacture\tPrice\tQuantity\n",
    "1\t3 inch screw\t0.50\t0.75\t100\n",
    "2\t2 inch nail\t0.10\t0.25\t150\n",
    "3\thammer\t3.00\t5.50\t50\n",
    "4\tscrewdriver\t2.50\t3.00\t35\n"
   ]
  },
  {
   "cell_type": "code",
   "execution_count": null,
   "id": "28c2b5e5-858a-45a7-b884-0c796592fdf5",
   "metadata": {},
   "outputs": [],
   "source": [
    "1.\n",
    "The DataFrame df contains information on products sold at a hardware store. Add a column to df called 'Sold in Bulk?', \n",
    "which indicates if the product is sold in bulk or individually. The final table should look like this:\n",
    "\n",
    "Product ID\tProduct Description\tCost to Manufacture\tPrice\tSold in Bulk?\n",
    "1\t3 inch screw\t0.50\t0.75\tYes\n",
    "2\t2 inch nail\t0.10\t0.25\tYes\n",
    "3\thammer\t3.00\t5.50\tNo\n",
    "4\tscrewdriver\t2.50\t3.00\tNo\n"
   ]
  },
  {
   "cell_type": "code",
   "execution_count": 4,
   "id": "3614a4e7-0473-40ac-8d63-f965a48fadb4",
   "metadata": {},
   "outputs": [
    {
     "name": "stdout",
     "output_type": "stream",
     "text": [
      "   Product ID   Description  Cost to Manufacture  Price Sold in Bulk?\n",
      "0           1  3 inch screw                  0.5   0.75           Yes\n",
      "1           2   2 inch nail                  0.1   0.25           Yes\n",
      "2           3        hammer                  3.0   5.50            No\n",
      "3           4   screwdriver                  2.5   3.00            No\n"
     ]
    }
   ],
   "source": [
    "import pandas as pd\n",
    "\n",
    "df = pd.DataFrame([\n",
    "  [1, '3 inch screw', 0.5, 0.75],\n",
    "  [2, '2 inch nail', 0.10, 0.25],\n",
    "  [3, 'hammer', 3.00, 5.50],\n",
    "  [4, 'screwdriver', 2.50, 3.00]\n",
    "],\n",
    "  columns=['Product ID', 'Description', 'Cost to Manufacture', 'Price']\n",
    ")\n",
    "\n",
    "# Add columns here\n",
    "df['Sold in Bulk?'] = ['Yes', 'Yes', 'No', 'No']\n",
    "print(df)"
   ]
  },
  {
   "cell_type": "code",
   "execution_count": null,
   "id": "0c1b474f-8f89-476a-979b-8daaa4a13015",
   "metadata": {},
   "outputs": [],
   "source": []
  }
 ],
 "metadata": {
  "kernelspec": {
   "display_name": "Python 3 (ipykernel)",
   "language": "python",
   "name": "python3"
  },
  "language_info": {
   "codemirror_mode": {
    "name": "ipython",
    "version": 3
   },
   "file_extension": ".py",
   "mimetype": "text/x-python",
   "name": "python",
   "nbconvert_exporter": "python",
   "pygments_lexer": "ipython3",
   "version": "3.12.4"
  }
 },
 "nbformat": 4,
 "nbformat_minor": 5
}
