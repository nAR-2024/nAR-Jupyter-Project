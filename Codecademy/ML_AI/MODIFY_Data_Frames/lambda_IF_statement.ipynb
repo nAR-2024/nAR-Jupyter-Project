{
 "cells": [
  {
   "cell_type": "code",
   "execution_count": null,
   "id": "9851954a-b56a-4ef7-b496-5e2ea67c38cc",
   "metadata": {},
   "outputs": [],
   "source": [
    "Reviewing Lambda Function: If Statements\n",
    "\n",
    "We can make our lambdas more complex by using a modified form of an if statement.\n",
    "\n",
    "Suppose we want to pay workers time-and-a-half for overtime (any work above 40 hours per week). The following \n",
    "function will convert the number of hours into time-and-a-half hours using an if statement:\n",
    "\n",
    "def myfunction(x):\n",
    "    if x > 40:\n",
    "        return 40 + (x - 40) * 1.50\n",
    "    else:\n",
    "        return x\n",
    "\n",
    "\n",
    "\n",
    "Below is a lambda function that does the same thing:\n",
    "\n",
    "myfunction = lambda x: 40 + (x - 40) * 1.50 if x > 40 else x\n",
    "\n",
    "In general, the syntax for an if function in a lambda function is:\n",
    "\n",
    "lambda x: [OUTCOME IF TRUE] if [CONDITIONAL] else [OUTCOME IF FALSE]\n",
    "\n"
   ]
  },
  {
   "cell_type": "code",
   "execution_count": null,
   "id": "9b42aba3-2fe2-4912-913b-07fae6dd4603",
   "metadata": {},
   "outputs": [],
   "source": [
    "Instructions\n",
    "\n",
    "1.  You are managing the webpage of a somewhat violent video game and you want to check that each user’s age is 13 or \n",
    "greater when they visit the site.\n",
    "\n",
    "Write a lambda function that takes an inputted age and either returns Welcome to BattleCity! if the user is 13 or \n",
    "older or You must be 13 or older if they are younger than 13. Your lambda function should be called mylambda.\n"
   ]
  },
  {
   "cell_type": "code",
   "execution_count": 13,
   "id": "d185683b-3416-472f-a83e-e4e43cfadeab",
   "metadata": {},
   "outputs": [
    {
     "name": "stdout",
     "output_type": "stream",
     "text": [
      "Welcome to BattleCity!\n",
      "You must be 13 or older\n"
     ]
    }
   ],
   "source": [
    "\n",
    "num1 = lambda x: 'Welcome to BattleCity!' if x >= 13 else 'You must be 13 or older'\n",
    "\n",
    "#test the lambda function\n",
    "print(num1(15))\n",
    "print(num1(10))\n",
    "      "
   ]
  },
  {
   "cell_type": "code",
   "execution_count": null,
   "id": "7868396a-adff-4642-a3bc-bfc34299949d",
   "metadata": {},
   "outputs": [],
   "source": []
  }
 ],
 "metadata": {
  "kernelspec": {
   "display_name": "Python 3 (ipykernel)",
   "language": "python",
   "name": "python3"
  },
  "language_info": {
   "codemirror_mode": {
    "name": "ipython",
    "version": 3
   },
   "file_extension": ".py",
   "mimetype": "text/x-python",
   "name": "python",
   "nbconvert_exporter": "python",
   "pygments_lexer": "ipython3",
   "version": "3.12.4"
  }
 },
 "nbformat": 4,
 "nbformat_minor": 5
}
