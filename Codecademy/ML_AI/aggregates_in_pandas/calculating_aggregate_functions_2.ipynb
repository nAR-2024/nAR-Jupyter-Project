{
 "cells": [
  {
   "cell_type": "code",
   "execution_count": null,
   "id": "82c0e06d-a124-46b6-a364-8271861fa3c3",
   "metadata": {},
   "outputs": [],
   "source": [
    "Calculating Aggregate Functions II\n",
    "\n",
    "After using groupby, we often need to clean our resulting data.\n",
    "\n",
    "As we saw in the previous exercise, the groupby function creates a new Series, not a DataFrame. For our ShoeFly.com example,\n",
    "the indices of the Series were different values of shoe_type, and the name property was price.\n",
    "\n",
    "Usually, we’d prefer that those indices were actually a column. In order to get that, we can use reset_index(). This will \n",
    "transform our Series into a DataFrame and move the indices into their own column.\n",
    "\n",
    "Generally, you’ll always see a groupby statement followed by reset_index:\n",
    "\n",
    "df.groupby('column1').column2.measurement()\n",
    "    .reset_index()\n",
    "\n",
    "\n",
    "When we use groupby, we often want to rename the column we get as a result. For example, suppose we have a DataFrame teas containing data on types of tea:\n",
    "\n",
    "id\ttea\tcategory\t        caffeine\tprice\n",
    "0\tearl grey black\t        38\t            3 \n",
    "1\tenglish breakfast black\t41\t            3\n",
    "2\tirish breakfast\tblack\t37 \t          2.5\n",
    "3\tjasmine\tgreen\t        23\t          4.5\n",
    "4\tmatcha\tgreen\t        48\t            5\n",
    "5\tcamomile herbal\t         0\t            3\n",
    "…\t\t\t\t\n",
    "We want to find the number of each category of tea we sell. We can use:\n",
    "\n",
    "teas_counts = teas.groupby('category').id.count().reset_index()\n",
    "\n",
    "\n",
    "This yields a DataFrame that looks like:\n",
    "\n",
    "    category\tid\n",
    "0\tblack\t     3\n",
    "1\tgreen\t     4\n",
    "2\therbal\t     8\n",
    "3\twhite\t     2\n",
    "…\t\t\n",
    "The new column contains the counts of each category of tea sold. We have 3 black teas, 4 green teas, and so on. However,\n",
    "this column is called id because we used the id column of teas to calculate the counts. We actually want to call this column counts. \n",
    "Remember that we can rename columns:\n",
    "\n",
    "teas_counts = teas_counts.rename(columns={\"id\": \"counts\"})\n",
    "\n",
    "\n",
    "Our DataFrame now looks like:\n",
    "\n",
    "    category\tcounts\n",
    "0\tblack\t       3\n",
    "1\tgreen\t       4\n",
    "2\therbal\t       8\n",
    "3\twhite\t       2\n",
    "…\t\t"
   ]
  },
  {
   "cell_type": "code",
   "execution_count": null,
   "id": "9db43c67-3031-4a65-acf8-29fcd6dfdf17",
   "metadata": {},
   "outputs": [],
   "source": [
    "1.  Modify your code from the previous exercise so that it ends with reset_index, which will change pricey_shoes into a DataFrame.\n",
    " \n",
    "2.  Examine the object that you’ve just created using the following code:\n",
    "\n",
    "print(pricey_shoes)\n",
    "\n",
    "3.  Now, what type of object is pricey_shoes?\n",
    "\n",
    "Enter the following code to check:\n",
    "\n",
    "print(type(pricey_shoes))"
   ]
  },
  {
   "cell_type": "code",
   "execution_count": null,
   "id": "61094d59-70e2-4965-b35f-18dd69da1d0a",
   "metadata": {},
   "outputs": [],
   "source": [
    "import pandas as pd\n",
    "\n",
    "orders = pd.read_csv('orders.csv')\n",
    "\n",
    "pricey_shoes = orders.groupby('shoe_type').price.max().reset_index()\n",
    "\n",
    "print(pricey_shoes)\n",
    "\n",
    "print(type(pricey_shoes))"
   ]
  }
 ],
 "metadata": {
  "kernelspec": {
   "display_name": "Python 3 (ipykernel)",
   "language": "python",
   "name": "python3"
  },
  "language_info": {
   "codemirror_mode": {
    "name": "ipython",
    "version": 3
   },
   "file_extension": ".py",
   "mimetype": "text/x-python",
   "name": "python",
   "nbconvert_exporter": "python",
   "pygments_lexer": "ipython3",
   "version": "3.12.4"
  }
 },
 "nbformat": 4,
 "nbformat_minor": 5
}
