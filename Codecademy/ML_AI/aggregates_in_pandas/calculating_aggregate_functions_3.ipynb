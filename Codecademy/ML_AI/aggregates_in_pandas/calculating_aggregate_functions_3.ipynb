{
 "cells": [
  {
   "cell_type": "code",
   "execution_count": null,
   "id": "5bb0ab18-3453-4a99-8e57-807435ea75f4",
   "metadata": {},
   "outputs": [],
   "source": [
    "Calculating Aggregate Functions III\n",
    "\n",
    "Sometimes, the operation that you want to perform is more complicated than mean or count. In those cases, \n",
    "you can use the apply method and lambda functions, just like we did for individual column operations. Note that \n",
    "the input to our lambda function will always be a list of values.\n",
    "\n",
    "A great example of this is calculating percentiles. Suppose we have a DataFrame of employee information called df that has the following columns:\n",
    "\n",
    "id: the employee’s id number\n",
    "name: the employee’s name\n",
    "wage: the employee’s hourly wage\n",
    "category: the type of work that the employee does\n",
    "Our data might look something like this:\n",
    "\n",
    "id\t    name\t        wage\tcategory\n",
    "10131\tSarah Carney\t39\t    product\n",
    "14189\tHeather Carey\t17\t    design\n",
    "15004\tGary Mercado\t33\t    marketing\n",
    "11204\tCora Copaz\t    27\t    design\n",
    "…\t\t\t\n",
    "If we want to calculate the 75th percentile (i.e., the point at which 75% of employees have a lower wage and 25% have \n",
    "a higher wage) for each category, we can use the following combination of apply and a lambda function:\n",
    "\n",
    "# np.percentile can calculate any percentile over an array of values\n",
    "high_earners = df.groupby('category').wage\n",
    "    .apply(lambda x: np.percentile(x, 75))\n",
    "    .reset_index()\n",
    "\n",
    "\n",
    "\n",
    "The output, high_earners might look like this:\n",
    "\n",
    "    category\twage\n",
    "0\tdesign\t    23\n",
    "1\tmarketing\t35\n",
    "2\tproduct\t    48\n"
   ]
  },
  {
   "cell_type": "code",
   "execution_count": null,
   "id": "7c8a2a06-8112-4f29-9d57-a7c2fb2ad935",
   "metadata": {},
   "outputs": [],
   "source": [
    "Instructions\n",
    "\n",
    "1. Once more, we’ll return to the data from ShoeFly.com. Our Marketing team says that it’s important to have some affordably priced shoes \n",
    "available for every color of shoe that we sell.\n",
    "\n",
    "Let’s calculate the 25th percentile for shoe price for each shoe_color to help Marketing decide if we have enough cheap shoes on sale. \n",
    "Save the data to the variable cheap_shoes.\n",
    "\n",
    "Note: Be sure to use reset_index() at the end of your query so that cheap_shoes is a DataFrame.\n",
    "\n",
    "2. Display cheap_shoes using print."
   ]
  },
  {
   "cell_type": "code",
   "execution_count": null,
   "id": "46ffbf97-a443-40b0-8cf0-af0933ae4197",
   "metadata": {},
   "outputs": [],
   "source": [
    "import codecademylib3\n",
    "import numpy as np\n",
    "import pandas as pd\n",
    "\n",
    "orders = pd.read_csv('orders.csv')\n",
    "\n",
    "cheap_shoes = orders.groupby('shoe_color').price.apply(lambda x: np.percentile(x, 25)).reset_index()\n",
    "\n",
    "print(cheap_shoes)"
   ]
  }
 ],
 "metadata": {
  "kernelspec": {
   "display_name": "Python 3 (ipykernel)",
   "language": "python",
   "name": "python3"
  },
  "language_info": {
   "codemirror_mode": {
    "name": "ipython",
    "version": 3
   },
   "file_extension": ".py",
   "mimetype": "text/x-python",
   "name": "python",
   "nbconvert_exporter": "python",
   "pygments_lexer": "ipython3",
   "version": "3.12.4"
  }
 },
 "nbformat": 4,
 "nbformat_minor": 5
}
