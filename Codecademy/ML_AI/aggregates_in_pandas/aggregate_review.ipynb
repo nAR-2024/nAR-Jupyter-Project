{
 "cells": [
  {
   "cell_type": "code",
   "execution_count": null,
   "id": "c77ed95c-f0df-4580-9b31-d762a59cfeb9",
   "metadata": {},
   "outputs": [],
   "source": [
    "Review\n",
    "\n",
    "\n",
    "Instructions\n",
    "\n",
    "1. Let’s examine some more data from ShoeFly.com. This time, we’ll be looking at data about user visits to the website (the same dataset that you saw in \n",
    "the introduction to this lesson).The data is a DataFrame called user_visits. Use print and head() to examine the first few rows of the DataFrame.\n",
    "\n",
    "2. The column utm_source contains information about how users got to ShoeFly’s homepage. For instance, if utm_source = Facebook, then the user came \n",
    "to ShoeFly by clicking on an ad on Facebook.com.  Use a groupby statement to calculate how many visits came from each of the different sources. \n",
    "Save your answer to the variable click_source. Remember to use reset_index()!\n",
    "\n",
    "3. Paste the following code into script.py so that you can see the results of your previous groupby:\n",
    "print(click_source)\n",
    "\n",
    "4.Our Marketing department thinks that the traffic to our site has been changing over the past few months. Use groupby to calculate the number of visits \n",
    "to our site fr\n",
    "\n",
    "5. The head of Marketing is complaining that this table is hard to read. Use pivot to create a pivot table where the rows are utm_source and\n",
    "the columns are month. Save your results to the variable click_source_by_month_pivot.\n",
    "\n",
    "It should look something like this:\n",
    "\n",
    "utm_source\t1 - January\t2 - February\t3 - March\n",
    "email\t…\t…\t…\n",
    "facebook\t…\t…\t…\n",
    "google\t…\t…\t…\n",
    "twitter\t…\t…\t…\n",
    "yahoo\t…\t…\t…\n",
    "\n",
    "6. View your pivot table by pasting the following code into script.py:\n",
    "\n",
    "print(click_source_by_month_pivot)\n"
   ]
  },
  {
   "cell_type": "code",
   "execution_count": null,
   "id": "a3c99b84-7e17-49d4-beb1-e8e1752b5c98",
   "metadata": {},
   "outputs": [],
   "source": [
    "import codecademylib3\n",
    "import pandas as pd\n",
    "\n",
    "user_visits = pd.read_csv('page_visits.csv')\n",
    "\n",
    "# Part 1.\n",
    "print(user_visits.head(10))\n",
    "\n",
    "# Part 2.\n",
    "click_source = user_visits.groupby('utm_source').id.count().reset_index()\n",
    "\n",
    "#Part 3.\n",
    "print(click_source)\n",
    "\n",
    "#Part 4.\n",
    "click_source_by_month = user_visits.groupby(['utm_source', 'month']).id.count().reset_index()\n",
    "\n",
    "#print(click_source_by_month)\n",
    "\n",
    "#Part 5.\n",
    "click_source_by_month_pivot = click_source_by_month.pivot(\n",
    "\tcolumns = 'month',\n",
    "\tindex = 'utm_source',\n",
    "\tvalues = 'id').reset_index()\n",
    "\n",
    "#Part 6.\n",
    "print(click_source_by_month_pivot)"
   ]
  }
 ],
 "metadata": {
  "kernelspec": {
   "display_name": "Python 3 (ipykernel)",
   "language": "python",
   "name": "python3"
  },
  "language_info": {
   "codemirror_mode": {
    "name": "ipython",
    "version": 3
   },
   "file_extension": ".py",
   "mimetype": "text/x-python",
   "name": "python",
   "nbconvert_exporter": "python",
   "pygments_lexer": "ipython3",
   "version": "3.12.4"
  }
 },
 "nbformat": 4,
 "nbformat_minor": 5
}
