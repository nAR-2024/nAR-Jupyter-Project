{
 "cells": [
  {
   "cell_type": "code",
   "execution_count": 8,
   "id": "08779d8a-0984-43a7-a1aa-339f6e42658d",
   "metadata": {},
   "outputs": [
    {
     "name": "stdout",
     "output_type": "stream",
     "text": [
      "#\n",
      "#\n",
      "#\n",
      "#\n"
     ]
    }
   ],
   "source": [
    "def main():\n",
    "    print_column(2)\n",
    "# this prints a vertical column\n",
    "def print_column(height):\n",
    "    for _ in range(height):\n",
    "        print(\"#\\n\" * height, end=\"\")\n",
    "      \n",
    "main()\n"
   ]
  },
  {
   "cell_type": "code",
   "execution_count": 26,
   "id": "eb54c0c5-4258-49fc-be5c-8245b47ea106",
   "metadata": {},
   "outputs": [
    {
     "name": "stdout",
     "output_type": "stream",
     "text": [
      "????"
     ]
    }
   ],
   "source": [
    "def main():\n",
    "    print_row(4)\n",
    "# this prints a vertical column\n",
    "def print_row(width):\n",
    "          print(\"?\" * width, end=\"\")\n",
    "\n",
    "\n",
    "main()"
   ]
  },
  {
   "cell_type": "code",
   "execution_count": 24,
   "id": "09b6b47f-d058-452c-9bcb-f1b4d4df4972",
   "metadata": {},
   "outputs": [
    {
     "name": "stdout",
     "output_type": "stream",
     "text": [
      "????\n"
     ]
    }
   ],
   "source": [
    "# this prints a horizontal row\n",
    "def print_row(width):\n",
    "    print(\"?\" * width)\n",
    "main()"
   ]
  },
  {
   "cell_type": "code",
   "execution_count": 32,
   "id": "e3d6a285-21c2-4c1b-8604-a834c8927f57",
   "metadata": {},
   "outputs": [
    {
     "name": "stdout",
     "output_type": "stream",
     "text": [
      "###\n",
      "###\n",
      "###\n"
     ]
    }
   ],
   "source": [
    "# how to print a square\n",
    "def main():\n",
    "    print_square(3)\n",
    "def print_square(size):\n",
    "    \n",
    "    # FOR EACH ROW IN SQUARE / first inside loop\n",
    "    for i in range(size):\n",
    "        \n",
    "        #FOR EACH BRICK IN ROW / second inside loop\n",
    "        for j in range(size):\n",
    "            \n",
    "            #PRINTT EACH BRICK\n",
    "            print(\"#\", end=\"\")\n",
    "\n",
    "        #This print is by itself, but out of the inner loop and in the outer loop\n",
    "        #this prints a new line after each sets of bricks\n",
    "        print()\n",
    "        \n",
    "main()"
   ]
  },
  {
   "cell_type": "code",
   "execution_count": 44,
   "id": "7453694c-53e1-4bd1-b50b-9440f344b968",
   "metadata": {},
   "outputs": [
    {
     "name": "stdout",
     "output_type": "stream",
     "text": [
      "###\n",
      "###\n",
      "###\n"
     ]
    }
   ],
   "source": [
    "# how to print a square / more succinct version of above\n",
    "def main():\n",
    "    print_square(3)\n",
    "def print_square(size):\n",
    "    for i in range(size):\n",
    "        print(\"#\" * size)\n",
    "        \n",
    "main()"
   ]
  },
  {
   "cell_type": "code",
   "execution_count": null,
   "id": "e387a6c1-645b-4e1e-8703-f4f0e0753d9d",
   "metadata": {},
   "outputs": [],
   "source": []
  }
 ],
 "metadata": {
  "kernelspec": {
   "display_name": "Python 3 (ipykernel)",
   "language": "python",
   "name": "python3"
  },
  "language_info": {
   "codemirror_mode": {
    "name": "ipython",
    "version": 3
   },
   "file_extension": ".py",
   "mimetype": "text/x-python",
   "name": "python",
   "nbconvert_exporter": "python",
   "pygments_lexer": "ipython3",
   "version": "3.12.4"
  }
 },
 "nbformat": 4,
 "nbformat_minor": 5
}
