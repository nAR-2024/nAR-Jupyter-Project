{
 "cells": [
  {
   "cell_type": "code",
   "execution_count": 24,
   "id": "cfc16b8c-ad26-41b3-8597-4465cd69b263",
   "metadata": {},
   "outputs": [
    {
     "name": "stdout",
     "output_type": "stream",
     "text": [
      "hello, my name is -f\n"
     ]
    }
   ],
   "source": [
    "# this is called sys\n",
    "# it uses the docs.python.org/3/library/system.html\n",
    "# sys.argv is a list\n",
    "\n",
    "import sys\n",
    "\n",
    "try:\n",
    "    print(\"hello, my name is\", sys.argv[1])\n",
    "except IndexError:\n",
    "        print(\"To few arguments\")\n",
    "\n"
   ]
  },
  {
   "cell_type": "code",
   "execution_count": 3,
   "id": "04327709-42bb-4271-bdfa-4a5c0dabe293",
   "metadata": {},
   "outputs": [
    {
     "name": "stdout",
     "output_type": "stream",
     "text": [
      "too many arguments\n"
     ]
    }
   ],
   "source": [
    "import sys\n",
    "\n",
    "if len(sys.argv) < 2:\n",
    "    print(\"too few arguments\")\n",
    "elif len(sys.argv) > 2:\n",
    "    print(\"too many arguments\")\n",
    "else:\n",
    "    print(\"hello, my name is\", sys.argv[0])\n",
    "\n",
    "\n",
    "          "
   ]
  },
  {
   "cell_type": "code",
   "execution_count": 7,
   "id": "b1b93d76-f65e-440a-8cc3-923d8b8d2afe",
   "metadata": {},
   "outputs": [
    {
     "ename": "SystemExit",
     "evalue": "Too many arguments",
     "output_type": "error",
     "traceback": [
      "An exception has occurred, use %tb to see the full traceback.\n",
      "\u001b[0;31mSystemExit\u001b[0m\u001b[0;31m:\u001b[0m Too many arguments\n"
     ]
    }
   ],
   "source": [
    "# we can tighten this up and have the error checking and exit out at the top\n",
    "# the sys.exit allows you to exit an print something to the user\n",
    "\n",
    "import sys\n",
    "\n",
    "if len(sys.argv) < 2:\n",
    "    sys.exit(\"Too few arguments\")\n",
    "elif len(sys.argv) > 2:\n",
    "    sys.exit(\"Too many arguments\")\n",
    "\n",
    "print(\"hello, my name is\", sys.argv[1])"
   ]
  },
  {
   "cell_type": "code",
   "execution_count": null,
   "id": "b54c1d36-f180-4711-bbda-eb8126ad1bd6",
   "metadata": {},
   "outputs": [],
   "source": []
  }
 ],
 "metadata": {
  "kernelspec": {
   "display_name": "Python 3 (ipykernel)",
   "language": "python",
   "name": "python3"
  },
  "language_info": {
   "codemirror_mode": {
    "name": "ipython",
    "version": 3
   },
   "file_extension": ".py",
   "mimetype": "text/x-python",
   "name": "python",
   "nbconvert_exporter": "python",
   "pygments_lexer": "ipython3",
   "version": "3.12.4"
  }
 },
 "nbformat": 4,
 "nbformat_minor": 5
}
