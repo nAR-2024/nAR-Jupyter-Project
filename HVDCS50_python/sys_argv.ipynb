{
 "cells": [
  {
   "cell_type": "code",
   "execution_count": 14,
   "id": "029b1390-0d37-45bd-8b56-5aa0a71de032",
   "metadata": {},
   "outputs": [
    {
     "name": "stdout",
     "output_type": "stream",
     "text": [
      "Too many arguments\n",
      "hello, my name is -f\n"
     ]
    }
   ],
   "source": [
    "# using the sys.argv function to pull from the CLI the 0 indexed, 1 indexed item, usually your name\n",
    "# or any other information that can be entered and gathered at that point.\n",
    "\n",
    "\n",
    "import sys\n",
    "\n",
    "# check for errors\n",
    "if len(sys.argv) < 2:\n",
    "    print(\"Too few arguments\")\n",
    "elif len(sys.argv) > 2:\n",
    "    print(\"Too many arguments\")\n",
    "\n",
    "\n",
    "# print name tags\n",
    "print(\"hello, my name is\", sys.argv[1])"
   ]
  },
  {
   "cell_type": "code",
   "execution_count": 18,
   "id": "76845602-9975-4aeb-a574-45f27283b5ba",
   "metadata": {},
   "outputs": [
    {
     "ename": "SystemExit",
     "evalue": "Too many arguments",
     "output_type": "error",
     "traceback": [
      "An exception has occurred, use %tb to see the full traceback.\n",
      "\u001b[0;31mSystemExit\u001b[0m\u001b[0;31m:\u001b[0m Too many arguments\n"
     ]
    }
   ],
   "source": [
    "# maybe exiting earlier is better than going through the whole program\n",
    "# sys.exit is going to be used to do this, instead of using the print function like above\n",
    "# allows you to exit earlier before ending the end of the program\n",
    "\n",
    "import sys\n",
    "\n",
    "if len(sys.argv) < 2:\n",
    "    sys.exit(\"Too few arguments\")\n",
    "elif len(sys.argv) > 2:\n",
    "    sys.exit(\"Too many arguments\")\n",
    "\n",
    "print(\"hello, my name is\", sys.argv[1])"
   ]
  },
  {
   "cell_type": "code",
   "execution_count": 24,
   "id": "6804da07-feaa-4cf7-b1e3-a3d77a602f30",
   "metadata": {},
   "outputs": [
    {
     "name": "stdout",
     "output_type": "stream",
     "text": [
      "hello, my name is /Users/admin/Desktop/anaconda3/lib/python3.12/site-packages/ipykernel_launcher.py\n",
      "hello, my name is -f\n",
      "hello, my name is /Users/admin/Library/Jupyter/runtime/kernel-e8758c07-3eca-405e-8478-484737004df3.json\n"
     ]
    }
   ],
   "source": [
    "import sys\n",
    "\n",
    "if len(sys.argv) < 2:\n",
    "    sys.exit(\"Too few arguments\")\n",
    "\n",
    "for arg in sys.argv[1:]:\n",
    "    print(\"hello, my name is\", arg)"
   ]
  },
  {
   "cell_type": "code",
   "execution_count": null,
   "id": "bb083357-bc15-4a10-9519-f9081959bf1c",
   "metadata": {},
   "outputs": [],
   "source": [
    "# slices of a list means to take a subset of a list\n",
    "# in python at the end of the list name you can specify the start and end of the list you want\n",
    "# looking at the for statement we see [1:] where it goes 1 to the end, or [1:10]\n",
    "\n",
    "import sys\n",
    "\n",
    "if len(sys.argv) < 2:\n",
    "    sys.exit(\"Too few arguments\")\n",
    "\n",
    "for arg in sys.argv[1:]:\n",
    "    print(\"hello, my name is\", arg)"
   ]
  }
 ],
 "metadata": {
  "kernelspec": {
   "display_name": "Python 3 (ipykernel)",
   "language": "python",
   "name": "python3"
  },
  "language_info": {
   "codemirror_mode": {
    "name": "ipython",
    "version": 3
   },
   "file_extension": ".py",
   "mimetype": "text/x-python",
   "name": "python",
   "nbconvert_exporter": "python",
   "pygments_lexer": "ipython3",
   "version": "3.12.4"
  }
 },
 "nbformat": 4,
 "nbformat_minor": 5
}
