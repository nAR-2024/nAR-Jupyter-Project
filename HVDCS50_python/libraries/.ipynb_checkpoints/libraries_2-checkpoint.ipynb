{
 "cells": [
  {
   "cell_type": "code",
   "execution_count": null,
   "id": "e35ad4ac-875a-4bd3-a1e2-c5ef37a19b9d",
   "metadata": {},
   "outputs": [],
   "source": [
    "# random \\ import \\ random.choice(seq) \\ \n",
    "# libraries or modules allow for reusability of code\n",
    "# allows your code be used in different applicatiuons\n",
    "# python comes with multiple modules and libraries to access to use\n",
    "# docs.python.org/3/library/random.html\n",
    "\n",
    "#import random # imports everyting in a library, and all its content\n",
    "\n",
    "\n",
    "# from, gives you more specificity\n",
    "from random import choice\n",
    "\n",
    "coin = choice([\"heads\", \"tails\"])\n",
    "print(coin)\n",
    "\n",
    "# \n",
    "\n"
   ]
  },
  {
   "cell_type": "code",
   "execution_count": null,
   "id": "eac18f9f-4133-43d7-91a7-52780db90c56",
   "metadata": {},
   "outputs": [],
   "source": []
  }
 ],
 "metadata": {
  "kernelspec": {
   "display_name": "Python 3 (ipykernel)",
   "language": "python",
   "name": "python3"
  },
  "language_info": {
   "codemirror_mode": {
    "name": "ipython",
    "version": 3
   },
   "file_extension": ".py",
   "mimetype": "text/x-python",
   "name": "python",
   "nbconvert_exporter": "python",
   "pygments_lexer": "ipython3",
   "version": "3.12.4"
  }
 },
 "nbformat": 4,
 "nbformat_minor": 5
}
