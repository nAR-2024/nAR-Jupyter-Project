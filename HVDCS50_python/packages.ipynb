{
 "cells": [
  {
   "cell_type": "code",
   "execution_count": null,
   "id": "9e732808-4223-4c4d-9b42-c4bce7c975e4",
   "metadata": {},
   "outputs": [],
   "source": [
    "# pypi.org allows you to download and use already made packages\n",
    "# allows us to use already created \n",
    "# pypi.org allows you to download and install \n",
    "\n",
    "# cowsay package allows a cow to say something on your screen\n"
   ]
  },
  {
   "cell_type": "code",
   "execution_count": 2,
   "id": "be346606-1eb2-4b74-82e9-7e2c6131b4e6",
   "metadata": {},
   "outputs": [
    {
     "ename": "SyntaxError",
     "evalue": "incomplete input (3318173433.py, line 12)",
     "output_type": "error",
     "traceback": [
      "\u001b[0;36m  Cell \u001b[0;32mIn[2], line 12\u001b[0;36m\u001b[0m\n\u001b[0;31m    \u001b[0m\n\u001b[0m    ^\u001b[0m\n\u001b[0;31mSyntaxError\u001b[0m\u001b[0;31m:\u001b[0m incomplete input\n"
     ]
    }
   ],
   "source": [
    "# we use a \"PIP\" program that allows you to install packages on your device\n",
    "\n",
    "# pip install cowsay in a terminal window\n",
    "\n",
    "import cowsay\n",
    "\n",
    "import sys\n",
    "\n",
    "if len(sys.argv) == 2:\n",
    "        cowsay.cow(\"hello, \" + sys.argv[1])\n",
    "\n",
    "\n"
   ]
  },
  {
   "cell_type": "code",
   "execution_count": null,
   "id": "606dabc2-9d36-45cc-80b8-96928b577dd1",
   "metadata": {},
   "outputs": [],
   "source": []
  }
 ],
 "metadata": {
  "kernelspec": {
   "display_name": "Python 3 (ipykernel)",
   "language": "python",
   "name": "python3"
  },
  "language_info": {
   "codemirror_mode": {
    "name": "ipython",
    "version": 3
   },
   "file_extension": ".py",
   "mimetype": "text/x-python",
   "name": "python",
   "nbconvert_exporter": "python",
   "pygments_lexer": "ipython3",
   "version": "3.12.4"
  }
 },
 "nbformat": 4,
 "nbformat_minor": 5
}
