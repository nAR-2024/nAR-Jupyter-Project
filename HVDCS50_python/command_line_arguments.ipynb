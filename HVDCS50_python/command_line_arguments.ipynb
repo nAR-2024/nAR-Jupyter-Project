{
 "cells": [
  {
   "cell_type": "code",
   "execution_count": 10,
   "id": "13ac0128-669e-455e-b6e2-8900aa066791",
   "metadata": {},
   "outputs": [
    {
     "name": "stdout",
     "output_type": "stream",
     "text": [
      "hello, my name is /Users/admin/Desktop/anaconda3/lib/python3.12/site-packages/ipykernel_launcher.py\n"
     ]
    }
   ],
   "source": [
    "# command line arguments allow you to provided arguments when executing at the command line\n",
    "# python hello.py, there is the possibility to pass more info\n",
    "# were looking for input from the command line\n",
    "# docs.python.org/3/library/sys/.html  \n",
    "\n",
    "# sys.argv  (system argument vector)  is a \"list\" (sys.argv[1])  that was typed at the prompt\n",
    "\n",
    "# 0 is the first spot and stores the name of the program\n",
    "# 1 would be the next thing after that\n",
    "\n",
    "import sys\n",
    "\n",
    "try:\n",
    "        print(\"hello, my name is\", sys.argv[0])\n",
    "except IndexError:\n",
    "        print(\"Too few arguments\")\n",
    "\n",
    "\n"
   ]
  },
  {
   "cell_type": "code",
   "execution_count": 20,
   "id": "1ab812c3-0a84-4260-90f9-9a1d2fa296d3",
   "metadata": {},
   "outputs": [
    {
     "name": "stdout",
     "output_type": "stream",
     "text": [
      "Too many arguments\n"
     ]
    }
   ],
   "source": [
    "import sys\n",
    "\n",
    "if len(sys.argv) < 2:\n",
    "        print(\"Too few arguments\")\n",
    "elif len(sys.argv) > 2:\n",
    "        print(\"Too many arguments\")\n",
    "else:\n",
    "        print(\"hello, my name is\", sys.argv[1])\n",
    " "
   ]
  },
  {
   "cell_type": "code",
   "execution_count": 22,
   "id": "8867c381-3a95-4e3f-9997-dcfdd61c9f7a",
   "metadata": {},
   "outputs": [
    {
     "name": "stdout",
     "output_type": "stream",
     "text": [
      "Too many arguments\n",
      "hello, my name is -f\n"
     ]
    }
   ],
   "source": [
    "#  keep error handling seperate from your code, make it a function\n",
    "\n",
    "#check for errors\n",
    "\n",
    "import sys\n",
    "\n",
    "if len(sys.argv) < 2:\n",
    "        print(\"Too few arguments\")\n",
    "elif len(sys.argv) > 2:\n",
    "        print(\"Too many arguments\")\n",
    "\n",
    "#print name tags\n",
    "print(\"hello, my name is\", sys.argv[1])"
   ]
  },
  {
   "cell_type": "code",
   "execution_count": 30,
   "id": "2d811443-a781-45af-8f3d-ad7c59b36b86",
   "metadata": {},
   "outputs": [
    {
     "ename": "SystemExit",
     "evalue": "Too many arguments",
     "output_type": "error",
     "traceback": [
      "An exception has occurred, use %tb to see the full traceback.\n",
      "\u001b[0;31mSystemExit\u001b[0m\u001b[0;31m:\u001b[0m Too many arguments\n"
     ]
    }
   ],
   "source": [
    "# allows you to exit before time due to incorrect iformation input\n",
    "\n",
    "import sys\n",
    "\n",
    "if len(sys.argv) < 1:\n",
    "        sys.exit(\"Too few arguments\")\n",
    "elif len(sys.argv) > 1:\n",
    "        sys.exit(\"Too many arguments\")\n",
    "\n",
    "#print name tags\n",
    "print(\"hello, my name is\", sys.argv[0])"
   ]
  },
  {
   "cell_type": "code",
   "execution_count": null,
   "id": "38b8ab25-68f7-4f7c-a5ea-ae949bc81388",
   "metadata": {},
   "outputs": [],
   "source": []
  }
 ],
 "metadata": {
  "kernelspec": {
   "display_name": "Python 3 (ipykernel)",
   "language": "python",
   "name": "python3"
  },
  "language_info": {
   "codemirror_mode": {
    "name": "ipython",
    "version": 3
   },
   "file_extension": ".py",
   "mimetype": "text/x-python",
   "name": "python",
   "nbconvert_exporter": "python",
   "pygments_lexer": "ipython3",
   "version": "3.12.4"
  }
 },
 "nbformat": 4,
 "nbformat_minor": 5
}
