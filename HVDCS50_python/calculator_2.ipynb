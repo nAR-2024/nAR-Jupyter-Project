{
 "cells": [
  {
   "cell_type": "code",
   "execution_count": 50,
   "id": "979b34bd-4eb3-4f43-a1fc-06e762ce2fe7",
   "metadata": {},
   "outputs": [
    {
     "name": "stdin",
     "output_type": "stream",
     "text": [
      "Please give me a whole number for a X variable:  6\n",
      "please give me a whole number for a Y variable:  6.3\n"
     ]
    },
    {
     "ename": "ValueError",
     "evalue": "invalid literal for int() with base 10: '6.3'",
     "output_type": "error",
     "traceback": [
      "\u001b[0;31m---------------------------------------------------------------------------\u001b[0m",
      "\u001b[0;31mValueError\u001b[0m                                Traceback (most recent call last)",
      "Cell \u001b[0;32mIn[50], line 6\u001b[0m\n\u001b[1;32m      1\u001b[0m \u001b[38;5;66;03m#when receiving input it is always in string, so we have to convert it #to an math or integer for whole numbers using int()\u001b[39;00m\n\u001b[1;32m      2\u001b[0m \n\u001b[1;32m      3\u001b[0m \u001b[38;5;66;03m#input() allows the user to enter their own numbers\u001b[39;00m\n\u001b[1;32m      5\u001b[0m x \u001b[38;5;241m=\u001b[39m \u001b[38;5;28mint\u001b[39m(\u001b[38;5;28minput\u001b[39m(\u001b[38;5;124m\"\u001b[39m\u001b[38;5;124mPlease give me a whole number for a X variable: \u001b[39m\u001b[38;5;124m\"\u001b[39m))\n\u001b[0;32m----> 6\u001b[0m y \u001b[38;5;241m=\u001b[39m \u001b[38;5;28mint\u001b[39m(\u001b[38;5;28minput\u001b[39m(\u001b[38;5;124m\"\u001b[39m\u001b[38;5;124mplease give me a whole number for a Y variable: \u001b[39m\u001b[38;5;124m\"\u001b[39m))\n\u001b[1;32m      7\u001b[0m \u001b[38;5;28mprint\u001b[39m(x \u001b[38;5;241m+\u001b[39m y)\n\u001b[1;32m     10\u001b[0m \u001b[38;5;66;03m#making a float, through the use of float()\u001b[39;00m\n",
      "\u001b[0;31mValueError\u001b[0m: invalid literal for int() with base 10: '6.3'"
     ]
    }
   ],
   "source": [
    "#when receiving input it is always in string, so we have to convert it #to an math or integer for whole numbers using int()\n",
    "\n",
    "#input() allows the user to enter their own numbers\n",
    "\n",
    "x = int(input(\"Please give me a whole number for a X variable: \"))\n",
    "y = int(input(\"please give me a whole number for a Y variable: \"))\n",
    "print(x + y)\n",
    "\n",
    "\n",
    "#making a float, through the use of float()\n",
    "\n",
    "x = float(input(\"Please give me a X variable with a decimal: \"))\n",
    "y = float(input(\"Please give me a Y variable with a decimal: \"))\n",
    "\n",
    "print(x + y)\n",
    "\n",
    "#to round the number you can round it to the closest integer using  #round()\n",
    "\n",
    "number = round(x + y)\n",
    "divided = round(x / y, 2)\n",
    "print(number)\n",
    "\n",
    "#this does the same thing as round\n",
    "\n",
    "print(f\"{number:,}\")\n",
    "\n",
    "# i can use division and then select the amount of decimals with a f #function\n",
    "print(f\"{number:.2f}\")"
   ]
  },
  {
   "cell_type": "code",
   "execution_count": 62,
   "id": "026b2895-60da-48c8-a9ca-1059c2c55995",
   "metadata": {},
   "outputs": [
    {
     "ename": "SyntaxError",
     "evalue": "invalid syntax (430979292.py, line 8)",
     "output_type": "error",
     "traceback": [
      "\u001b[0;36m  Cell \u001b[0;32mIn[62], line 8\u001b[0;36m\u001b[0m\n\u001b[0;31m    if__name__ == \"__main()__\":\u001b[0m\n\u001b[0m                              ^\u001b[0m\n\u001b[0;31mSyntaxError\u001b[0m\u001b[0;31m:\u001b[0m invalid syntax\n"
     ]
    }
   ],
   "source": [
    "def main():\n",
    "    x = int(input(\"whats x? \"))\n",
    "    print(\"x squared is \", square(x))\n",
    "\n",
    "def square(n):\n",
    "    return x * x\n",
    "\n",
    "if__name__ == \"__main()__\":\n",
    "main()\n"
   ]
  },
  {
   "cell_type": "code",
   "execution_count": 46,
   "id": "b543c7dc-6794-4dab-90f1-af5fe871976b",
   "metadata": {},
   "outputs": [],
   "source": [
    "# from calculator import square\n",
    "def main():\n",
    "    test_square()\n",
    "    \n",
    "def test_square():\n",
    "    \n",
    "    assert square(2) == 4\n",
    "    assert square(3) == 9\n",
    "         \n",
    "\n",
    "if __name__ == \"__main__\":\n",
    "    main()"
   ]
  },
  {
   "cell_type": "code",
   "execution_count": null,
   "id": "a35274d2-ccc2-42a5-a755-8db747eb36b4",
   "metadata": {},
   "outputs": [],
   "source": []
  }
 ],
 "metadata": {
  "kernelspec": {
   "display_name": "Python 3 (ipykernel)",
   "language": "python",
   "name": "python3"
  },
  "language_info": {
   "codemirror_mode": {
    "name": "ipython",
    "version": 3
   },
   "file_extension": ".py",
   "mimetype": "text/x-python",
   "name": "python",
   "nbconvert_exporter": "python",
   "pygments_lexer": "ipython3",
   "version": "3.12.4"
  }
 },
 "nbformat": 4,
 "nbformat_minor": 5
}
