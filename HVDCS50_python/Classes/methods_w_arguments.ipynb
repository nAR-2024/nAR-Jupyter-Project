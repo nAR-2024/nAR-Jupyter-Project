{
 "cells": [
  {
   "cell_type": "code",
   "execution_count": null,
   "id": "8d245c67-9533-4731-b4f8-97acc939cee9",
   "metadata": {},
   "outputs": [],
   "source": [
    "Methods with Arguments\n",
    " \n",
    "Methods can also take more arguments than just self:\n",
    "\n",
    "\n",
    "\n",
    "class DistanceConverter:\n",
    "  kms_in_a_mile = 1.609\n",
    "  def how_many_kms(self, miles):\n",
    "    return miles * self.kms_in_a_mile\n",
    "\n",
    "converter = DistanceConverter()\n",
    "kms_in_5_miles = converter.how_many_kms(5)\n",
    "print(kms_in_5_miles)\n",
    "# prints \"8.045\"\n",
    "\n",
    "\n",
    "\n",
    "Above we defined a DistanceConverter class, instantiated it, and used it to convert 5 miles into kilometers.  \n",
    "Notice again that even though .how_many_kms() takes two arguments in its definition, we only pass miles, because self is implicitly \n",
    "passed (and refers to the object converter)."
   ]
  },
  {
   "cell_type": "code",
   "execution_count": null,
   "id": "c0903ce6-1629-4e09-ae03-43605ac02be1",
   "metadata": {},
   "outputs": [],
   "source": [
    "1.  It’s March 14th (known in some places as Pi day) at Jan van High, and you’re feeling awfully festive. You decide to create a program that \n",
    "calculates the area of a circle.\n",
    "\n",
    "Create a Circle class with class variable .pi. Set .pi to the approximation 3.14.\n",
    " \n",
    "2. Give Circle an .area() method that takes two parameters: self and radius.\n",
    "\n",
    "Return the area as given by this formula:\n",
    "\n",
    "area = pi * radius ** 2\n",
    "\n",
    "\n",
    "3. Create an instance of Circle. Save it into the variable circle.\n",
    " \n",
    "4. You go to measure several circles you happen to find around.\n",
    "\n",
    "A medium pizza that is 12 inches across.\n",
    "Your teaching table which is 36 inches across.\n",
    "The Round Room auditorium, which is 11,460 inches across.\n",
    "You save the areas of these three things into pizza_area, teaching_table_area, and round_room_area.\n",
    "\n",
    "\n",
    "\n",
    "Remember that the .radius of a circle is half the diameter. We gave three diameters here, so halve them before you calculate the given circle’s area."
   ]
  },
  {
   "cell_type": "code",
   "execution_count": 1,
   "id": "2e67b63c-de0e-48f3-a407-e46e99671494",
   "metadata": {},
   "outputs": [],
   "source": [
    "class Circle:\n",
    "  pi = 3.14\n",
    "  \n",
    "  def area(self, radius):\n",
    "    return Circle.pi * radius ** 2\n",
    "  \n",
    "circle = Circle()\n",
    "pizza_area = circle.area(12 / 2)\n",
    "teaching_table_area = circle.area(36 / 2)\n",
    "round_room_area = circle.area(11460 / 2)"
   ]
  },
  {
   "cell_type": "code",
   "execution_count": null,
   "id": "3da183c6-9b7e-41ec-896c-de3ccb4c2836",
   "metadata": {},
   "outputs": [],
   "source": []
  }
 ],
 "metadata": {
  "kernelspec": {
   "display_name": "Python 3 (ipykernel)",
   "language": "python",
   "name": "python3"
  },
  "language_info": {
   "codemirror_mode": {
    "name": "ipython",
    "version": 3
   },
   "file_extension": ".py",
   "mimetype": "text/x-python",
   "name": "python",
   "nbconvert_exporter": "python",
   "pygments_lexer": "ipython3",
   "version": "3.12.4"
  }
 },
 "nbformat": 4,
 "nbformat_minor": 5
}
