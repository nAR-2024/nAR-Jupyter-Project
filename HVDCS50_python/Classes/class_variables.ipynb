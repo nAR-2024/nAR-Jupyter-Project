{
 "cells": [
  {
   "cell_type": "code",
   "execution_count": null,
   "id": "37244330-a20a-44a8-95d3-551f7cd6b395",
   "metadata": {},
   "outputs": [],
   "source": [
    "Class Variables\n",
    " \n",
    "When we want the same data to be available to every instance of a class we use a class variable. \n",
    "A class variable is a variable that’s the same for every instance of the class.\n",
    "\n",
    "You can define a class variable by including it in the indented part of your class definition, \n",
    "and you can access all of an object’s class variables with object.variable syntax.\n",
    "\n",
    "\n",
    "    \n",
    "class Musician:\n",
    "  title = \"Rockstar\"\n",
    "\n",
    "drummer = Musician()\n",
    "print(drummer.title)\n",
    "# prints \"Rockstar\"\n",
    "\n",
    "\n",
    "\n",
    "Above we defined the class Musician, then instantiated drummer to be an object of type Musician. \n",
    "We then printed out the drummer’s .title attribute, which is a class variable that we defined as the string “Rockstar”.\n",
    "\n",
    "If we defined another musician, like guitarist = Musician() they would have the same .title attribute.\n",
    "\n",
    "NOTE: Class variables are often referenced with a leading period, like .title above. \n",
    "This is done to quickly show that the variable belongs to a class and must be accessed with dot notation, like drummer.title."
   ]
  },
  {
   "cell_type": "code",
   "execution_count": null,
   "id": "d9f29402-b053-4e79-bb8b-fa8dde527c40",
   "metadata": {},
   "outputs": [],
   "source": [
    "1. You are digitizing grades for Jan van Eyck High School and Conservatory. At Jan van High, as the students call it, 65 is the minimum passing grade.\n",
    "\n",
    "Create a Grade class with a class attribute .minimum_passing equal to 65."
   ]
  },
  {
   "cell_type": "code",
   "execution_count": 1,
   "id": "f3268e8f-7019-4b8a-a05d-846527add1a2",
   "metadata": {},
   "outputs": [],
   "source": [
    "class Grade:\n",
    "  minimum_passing = 65"
   ]
  },
  {
   "cell_type": "code",
   "execution_count": null,
   "id": "26e1f868-2357-4633-a29b-4a5e4da5a728",
   "metadata": {},
   "outputs": [],
   "source": []
  }
 ],
 "metadata": {
  "kernelspec": {
   "display_name": "Python 3 (ipykernel)",
   "language": "python",
   "name": "python3"
  },
  "language_info": {
   "codemirror_mode": {
    "name": "ipython",
    "version": 3
   },
   "file_extension": ".py",
   "mimetype": "text/x-python",
   "name": "python",
   "nbconvert_exporter": "python",
   "pygments_lexer": "ipython3",
   "version": "3.12.4"
  }
 },
 "nbformat": 4,
 "nbformat_minor": 5
}
