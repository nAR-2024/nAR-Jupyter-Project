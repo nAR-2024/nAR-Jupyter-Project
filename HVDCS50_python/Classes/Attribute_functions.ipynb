{
 "cells": [
  {
   "cell_type": "code",
   "execution_count": null,
   "id": "b019590e-2031-40b3-8c02-efb417bbf095",
   "metadata": {},
   "outputs": [],
   "source": [
    "Attribute Functions\n",
    "\n",
    "Instance variables and class variables are both accessed similarly in Python. \n",
    "This is no mistake, they are both considered attributes of an object. \n",
    "If we attempt to access an attribute that is neither a class variable nor an instance variable of the object Python will throw an AttributeError.\n",
    "\n",
    "\n",
    "class NoCustomAttributes:\n",
    "  pass\n",
    "\n",
    "attributeless = NoCustomAttributes()\n",
    "\n",
    "try:\n",
    "  attributeless.fake_attribute\n",
    "except AttributeError:\n",
    "  print(\"This text gets printed!\")\n",
    "\n",
    "# prints \"This text gets printed!\"\n",
    "\n",
    "\n",
    "\n",
    "What if we aren’t sure if an object has an attribute or not? \n",
    "Returns True if an object has an attribute and False otherwise.\n",
    "\n",
    "hasattr() will return True if an object has a given attribute and False otherwise. If we want to get the actual value of the attribute, \n",
    "getattr() is a Python function that will return the value of a given object and attribute. \n",
    "In this function, we can also supply a third argument that will be the default if the object does not have the given attribute.\n",
    "\n",
    "The syntax and parameters for these functions\n",
    "\n",
    "look like this:\n",
    "\n",
    "hasattr(object, “attribute”) has two parameters:\n",
    "\n",
    "object : the object we are testing to see if it has a certain attribute\n",
    "attribute : name of attribute we want to see if it exists\n",
    "getattr(object, “attribute”, default) has three parameters (one of which is optional):\n",
    "\n",
    "object : the object whose attribute we want to evaluate\n",
    "attribute : name of attribute we want to evaluate\n",
    "default : the value that is returned if the attribute does not exist (note: this parameter is optional)\n",
    "Calling those functions looks like this:\n",
    "\n",
    "hasattr(attributeless, \"fake_attribute\")\n",
    "# returns False\n",
    "\n",
    "getattr(attributeless, \"other_fake_attribute\", 800)\n",
    "# returns 800, the default value\n",
    "\n",
    "Above, we checked if the attributeless object has the attribute .fake_attribute. Since it does not, hasattr() returned False. After that, we used getattr to attempt to retrieve .other_fake_attribute. Since .other_fake_attribute isn’t a real attribute on attributeless, our call to getattr() returned the supplied default value 800, instead of throwing an AttributeError.\n",
    "\n",
    "Instructions\n",
    "Checkpoint 1 Enabled\n",
    "1.\n",
    "In script.py we have a list of different data types: a dictionary, a string, an integer, and a list all saved in the variable can_we_count_it.\n",
    "\n",
    "For every element in can_we_count_it, check if the element has the attribute .count using the hasattr() function. If so, print the following line of code:\n",
    "\n",
    "print(str(type(element)) + \" has the count attribute!\")\n",
    "\n",
    "Checkpoint 2 Step instruction is unavailable until previous steps are completed\n",
    "2.\n",
    "Now let’s add an else statement for the elements that do not have the attribute .count. In this else statement add the following line of code:\n",
    "\n",
    "print(str(type(element)) + \" does not have the count attribute :(\")\n",
    "\n",
    "Checkpoint 3 Step instruction is unavailable until previous steps are completed\n",
    "3.\n",
    "Let’s go over the terminal output of the past two instructions. You should see the following output in your terminal right now:\n",
    "\n",
    "<class 'dict'> does not have the count attribute :(\n",
    "<class 'str'> has the count attribute!\n",
    "<class 'int'> does not have the count attribute :(\n",
    "<class 'list'> has the count attribute!\n",
    "\n",
    "This is because dictionaries and integers both do not have a .count attribute, while strings and lists do. In this exercise, we have iterated through can_we_count_it and used hasattr() to determine which elements have a .count attribute. We never actually used the .count() method, but you can read more about it \n",
    "Preview: Docs Loading link description\n",
    "here\n",
    " if you are curious about what it is.\n",
    "\n",
    "Click run to move onto the next exercise!"
   ]
  },
  {
   "cell_type": "code",
   "execution_count": null,
   "id": "d36a5366-9252-40f7-9229-fcd40ef0afec",
   "metadata": {},
   "outputs": [],
   "source": []
  },
  {
   "cell_type": "code",
   "execution_count": null,
   "id": "64c7796d-668d-49ef-83df-c03b054316dc",
   "metadata": {},
   "outputs": [],
   "source": [
    "Instructions\n",
    "\n",
    "1. In script.py we have a list of different data types: a dictionary, a string, an integer, and a list all saved in the variable can_we_count_it.\n",
    "\n",
    "For every element in can_we_count_it, check if the element has the attribute .count using the hasattr() function. If so, print the following line of code:\n",
    "\n",
    "print(str(type(element)) + \" has the count attribute!\")\n",
    "\n",
    " \n",
    "2. Now let’s add an else statement for the elements that do not have the attribute .count. In this else statement add the following line of code:\n",
    "\n",
    "print(str(type(element)) + \" does not have the count attribute :(\")\n",
    "\n",
    " \n",
    "3. Let’s go over the terminal output of the past two instructions. You should see the following output in your terminal right now:\n",
    "\n",
    "<class 'dict'> does not have the count attribute :(\n",
    "<class 'str'> has the count attribute!\n",
    "<class 'int'> does not have the count attribute :(\n",
    "<class 'list'> has the count attribute!\n",
    "\n",
    "This is because dictionaries and integers both do not have a .count attribute, while strings and lists do. \n",
    "In this exercise, we have iterated through can_we_count_it and used hasattr() to determine which elements have a .count attribute. \n",
    "We never actually used the .count() method, but you can read more about it here  if you are curious about what it is.\n",
    "\n",
    " "
   ]
  },
  {
   "cell_type": "code",
   "execution_count": 1,
   "id": "9919e04b-d26d-43c3-9483-dd91c267136a",
   "metadata": {},
   "outputs": [
    {
     "name": "stdout",
     "output_type": "stream",
     "text": [
      "<class 'dict'> does not have the count attribute :(\n",
      "<class 'str'> has the count attribute!\n",
      "<class 'int'> does not have the count attribute :(\n",
      "<class 'list'> has the count attribute!\n"
     ]
    }
   ],
   "source": [
    "can_we_count_it = [{'s': False}, \"sassafrass\", 18, [\"a\", \"c\", \"s\", \"d\", \"s\"]]\n",
    "\n",
    "for element in can_we_count_it:\n",
    "  if hasattr(element, \"count\"):\n",
    "    print(str(type(element)) + \" has the count attribute!\")\n",
    "  else:\n",
    "    print(str(type(element)) + \" does not have the count attribute :(\")"
   ]
  },
  {
   "cell_type": "code",
   "execution_count": null,
   "id": "84175cd1-c199-40e9-a6cd-b2a9b67000a1",
   "metadata": {
    "editable": true,
    "slideshow": {
     "slide_type": ""
    },
    "tags": []
   },
   "outputs": [],
   "source": []
  }
 ],
 "metadata": {
  "kernelspec": {
   "display_name": "Python 3 (ipykernel)",
   "language": "python",
   "name": "python3"
  },
  "language_info": {
   "codemirror_mode": {
    "name": "ipython",
    "version": 3
   },
   "file_extension": ".py",
   "mimetype": "text/x-python",
   "name": "python",
   "nbconvert_exporter": "python",
   "pygments_lexer": "ipython3",
   "version": "3.12.4"
  }
 },
 "nbformat": 4,
 "nbformat_minor": 5
}
