{
 "cells": [
  {
   "cell_type": "code",
   "execution_count": null,
   "id": "f58cf226-7e29-4093-bc3b-5e44ffa9079d",
   "metadata": {},
   "outputs": [],
   "source": [
    "Class\n",
    " \n",
    "A class  is a template for a data type. It describes the kinds of information that class will hold and how a programmer will interact with that data. \n",
    "Define a class using the class  keyword. PEP 8 Style Guide for Python Code recommends capitalizing the names of classes to make them easier to identify.\n",
    "\n",
    "class CoolClass:\n",
    "  pass\n",
    "\n",
    "In the above example we created a class and named it CoolClass. \n",
    "We used the pass keyword in Python to indicate that the body of the class was intentionally left blank so we don’t \n",
    "cause an IndentationError. We’ll learn about all the things we can put in the body of a class in the next few exercises."
   ]
  }
 ],
 "metadata": {
  "kernelspec": {
   "display_name": "Python 3 (ipykernel)",
   "language": "python",
   "name": "python3"
  },
  "language_info": {
   "codemirror_mode": {
    "name": "ipython",
    "version": 3
   },
   "file_extension": ".py",
   "mimetype": "text/x-python",
   "name": "python",
   "nbconvert_exporter": "python",
   "pygments_lexer": "ipython3",
   "version": "3.12.4"
  }
 },
 "nbformat": 4,
 "nbformat_minor": 5
}
