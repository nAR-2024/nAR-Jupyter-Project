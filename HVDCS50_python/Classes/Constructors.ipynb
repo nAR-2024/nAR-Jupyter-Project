{
 "cells": [
  {
   "cell_type": "code",
   "execution_count": null,
   "id": "952e60ca-7cad-4512-a5a7-318b07599192",
   "metadata": {},
   "outputs": [],
   "source": [
    "Constructors\n",
    " \n",
    "There are several methods that we can define in a Python class that have special behavior. These methods are sometimes called “magic,” \n",
    "because they behave differently from regular methods. Another popular term is dunder methods, so-named because they have two \n",
    "underscores (double-underscore abbreviated to “dunder”) on either side of them.\n",
    "\n",
    "The first dunder method we’re going to use is the \n",
    " \n",
    "__init__()\n",
    "\n",
    "\n",
    "method (note the two underscores before and after the word “init”). \n",
    "This method is used to initialize a newly created object. It is called every time the class is instantiated.\n",
    "\n",
    "Methods that are used to prepare an object being instantiated are called constructors. \n",
    "The word “constructor” is used to describe similar features in other object-oriented programming languages, \n",
    "but programmers who refer to a constructor in Python are usually talking about the __init__() method.\n",
    "\n",
    "\n",
    "    \n",
    "class Shouter:\n",
    "  def __init__(self):\n",
    "    print(\"HELLO?!\")\n",
    "\n",
    "shout1 = Shouter()\n",
    "# prints \"HELLO?!\"\n",
    "\n",
    "shout2 = Shouter()\n",
    "# prints \"HELLO?!\"\n",
    "\n",
    "\n",
    "\n",
    "Above, we created a class called Shouter and every time we create an instance of Shouter the program prints out a shout. \n",
    "Don’t worry, this doesn’t hurt the computer at all.\n",
    "\n",
    "Pay careful attention to the instantiation syntax we use. Shouter() looks a lot like a function call, doesn’t it? \n",
    "If it’s a function, can we pass parameters to it? We absolutely can, and those parameters will be received by the __init__() method.\n",
    "\n",
    "\n",
    "\n",
    "class Shouter:\n",
    "  def __init__(self, phrase):\n",
    "    # make sure phrase is a string\n",
    "    if type(phrase) == str:\n",
    "\n",
    "      # then shout it out\n",
    "      print(phrase.upper())\n",
    "\n",
    "shout1 = Shouter(\"shout\")\n",
    "# prints \"SHOUT\"\n",
    "\n",
    "shout2 = Shouter(\"shout\")\n",
    "# prints \"SHOUT\"\n",
    "\n",
    "shout3 = Shouter(\"let it all out\")\n",
    "# prints \"LET IT ALL OUT\"\n",
    "\n",
    "\n",
    "\n",
    "Above, we’ve updated our Shouter class to take the additional parameter phrase. \n",
    "When we created each of our objects, we passed an argument to the constructor. The constructor takes the argument phrase and, \n",
    "if it’s a string, prints out the all-caps version of phrase."
   ]
  },
  {
   "cell_type": "code",
   "execution_count": null,
   "id": "369df456-806f-4f66-bef7-d0e9d748ed55",
   "metadata": {},
   "outputs": [],
   "source": [
    "1. Add a constructor to our Circle class.\n",
    "\n",
    "Since we seem more frequently to know the diameter of a circle, it should take the argument diameter.\n",
    "\n",
    "It doesn’t need to do anything yet, just write pass in the body of the constructor.\n",
    " \n",
    "2. Now have the constructor print out the message \"New circle with diameter: {diameter}\" when a new circle is created.\n",
    "\n",
    "Create a circle teaching_table with diameter 36."
   ]
  },
  {
   "cell_type": "code",
   "execution_count": 1,
   "id": "73d1e670-f0c8-4c09-babb-9bb09fae4938",
   "metadata": {},
   "outputs": [
    {
     "name": "stdout",
     "output_type": "stream",
     "text": [
      "New circle with diameter: 36\n"
     ]
    }
   ],
   "source": [
    "class Circle:\n",
    "    pi = 3.14\n",
    "    \n",
    "    def __init__(self, diameter):\n",
    "        self.diameter = diameter\n",
    "        print(f\"New circle with diameter: {self.diameter}\")\n",
    "\n",
    "# Create a circle teaching_table with diameter 36\n",
    "teaching_table = Circle(36)"
   ]
  },
  {
   "cell_type": "code",
   "execution_count": null,
   "id": "0ff5957c-882f-436f-8e2b-f0e3c64c1578",
   "metadata": {},
   "outputs": [],
   "source": []
  }
 ],
 "metadata": {
  "kernelspec": {
   "display_name": "Python 3 (ipykernel)",
   "language": "python",
   "name": "python3"
  },
  "language_info": {
   "codemirror_mode": {
    "name": "ipython",
    "version": 3
   },
   "file_extension": ".py",
   "mimetype": "text/x-python",
   "name": "python",
   "nbconvert_exporter": "python",
   "pygments_lexer": "ipython3",
   "version": "3.12.4"
  }
 },
 "nbformat": 4,
 "nbformat_minor": 5
}
