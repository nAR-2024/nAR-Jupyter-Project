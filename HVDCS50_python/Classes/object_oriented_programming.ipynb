{
 "cells": [
  {
   "cell_type": "code",
   "execution_count": null,
   "id": "75c69e39-f0f6-4a4d-8d2f-dfd0ed790abc",
   "metadata": {},
   "outputs": [],
   "source": [
    "Object-Oriented Programming\n",
    " \n",
    "A class instance is also called an object. The pattern of defining \n",
    " \n",
    "classes  and creating objects to represent the responsibilities of a program is known as \n",
    "Object Oriented Programming or OOP.\n",
    "\n",
    "Instantiation takes a class and turns it into an object, the \n",
    "type() function does the opposite of that. When called with an object, it returns the class that the object is an instance of.\n",
    "\n",
    "\n",
    "    \n",
    "print(type(cool_instance))\n",
    "# prints \"<class '__main__.CoolClass'>\"\n",
    "\n",
    "\n",
    "    \n",
    "We then print out the type() of cool_instance and it shows us that this object is of type __main__.CoolClass.\n",
    "\n",
    "In Python __main__ means “this current file that we’re running” and so one could read the output from type() to \n",
    "mean “the class CoolClass that was defined here, in the script you’re currently running.”"
   ]
  },
  {
   "cell_type": "code",
   "execution_count": null,
   "id": "04fbab73-1951-42b0-b8bf-f608babbec63",
   "metadata": {},
   "outputs": [],
   "source": [
    "1. In script.py we see facade_1 from last exercise. Try calling type() on facade_1 and saving it to the variable facade_1_type.\n",
    "\n",
    "\n",
    "2. Print out facade_1_type."
   ]
  },
  {
   "cell_type": "code",
   "execution_count": 1,
   "id": "e2d7cc96-6ea3-461e-93cd-a77153ed5cd3",
   "metadata": {},
   "outputs": [
    {
     "name": "stdout",
     "output_type": "stream",
     "text": [
      "<class '__main__.Facade'>\n"
     ]
    }
   ],
   "source": [
    "class Facade:\n",
    "  pass\n",
    "\n",
    "facade_1 = Facade()\n",
    "facade_1_type=type(facade_1)\n",
    "print(facade_1_type)"
   ]
  },
  {
   "cell_type": "code",
   "execution_count": null,
   "id": "13c3f5ef-6660-4c73-a77b-6b4e07c87a9a",
   "metadata": {},
   "outputs": [],
   "source": []
  }
 ],
 "metadata": {
  "kernelspec": {
   "display_name": "Python 3 (ipykernel)",
   "language": "python",
   "name": "python3"
  },
  "language_info": {
   "codemirror_mode": {
    "name": "ipython",
    "version": 3
   },
   "file_extension": ".py",
   "mimetype": "text/x-python",
   "name": "python",
   "nbconvert_exporter": "python",
   "pygments_lexer": "ipython3",
   "version": "3.12.4"
  }
 },
 "nbformat": 4,
 "nbformat_minor": 5
}
