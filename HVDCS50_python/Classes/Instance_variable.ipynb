{
 "cells": [
  {
   "cell_type": "code",
   "execution_count": null,
   "id": "7dac8250-8091-4e98-926d-7a8083ab3582",
   "metadata": {
    "editable": true,
    "slideshow": {
     "slide_type": ""
    },
    "tags": []
   },
   "outputs": [],
   "source": [
    "Instance Variables\n",
    "\n",
    "We’ve learned so far that a class is a schematic for a data type and an object is an instance of a class, but why is there such a strong need \n",
    "to differentiate the two if each object can only have the methods and class variables the class has? \n",
    "his is because each instance of a class can hold different kinds of data.\n",
    "\n",
    "The data held by an object is referred to as an instance variable. \n",
    "Instance variables aren’t shared by all instances of a class — they are variables that are specific to the object they are attached to.\n",
    "\n",
    "Let’s say that we have the following class definition:\n",
    "\n",
    "\n",
    "\n",
    "class FakeDict:\n",
    "  pass\n",
    "\n",
    "\n",
    "\n",
    "We can instantiate two different objects from this class, fake_dict1 and fake_dict2, and assign instance variables to these objects using \n",
    "the same attribute notation that was used for accessing class variables.\n",
    "\n",
    "fake_dict1 = FakeDict()\n",
    "fake_dict2 = FakeDict()\n",
    "\n",
    "fake_dict1.fake_key = \"This works!\"\n",
    "fake_dict2.fake_key = \"This too!\"\n",
    "\n",
    "# Let's join the two strings together!\n",
    "working_string = \"{} {}\".format(fake_dict1.fake_key, fake_dict2.fake_key)\n",
    "print(working_string)\n",
    "# prints \"This works! This too!\"\n",
    "\n",
    " "
   ]
  },
  {
   "cell_type": "code",
   "execution_count": 1,
   "id": "dd442908-0a72-4407-a16d-4bce8cd81a60",
   "metadata": {},
   "outputs": [
    {
     "name": "stdout",
     "output_type": "stream",
     "text": [
      "This works! This too!\n"
     ]
    }
   ],
   "source": [
    "class FakeDict:\n",
    "  pass\n",
    "\n",
    "fake_dict1 = FakeDict()\n",
    "fake_dict2 = FakeDict()\n",
    "class Store:\n",
    "  pass\n",
    "alternative_rocks = Store()\n",
    "isabelles_ices = Store()\n",
    "alternative_rocks.store_name = \"Alternative Rocks\"\n",
    "isabelles_ices.store_name = \"Isabelle's Ices\"\n",
    "fake_dict1.fake_key = \"This works!\"\n",
    "fake_dict2.fake_key = \"This too!\"\n",
    "\n",
    "# Let's join the two strings together!\n",
    "working_string = \"{} {}\".format(fake_dict1.fake_key, fake_dict2.fake_key)\n",
    "print(working_string)\n",
    "# prints \"This works! This too!\""
   ]
  },
  {
   "cell_type": "code",
   "execution_count": null,
   "id": "38c27c48-be45-4ffc-ab0c-1d47ae9d4a95",
   "metadata": {},
   "outputs": [],
   "source": [
    "1. In script.py we have defined a Store class. Create two objects from this store class, named alternative_rocks and isabelles_ices.\n",
    " \n",
    "2. Give them both instance attributes called .store_name. Set alternative_rocks‘s .store_name to \"Alternative Rocks\". Set isabelles_ices‘s .store_name \n",
    "to \"Isabelle's Ices\"."
   ]
  },
  {
   "cell_type": "code",
   "execution_count": 3,
   "id": "06a5ff10-4cba-4964-a5a6-1e69b5dadafe",
   "metadata": {},
   "outputs": [],
   "source": [
    "class Store:\n",
    "  pass\n",
    "alternative_rocks = Store()\n",
    "isabelles_ices = Store()\n",
    "alternative_rocks.store_name = \"Alternative Rocks\"\n",
    "isabelles_ices.store_name = \"Isabelle's Ices\""
   ]
  },
  {
   "cell_type": "code",
   "execution_count": null,
   "id": "0b91c29a-9c07-48a2-af32-b3633f3c41ae",
   "metadata": {},
   "outputs": [],
   "source": []
  }
 ],
 "metadata": {
  "kernelspec": {
   "display_name": "Python 3 (ipykernel)",
   "language": "python",
   "name": "python3"
  },
  "language_info": {
   "codemirror_mode": {
    "name": "ipython",
    "version": 3
   },
   "file_extension": ".py",
   "mimetype": "text/x-python",
   "name": "python",
   "nbconvert_exporter": "python",
   "pygments_lexer": "ipython3",
   "version": "3.12.4"
  }
 },
 "nbformat": 4,
 "nbformat_minor": 5
}
