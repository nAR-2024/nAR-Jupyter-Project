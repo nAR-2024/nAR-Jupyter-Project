{
 "cells": [
  {
   "cell_type": "code",
   "execution_count": null,
   "id": "2e78c77c-e8e8-4821-a73b-db6a3cc1ebaa",
   "metadata": {},
   "outputs": [],
   "source": [
    "Ones' Place\n",
    "\n",
    "You can use the modulo operator (%) with 10 to find the ones’ place of an integer.\n",
    "\n",
    "Here are some examples:\n",
    "\n",
    ">>> 41%10\n",
    "1\n",
    ">>> 2%10\n",
    "2 \n",
    ">>> 39%10\n",
    "9\n",
    ">>> 103%10\n",
    "3\n",
    ">>> 20%10\n",
    "0\n"
   ]
  },
  {
   "cell_type": "code",
   "execution_count": null,
   "id": "191e23fa-0162-4edd-a7f2-0532cb97baf4",
   "metadata": {},
   "outputs": [],
   "source": [
    "Instructions\n",
    "\n",
    "1.  Create a lambda function named ones_place that returns the ones’ place of the input num."
   ]
  },
  {
   "cell_type": "code",
   "execution_count": 1,
   "id": "c8caad0b-b597-4351-8353-09278a2fb376",
   "metadata": {},
   "outputs": [
    {
     "name": "stdout",
     "output_type": "stream",
     "text": [
      "3\n",
      "4\n"
     ]
    }
   ],
   "source": [
    "#Write your lambda function here\n",
    "ones_place = lambda num: num % 10\n",
    "\n",
    "print(ones_place(123))\n",
    "print(ones_place(4))"
   ]
  }
 ],
 "metadata": {
  "kernelspec": {
   "display_name": "Python 3 (ipykernel)",
   "language": "python",
   "name": "python3"
  },
  "language_info": {
   "codemirror_mode": {
    "name": "ipython",
    "version": 3
   },
   "file_extension": ".py",
   "mimetype": "text/x-python",
   "name": "python",
   "nbconvert_exporter": "python",
   "pygments_lexer": "ipython3",
   "version": "3.12.4"
  }
 },
 "nbformat": 4,
 "nbformat_minor": 5
}
