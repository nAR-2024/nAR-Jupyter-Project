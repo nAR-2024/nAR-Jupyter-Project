{
 "cells": [
  {
   "cell_type": "code",
   "execution_count": null,
   "id": "521279e9-e3fa-48d7-8674-1a406311f086",
   "metadata": {},
   "outputs": [],
   "source": [
    "Long String\n",
    "\n",
    "To find the number of characters in a string, we use len. This block of code:\n",
    "\n",
    "print(len(\"Hello\"))\n",
    "print(len(\"world!\"))\n",
    "print(len(\"Hello, world!\"))\n",
    "\n",
    "would print out:\n",
    "\n",
    "5\n",
    "6\n",
    "13\n",
    "\n"
   ]
  },
  {
   "cell_type": "code",
   "execution_count": null,
   "id": "c97b6273-03ac-41e5-8ed7-2b1231db513c",
   "metadata": {},
   "outputs": [],
   "source": [
    "Instructions\n",
    "\n",
    "1.  Create a lambda function named long_string that takes an input str and returns True if the \n",
    "string has over 12 characters in it. Otherwise, return False."
   ]
  },
  {
   "cell_type": "code",
   "execution_count": 1,
   "id": "4afdd875-2c31-4e1a-b4e2-29ba440ef51e",
   "metadata": {},
   "outputs": [
    {
     "name": "stdout",
     "output_type": "stream",
     "text": [
      "False\n",
      "True\n"
     ]
    }
   ],
   "source": [
    "#Write your lambda function here\n",
    "long_string = lambda word: len(word) > 12\n",
    "\n",
    "print(long_string(\"short\"))\n",
    "print(long_string(\"photosynthesis\"))\n"
   ]
  },
  {
   "cell_type": "code",
   "execution_count": null,
   "id": "1a829faf-bd1f-46c2-aa06-d44239aaabcb",
   "metadata": {},
   "outputs": [],
   "source": []
  }
 ],
 "metadata": {
  "kernelspec": {
   "display_name": "Python 3 (ipykernel)",
   "language": "python",
   "name": "python3"
  },
  "language_info": {
   "codemirror_mode": {
    "name": "ipython",
    "version": 3
   },
   "file_extension": ".py",
   "mimetype": "text/x-python",
   "name": "python",
   "nbconvert_exporter": "python",
   "pygments_lexer": "ipython3",
   "version": "3.12.4"
  }
 },
 "nbformat": 4,
 "nbformat_minor": 5
}
