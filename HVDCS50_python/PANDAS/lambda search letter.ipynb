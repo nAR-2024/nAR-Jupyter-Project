{
 "cells": [
  {
   "cell_type": "code",
   "execution_count": null,
   "id": "e159f1ec-b360-4a5e-b606-3e0da2285eba",
   "metadata": {},
   "outputs": [],
   "source": [
    "Contains A\n",
    "4 min\n",
    "Welcome! Let’s dive into lambda functions by exploring the in keyword!\n",
    "\n",
    "This lesson will help you review lambda functions by providing some challenge exercises. If you need a refresher on the \n",
    "syntax of lambda functions, review this article on lambda functions.\n",
    "\n",
    "In Python, you can check if a string contains a substring by using the keyword in. For example, the line:\n",
    "\n",
    "return \"I\" in \"Team\"\n",
    "\n",
    "would return False, as there is no \"I\" in \"Team\". However:\n",
    "\n",
    "return \"I\" in \"I love Python\"\n",
    "\n",
    "returns True, because there is an \"I\" in \"I love Python\".\n",
    "\n",
    "Remember that to make a lambda function you can use the syntax:\n",
    "\n",
    "lambda my_input: <my_input modified somehow>\n",
    "\n",
    "For example, a lambda that would return my_input plus 1 would look like:\n",
    "\n",
    "plus_one = lambda my_input: my_input+1\n",
    "\n",
    "\n",
    "\n",
    "1.\n",
    "Create a lambda function named contains_a that takes an input word and returns True if the input contains the \n",
    "letter 'a'. Otherwise, return False."
   ]
  },
  {
   "cell_type": "code",
   "execution_count": null,
   "id": "73e64ce1-4d0a-4866-8903-a2a6d26e2b81",
   "metadata": {},
   "outputs": [],
   "source": [
    "1.  Create a lambda function named contains_a that takes an input word and returns True if the input contains the \n",
    "letter 'a'. Otherwise, return False."
   ]
  },
  {
   "cell_type": "code",
   "execution_count": 1,
   "id": "f793220a-6a1f-4779-9c87-30da06ed8f88",
   "metadata": {},
   "outputs": [
    {
     "name": "stdout",
     "output_type": "stream",
     "text": [
      "True\n",
      "True\n",
      "False\n"
     ]
    }
   ],
   "source": [
    "#Write your lambda function here\n",
    "contains_a = lambda word: \"a\" in word\n",
    "\n",
    "print(contains_a(\"banana\"))\n",
    "print(contains_a(\"apple\"))\n",
    "print(contains_a(\"cherry\"))\n"
   ]
  }
 ],
 "metadata": {
  "kernelspec": {
   "display_name": "Python 3 (ipykernel)",
   "language": "python",
   "name": "python3"
  },
  "language_info": {
   "codemirror_mode": {
    "name": "ipython",
    "version": 3
   },
   "file_extension": ".py",
   "mimetype": "text/x-python",
   "name": "python",
   "nbconvert_exporter": "python",
   "pygments_lexer": "ipython3",
   "version": "3.12.4"
  }
 },
 "nbformat": 4,
 "nbformat_minor": 5
}
