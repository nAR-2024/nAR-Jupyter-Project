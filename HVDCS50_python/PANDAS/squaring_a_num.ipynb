{
 "cells": [
  {
   "cell_type": "code",
   "execution_count": null,
   "id": "54630f9c-25c3-403f-a82b-f12e9027d076",
   "metadata": {},
   "outputs": [],
   "source": [
    "Double Square\n",
    "1 min\n",
    "You can find the square of a number by multiplying it by itself:\n",
    "\n",
    "eight_squared = 8*8\n",
    "#The value of eight_squared is now 64\n",
    "\n",
    "or by using the exponential operator **:\n",
    "\n",
    "seven_squared = 7**2\n",
    "#The value of seven_squared is now 49\n",
    "\n",
    "\n",
    "Instructions\n",
    "Checkpoint 1 Enabled\n",
    "1.\n",
    "Create a lambda function named double_square that takes an input named num. \n",
    "The function should return twice the square of num."
   ]
  },
  {
   "cell_type": "code",
   "execution_count": null,
   "id": "42ece9cc-50b4-4b23-a666-e6fe06d6da1d",
   "metadata": {},
   "outputs": [],
   "source": [
    "Instructions\n",
    "\n",
    "1.  Create a lambda function named double_square that takes an input named num. \n",
    "The function should return twice the square of num."
   ]
  },
  {
   "cell_type": "code",
   "execution_count": null,
   "id": "54620b91-f240-4f00-b8bd-48efecda2c13",
   "metadata": {},
   "outputs": [],
   "source": [
    "#Write your lambda function here\n",
    "double_square = lambda num: 2 * num * num\n",
    "\n",
    "print(double_square(5))\n",
    "print(double_square(3))"
   ]
  }
 ],
 "metadata": {
  "kernelspec": {
   "display_name": "Python 3 (ipykernel)",
   "language": "python",
   "name": "python3"
  },
  "language_info": {
   "codemirror_mode": {
    "name": "ipython",
    "version": 3
   },
   "file_extension": ".py",
   "mimetype": "text/x-python",
   "name": "python",
   "nbconvert_exporter": "python",
   "pygments_lexer": "ipython3",
   "version": "3.12.4"
  }
 },
 "nbformat": 4,
 "nbformat_minor": 5
}
