{
 "cells": [
  {
   "cell_type": "code",
   "execution_count": null,
   "id": "1f3ddc30-8e78-4736-900c-aa59f9877212",
   "metadata": {},
   "outputs": [],
   "source": [
    "Add Random\n",
    "\n",
    "random.randint(a,b) will return an integer between a and b (inclusive).\n",
    "\n",
    "So, random.randint(5, 8) could return any integer between 5 and 8 including both 5 and 8.\n",
    "\n",
    "random.randint(0, 100) could return any integer between 0 and 100 including both 0 and 100.\n"
   ]
  },
  {
   "cell_type": "code",
   "execution_count": null,
   "id": "5845077d-f3c9-4fda-b152-08d01058062c",
   "metadata": {},
   "outputs": [],
   "source": [
    "Instructions\n",
    "\n",
    "1.  Create a lambda function named add_random that takes an input named num. \n",
    "The function should return num plus a random integer number between 1 and 10 (inclusive)."
   ]
  },
  {
   "cell_type": "code",
   "execution_count": 1,
   "id": "61e623b9-d5b9-4e61-8f05-9a56b31eb5c9",
   "metadata": {},
   "outputs": [
    {
     "name": "stdout",
     "output_type": "stream",
     "text": [
      "12\n",
      "108\n"
     ]
    }
   ],
   "source": [
    "import random\n",
    "#Write your lambda function here\n",
    "add_random = lambda num: num + random.randint(1, 10)\n",
    "print(add_random(5))\n",
    "print(add_random(100))"
   ]
  },
  {
   "cell_type": "code",
   "execution_count": null,
   "id": "c495f3d7-bb8c-4b78-8b4d-d351ba0ef00e",
   "metadata": {},
   "outputs": [],
   "source": []
  }
 ],
 "metadata": {
  "kernelspec": {
   "display_name": "Python 3 (ipykernel)",
   "language": "python",
   "name": "python3"
  },
  "language_info": {
   "codemirror_mode": {
    "name": "ipython",
    "version": 3
   },
   "file_extension": ".py",
   "mimetype": "text/x-python",
   "name": "python",
   "nbconvert_exporter": "python",
   "pygments_lexer": "ipython3",
   "version": "3.12.4"
  }
 },
 "nbformat": 4,
 "nbformat_minor": 5
}
