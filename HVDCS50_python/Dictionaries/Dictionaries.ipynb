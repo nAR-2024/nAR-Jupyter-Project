{
 "cells": [
  {
   "cell_type": "code",
   "execution_count": 24,
   "id": "9069d2f9-b479-4b3f-aea8-40cdfc48e094",
   "metadata": {},
   "outputs": [
    {
     "name": "stdout",
     "output_type": "stream",
     "text": [
      "Hermione, Gryffindor\n",
      "Harry, Gryffindor\n",
      "Ron, Gryffindor\n",
      "Draco, Slytherin\n"
     ]
    }
   ],
   "source": [
    "# This is how a dictionary is constructed, using the curly braces.\n",
    "#  \n",
    "students = {\n",
    "    \"Hermione\": \"Gryffindor\", \"Otter\",\n",
    "    \"Harry\": \"Gryffindor\", \"Stag\",\n",
    "    \"Ron\": \"Gryffindor\", \"Jack Russel Terrier\",\n",
    "    \"Draco\": \"Slytherin\", \"None\"\n",
    "}\n",
    "\n",
    "# using a for loop to go through the dictionary, and selecting out specific articles.\n",
    "\n",
    "for student in students:\n",
    "    print(student, students[student], sep=\", \")"
   ]
  },
  {
   "cell_type": "code",
   "execution_count": 32,
   "id": "e8fb6f4a-d8d5-45e4-9508-2a3927d67901",
   "metadata": {},
   "outputs": [
    {
     "name": "stdout",
     "output_type": "stream",
     "text": [
      "Hermione, Gryffindor, Otter\n",
      "Harry, Gryffindor, Stag\n",
      "Ron, Gryffindor, Jack Russel Terrier\n",
      "Draco, Slytherin, None\n"
     ]
    }
   ],
   "source": [
    "#  allows us to access a full list of infromation.\n",
    "# \n",
    "students = [\n",
    "    {\"name\": \"Hermione\", \"house\": \"Gryffindor\", \"patronus\": \"Otter\"},\n",
    "    {\"name\": \"Harry\", \"house\": \"Gryffindor\", \"patronus\":  \"Stag\"},\n",
    "    {\"name\": \"Ron\", \"house\": \"Gryffindor\", \"patronus\":  \"Jack Russel Terrier\"},\n",
    "    {\"name\": \"Draco\", \"house\": \"Slytherin\", \"patronus\":  \"None\"}\n",
    "]\n",
    "# how to pull information out of a dictionary, and to seperate\n",
    "for student in students:\n",
    "    print(student[\"name\"], student[\"house\"], student[\"patronus\"], sep=\", \")\n",
    "          "
   ]
  },
  {
   "cell_type": "code",
   "execution_count": null,
   "id": "b7bca54e-7d04-4436-b9fe-4918d278698e",
   "metadata": {},
   "outputs": [],
   "source": []
  }
 ],
 "metadata": {
  "kernelspec": {
   "display_name": "Python 3 (ipykernel)",
   "language": "python",
   "name": "python3"
  },
  "language_info": {
   "codemirror_mode": {
    "name": "ipython",
    "version": 3
   },
   "file_extension": ".py",
   "mimetype": "text/x-python",
   "name": "python",
   "nbconvert_exporter": "python",
   "pygments_lexer": "ipython3",
   "version": "3.12.4"
  }
 },
 "nbformat": 4,
 "nbformat_minor": 5
}
