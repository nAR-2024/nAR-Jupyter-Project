{
 "cells": [
  {
   "cell_type": "code",
   "execution_count": null,
   "id": "b0c14979-13ef-4fe9-a5d3-7ddc856f9da1",
   "metadata": {},
   "outputs": [],
   "source": [
    "# try \\ except \\ else \\ pass \\ raise\n",
    "# using the while function to make something true until it is not true\n",
    "# the try allows us to use the except to find the problems in the user # input\n",
    "# allows you to look at exceptions\n",
    "\n",
    "\n",
    "def main():\n",
    "    x = get_int(\"whats x? \")\n",
    "    print(f\"x is {x}\")\n",
    "       \n",
    "def get_int(prompt):\n",
    "    while True:\n",
    "        try:\n",
    "            return int(input(prompt))    \n",
    "        except ValueError:\n",
    "            pass # allows us to get the type of input we desire\n",
    "main()"
   ]
  },
  {
   "cell_type": "code",
   "execution_count": null,
   "id": "da9910be-f433-408d-ba0e-25adffa04eaf",
   "metadata": {},
   "outputs": [],
   "source": []
  }
 ],
 "metadata": {
  "kernelspec": {
   "display_name": "Python 3 (ipykernel)",
   "language": "python",
   "name": "python3"
  },
  "language_info": {
   "codemirror_mode": {
    "name": "ipython",
    "version": 3
   },
   "file_extension": ".py",
   "mimetype": "text/x-python",
   "name": "python",
   "nbconvert_exporter": "python",
   "pygments_lexer": "ipython3",
   "version": "3.12.4"
  }
 },
 "nbformat": 4,
 "nbformat_minor": 5
}
