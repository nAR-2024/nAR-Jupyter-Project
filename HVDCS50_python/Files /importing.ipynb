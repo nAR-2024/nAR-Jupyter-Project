{
 "cells": [
  {
   "cell_type": "code",
   "execution_count": 11,
   "id": "3367831f-ed12-481f-93e3-c0a3504625a5",
   "metadata": {},
   "outputs": [
    {
     "name": "stdout",
     "output_type": "stream",
     "text": [
      "hello, world\n",
      "goodby, world\n"
     ]
    }
   ],
   "source": [
    "# I created main, where i ran the two functions i created below hello() and goodbye()\n",
    "def main():\n",
    "    hello(\"world\")\n",
    "    goodbye(\"world\")\n",
    "\n",
    "def hello(name):\n",
    "    print(f\"hello, {name}\")\n",
    "\n",
    "def goodbye(name):\n",
    "    print(f\"goodby, {name}\")\n",
    "\n",
    "main()"
   ]
  },
  {
   "cell_type": "code",
   "execution_count": 13,
   "id": "7b1fd81c-8130-496d-95e0-aa0c2b010c60",
   "metadata": {},
   "outputs": [
    {
     "ename": "ModuleNotFoundError",
     "evalue": "No module named 'sayings'",
     "output_type": "error",
     "traceback": [
      "\u001b[0;31m---------------------------------------------------------------------------\u001b[0m",
      "\u001b[0;31mModuleNotFoundError\u001b[0m                       Traceback (most recent call last)",
      "Cell \u001b[0;32mIn[13], line 2\u001b[0m\n\u001b[1;32m      1\u001b[0m \u001b[38;5;28;01mimport\u001b[39;00m \u001b[38;5;21;01msys\u001b[39;00m\n\u001b[0;32m----> 2\u001b[0m \u001b[38;5;28;01mfrom\u001b[39;00m \u001b[38;5;21;01msayings\u001b[39;00m \u001b[38;5;28;01mimport\u001b[39;00m hello\n\u001b[1;32m      4\u001b[0m \u001b[38;5;28;01mif\u001b[39;00m \u001b[38;5;28mlen\u001b[39m(sys\u001b[38;5;241m.\u001b[39margv) \u001b[38;5;241m==\u001b[39m \u001b[38;5;241m2\u001b[39m:\n\u001b[1;32m      5\u001b[0m     hello(sys\u001b[38;5;241m.\u001b[39margv[\u001b[38;5;241m1\u001b[39m])\n",
      "\u001b[0;31mModuleNotFoundError\u001b[0m: No module named 'sayings'"
     ]
    }
   ],
   "source": [
    "import sys\n",
    "from sayings import hello\n",
    "\n",
    "if len(sys.argv) == 2:\n",
    "    hello(sys.argv[1])\n",
    "\n"
   ]
  },
  {
   "cell_type": "code",
   "execution_count": 17,
   "id": "f9da86c2-a549-4264-a2ac-be87962ed647",
   "metadata": {},
   "outputs": [
    {
     "name": "stdout",
     "output_type": "stream",
     "text": [
      "hello, world\n",
      "goodby, world\n"
     ]
    }
   ],
   "source": [
    "\n",
    "def main():\n",
    "    hello(\"world\")\n",
    "    goodbye(\"world\")\n",
    "\n",
    "def hello(name):\n",
    "    print(f\"hello, {name}\")\n",
    "\n",
    "def goodbye(name):\n",
    "    print(f\"goodby, {name}\")\n",
    "\n",
    "if __name__ == \"__main__\":  # this allows you to use the main function correctly, this \n",
    "    main()"
   ]
  },
  {
   "cell_type": "code",
   "execution_count": null,
   "id": "f426bb1e-5b34-448c-a0b1-26b53870f0a4",
   "metadata": {},
   "outputs": [],
   "source": []
  }
 ],
 "metadata": {
  "kernelspec": {
   "display_name": "Python 3 (ipykernel)",
   "language": "python",
   "name": "python3"
  },
  "language_info": {
   "codemirror_mode": {
    "name": "ipython",
    "version": 3
   },
   "file_extension": ".py",
   "mimetype": "text/x-python",
   "name": "python",
   "nbconvert_exporter": "python",
   "pygments_lexer": "ipython3",
   "version": "3.12.4"
  }
 },
 "nbformat": 4,
 "nbformat_minor": 5
}
