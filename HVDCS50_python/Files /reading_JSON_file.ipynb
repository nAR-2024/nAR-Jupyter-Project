{
 "cells": [
  {
   "cell_type": "code",
   "execution_count": null,
   "id": "eaeab0bc-f4f8-4765-93b1-648f5e3a192b",
   "metadata": {},
   "outputs": [],
   "source": [
    "Reading a JSON File\n",
    " \n",
    "CSV isn’t the only file format that Python has a built-in library for. We can also use Python’s file tools to read and write \n",
    " \n",
    "JSON  (JavaScript Object Notation), \n",
    "\n",
    "is a file format inspired by the programming language JavaScript. \n",
    "The name, like CSV is a bit of a misnomer — some JSON is not valid JavaScript (and plenty of JavaScript is not valid JSON).\n",
    "\n",
    "JSON’s format is endearingly similar to Python dictionary syntax, and so JSON \n",
    " \n",
    "files might be easy to read from a Python developer standpoint. Nonetheless, Python comes with a json package that will help us parse JSON files \n",
    "into actual Python dictionaries\n",
    "    \n",
    ". Suppose we have a JSON file like the following:\n",
    "\n",
    "\n",
    "\n",
    "purchase_14781239.json\n",
    "\n",
    "{\n",
    "  'user': 'ellen_greg',\n",
    "  'action': 'purchase',\n",
    "  'item_id': '14781239',\n",
    "}\n",
    "\n",
    "\n",
    "\n",
    "We would be able to read that in as a Python dictionary with the following code:\n",
    "\n",
    "\n",
    "\n",
    "json_reader.py\n",
    "\n",
    "import json\n",
    "\n",
    "with open('purchase_14781239.json') as purchase_json:\n",
    "  purchase_data = json.load(purchase_json)\n",
    "\n",
    "print(purchase_data['user'])\n",
    "# Prints 'ellen_greg'\n",
    "\n",
    "\n",
    "\n",
    "\n",
    "First we import the json package. We opened the file using our trusty \n",
    "\n",
    "open() command. Since we’re opening it in read-mode we just need to pass the file name. We save the file in the temporary variable purchase_json.\n",
    "\n",
    "We continue by parsing purchase_json using json.load(), creating a Python dictionary out of the file. \n",
    "Saving the results into purchase_data means we can interact with it. We print out one of the values of the JSON \n",
    "file by keying into the purchase_data object."
   ]
  },
  {
   "cell_type": "code",
   "execution_count": null,
   "id": "eb3fd12b-40f1-4b49-82d7-cc33aceda3cc",
   "metadata": {},
   "outputs": [],
   "source": [
    "1. Let’s read a JSON file! Start by importing the json module.\n",
    " \n",
    "2. Open up the file message.json, saving the file object to the variable message_json.\n",
    "   Open the file in read-mode, without passing any additional arguments to open().\n",
    " \n",
    "3. Pass the JSON file object as an argument to json.load() and save the resulting Python dictionary as message.\n",
    " \n",
    "4. Print out message['text']."
   ]
  },
  {
   "cell_type": "code",
   "execution_count": 1,
   "id": "2eccf3f6-225a-4959-9e56-318726078a2b",
   "metadata": {},
   "outputs": [
    {
     "ename": "FileNotFoundError",
     "evalue": "[Errno 2] No such file or directory: 'message.json'",
     "output_type": "error",
     "traceback": [
      "\u001b[0;31m---------------------------------------------------------------------------\u001b[0m",
      "\u001b[0;31mFileNotFoundError\u001b[0m                         Traceback (most recent call last)",
      "Cell \u001b[0;32mIn[1], line 4\u001b[0m\n\u001b[1;32m      1\u001b[0m \u001b[38;5;28;01mimport\u001b[39;00m \u001b[38;5;21;01mjson\u001b[39;00m\n\u001b[0;32m----> 4\u001b[0m \u001b[38;5;28;01mwith\u001b[39;00m \u001b[38;5;28mopen\u001b[39m(\u001b[38;5;124m'\u001b[39m\u001b[38;5;124mmessage.json\u001b[39m\u001b[38;5;124m'\u001b[39m) \u001b[38;5;28;01mas\u001b[39;00m message_json:\n\u001b[1;32m      5\u001b[0m   message \u001b[38;5;241m=\u001b[39m json\u001b[38;5;241m.\u001b[39mload(message_json)\n\u001b[1;32m      7\u001b[0m \u001b[38;5;28mprint\u001b[39m(message[\u001b[38;5;124m'\u001b[39m\u001b[38;5;124mtext\u001b[39m\u001b[38;5;124m'\u001b[39m])\n",
      "File \u001b[0;32m~/Desktop/anaconda3/lib/python3.12/site-packages/IPython/core/interactiveshell.py:324\u001b[0m, in \u001b[0;36m_modified_open\u001b[0;34m(file, *args, **kwargs)\u001b[0m\n\u001b[1;32m    317\u001b[0m \u001b[38;5;28;01mif\u001b[39;00m file \u001b[38;5;129;01min\u001b[39;00m {\u001b[38;5;241m0\u001b[39m, \u001b[38;5;241m1\u001b[39m, \u001b[38;5;241m2\u001b[39m}:\n\u001b[1;32m    318\u001b[0m     \u001b[38;5;28;01mraise\u001b[39;00m \u001b[38;5;167;01mValueError\u001b[39;00m(\n\u001b[1;32m    319\u001b[0m         \u001b[38;5;124mf\u001b[39m\u001b[38;5;124m\"\u001b[39m\u001b[38;5;124mIPython won\u001b[39m\u001b[38;5;124m'\u001b[39m\u001b[38;5;124mt let you open fd=\u001b[39m\u001b[38;5;132;01m{\u001b[39;00mfile\u001b[38;5;132;01m}\u001b[39;00m\u001b[38;5;124m by default \u001b[39m\u001b[38;5;124m\"\u001b[39m\n\u001b[1;32m    320\u001b[0m         \u001b[38;5;124m\"\u001b[39m\u001b[38;5;124mas it is likely to crash IPython. If you know what you are doing, \u001b[39m\u001b[38;5;124m\"\u001b[39m\n\u001b[1;32m    321\u001b[0m         \u001b[38;5;124m\"\u001b[39m\u001b[38;5;124myou can use builtins\u001b[39m\u001b[38;5;124m'\u001b[39m\u001b[38;5;124m open.\u001b[39m\u001b[38;5;124m\"\u001b[39m\n\u001b[1;32m    322\u001b[0m     )\n\u001b[0;32m--> 324\u001b[0m \u001b[38;5;28;01mreturn\u001b[39;00m io_open(file, \u001b[38;5;241m*\u001b[39margs, \u001b[38;5;241m*\u001b[39m\u001b[38;5;241m*\u001b[39mkwargs)\n",
      "\u001b[0;31mFileNotFoundError\u001b[0m: [Errno 2] No such file or directory: 'message.json'"
     ]
    }
   ],
   "source": [
    "import json\n",
    " \n",
    "\n",
    "with open('message.json') as message_json:\n",
    "  message = json.load(message_json)\n",
    "\n",
    "print(message['text'])\n",
    "# Prints 'ellen_greg'"
   ]
  },
  {
   "cell_type": "code",
   "execution_count": null,
   "id": "2f64ea41-ebef-4f31-a12d-bf1df5be40f9",
   "metadata": {},
   "outputs": [],
   "source": []
  }
 ],
 "metadata": {
  "kernelspec": {
   "display_name": "Python 3 (ipykernel)",
   "language": "python",
   "name": "python3"
  },
  "language_info": {
   "codemirror_mode": {
    "name": "ipython",
    "version": 3
   },
   "file_extension": ".py",
   "mimetype": "text/x-python",
   "name": "python",
   "nbconvert_exporter": "python",
   "pygments_lexer": "ipython3",
   "version": "3.12.4"
  }
 },
 "nbformat": 4,
 "nbformat_minor": 5
}
