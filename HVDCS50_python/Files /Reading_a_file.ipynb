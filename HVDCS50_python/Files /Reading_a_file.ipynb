{
 "cells": [
  {
   "cell_type": "code",
   "execution_count": 2,
   "id": "dbc445a4-5708-450b-abdc-a5ad91684e8c",
   "metadata": {},
   "outputs": [
    {
     "ename": "NameError",
     "evalue": "name 'script' is not defined",
     "output_type": "error",
     "traceback": [
      "\u001b[0;31m---------------------------------------------------------------------------\u001b[0m",
      "\u001b[0;31mNameError\u001b[0m                                 Traceback (most recent call last)",
      "Cell \u001b[0;32mIn[2], line 5\u001b[0m\n\u001b[1;32m      1\u001b[0m \u001b[38;5;66;03m# real_cool_document.txt contains the line \" Wowsers! \"\u001b[39;00m\n\u001b[1;32m      2\u001b[0m \n\u001b[1;32m      3\u001b[0m \u001b[38;5;66;03m# We could read that file like this:\u001b[39;00m\n\u001b[0;32m----> 5\u001b[0m script\u001b[38;5;241m.\u001b[39mpy\n\u001b[1;32m      7\u001b[0m \u001b[38;5;28;01mwith\u001b[39;00m \u001b[38;5;28mopen\u001b[39m(\u001b[38;5;124m'\u001b[39m\u001b[38;5;124mreal_cool_document.txt\u001b[39m\u001b[38;5;124m'\u001b[39m) \u001b[38;5;28;01mas\u001b[39;00m cool_doc:\n\u001b[1;32m      8\u001b[0m   cool_contents \u001b[38;5;241m=\u001b[39m cool_doc\u001b[38;5;241m.\u001b[39mread()\n",
      "\u001b[0;31mNameError\u001b[0m: name 'script' is not defined"
     ]
    }
   ],
   "source": [
    "# real_cool_document.txt contains the line \" Wowsers! \"\n",
    "\n",
    "# We could read that file like this:\n",
    "\n",
    "script.py\n",
    "\n",
    "with open('real_cool_document.txt') as cool_doc:\n",
    "  cool_contents = cool_doc.read()\n",
    "print(cool_contents)\n",
    "\n",
    "#This opens a file object called cool_doc and creates a new indented block where you can read the \n",
    "# contents of the opened file. \n",
    "# We then read the contents of the file cool_doc using cool_doc.read() \n",
    "# and save the resulting string into the variable cool_contents. \n",
    "#Then we print cool_contents, which outputs the statement \n",
    "\n",
    "# Wowsers!"
   ]
  },
  {
   "cell_type": "code",
   "execution_count": 1,
   "id": "c5aca1e4-a695-4dae-8090-f24394e5770b",
   "metadata": {},
   "outputs": [
    {
     "ename": "FileNotFoundError",
     "evalue": "[Errno 2] No such file or directory: 'welcome.txt'",
     "output_type": "error",
     "traceback": [
      "\u001b[0;31m---------------------------------------------------------------------------\u001b[0m",
      "\u001b[0;31mFileNotFoundError\u001b[0m                         Traceback (most recent call last)",
      "Cell \u001b[0;32mIn[1], line 5\u001b[0m\n\u001b[1;32m      1\u001b[0m \u001b[38;5;66;03m# this allows you to also read a file in another script\u001b[39;00m\n\u001b[1;32m      2\u001b[0m \u001b[38;5;66;03m# identifying welcome.txt in another location, and storing it as text_file\u001b[39;00m\n\u001b[1;32m      3\u001b[0m \u001b[38;5;66;03m# where then text_data is assigned from left to right getting the read of text_file\u001b[39;00m\n\u001b[0;32m----> 5\u001b[0m \u001b[38;5;28;01mwith\u001b[39;00m \u001b[38;5;28mopen\u001b[39m(\u001b[38;5;124m\"\u001b[39m\u001b[38;5;124mwelcome.txt\u001b[39m\u001b[38;5;124m\"\u001b[39m) \u001b[38;5;28;01mas\u001b[39;00m text_file:\n\u001b[1;32m      6\u001b[0m   text_data \u001b[38;5;241m=\u001b[39m text_file\u001b[38;5;241m.\u001b[39mread()\n\u001b[1;32m      7\u001b[0m \u001b[38;5;28mprint\u001b[39m(text_data)\n",
      "File \u001b[0;32m~/Desktop/anaconda3/lib/python3.12/site-packages/IPython/core/interactiveshell.py:324\u001b[0m, in \u001b[0;36m_modified_open\u001b[0;34m(file, *args, **kwargs)\u001b[0m\n\u001b[1;32m    317\u001b[0m \u001b[38;5;28;01mif\u001b[39;00m file \u001b[38;5;129;01min\u001b[39;00m {\u001b[38;5;241m0\u001b[39m, \u001b[38;5;241m1\u001b[39m, \u001b[38;5;241m2\u001b[39m}:\n\u001b[1;32m    318\u001b[0m     \u001b[38;5;28;01mraise\u001b[39;00m \u001b[38;5;167;01mValueError\u001b[39;00m(\n\u001b[1;32m    319\u001b[0m         \u001b[38;5;124mf\u001b[39m\u001b[38;5;124m\"\u001b[39m\u001b[38;5;124mIPython won\u001b[39m\u001b[38;5;124m'\u001b[39m\u001b[38;5;124mt let you open fd=\u001b[39m\u001b[38;5;132;01m{\u001b[39;00mfile\u001b[38;5;132;01m}\u001b[39;00m\u001b[38;5;124m by default \u001b[39m\u001b[38;5;124m\"\u001b[39m\n\u001b[1;32m    320\u001b[0m         \u001b[38;5;124m\"\u001b[39m\u001b[38;5;124mas it is likely to crash IPython. If you know what you are doing, \u001b[39m\u001b[38;5;124m\"\u001b[39m\n\u001b[1;32m    321\u001b[0m         \u001b[38;5;124m\"\u001b[39m\u001b[38;5;124myou can use builtins\u001b[39m\u001b[38;5;124m'\u001b[39m\u001b[38;5;124m open.\u001b[39m\u001b[38;5;124m\"\u001b[39m\n\u001b[1;32m    322\u001b[0m     )\n\u001b[0;32m--> 324\u001b[0m \u001b[38;5;28;01mreturn\u001b[39;00m io_open(file, \u001b[38;5;241m*\u001b[39margs, \u001b[38;5;241m*\u001b[39m\u001b[38;5;241m*\u001b[39mkwargs)\n",
      "\u001b[0;31mFileNotFoundError\u001b[0m: [Errno 2] No such file or directory: 'welcome.txt'"
     ]
    }
   ],
   "source": [
    "# this allows you to also read a file in another script\n",
    "# identifying welcome.txt in another location, and storing it as text_file\n",
    "# where then text_data is assigned from left to right getting the read of text_file\n",
    "\n",
    "with open(\"welcome.txt\") as text_file:\n",
    "  text_data = text_file.read()\n",
    "print(text_data)"
   ]
  },
  {
   "cell_type": "code",
   "execution_count": null,
   "id": "b54576e1-1eaa-4762-bc3e-24a9881ea05e",
   "metadata": {},
   "outputs": [],
   "source": [
    "# Iterating through lines\n",
    "\n",
    "# When we read a file, we might want to grab the whole document in a single string, like \n",
    "# .read() would return. But what if we wanted to store each line in a variable? \n",
    "# We can use the .readlines() function to read a text file line by line instead of having the whole thing. \n",
    "# Suppose we have a file:\n",
    "\n",
    "# keats_sonnet.txt\n",
    "\n",
    "# To one who has been long in city pent,\n",
    "# ’Tis very sweet to look into the fair\n",
    "# And open face of heaven,—to breathe a prayer\n",
    "# Full in the smile of the blue firmament.###\n",
    "\n",
    "script.py\n",
    "\n",
    "with open('keats_sonnet.txt') as keats_sonnet:\n",
    "  for line in keats_sonnet.readlines():\n",
    "    print(line)\n",
    "\n",
    "# The above script creates a temporary file object called keats_sonnet that points to the file \n",
    "# keats_sonnet.txt.\n",
    "# It then iterates over each line in the document and prints the entire file out."
   ]
  },
  {
   "cell_type": "code",
   "execution_count": null,
   "id": "e7327999-5ea4-48e8-9570-b2f2ab799c5f",
   "metadata": {},
   "outputs": [],
   "source": [
    "#  Using a with statement, create a file object pointing to the file how_many_lines.txt. \n",
    "#  Store that file object in the variable lines_doc.\n",
    "# Iterate through each of the lines in lines_doc.readlines() using a for loop.\n",
    "# Inside the for loop print out each line of how_many_lines.txt.\n",
    "\n",
    "with open(\"how_many_lines.txt\") as lines_doc:\n",
    "  for lines in lines_doc.readlines():\n",
    "    print(lines\n",
    "\n",
    "#  1. How many lines do we write on the daily,\n",
    "\n",
    "#  2. Many money, we write many many many\n",
    "\n",
    "#  3. How many lines do you write on the daily,\n",
    "\n",
    "#  4. Say you say many money, you write many many many"
   ]
  }
 ],
 "metadata": {
  "kernelspec": {
   "display_name": "Python 3 (ipykernel)",
   "language": "python",
   "name": "python3"
  },
  "language_info": {
   "codemirror_mode": {
    "name": "ipython",
    "version": 3
   },
   "file_extension": ".py",
   "mimetype": "text/x-python",
   "name": "python",
   "nbconvert_exporter": "python",
   "pygments_lexer": "ipython3",
   "version": "3.12.4"
  }
 },
 "nbformat": 4,
 "nbformat_minor": 5
}
