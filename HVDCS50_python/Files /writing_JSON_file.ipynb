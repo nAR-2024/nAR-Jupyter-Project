{
 "cells": [
  {
   "cell_type": "code",
   "execution_count": null,
   "id": "68b75461-2435-46da-a14f-390fd283c9af",
   "metadata": {},
   "outputs": [],
   "source": [
    "Writing a JSON File\n",
    " \n",
    "Naturally we can use the json library to translate Python objects to JSON as well. \n",
    "This is especially useful in instances where you’re using a Python library to serve web pages, you would also be able to serve JSON. \n",
    "Let’s say we had a Python dictionary we wanted to save as a JSON file:\n",
    "\n",
    "\n",
    "\n",
    "turn_to_json = {\n",
    "  'eventId': 674189,\n",
    "  'dateTime': '2015-02-12T09:23:17.511Z',\n",
    "  'chocolate': 'Semi-sweet Dark',\n",
    "  'isTomatoAFruit': True\n",
    "}\n",
    "\n",
    "\n",
    "\n",
    "\n",
    "We’d be able to create a JSON file with that information by doing the following:\n",
    "\n",
    "\n",
    "\n",
    "import json\n",
    "\n",
    "with open('output.json', 'w') as json_file:\n",
    "  json.dump(turn_to_json, json_file)\n",
    "\n",
    "\n",
    "\n",
    "We import the json module, open up a write-mode file under the variable json_file, and then use the \n",
    "\n",
    "json.dump()  method to write to the file. \n",
    "json.dump() takes two arguments: first the data object, then the file object you want to save."
   ]
  },
  {
   "cell_type": "code",
   "execution_count": null,
   "id": "235361a5-d242-4532-a886-ddcc12bd86f0",
   "metadata": {},
   "outputs": [],
   "source": [
    "1. In your workspace, we’ve put a dictionary called data_payload. We want to save this to a file called data.json.\n",
    "\n",
    "Let’s start by importing the json library.\n",
    " \n",
    "2. Open a new file object in the variable data_json. The filename should be 'data.json' and the file should be opened in write-mode.\n",
    "\n",
    "3. Call json.dump() with data_payload and data_json to convert our data to JSON and then save it to the file data.json."
   ]
  },
  {
   "cell_type": "code",
   "execution_count": null,
   "id": "e4649450-beca-4213-9b6c-6ab2c600faca",
   "metadata": {},
   "outputs": [],
   "source": [
    "data_payload = [\n",
    "  {'interesting message': 'What is JSON? A web application\\'s little pile of secrets.',\n",
    "   'follow up': 'But enough talk!'}\n",
    "]\n",
    "\n",
    "\n",
    "import json\n",
    "\n",
    "with open('data.json', 'w') as data_json:\n",
    "  json.dump(data_payload, data_json)"
   ]
  }
 ],
 "metadata": {
  "kernelspec": {
   "display_name": "Python 3 (ipykernel)",
   "language": "python",
   "name": "python3"
  },
  "language_info": {
   "codemirror_mode": {
    "name": "ipython",
    "version": 3
   },
   "file_extension": ".py",
   "mimetype": "text/x-python",
   "name": "python",
   "nbconvert_exporter": "python",
   "pygments_lexer": "ipython3",
   "version": "3.12.4"
  }
 },
 "nbformat": 4,
 "nbformat_minor": 5
}
