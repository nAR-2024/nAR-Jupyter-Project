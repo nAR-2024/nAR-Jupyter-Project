{
 "cells": [
  {
   "cell_type": "code",
   "execution_count": 1,
   "id": "d2d26d0c-22b8-4138-b253-68fea7a4590b",
   "metadata": {},
   "outputs": [
    {
     "name": "stdout",
     "output_type": "stream",
     "text": [
      "Decoded Message: oge fowh ngqx bu hmioua mcaj? xacy zssy! cwa ezk ojhhhaet edsyh lrw ocsish to irplisoxagdn!\n",
      "Encoded Message: limeg bts hrfgizvk wzj uifvslv!\n",
      "Decoded Test Message (should match original): great job decoding the message!\n"
     ]
    }
   ],
   "source": [
    "# Helper function to find the alphabetical index (0-based) of a letter\n",
    "def get_shift_value(char):\n",
    "    return ord(char.lower()) - ord('a')\n",
    "\n",
    "# Vigenère Cipher decoding function\n",
    "def vigenere_decode(encoded_message, keyword):\n",
    "    decoded_message = []\n",
    "    keyword_repeated = (keyword * (len(encoded_message) // len(keyword) + 1))[:len(encoded_message)]\n",
    "    \n",
    "    for i, char in enumerate(encoded_message):\n",
    "        if char.isalpha():\n",
    "            shift = get_shift_value(keyword_repeated[i])\n",
    "            if char.isupper():\n",
    "                decoded_char = chr((ord(char) - shift - 65) % 26 + 65)\n",
    "            else:\n",
    "                decoded_char = chr((ord(char) - shift - 97) % 26 + 97)\n",
    "            decoded_message.append(decoded_char)\n",
    "        else:\n",
    "            decoded_message.append(char)\n",
    "    \n",
    "    return ''.join(decoded_message)\n",
    "\n",
    "# Vigenère Cipher encoding function\n",
    "def vigenere_encode(message, keyword):\n",
    "    encoded_message = []\n",
    "    keyword_repeated = (keyword * (len(message) // len(keyword) + 1))[:len(message)]\n",
    "    \n",
    "    for i, char in enumerate(message):\n",
    "        if char.isalpha():\n",
    "            shift = get_shift_value(keyword_repeated[i])\n",
    "            if char.isupper():\n",
    "                encoded_char = chr((ord(char) + shift - 65) % 26 + 65)\n",
    "            else:\n",
    "                encoded_char = chr((ord(char) + shift - 97) % 26 + 97)\n",
    "            encoded_message.append(encoded_char)\n",
    "        else:\n",
    "            encoded_message.append(char)\n",
    "    \n",
    "    return ''.join(encoded_message)\n",
    "\n",
    "# Test decoding Vishal's message\n",
    "encoded_message = \"txm srom vkda gl lzlgzr qpdb? fepb ejac! ubr imn tapludwy mhfbz cza ruxzal wg zztylktoikqq!\"\n",
    "keyword = \"friends\"\n",
    "\n",
    "decoded_message = vigenere_decode(encoded_message, keyword)\n",
    "print(\"Decoded Message:\", decoded_message)\n",
    "\n",
    "# Test encoding\n",
    "message_to_encode = \"great job decoding the message!\"\n",
    "encoded_test_message = vigenere_encode(message_to_encode, keyword)\n",
    "print(\"Encoded Message:\", encoded_test_message)\n",
    "\n",
    "# Bonus: Verify that encoding then decoding returns the original message\n",
    "decoded_test_message = vigenere_decode(encoded_test_message, keyword)\n",
    "print(\"Decoded Test Message (should match original):\", decoded_test_message)\n"
   ]
  },
  {
   "cell_type": "code",
   "execution_count": null,
   "id": "c094643f-be5a-4423-aefb-953a5b00fc8f",
   "metadata": {},
   "outputs": [],
   "source": []
  }
 ],
 "metadata": {
  "kernelspec": {
   "display_name": "Python 3 (ipykernel)",
   "language": "python",
   "name": "python3"
  },
  "language_info": {
   "codemirror_mode": {
    "name": "ipython",
    "version": 3
   },
   "file_extension": ".py",
   "mimetype": "text/x-python",
   "name": "python",
   "nbconvert_exporter": "python",
   "pygments_lexer": "ipython3",
   "version": "3.12.4"
  }
 },
 "nbformat": 4,
 "nbformat_minor": 5
}
