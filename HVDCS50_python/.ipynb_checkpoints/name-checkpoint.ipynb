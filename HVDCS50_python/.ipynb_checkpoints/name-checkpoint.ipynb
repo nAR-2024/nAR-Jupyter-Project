{
 "cells": [
  {
   "cell_type": "code",
   "execution_count": 24,
   "id": "cfc16b8c-ad26-41b3-8597-4465cd69b263",
   "metadata": {},
   "outputs": [
    {
     "name": "stdout",
     "output_type": "stream",
     "text": [
      "hello, my name is -f\n"
     ]
    }
   ],
   "source": [
    "# this is called sys\n",
    "# it uses the docs.python.org/3/library/system.html\n",
    "# sys.argv is a list\n",
    "\n",
    "import sys\n",
    "\n",
    "try:\n",
    "    print(\"hello, my name is\", sys.argv[1])\n",
    "except IndexError:\n",
    "        print(\"To few arguments\")\n",
    "\n"
   ]
  },
  {
   "cell_type": "code",
   "execution_count": 12,
   "id": "04327709-42bb-4271-bdfa-4a5c0dabe293",
   "metadata": {},
   "outputs": [
    {
     "name": "stdout",
     "output_type": "stream",
     "text": [
      "too many arguments\n"
     ]
    }
   ],
   "source": [
    "import sys\n",
    "\n",
    "if len(sys.argv) < 2:\n",
    "    print(\"too few arguments\")\n",
    "elif len(sys.argv) > 2:\n",
    "    print(\"too many arguments\")\n",
    "else:\n",
    "    print(\"hello, my name is\", sys.argv[0])\n",
    "\n",
    "\n",
    "          "
   ]
  },
  {
   "cell_type": "code",
   "execution_count": null,
   "id": "b4df4288-8b74-4782-9d05-288c9b941f74",
   "metadata": {},
   "outputs": [],
   "source": []
  }
 ],
 "metadata": {
  "kernelspec": {
   "display_name": "Python 3 (ipykernel)",
   "language": "python",
   "name": "python3"
  },
  "language_info": {
   "codemirror_mode": {
    "name": "ipython",
    "version": 3
   },
   "file_extension": ".py",
   "mimetype": "text/x-python",
   "name": "python",
   "nbconvert_exporter": "python",
   "pygments_lexer": "ipython3",
   "version": "3.12.4"
  }
 },
 "nbformat": 4,
 "nbformat_minor": 5
}
